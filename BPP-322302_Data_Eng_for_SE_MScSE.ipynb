{
 "cells": [
  {
   "metadata": {},
   "cell_type": "markdown",
   "source": "Maersk",
   "id": "3a15bab9eaf15650"
  },
  {
   "cell_type": "code",
   "id": "265e3181f3d738f9",
   "metadata": {
    "ExecuteTime": {
     "end_time": "2025-07-11T16:21:41.552439Z",
     "start_time": "2025-07-11T16:21:41.074441Z"
    }
   },
   "source": [
    "%pip install ydata-profiling pandas ipython plotly\n",
    "import pandas as pd\n",
    "from IPython.display import display, HTML"
   ],
   "outputs": [
    {
     "name": "stdout",
     "output_type": "stream",
     "text": [
      "Requirement already satisfied: ydata-profiling in ./.venv_312/lib/python3.12/site-packages (4.16.1)\r\n",
      "Requirement already satisfied: pandas in ./.venv_312/lib/python3.12/site-packages (2.3.1)\r\n",
      "Requirement already satisfied: ipython in ./.venv_312/lib/python3.12/site-packages (9.4.0)\r\n",
      "Requirement already satisfied: plotly in ./.venv_312/lib/python3.12/site-packages (6.2.0)\r\n",
      "Requirement already satisfied: scipy<1.16,>=1.4.1 in ./.venv_312/lib/python3.12/site-packages (from ydata-profiling) (1.15.3)\r\n",
      "Requirement already satisfied: matplotlib<=3.10,>=3.5 in ./.venv_312/lib/python3.12/site-packages (from ydata-profiling) (3.10.0)\r\n",
      "Requirement already satisfied: pydantic>=2 in ./.venv_312/lib/python3.12/site-packages (from ydata-profiling) (2.11.7)\r\n",
      "Requirement already satisfied: PyYAML<6.1,>=5.0.0 in ./.venv_312/lib/python3.12/site-packages (from ydata-profiling) (6.0.2)\r\n",
      "Requirement already satisfied: jinja2<3.2,>=2.11.1 in ./.venv_312/lib/python3.12/site-packages (from ydata-profiling) (3.1.6)\r\n",
      "Requirement already satisfied: visions<0.8.2,>=0.7.5 in ./.venv_312/lib/python3.12/site-packages (from visions[type_image_path]<0.8.2,>=0.7.5->ydata-profiling) (0.8.1)\r\n",
      "Requirement already satisfied: numpy<2.2,>=1.16.0 in ./.venv_312/lib/python3.12/site-packages (from ydata-profiling) (2.1.3)\r\n",
      "Requirement already satisfied: htmlmin==0.1.12 in ./.venv_312/lib/python3.12/site-packages (from ydata-profiling) (0.1.12)\r\n",
      "Requirement already satisfied: phik<0.13,>=0.11.1 in ./.venv_312/lib/python3.12/site-packages (from ydata-profiling) (0.12.4)\r\n",
      "Requirement already satisfied: requests<3,>=2.24.0 in ./.venv_312/lib/python3.12/site-packages (from ydata-profiling) (2.32.4)\r\n",
      "Requirement already satisfied: tqdm<5,>=4.48.2 in ./.venv_312/lib/python3.12/site-packages (from ydata-profiling) (4.67.1)\r\n",
      "Requirement already satisfied: seaborn<0.14,>=0.10.1 in ./.venv_312/lib/python3.12/site-packages (from ydata-profiling) (0.13.2)\r\n",
      "Requirement already satisfied: multimethod<2,>=1.4 in ./.venv_312/lib/python3.12/site-packages (from ydata-profiling) (1.12)\r\n",
      "Requirement already satisfied: statsmodels<1,>=0.13.2 in ./.venv_312/lib/python3.12/site-packages (from ydata-profiling) (0.14.5)\r\n",
      "Requirement already satisfied: typeguard<5,>=3 in ./.venv_312/lib/python3.12/site-packages (from ydata-profiling) (4.4.4)\r\n",
      "Requirement already satisfied: imagehash==4.3.1 in ./.venv_312/lib/python3.12/site-packages (from ydata-profiling) (4.3.1)\r\n",
      "Requirement already satisfied: wordcloud>=1.9.3 in ./.venv_312/lib/python3.12/site-packages (from ydata-profiling) (1.9.4)\r\n",
      "Requirement already satisfied: dacite>=1.8 in ./.venv_312/lib/python3.12/site-packages (from ydata-profiling) (1.9.2)\r\n",
      "Requirement already satisfied: numba<=0.61,>=0.56.0 in ./.venv_312/lib/python3.12/site-packages (from ydata-profiling) (0.61.0)\r\n",
      "Requirement already satisfied: PyWavelets in ./.venv_312/lib/python3.12/site-packages (from imagehash==4.3.1->ydata-profiling) (1.8.0)\r\n",
      "Requirement already satisfied: pillow in ./.venv_312/lib/python3.12/site-packages (from imagehash==4.3.1->ydata-profiling) (11.3.0)\r\n",
      "Requirement already satisfied: python-dateutil>=2.8.2 in ./.venv_312/lib/python3.12/site-packages (from pandas) (2.9.0.post0)\r\n",
      "Requirement already satisfied: pytz>=2020.1 in ./.venv_312/lib/python3.12/site-packages (from pandas) (2025.2)\r\n",
      "Requirement already satisfied: tzdata>=2022.7 in ./.venv_312/lib/python3.12/site-packages (from pandas) (2025.2)\r\n",
      "Requirement already satisfied: MarkupSafe>=2.0 in ./.venv_312/lib/python3.12/site-packages (from jinja2<3.2,>=2.11.1->ydata-profiling) (3.0.2)\r\n",
      "Requirement already satisfied: contourpy>=1.0.1 in ./.venv_312/lib/python3.12/site-packages (from matplotlib<=3.10,>=3.5->ydata-profiling) (1.3.2)\r\n",
      "Requirement already satisfied: cycler>=0.10 in ./.venv_312/lib/python3.12/site-packages (from matplotlib<=3.10,>=3.5->ydata-profiling) (0.12.1)\r\n",
      "Requirement already satisfied: fonttools>=4.22.0 in ./.venv_312/lib/python3.12/site-packages (from matplotlib<=3.10,>=3.5->ydata-profiling) (4.58.5)\r\n",
      "Requirement already satisfied: kiwisolver>=1.3.1 in ./.venv_312/lib/python3.12/site-packages (from matplotlib<=3.10,>=3.5->ydata-profiling) (1.4.8)\r\n",
      "Requirement already satisfied: packaging>=20.0 in ./.venv_312/lib/python3.12/site-packages (from matplotlib<=3.10,>=3.5->ydata-profiling) (25.0)\r\n",
      "Requirement already satisfied: pyparsing>=2.3.1 in ./.venv_312/lib/python3.12/site-packages (from matplotlib<=3.10,>=3.5->ydata-profiling) (3.2.3)\r\n",
      "Requirement already satisfied: llvmlite<0.45,>=0.44.0dev0 in ./.venv_312/lib/python3.12/site-packages (from numba<=0.61,>=0.56.0->ydata-profiling) (0.44.0)\r\n",
      "Requirement already satisfied: joblib>=0.14.1 in ./.venv_312/lib/python3.12/site-packages (from phik<0.13,>=0.11.1->ydata-profiling) (1.5.1)\r\n",
      "Requirement already satisfied: charset_normalizer<4,>=2 in ./.venv_312/lib/python3.12/site-packages (from requests<3,>=2.24.0->ydata-profiling) (3.4.2)\r\n",
      "Requirement already satisfied: idna<4,>=2.5 in ./.venv_312/lib/python3.12/site-packages (from requests<3,>=2.24.0->ydata-profiling) (3.10)\r\n",
      "Requirement already satisfied: urllib3<3,>=1.21.1 in ./.venv_312/lib/python3.12/site-packages (from requests<3,>=2.24.0->ydata-profiling) (2.5.0)\r\n",
      "Requirement already satisfied: certifi>=2017.4.17 in ./.venv_312/lib/python3.12/site-packages (from requests<3,>=2.24.0->ydata-profiling) (2025.6.15)\r\n",
      "Requirement already satisfied: patsy>=0.5.6 in ./.venv_312/lib/python3.12/site-packages (from statsmodels<1,>=0.13.2->ydata-profiling) (1.0.1)\r\n",
      "Requirement already satisfied: typing_extensions>=4.14.0 in ./.venv_312/lib/python3.12/site-packages (from typeguard<5,>=3->ydata-profiling) (4.14.1)\r\n",
      "Requirement already satisfied: attrs>=19.3.0 in ./.venv_312/lib/python3.12/site-packages (from visions<0.8.2,>=0.7.5->visions[type_image_path]<0.8.2,>=0.7.5->ydata-profiling) (25.3.0)\r\n",
      "Requirement already satisfied: networkx>=2.4 in ./.venv_312/lib/python3.12/site-packages (from visions<0.8.2,>=0.7.5->visions[type_image_path]<0.8.2,>=0.7.5->ydata-profiling) (3.5)\r\n",
      "Requirement already satisfied: puremagic in ./.venv_312/lib/python3.12/site-packages (from visions<0.8.2,>=0.7.5->visions[type_image_path]<0.8.2,>=0.7.5->ydata-profiling) (1.30)\r\n",
      "Requirement already satisfied: decorator in ./.venv_312/lib/python3.12/site-packages (from ipython) (5.2.1)\r\n",
      "Requirement already satisfied: ipython-pygments-lexers in ./.venv_312/lib/python3.12/site-packages (from ipython) (1.1.1)\r\n",
      "Requirement already satisfied: jedi>=0.16 in ./.venv_312/lib/python3.12/site-packages (from ipython) (0.19.2)\r\n",
      "Requirement already satisfied: matplotlib-inline in ./.venv_312/lib/python3.12/site-packages (from ipython) (0.1.7)\r\n",
      "Requirement already satisfied: pexpect>4.3 in ./.venv_312/lib/python3.12/site-packages (from ipython) (4.9.0)\r\n",
      "Requirement already satisfied: prompt_toolkit<3.1.0,>=3.0.41 in ./.venv_312/lib/python3.12/site-packages (from ipython) (3.0.51)\r\n",
      "Requirement already satisfied: pygments>=2.4.0 in ./.venv_312/lib/python3.12/site-packages (from ipython) (2.19.2)\r\n",
      "Requirement already satisfied: stack_data in ./.venv_312/lib/python3.12/site-packages (from ipython) (0.6.3)\r\n",
      "Requirement already satisfied: traitlets>=5.13.0 in ./.venv_312/lib/python3.12/site-packages (from ipython) (5.14.3)\r\n",
      "Requirement already satisfied: wcwidth in ./.venv_312/lib/python3.12/site-packages (from prompt_toolkit<3.1.0,>=3.0.41->ipython) (0.2.13)\r\n",
      "Requirement already satisfied: narwhals>=1.15.1 in ./.venv_312/lib/python3.12/site-packages (from plotly) (1.46.0)\r\n",
      "Requirement already satisfied: parso<0.9.0,>=0.8.4 in ./.venv_312/lib/python3.12/site-packages (from jedi>=0.16->ipython) (0.8.4)\r\n",
      "Requirement already satisfied: ptyprocess>=0.5 in ./.venv_312/lib/python3.12/site-packages (from pexpect>4.3->ipython) (0.7.0)\r\n",
      "Requirement already satisfied: annotated-types>=0.6.0 in ./.venv_312/lib/python3.12/site-packages (from pydantic>=2->ydata-profiling) (0.7.0)\r\n",
      "Requirement already satisfied: pydantic-core==2.33.2 in ./.venv_312/lib/python3.12/site-packages (from pydantic>=2->ydata-profiling) (2.33.2)\r\n",
      "Requirement already satisfied: typing-inspection>=0.4.0 in ./.venv_312/lib/python3.12/site-packages (from pydantic>=2->ydata-profiling) (0.4.1)\r\n",
      "Requirement already satisfied: six>=1.5 in ./.venv_312/lib/python3.12/site-packages (from python-dateutil>=2.8.2->pandas) (1.17.0)\r\n",
      "Requirement already satisfied: executing>=1.2.0 in ./.venv_312/lib/python3.12/site-packages (from stack_data->ipython) (2.2.0)\r\n",
      "Requirement already satisfied: asttokens>=2.1.0 in ./.venv_312/lib/python3.12/site-packages (from stack_data->ipython) (3.0.0)\r\n",
      "Requirement already satisfied: pure-eval in ./.venv_312/lib/python3.12/site-packages (from stack_data->ipython) (0.2.3)\r\n",
      "Note: you may need to restart the kernel to use updated packages.\n"
     ]
    }
   ],
   "execution_count": 134
  },
  {
   "metadata": {},
   "cell_type": "markdown",
   "source": [
    "# Introduction\n",
    "\n",
    "A.P. Moller have committed to significantly reducing their carbon footprint, aiming to reach net-zero by 2040.\n",
    "\n",
    "Greenhouse gas emissions can be split into 3 Scopes, as defined by the GHG Protocol (https://ghgprotocol.org/standards-guidance);\n",
    "- Scope 1 - Greenhouse gases directly emitted by facilities you own (e.g., burning gas to power your car or office)\n",
    "- Scope 2 - Emissions from electricity you purchase\n",
    "- Scope 3 - Everything else: carbon emitted upstream (by your suppliers) and downstream (by your customers) (see https://ghgprotocol.org/scope-3-calculation-guidance-2)\n",
    "\n",
    "Cloud Computing is comes under Scope 3, of which Maersk aim to see a 22% reduction in scope 3 by 2030, and 90% by 2040.\n",
    "\n",
    "Maersk have adopted a cloud first (https://www.maersk.com/news/articles/2023/06/07/collaborating-to-take-logistics-to-the-next-level) approach to technology, and aim for this year to \"target significant progress in the implementation of best-in-class technology platforms\" (https://investor.maersk.com/static-files/31bf05a1-6f0c-4fbd-a3c7-3f58e044f668 - p22) meaning the investment in Cloud infrastructure which is already significant, will only increase.\n",
    "\n",
    "# Aims of this Analysis\n",
    "\n",
    "Cloud computing requires significant energy, with datacentres estimates to account for more than 14% of all global GHG emissions (https://www.datadynamicsinc.com/quick-bytes-cloud-computing-taking-the-energy-industry-by-storm-in-2023/).\n",
    "\n",
    "By looking at the power usage effectiveness & carbon free energy percentage of cloud computing providers, across regions, recommendations could be made as to what cloud provider is the most suitable to use from an environmental perspective, and what region.\n",
    "\n",
    "# Overview of Dataset\n",
    "\n",
    "Cloud providers disclose regional data annually, 6 months after year-end.\n",
    "This may include Power and Water Usage Effectiveness, carbon-free energy percentage, & location data for each region.\n",
    "\n",
    "The Green Software Foundation project collates the data from the main providers (Amazon, GCP, Google) into a single source.  The data from 2019-2023 is based on actual figures, however 2024-2025 is projected data as the real data hasn't been fully collated yet.\n",
    "\n",
    "\n"
   ],
   "id": "e7fec6b5cc818e75"
  },
  {
   "metadata": {},
   "cell_type": "markdown",
   "source": [
    "# Import Data and Validate\n",
    "\n",
    "## Import Data"
   ],
   "id": "7ac3009e32543dbb"
  },
  {
   "metadata": {
    "ExecuteTime": {
     "end_time": "2025-07-11T16:21:43.823033Z",
     "start_time": "2025-07-11T16:21:41.583162Z"
    }
   },
   "cell_type": "code",
   "source": [
    "'''Data Exports are read in from source CSV files'''\n",
    "\n",
    "dataset = dict()\n",
    "\n",
    "'''First part of dataset - data from GSF from 2019-2023 - actual data'''\n",
    "dataset[\"gsf_data_from_2019\"] = pd.read_csv('https://raw.githubusercontent.com/Green-Software-Foundation/real-time-cloud/refs/tags/v1.0/Cloud_Region_Metadata.csv')\n",
    "\n",
    "'''Second part of dataset - data from GSF from 2024-2025 - some projected and estimated data'''\n",
    "dataset[\"gsf_data_from_2024\"] = pd.read_csv('https://raw.githubusercontent.com/Green-Software-Foundation/real-time-cloud/refs/tags/v1.0/Cloud_Region_Metadata_estimate.csv')\n",
    "\n",
    "'''Not using this yet, but may use it later to combine with the others, to draw further insights'''\n",
    "yearly_energy_dataset = pd.read_csv('https://storage.googleapis.com/emb-prod-bkt-publicdata/public-downloads/yearly_full_release_long_format.csv')\n",
    "\n",
    "'''Check the two GSF datasets have the same columns'''\n",
    "#(https://www.geeksforgeeks.org/python/python-difference-two-lists/)"
   ],
   "id": "ea1ed05f0843d2eb",
   "outputs": [
    {
     "data": {
      "text/plain": [
       "'Check the two GSF datasets have the same columns'"
      ]
     },
     "execution_count": 135,
     "metadata": {},
     "output_type": "execute_result"
    }
   ],
   "execution_count": 135
  },
  {
   "metadata": {},
   "cell_type": "markdown",
   "source": [
    "## Validate the Data\n",
    "\n",
    "### Visual Check\n",
    "\n",
    "As a quick visual check of the data, we get a sample selection of 10 random rows.  This will help to confirm any immediate issues"
   ],
   "id": "89c64987b525132e"
  },
  {
   "metadata": {
    "ExecuteTime": {
     "end_time": "2025-07-11T16:21:43.854827Z",
     "start_time": "2025-07-11T16:21:43.848791Z"
    }
   },
   "cell_type": "code",
   "source": [
    "'''Check the first dataset part'''\n",
    "dataset[\"gsf_data_from_2019\"].sample(10)"
   ],
   "id": "initial_id",
   "outputs": [
    {
     "data": {
      "text/plain": [
       "     year       cloud-provider             cloud-region   cfe-region  \\\n",
       "104  2022         Google Cloud              asia-south1  Maharashtra   \n",
       "80   2023      Microsoft Azure            greececentral       Greece   \n",
       "27   2023         Google Cloud  northamerica-northeast2      Ontario   \n",
       "155  2022  Amazon Web Services                eu-west-3       France   \n",
       "156  2022  Amazon Web Services               eu-south-2        Spain   \n",
       "33   2023         Google Cloud                 us-east5          PJM   \n",
       "138  2022  Amazon Web Services                us-west-2          BPA   \n",
       "68   2023  Amazon Web Services            us-gov-west-1          BPA   \n",
       "193  2022      Microsoft Azure                   westus          BPA   \n",
       "126  2022         Google Cloud              us-central1         MISO   \n",
       "\n",
       "       em-zone-id      wt-region-id             location        geolocation  \\\n",
       "104         IN-WE               IND               Mumbai    19.0761,72.8775   \n",
       "80             GR                GR       Greece Central     37.987, 23.745   \n",
       "27          CA-ON        IESO_NORTH              Toronto   43.7417,-79.3733   \n",
       "155            FR                FR       Europe (Paris)     48.8567,2.3522   \n",
       "156            ES                ES       Europe (Spain)    40.3333,-3.8667   \n",
       "33    US-MIDA-PJM  PJM_SOUTHWEST_OH             Columbus  41.4366,-97.3565    \n",
       "138    US-NW-BPAT               BPA     US West (Oregon)   45.5371,-122.65    \n",
       "68     US-NW-BPAT               BPA   GovCloud (US West)   45.5371,-122.65    \n",
       "193    US-NW-BPAT               BPA  Washington: West US     47.247,-119.82   \n",
       "126  US-MIDW-MISO   MISO_MASON_CITY                 Iowa  41.5725,-93.6105    \n",
       "\n",
       "     provider-cfe-hourly  provider-cfe-annual  ...  \\\n",
       "104                 0.24                  NaN  ...   \n",
       "80                   NaN                  NaN  ...   \n",
       "27                  0.87                  NaN  ...   \n",
       "155                  NaN                 1.00  ...   \n",
       "156                  NaN                 1.00  ...   \n",
       "33                  0.52                  NaN  ...   \n",
       "138                  NaN                 1.00  ...   \n",
       "68                   NaN                  NaN  ...   \n",
       "193                  NaN                 0.47  ...   \n",
       "126                 0.92                  NaN  ...   \n",
       "\n",
       "     grid-carbon-intensity-average-consumption-annual  \\\n",
       "104                                            747.67   \n",
       "80                                             368.75   \n",
       "27                                              76.42   \n",
       "155                                             91.23   \n",
       "156                                            220.63   \n",
       "33                                             396.25   \n",
       "138                                             86.61   \n",
       "68                                             119.76   \n",
       "193                                             86.61   \n",
       "126                                            526.14   \n",
       "\n",
       "     grid-carbon-intensity-marginal-consumption-annual  \\\n",
       "104                                         679.409743   \n",
       "80                                                 NaN   \n",
       "27                                                 NaN   \n",
       "155                                         383.739084   \n",
       "156                                         370.288102   \n",
       "33                                                 NaN   \n",
       "138                                         427.188629   \n",
       "68                                                 NaN   \n",
       "193                                         427.188629   \n",
       "126                                         539.251027   \n",
       "\n",
       "     grid-carbon-intensity-average-production-annual  grid-carbon-intensity  \\\n",
       "104                                           760.68                  679.0   \n",
       "80                                            342.79                    NaN   \n",
       "27                                             75.79                    NaN   \n",
       "155                                            72.00                  384.0   \n",
       "156                                           220.31                  370.0   \n",
       "33                                            396.77                    NaN   \n",
       "138                                            58.50                  427.0   \n",
       "68                                             68.82                    NaN   \n",
       "193                                            58.50                  427.0   \n",
       "126                                           546.23                  539.0   \n",
       "\n",
       "     total-ICT-energy-consumption-annual  total-water-input  \\\n",
       "104                                  NaN                NaN   \n",
       "80                                   NaN                NaN   \n",
       "27                                   NaN                NaN   \n",
       "155                                  NaN                NaN   \n",
       "156                                  NaN                NaN   \n",
       "33                                   NaN                NaN   \n",
       "138                                  NaN                NaN   \n",
       "68                                   NaN                NaN   \n",
       "193                                  NaN                NaN   \n",
       "126                                  NaN                NaN   \n",
       "\n",
       "     renewable-energy-consumption  renewable-energy-consumption-goe  \\\n",
       "104                           NaN                               NaN   \n",
       "80                            NaN                               NaN   \n",
       "27                            NaN                               NaN   \n",
       "155                           NaN                               NaN   \n",
       "156                           NaN                               NaN   \n",
       "33                            NaN                               NaN   \n",
       "138                           NaN                               NaN   \n",
       "68                            NaN                               NaN   \n",
       "193                           NaN                               NaN   \n",
       "126                           NaN                               NaN   \n",
       "\n",
       "     renewable-energy-consumption-ppa  renewable-energy-consumption-onsite  \n",
       "104                               NaN                                  NaN  \n",
       "80                                NaN                                  NaN  \n",
       "27                                NaN                                  NaN  \n",
       "155                               NaN                                  NaN  \n",
       "156                               NaN                                  NaN  \n",
       "33                                NaN                                  NaN  \n",
       "138                               NaN                                  NaN  \n",
       "68                                NaN                                  NaN  \n",
       "193                               NaN                                  NaN  \n",
       "126                               NaN                                  NaN  \n",
       "\n",
       "[10 rows x 24 columns]"
      ],
      "text/html": [
       "<div>\n",
       "<style scoped>\n",
       "    .dataframe tbody tr th:only-of-type {\n",
       "        vertical-align: middle;\n",
       "    }\n",
       "\n",
       "    .dataframe tbody tr th {\n",
       "        vertical-align: top;\n",
       "    }\n",
       "\n",
       "    .dataframe thead th {\n",
       "        text-align: right;\n",
       "    }\n",
       "</style>\n",
       "<table border=\"1\" class=\"dataframe\">\n",
       "  <thead>\n",
       "    <tr style=\"text-align: right;\">\n",
       "      <th></th>\n",
       "      <th>year</th>\n",
       "      <th>cloud-provider</th>\n",
       "      <th>cloud-region</th>\n",
       "      <th>cfe-region</th>\n",
       "      <th>em-zone-id</th>\n",
       "      <th>wt-region-id</th>\n",
       "      <th>location</th>\n",
       "      <th>geolocation</th>\n",
       "      <th>provider-cfe-hourly</th>\n",
       "      <th>provider-cfe-annual</th>\n",
       "      <th>...</th>\n",
       "      <th>grid-carbon-intensity-average-consumption-annual</th>\n",
       "      <th>grid-carbon-intensity-marginal-consumption-annual</th>\n",
       "      <th>grid-carbon-intensity-average-production-annual</th>\n",
       "      <th>grid-carbon-intensity</th>\n",
       "      <th>total-ICT-energy-consumption-annual</th>\n",
       "      <th>total-water-input</th>\n",
       "      <th>renewable-energy-consumption</th>\n",
       "      <th>renewable-energy-consumption-goe</th>\n",
       "      <th>renewable-energy-consumption-ppa</th>\n",
       "      <th>renewable-energy-consumption-onsite</th>\n",
       "    </tr>\n",
       "  </thead>\n",
       "  <tbody>\n",
       "    <tr>\n",
       "      <th>104</th>\n",
       "      <td>2022</td>\n",
       "      <td>Google Cloud</td>\n",
       "      <td>asia-south1</td>\n",
       "      <td>Maharashtra</td>\n",
       "      <td>IN-WE</td>\n",
       "      <td>IND</td>\n",
       "      <td>Mumbai</td>\n",
       "      <td>19.0761,72.8775</td>\n",
       "      <td>0.24</td>\n",
       "      <td>NaN</td>\n",
       "      <td>...</td>\n",
       "      <td>747.67</td>\n",
       "      <td>679.409743</td>\n",
       "      <td>760.68</td>\n",
       "      <td>679.0</td>\n",
       "      <td>NaN</td>\n",
       "      <td>NaN</td>\n",
       "      <td>NaN</td>\n",
       "      <td>NaN</td>\n",
       "      <td>NaN</td>\n",
       "      <td>NaN</td>\n",
       "    </tr>\n",
       "    <tr>\n",
       "      <th>80</th>\n",
       "      <td>2023</td>\n",
       "      <td>Microsoft Azure</td>\n",
       "      <td>greececentral</td>\n",
       "      <td>Greece</td>\n",
       "      <td>GR</td>\n",
       "      <td>GR</td>\n",
       "      <td>Greece Central</td>\n",
       "      <td>37.987, 23.745</td>\n",
       "      <td>NaN</td>\n",
       "      <td>NaN</td>\n",
       "      <td>...</td>\n",
       "      <td>368.75</td>\n",
       "      <td>NaN</td>\n",
       "      <td>342.79</td>\n",
       "      <td>NaN</td>\n",
       "      <td>NaN</td>\n",
       "      <td>NaN</td>\n",
       "      <td>NaN</td>\n",
       "      <td>NaN</td>\n",
       "      <td>NaN</td>\n",
       "      <td>NaN</td>\n",
       "    </tr>\n",
       "    <tr>\n",
       "      <th>27</th>\n",
       "      <td>2023</td>\n",
       "      <td>Google Cloud</td>\n",
       "      <td>northamerica-northeast2</td>\n",
       "      <td>Ontario</td>\n",
       "      <td>CA-ON</td>\n",
       "      <td>IESO_NORTH</td>\n",
       "      <td>Toronto</td>\n",
       "      <td>43.7417,-79.3733</td>\n",
       "      <td>0.87</td>\n",
       "      <td>NaN</td>\n",
       "      <td>...</td>\n",
       "      <td>76.42</td>\n",
       "      <td>NaN</td>\n",
       "      <td>75.79</td>\n",
       "      <td>NaN</td>\n",
       "      <td>NaN</td>\n",
       "      <td>NaN</td>\n",
       "      <td>NaN</td>\n",
       "      <td>NaN</td>\n",
       "      <td>NaN</td>\n",
       "      <td>NaN</td>\n",
       "    </tr>\n",
       "    <tr>\n",
       "      <th>155</th>\n",
       "      <td>2022</td>\n",
       "      <td>Amazon Web Services</td>\n",
       "      <td>eu-west-3</td>\n",
       "      <td>France</td>\n",
       "      <td>FR</td>\n",
       "      <td>FR</td>\n",
       "      <td>Europe (Paris)</td>\n",
       "      <td>48.8567,2.3522</td>\n",
       "      <td>NaN</td>\n",
       "      <td>1.00</td>\n",
       "      <td>...</td>\n",
       "      <td>91.23</td>\n",
       "      <td>383.739084</td>\n",
       "      <td>72.00</td>\n",
       "      <td>384.0</td>\n",
       "      <td>NaN</td>\n",
       "      <td>NaN</td>\n",
       "      <td>NaN</td>\n",
       "      <td>NaN</td>\n",
       "      <td>NaN</td>\n",
       "      <td>NaN</td>\n",
       "    </tr>\n",
       "    <tr>\n",
       "      <th>156</th>\n",
       "      <td>2022</td>\n",
       "      <td>Amazon Web Services</td>\n",
       "      <td>eu-south-2</td>\n",
       "      <td>Spain</td>\n",
       "      <td>ES</td>\n",
       "      <td>ES</td>\n",
       "      <td>Europe (Spain)</td>\n",
       "      <td>40.3333,-3.8667</td>\n",
       "      <td>NaN</td>\n",
       "      <td>1.00</td>\n",
       "      <td>...</td>\n",
       "      <td>220.63</td>\n",
       "      <td>370.288102</td>\n",
       "      <td>220.31</td>\n",
       "      <td>370.0</td>\n",
       "      <td>NaN</td>\n",
       "      <td>NaN</td>\n",
       "      <td>NaN</td>\n",
       "      <td>NaN</td>\n",
       "      <td>NaN</td>\n",
       "      <td>NaN</td>\n",
       "    </tr>\n",
       "    <tr>\n",
       "      <th>33</th>\n",
       "      <td>2023</td>\n",
       "      <td>Google Cloud</td>\n",
       "      <td>us-east5</td>\n",
       "      <td>PJM</td>\n",
       "      <td>US-MIDA-PJM</td>\n",
       "      <td>PJM_SOUTHWEST_OH</td>\n",
       "      <td>Columbus</td>\n",
       "      <td>41.4366,-97.3565</td>\n",
       "      <td>0.52</td>\n",
       "      <td>NaN</td>\n",
       "      <td>...</td>\n",
       "      <td>396.25</td>\n",
       "      <td>NaN</td>\n",
       "      <td>396.77</td>\n",
       "      <td>NaN</td>\n",
       "      <td>NaN</td>\n",
       "      <td>NaN</td>\n",
       "      <td>NaN</td>\n",
       "      <td>NaN</td>\n",
       "      <td>NaN</td>\n",
       "      <td>NaN</td>\n",
       "    </tr>\n",
       "    <tr>\n",
       "      <th>138</th>\n",
       "      <td>2022</td>\n",
       "      <td>Amazon Web Services</td>\n",
       "      <td>us-west-2</td>\n",
       "      <td>BPA</td>\n",
       "      <td>US-NW-BPAT</td>\n",
       "      <td>BPA</td>\n",
       "      <td>US West (Oregon)</td>\n",
       "      <td>45.5371,-122.65</td>\n",
       "      <td>NaN</td>\n",
       "      <td>1.00</td>\n",
       "      <td>...</td>\n",
       "      <td>86.61</td>\n",
       "      <td>427.188629</td>\n",
       "      <td>58.50</td>\n",
       "      <td>427.0</td>\n",
       "      <td>NaN</td>\n",
       "      <td>NaN</td>\n",
       "      <td>NaN</td>\n",
       "      <td>NaN</td>\n",
       "      <td>NaN</td>\n",
       "      <td>NaN</td>\n",
       "    </tr>\n",
       "    <tr>\n",
       "      <th>68</th>\n",
       "      <td>2023</td>\n",
       "      <td>Amazon Web Services</td>\n",
       "      <td>us-gov-west-1</td>\n",
       "      <td>BPA</td>\n",
       "      <td>US-NW-BPAT</td>\n",
       "      <td>BPA</td>\n",
       "      <td>GovCloud (US West)</td>\n",
       "      <td>45.5371,-122.65</td>\n",
       "      <td>NaN</td>\n",
       "      <td>NaN</td>\n",
       "      <td>...</td>\n",
       "      <td>119.76</td>\n",
       "      <td>NaN</td>\n",
       "      <td>68.82</td>\n",
       "      <td>NaN</td>\n",
       "      <td>NaN</td>\n",
       "      <td>NaN</td>\n",
       "      <td>NaN</td>\n",
       "      <td>NaN</td>\n",
       "      <td>NaN</td>\n",
       "      <td>NaN</td>\n",
       "    </tr>\n",
       "    <tr>\n",
       "      <th>193</th>\n",
       "      <td>2022</td>\n",
       "      <td>Microsoft Azure</td>\n",
       "      <td>westus</td>\n",
       "      <td>BPA</td>\n",
       "      <td>US-NW-BPAT</td>\n",
       "      <td>BPA</td>\n",
       "      <td>Washington: West US</td>\n",
       "      <td>47.247,-119.82</td>\n",
       "      <td>NaN</td>\n",
       "      <td>0.47</td>\n",
       "      <td>...</td>\n",
       "      <td>86.61</td>\n",
       "      <td>427.188629</td>\n",
       "      <td>58.50</td>\n",
       "      <td>427.0</td>\n",
       "      <td>NaN</td>\n",
       "      <td>NaN</td>\n",
       "      <td>NaN</td>\n",
       "      <td>NaN</td>\n",
       "      <td>NaN</td>\n",
       "      <td>NaN</td>\n",
       "    </tr>\n",
       "    <tr>\n",
       "      <th>126</th>\n",
       "      <td>2022</td>\n",
       "      <td>Google Cloud</td>\n",
       "      <td>us-central1</td>\n",
       "      <td>MISO</td>\n",
       "      <td>US-MIDW-MISO</td>\n",
       "      <td>MISO_MASON_CITY</td>\n",
       "      <td>Iowa</td>\n",
       "      <td>41.5725,-93.6105</td>\n",
       "      <td>0.92</td>\n",
       "      <td>NaN</td>\n",
       "      <td>...</td>\n",
       "      <td>526.14</td>\n",
       "      <td>539.251027</td>\n",
       "      <td>546.23</td>\n",
       "      <td>539.0</td>\n",
       "      <td>NaN</td>\n",
       "      <td>NaN</td>\n",
       "      <td>NaN</td>\n",
       "      <td>NaN</td>\n",
       "      <td>NaN</td>\n",
       "      <td>NaN</td>\n",
       "    </tr>\n",
       "  </tbody>\n",
       "</table>\n",
       "<p>10 rows × 24 columns</p>\n",
       "</div>"
      ]
     },
     "execution_count": 136,
     "metadata": {},
     "output_type": "execute_result"
    }
   ],
   "execution_count": 136
  },
  {
   "metadata": {
    "ExecuteTime": {
     "end_time": "2025-07-11T16:21:43.902562Z",
     "start_time": "2025-07-11T16:21:43.896146Z"
    }
   },
   "cell_type": "code",
   "source": [
    "'''check the second (estimated) dataset part'''\n",
    "dataset[\"gsf_data_from_2024\"].sample(10)"
   ],
   "id": "2f89a3527ac333ab",
   "outputs": [
    {
     "data": {
      "text/plain": [
       "     year       cloud-provider             cloud-region   cfe-region  \\\n",
       "70   2025         Google Cloud                 us-west4          NVE   \n",
       "143  2024         Google Cloud          europe-central2       Poland   \n",
       "161  2024         Google Cloud              us-central1         MISO   \n",
       "47   2025         Google Cloud             europe-west1      Belgium   \n",
       "117  2024  Amazon Web Services               eu-south-2        Spain   \n",
       "66   2025         Google Cloud                us-south1        ERCOT   \n",
       "58   2025         Google Cloud  northamerica-northeast1       Quebec   \n",
       "175  2024      Microsoft Azure                centralus         MISO   \n",
       "37   2025         Google Cloud          asia-northeast3  South Korea   \n",
       "100  2024  Amazon Web Services                ap-east-1    Hong Kong   \n",
       "\n",
       "       em-zone-id        wt-region-id                  location  \\\n",
       "70     US-NW-NEVP                NEVP                 Las Vegas   \n",
       "143            PL                  PL                    Warsaw   \n",
       "161  US-MIDW-MISO     MISO_MASON_CITY                      Iowa   \n",
       "47             BE                  BE                   Belgium   \n",
       "117            ES                  ES            Europe (Spain)   \n",
       "66    US-TEX-ERCO  ERCOT_NORTHCENTRAL                    Dallas   \n",
       "58          CA-QC                  HQ                  Montréal   \n",
       "175  US-MIDW-MISO                MISO          Iowa: Central US   \n",
       "37             KR                 KOR                     Seoul   \n",
       "100            HK                  HK  Asia Pacific (Hong Kong)   \n",
       "\n",
       "            geolocation  provider-cfe-hourly  provider-cfe-annual  ...  \\\n",
       "70   35.6011,-105.2206                 0.292                  NaN  ...   \n",
       "143       52.23,21.0111                0.413                  NaN  ...   \n",
       "161   41.5725,-93.6105                 0.992                  NaN  ...   \n",
       "47       51.1333,4.5667                0.855                  NaN  ...   \n",
       "117     40.3333,-3.8667                  NaN                  1.0  ...   \n",
       "66    44.9221,-123.313                 0.985                  NaN  ...   \n",
       "58     45.5089,-73.5617                1.000                  NaN  ...   \n",
       "175      41.573,-93.608                  NaN                  1.0  ...   \n",
       "37         37.56,126.99                0.438                  NaN  ...   \n",
       "100          22.3,114.2                  NaN                  NaN  ...   \n",
       "\n",
       "     grid-carbon-intensity-marginal-consumption-annual  \\\n",
       "70                                          456.753492   \n",
       "143                                         852.394151   \n",
       "161                                         539.251027   \n",
       "47                                          411.152318   \n",
       "117                                         370.288102   \n",
       "66                                          441.011686   \n",
       "58                                          462.245178   \n",
       "175                                                NaN   \n",
       "37                                          686.013604   \n",
       "100                                                NaN   \n",
       "\n",
       "     grid-carbon-intensity-average-production-annual  grid-carbon-intensity  \\\n",
       "70                                               NaN                  457.0   \n",
       "143                                              NaN                  852.0   \n",
       "161                                              NaN                  539.0   \n",
       "47                                               NaN                  411.0   \n",
       "117                                              NaN                  370.0   \n",
       "66                                               NaN                  441.0   \n",
       "58                                               NaN                  462.0   \n",
       "175                                              NaN                    NaN   \n",
       "37                                               NaN                  686.0   \n",
       "100                                              NaN                    NaN   \n",
       "\n",
       "     total-ICT-energy-consumption-annual  total-water-input  \\\n",
       "70                                   NaN                NaN   \n",
       "143                                  NaN                NaN   \n",
       "161                                  NaN                NaN   \n",
       "47                                   NaN                NaN   \n",
       "117                                  NaN                NaN   \n",
       "66                                   NaN                NaN   \n",
       "58                                   NaN                NaN   \n",
       "175                                  NaN                NaN   \n",
       "37                                   NaN                NaN   \n",
       "100                                  NaN                NaN   \n",
       "\n",
       "     renewable-energy-consumption  renewable-energy-consumption-goe  \\\n",
       "70                            NaN                               NaN   \n",
       "143                           NaN                               NaN   \n",
       "161                           NaN                               NaN   \n",
       "47                            NaN                               NaN   \n",
       "117                           NaN                               NaN   \n",
       "66                            NaN                               NaN   \n",
       "58                            NaN                               NaN   \n",
       "175                           NaN                               NaN   \n",
       "37                            NaN                               NaN   \n",
       "100                           NaN                               NaN   \n",
       "\n",
       "     renewable-energy-consumption-ppa  Unnamed: 23  \\\n",
       "70                                NaN          NaN   \n",
       "143                               NaN          NaN   \n",
       "161                               NaN          NaN   \n",
       "47                                NaN          NaN   \n",
       "117                               NaN          NaN   \n",
       "66                                NaN          NaN   \n",
       "58                                NaN          NaN   \n",
       "175                               NaN          NaN   \n",
       "37                                NaN          NaN   \n",
       "100                               NaN          NaN   \n",
       "\n",
       "     renewable-energy-consumption-onsite  \n",
       "70                                   NaN  \n",
       "143                                  NaN  \n",
       "161                                  NaN  \n",
       "47                                   NaN  \n",
       "117                                  NaN  \n",
       "66                                   NaN  \n",
       "58                                   NaN  \n",
       "175                                  NaN  \n",
       "37                                   NaN  \n",
       "100                                  NaN  \n",
       "\n",
       "[10 rows x 25 columns]"
      ],
      "text/html": [
       "<div>\n",
       "<style scoped>\n",
       "    .dataframe tbody tr th:only-of-type {\n",
       "        vertical-align: middle;\n",
       "    }\n",
       "\n",
       "    .dataframe tbody tr th {\n",
       "        vertical-align: top;\n",
       "    }\n",
       "\n",
       "    .dataframe thead th {\n",
       "        text-align: right;\n",
       "    }\n",
       "</style>\n",
       "<table border=\"1\" class=\"dataframe\">\n",
       "  <thead>\n",
       "    <tr style=\"text-align: right;\">\n",
       "      <th></th>\n",
       "      <th>year</th>\n",
       "      <th>cloud-provider</th>\n",
       "      <th>cloud-region</th>\n",
       "      <th>cfe-region</th>\n",
       "      <th>em-zone-id</th>\n",
       "      <th>wt-region-id</th>\n",
       "      <th>location</th>\n",
       "      <th>geolocation</th>\n",
       "      <th>provider-cfe-hourly</th>\n",
       "      <th>provider-cfe-annual</th>\n",
       "      <th>...</th>\n",
       "      <th>grid-carbon-intensity-marginal-consumption-annual</th>\n",
       "      <th>grid-carbon-intensity-average-production-annual</th>\n",
       "      <th>grid-carbon-intensity</th>\n",
       "      <th>total-ICT-energy-consumption-annual</th>\n",
       "      <th>total-water-input</th>\n",
       "      <th>renewable-energy-consumption</th>\n",
       "      <th>renewable-energy-consumption-goe</th>\n",
       "      <th>renewable-energy-consumption-ppa</th>\n",
       "      <th>Unnamed: 23</th>\n",
       "      <th>renewable-energy-consumption-onsite</th>\n",
       "    </tr>\n",
       "  </thead>\n",
       "  <tbody>\n",
       "    <tr>\n",
       "      <th>70</th>\n",
       "      <td>2025</td>\n",
       "      <td>Google Cloud</td>\n",
       "      <td>us-west4</td>\n",
       "      <td>NVE</td>\n",
       "      <td>US-NW-NEVP</td>\n",
       "      <td>NEVP</td>\n",
       "      <td>Las Vegas</td>\n",
       "      <td>35.6011,-105.2206</td>\n",
       "      <td>0.292</td>\n",
       "      <td>NaN</td>\n",
       "      <td>...</td>\n",
       "      <td>456.753492</td>\n",
       "      <td>NaN</td>\n",
       "      <td>457.0</td>\n",
       "      <td>NaN</td>\n",
       "      <td>NaN</td>\n",
       "      <td>NaN</td>\n",
       "      <td>NaN</td>\n",
       "      <td>NaN</td>\n",
       "      <td>NaN</td>\n",
       "      <td>NaN</td>\n",
       "    </tr>\n",
       "    <tr>\n",
       "      <th>143</th>\n",
       "      <td>2024</td>\n",
       "      <td>Google Cloud</td>\n",
       "      <td>europe-central2</td>\n",
       "      <td>Poland</td>\n",
       "      <td>PL</td>\n",
       "      <td>PL</td>\n",
       "      <td>Warsaw</td>\n",
       "      <td>52.23,21.0111</td>\n",
       "      <td>0.413</td>\n",
       "      <td>NaN</td>\n",
       "      <td>...</td>\n",
       "      <td>852.394151</td>\n",
       "      <td>NaN</td>\n",
       "      <td>852.0</td>\n",
       "      <td>NaN</td>\n",
       "      <td>NaN</td>\n",
       "      <td>NaN</td>\n",
       "      <td>NaN</td>\n",
       "      <td>NaN</td>\n",
       "      <td>NaN</td>\n",
       "      <td>NaN</td>\n",
       "    </tr>\n",
       "    <tr>\n",
       "      <th>161</th>\n",
       "      <td>2024</td>\n",
       "      <td>Google Cloud</td>\n",
       "      <td>us-central1</td>\n",
       "      <td>MISO</td>\n",
       "      <td>US-MIDW-MISO</td>\n",
       "      <td>MISO_MASON_CITY</td>\n",
       "      <td>Iowa</td>\n",
       "      <td>41.5725,-93.6105</td>\n",
       "      <td>0.992</td>\n",
       "      <td>NaN</td>\n",
       "      <td>...</td>\n",
       "      <td>539.251027</td>\n",
       "      <td>NaN</td>\n",
       "      <td>539.0</td>\n",
       "      <td>NaN</td>\n",
       "      <td>NaN</td>\n",
       "      <td>NaN</td>\n",
       "      <td>NaN</td>\n",
       "      <td>NaN</td>\n",
       "      <td>NaN</td>\n",
       "      <td>NaN</td>\n",
       "    </tr>\n",
       "    <tr>\n",
       "      <th>47</th>\n",
       "      <td>2025</td>\n",
       "      <td>Google Cloud</td>\n",
       "      <td>europe-west1</td>\n",
       "      <td>Belgium</td>\n",
       "      <td>BE</td>\n",
       "      <td>BE</td>\n",
       "      <td>Belgium</td>\n",
       "      <td>51.1333,4.5667</td>\n",
       "      <td>0.855</td>\n",
       "      <td>NaN</td>\n",
       "      <td>...</td>\n",
       "      <td>411.152318</td>\n",
       "      <td>NaN</td>\n",
       "      <td>411.0</td>\n",
       "      <td>NaN</td>\n",
       "      <td>NaN</td>\n",
       "      <td>NaN</td>\n",
       "      <td>NaN</td>\n",
       "      <td>NaN</td>\n",
       "      <td>NaN</td>\n",
       "      <td>NaN</td>\n",
       "    </tr>\n",
       "    <tr>\n",
       "      <th>117</th>\n",
       "      <td>2024</td>\n",
       "      <td>Amazon Web Services</td>\n",
       "      <td>eu-south-2</td>\n",
       "      <td>Spain</td>\n",
       "      <td>ES</td>\n",
       "      <td>ES</td>\n",
       "      <td>Europe (Spain)</td>\n",
       "      <td>40.3333,-3.8667</td>\n",
       "      <td>NaN</td>\n",
       "      <td>1.0</td>\n",
       "      <td>...</td>\n",
       "      <td>370.288102</td>\n",
       "      <td>NaN</td>\n",
       "      <td>370.0</td>\n",
       "      <td>NaN</td>\n",
       "      <td>NaN</td>\n",
       "      <td>NaN</td>\n",
       "      <td>NaN</td>\n",
       "      <td>NaN</td>\n",
       "      <td>NaN</td>\n",
       "      <td>NaN</td>\n",
       "    </tr>\n",
       "    <tr>\n",
       "      <th>66</th>\n",
       "      <td>2025</td>\n",
       "      <td>Google Cloud</td>\n",
       "      <td>us-south1</td>\n",
       "      <td>ERCOT</td>\n",
       "      <td>US-TEX-ERCO</td>\n",
       "      <td>ERCOT_NORTHCENTRAL</td>\n",
       "      <td>Dallas</td>\n",
       "      <td>44.9221,-123.313</td>\n",
       "      <td>0.985</td>\n",
       "      <td>NaN</td>\n",
       "      <td>...</td>\n",
       "      <td>441.011686</td>\n",
       "      <td>NaN</td>\n",
       "      <td>441.0</td>\n",
       "      <td>NaN</td>\n",
       "      <td>NaN</td>\n",
       "      <td>NaN</td>\n",
       "      <td>NaN</td>\n",
       "      <td>NaN</td>\n",
       "      <td>NaN</td>\n",
       "      <td>NaN</td>\n",
       "    </tr>\n",
       "    <tr>\n",
       "      <th>58</th>\n",
       "      <td>2025</td>\n",
       "      <td>Google Cloud</td>\n",
       "      <td>northamerica-northeast1</td>\n",
       "      <td>Quebec</td>\n",
       "      <td>CA-QC</td>\n",
       "      <td>HQ</td>\n",
       "      <td>Montréal</td>\n",
       "      <td>45.5089,-73.5617</td>\n",
       "      <td>1.000</td>\n",
       "      <td>NaN</td>\n",
       "      <td>...</td>\n",
       "      <td>462.245178</td>\n",
       "      <td>NaN</td>\n",
       "      <td>462.0</td>\n",
       "      <td>NaN</td>\n",
       "      <td>NaN</td>\n",
       "      <td>NaN</td>\n",
       "      <td>NaN</td>\n",
       "      <td>NaN</td>\n",
       "      <td>NaN</td>\n",
       "      <td>NaN</td>\n",
       "    </tr>\n",
       "    <tr>\n",
       "      <th>175</th>\n",
       "      <td>2024</td>\n",
       "      <td>Microsoft Azure</td>\n",
       "      <td>centralus</td>\n",
       "      <td>MISO</td>\n",
       "      <td>US-MIDW-MISO</td>\n",
       "      <td>MISO</td>\n",
       "      <td>Iowa: Central US</td>\n",
       "      <td>41.573,-93.608</td>\n",
       "      <td>NaN</td>\n",
       "      <td>1.0</td>\n",
       "      <td>...</td>\n",
       "      <td>NaN</td>\n",
       "      <td>NaN</td>\n",
       "      <td>NaN</td>\n",
       "      <td>NaN</td>\n",
       "      <td>NaN</td>\n",
       "      <td>NaN</td>\n",
       "      <td>NaN</td>\n",
       "      <td>NaN</td>\n",
       "      <td>NaN</td>\n",
       "      <td>NaN</td>\n",
       "    </tr>\n",
       "    <tr>\n",
       "      <th>37</th>\n",
       "      <td>2025</td>\n",
       "      <td>Google Cloud</td>\n",
       "      <td>asia-northeast3</td>\n",
       "      <td>South Korea</td>\n",
       "      <td>KR</td>\n",
       "      <td>KOR</td>\n",
       "      <td>Seoul</td>\n",
       "      <td>37.56,126.99</td>\n",
       "      <td>0.438</td>\n",
       "      <td>NaN</td>\n",
       "      <td>...</td>\n",
       "      <td>686.013604</td>\n",
       "      <td>NaN</td>\n",
       "      <td>686.0</td>\n",
       "      <td>NaN</td>\n",
       "      <td>NaN</td>\n",
       "      <td>NaN</td>\n",
       "      <td>NaN</td>\n",
       "      <td>NaN</td>\n",
       "      <td>NaN</td>\n",
       "      <td>NaN</td>\n",
       "    </tr>\n",
       "    <tr>\n",
       "      <th>100</th>\n",
       "      <td>2024</td>\n",
       "      <td>Amazon Web Services</td>\n",
       "      <td>ap-east-1</td>\n",
       "      <td>Hong Kong</td>\n",
       "      <td>HK</td>\n",
       "      <td>HK</td>\n",
       "      <td>Asia Pacific (Hong Kong)</td>\n",
       "      <td>22.3,114.2</td>\n",
       "      <td>NaN</td>\n",
       "      <td>NaN</td>\n",
       "      <td>...</td>\n",
       "      <td>NaN</td>\n",
       "      <td>NaN</td>\n",
       "      <td>NaN</td>\n",
       "      <td>NaN</td>\n",
       "      <td>NaN</td>\n",
       "      <td>NaN</td>\n",
       "      <td>NaN</td>\n",
       "      <td>NaN</td>\n",
       "      <td>NaN</td>\n",
       "      <td>NaN</td>\n",
       "    </tr>\n",
       "  </tbody>\n",
       "</table>\n",
       "<p>10 rows × 25 columns</p>\n",
       "</div>"
      ]
     },
     "execution_count": 137,
     "metadata": {},
     "output_type": "execute_result"
    }
   ],
   "execution_count": 137
  },
  {
   "metadata": {},
   "cell_type": "markdown",
   "source": [
    "### Check Columns\n",
    "\n",
    "As a visual check isn't that accurate, we wish to programmatically compare the two datasets columns to identify any disparity between the two.  The following function gets the column names as a list from both datasets and compares them to see which columns are not in both exports.\n",
    "\n",
    "The results are returned in dictionary format along with summary totals, to make it easier to analyse"
   ],
   "id": "db5868489f42e026"
  },
  {
   "metadata": {
    "ExecuteTime": {
     "end_time": "2025-07-11T16:21:43.957695Z",
     "start_time": "2025-07-11T16:21:43.952191Z"
    }
   },
   "cell_type": "code",
   "source": [
    "def return_unique_entries_between_two_lists(list1, list2):\n",
    "    \"\"\"Take two lists and return unique entries between them\"\"\"\n",
    "    '''We cast the lists into sets as they can be subtracted from each other, unlike\n",
    "       lists, and then we subtract list2 from list 1 to get the unique entries from\n",
    "       list1'''\n",
    "    unique_to_list_1 = list(set(list1) - set(list2))\n",
    "    '''Then we flip the order, subtracting list1 from list2, to get the unique entries\n",
    "       from list2'''\n",
    "    unique_to_list_2 = list(set(list2) - set(list1))\n",
    "    return unique_to_list_1, unique_to_list_2\n",
    "\n",
    "def column_differences(dataset_1, dataset_2, dataset_title_1, dataset_title_2):\n",
    "    \"\"\"List the unique columns from each dataset and summarise findings\"\"\"\n",
    "    unique_col_1, unique_col_2 = return_unique_entries_between_two_lists(dataset_1.columns, dataset_2.columns)\n",
    "\n",
    "    return {\n",
    "        dataset_title_1 : {\n",
    "            \"unique_columns_list\" : \",\".join(unique_col_1),\n",
    "            \"total_unique_columns\" : len(unique_col_1),\n",
    "            \"total_columns\" : len(dataset_1.columns),\n",
    "        },\n",
    "        dataset_title_2 : {\n",
    "            \"unique_columns_list\" : \",\".join(unique_col_2),\n",
    "            \"total_unique_columns\" : len(unique_col_2),\n",
    "            \"total_columns\" : len(dataset_2.columns),\n",
    "        },\n",
    "        \"combined\" : {\n",
    "            \"unique_columns_list\" : \",\".join(unique_col_1 + unique_col_2),\n",
    "            \"total_unique_columns\" : len(unique_col_1 + unique_col_2),\n",
    "            \"total_columns\" : len(set(dataset_1.columns).union(dataset_2.columns)),\n",
    "        }\n",
    "    }\n",
    "\n",
    "column_difference_summary = column_differences(\n",
    "    dataset_1=dataset[\"gsf_data_from_2019\"],\n",
    "    dataset_2=dataset[\"gsf_data_from_2024\"],\n",
    "    dataset_title_1=\"gsf_data_from_2019\",\n",
    "    dataset_title_2=\"gsf_data_from_2024\")\n",
    "\n",
    "def style_column_differences_datafrme(row):\n",
    "    \"\"\"\"\"\"\n",
    "    colour = ''\n",
    "    return_value = []\n",
    "    '''Check the value of the final cell in the row and assign style based on that'''\n",
    "    for _ in row:\n",
    "        colour = 'white'\n",
    "        if row.name == 'unique_columns_list':\n",
    "            if _ == '':\n",
    "                colour = 'green'\n",
    "            else:\n",
    "                colour = 'red'\n",
    "        if row.name == 'total_unique_columns':\n",
    "            if _ == 0:\n",
    "                colour = 'green'\n",
    "            else:\n",
    "                colour = 'red'\n",
    "        if row.name == 'total_columns':\n",
    "            colour = 'white'\n",
    "        return_value.append(f'color: {colour}')\n",
    "    return return_value\n",
    "'''Display a header for our summary table'''\n",
    "display(HTML('<span style=\"color: white;font-style:bold\"><br><h2>Unique columns between the two datasets</h2></span>'))\n",
    "display(pd.DataFrame(column_difference_summary).fillna(0).style.apply(style_column_differences_datafrme,axis=1))"
   ],
   "id": "a985e8e1146236a2",
   "outputs": [
    {
     "data": {
      "text/plain": [
       "<IPython.core.display.HTML object>"
      ],
      "text/html": [
       "<span style=\"color: white;font-style:bold\"><br><h2>Unique columns between the two datasets</h2></span>"
      ]
     },
     "metadata": {},
     "output_type": "display_data"
    },
    {
     "data": {
      "text/plain": [
       "<pandas.io.formats.style.Styler at 0x3104ecd10>"
      ],
      "text/html": [
       "<style type=\"text/css\">\n",
       "#T_f7588_row0_col0, #T_f7588_row1_col0 {\n",
       "  color: green;\n",
       "}\n",
       "#T_f7588_row0_col1, #T_f7588_row0_col2, #T_f7588_row1_col1, #T_f7588_row1_col2 {\n",
       "  color: red;\n",
       "}\n",
       "#T_f7588_row2_col0, #T_f7588_row2_col1, #T_f7588_row2_col2 {\n",
       "  color: white;\n",
       "}\n",
       "</style>\n",
       "<table id=\"T_f7588\">\n",
       "  <thead>\n",
       "    <tr>\n",
       "      <th class=\"blank level0\" >&nbsp;</th>\n",
       "      <th id=\"T_f7588_level0_col0\" class=\"col_heading level0 col0\" >gsf_data_from_2019</th>\n",
       "      <th id=\"T_f7588_level0_col1\" class=\"col_heading level0 col1\" >gsf_data_from_2024</th>\n",
       "      <th id=\"T_f7588_level0_col2\" class=\"col_heading level0 col2\" >combined</th>\n",
       "    </tr>\n",
       "  </thead>\n",
       "  <tbody>\n",
       "    <tr>\n",
       "      <th id=\"T_f7588_level0_row0\" class=\"row_heading level0 row0\" >unique_columns_list</th>\n",
       "      <td id=\"T_f7588_row0_col0\" class=\"data row0 col0\" ></td>\n",
       "      <td id=\"T_f7588_row0_col1\" class=\"data row0 col1\" >Unnamed: 23</td>\n",
       "      <td id=\"T_f7588_row0_col2\" class=\"data row0 col2\" >Unnamed: 23</td>\n",
       "    </tr>\n",
       "    <tr>\n",
       "      <th id=\"T_f7588_level0_row1\" class=\"row_heading level0 row1\" >total_unique_columns</th>\n",
       "      <td id=\"T_f7588_row1_col0\" class=\"data row1 col0\" >0</td>\n",
       "      <td id=\"T_f7588_row1_col1\" class=\"data row1 col1\" >1</td>\n",
       "      <td id=\"T_f7588_row1_col2\" class=\"data row1 col2\" >1</td>\n",
       "    </tr>\n",
       "    <tr>\n",
       "      <th id=\"T_f7588_level0_row2\" class=\"row_heading level0 row2\" >total_columns</th>\n",
       "      <td id=\"T_f7588_row2_col0\" class=\"data row2 col0\" >24</td>\n",
       "      <td id=\"T_f7588_row2_col1\" class=\"data row2 col1\" >25</td>\n",
       "      <td id=\"T_f7588_row2_col2\" class=\"data row2 col2\" >25</td>\n",
       "    </tr>\n",
       "  </tbody>\n",
       "</table>\n"
      ]
     },
     "metadata": {},
     "output_type": "display_data"
    }
   ],
   "execution_count": 138
  },
  {
   "metadata": {},
   "cell_type": "markdown",
   "source": [
    "# Clean Data\n",
    "## Drop Unique Columns\n",
    "\n",
    "Merging two datasets will only work if the data is consistent across both sets.  There is only one unique column identified, which is entitled 'Unnamed: 23' - this is meaningless to us, so we can drop it and have a unified columns list."
   ],
   "id": "e8c33fca89b5025f"
  },
  {
   "metadata": {
    "ExecuteTime": {
     "end_time": "2025-07-11T16:21:44.028073Z",
     "start_time": "2025-07-11T16:21:44.022629Z"
    }
   },
   "cell_type": "code",
   "source": [
    "dataset[\"gsf_data_from_2024\"].drop(column_difference_summary[\"gsf_data_from_2024\"][\"unique_columns_list\"], axis=1, inplace=True)\n",
    "dataset[\"gsf_data_from_2024\"].head()"
   ],
   "id": "1e7627ba66cbef71",
   "outputs": [
    {
     "data": {
      "text/plain": [
       "   year       cloud-provider    cloud-region    cfe-region em-zone-id  \\\n",
       "0  2025  Amazon Web Services      af-south-1  South Africa         ZA   \n",
       "1  2025  Amazon Web Services       ap-east-1     Hong Kong         HK   \n",
       "2  2025  Amazon Web Services  ap-northeast-1         Tokyo      JP-TK   \n",
       "3  2025  Amazon Web Services  ap-northeast-2   South Korea         KR   \n",
       "4  2025  Amazon Web Services  ap-northeast-3        Kansai      JP-KN   \n",
       "\n",
       "  wt-region-id                  location        geolocation  \\\n",
       "0           ZA        Africa (Cape Town)  -33.9253,18.4239    \n",
       "1           HK  Asia Pacific (Hong Kong)         22.3,114.2   \n",
       "2        JP_TK      Asia Pacific (Tokyo)    35.6897,139.692   \n",
       "3          KOR      Asia Pacific (Seoul)       37.56,126.99   \n",
       "4        JP_KN      Asia Pacific (Osaka)    34.6939,135.502   \n",
       "\n",
       "   provider-cfe-hourly  provider-cfe-annual  ...  \\\n",
       "0                  NaN                  NaN  ...   \n",
       "1                  NaN                  NaN  ...   \n",
       "2                  NaN                  NaN  ...   \n",
       "3                  NaN                  NaN  ...   \n",
       "4                  NaN                  NaN  ...   \n",
       "\n",
       "   grid-carbon-intensity-average-consumption-annual  \\\n",
       "0                                               NaN   \n",
       "1                                               NaN   \n",
       "2                                               NaN   \n",
       "3                                               NaN   \n",
       "4                                               NaN   \n",
       "\n",
       "   grid-carbon-intensity-marginal-consumption-annual  \\\n",
       "0                                                NaN   \n",
       "1                                                NaN   \n",
       "2                                         535.953159   \n",
       "3                                         686.013604   \n",
       "4                                         550.532231   \n",
       "\n",
       "   grid-carbon-intensity-average-production-annual  grid-carbon-intensity  \\\n",
       "0                                              NaN                    NaN   \n",
       "1                                              NaN                    NaN   \n",
       "2                                              NaN                  536.0   \n",
       "3                                              NaN                  686.0   \n",
       "4                                              NaN                  551.0   \n",
       "\n",
       "   total-ICT-energy-consumption-annual  total-water-input  \\\n",
       "0                                  NaN                NaN   \n",
       "1                                  NaN                NaN   \n",
       "2                                  NaN                NaN   \n",
       "3                                  NaN                NaN   \n",
       "4                                  NaN                NaN   \n",
       "\n",
       "   renewable-energy-consumption  renewable-energy-consumption-goe  \\\n",
       "0                           NaN                               NaN   \n",
       "1                           NaN                               NaN   \n",
       "2                           NaN                               NaN   \n",
       "3                           NaN                               NaN   \n",
       "4                           NaN                               NaN   \n",
       "\n",
       "   renewable-energy-consumption-ppa  renewable-energy-consumption-onsite  \n",
       "0                               NaN                                  NaN  \n",
       "1                               NaN                                  NaN  \n",
       "2                               NaN                                  NaN  \n",
       "3                               NaN                                  NaN  \n",
       "4                               NaN                                  NaN  \n",
       "\n",
       "[5 rows x 24 columns]"
      ],
      "text/html": [
       "<div>\n",
       "<style scoped>\n",
       "    .dataframe tbody tr th:only-of-type {\n",
       "        vertical-align: middle;\n",
       "    }\n",
       "\n",
       "    .dataframe tbody tr th {\n",
       "        vertical-align: top;\n",
       "    }\n",
       "\n",
       "    .dataframe thead th {\n",
       "        text-align: right;\n",
       "    }\n",
       "</style>\n",
       "<table border=\"1\" class=\"dataframe\">\n",
       "  <thead>\n",
       "    <tr style=\"text-align: right;\">\n",
       "      <th></th>\n",
       "      <th>year</th>\n",
       "      <th>cloud-provider</th>\n",
       "      <th>cloud-region</th>\n",
       "      <th>cfe-region</th>\n",
       "      <th>em-zone-id</th>\n",
       "      <th>wt-region-id</th>\n",
       "      <th>location</th>\n",
       "      <th>geolocation</th>\n",
       "      <th>provider-cfe-hourly</th>\n",
       "      <th>provider-cfe-annual</th>\n",
       "      <th>...</th>\n",
       "      <th>grid-carbon-intensity-average-consumption-annual</th>\n",
       "      <th>grid-carbon-intensity-marginal-consumption-annual</th>\n",
       "      <th>grid-carbon-intensity-average-production-annual</th>\n",
       "      <th>grid-carbon-intensity</th>\n",
       "      <th>total-ICT-energy-consumption-annual</th>\n",
       "      <th>total-water-input</th>\n",
       "      <th>renewable-energy-consumption</th>\n",
       "      <th>renewable-energy-consumption-goe</th>\n",
       "      <th>renewable-energy-consumption-ppa</th>\n",
       "      <th>renewable-energy-consumption-onsite</th>\n",
       "    </tr>\n",
       "  </thead>\n",
       "  <tbody>\n",
       "    <tr>\n",
       "      <th>0</th>\n",
       "      <td>2025</td>\n",
       "      <td>Amazon Web Services</td>\n",
       "      <td>af-south-1</td>\n",
       "      <td>South Africa</td>\n",
       "      <td>ZA</td>\n",
       "      <td>ZA</td>\n",
       "      <td>Africa (Cape Town)</td>\n",
       "      <td>-33.9253,18.4239</td>\n",
       "      <td>NaN</td>\n",
       "      <td>NaN</td>\n",
       "      <td>...</td>\n",
       "      <td>NaN</td>\n",
       "      <td>NaN</td>\n",
       "      <td>NaN</td>\n",
       "      <td>NaN</td>\n",
       "      <td>NaN</td>\n",
       "      <td>NaN</td>\n",
       "      <td>NaN</td>\n",
       "      <td>NaN</td>\n",
       "      <td>NaN</td>\n",
       "      <td>NaN</td>\n",
       "    </tr>\n",
       "    <tr>\n",
       "      <th>1</th>\n",
       "      <td>2025</td>\n",
       "      <td>Amazon Web Services</td>\n",
       "      <td>ap-east-1</td>\n",
       "      <td>Hong Kong</td>\n",
       "      <td>HK</td>\n",
       "      <td>HK</td>\n",
       "      <td>Asia Pacific (Hong Kong)</td>\n",
       "      <td>22.3,114.2</td>\n",
       "      <td>NaN</td>\n",
       "      <td>NaN</td>\n",
       "      <td>...</td>\n",
       "      <td>NaN</td>\n",
       "      <td>NaN</td>\n",
       "      <td>NaN</td>\n",
       "      <td>NaN</td>\n",
       "      <td>NaN</td>\n",
       "      <td>NaN</td>\n",
       "      <td>NaN</td>\n",
       "      <td>NaN</td>\n",
       "      <td>NaN</td>\n",
       "      <td>NaN</td>\n",
       "    </tr>\n",
       "    <tr>\n",
       "      <th>2</th>\n",
       "      <td>2025</td>\n",
       "      <td>Amazon Web Services</td>\n",
       "      <td>ap-northeast-1</td>\n",
       "      <td>Tokyo</td>\n",
       "      <td>JP-TK</td>\n",
       "      <td>JP_TK</td>\n",
       "      <td>Asia Pacific (Tokyo)</td>\n",
       "      <td>35.6897,139.692</td>\n",
       "      <td>NaN</td>\n",
       "      <td>NaN</td>\n",
       "      <td>...</td>\n",
       "      <td>NaN</td>\n",
       "      <td>535.953159</td>\n",
       "      <td>NaN</td>\n",
       "      <td>536.0</td>\n",
       "      <td>NaN</td>\n",
       "      <td>NaN</td>\n",
       "      <td>NaN</td>\n",
       "      <td>NaN</td>\n",
       "      <td>NaN</td>\n",
       "      <td>NaN</td>\n",
       "    </tr>\n",
       "    <tr>\n",
       "      <th>3</th>\n",
       "      <td>2025</td>\n",
       "      <td>Amazon Web Services</td>\n",
       "      <td>ap-northeast-2</td>\n",
       "      <td>South Korea</td>\n",
       "      <td>KR</td>\n",
       "      <td>KOR</td>\n",
       "      <td>Asia Pacific (Seoul)</td>\n",
       "      <td>37.56,126.99</td>\n",
       "      <td>NaN</td>\n",
       "      <td>NaN</td>\n",
       "      <td>...</td>\n",
       "      <td>NaN</td>\n",
       "      <td>686.013604</td>\n",
       "      <td>NaN</td>\n",
       "      <td>686.0</td>\n",
       "      <td>NaN</td>\n",
       "      <td>NaN</td>\n",
       "      <td>NaN</td>\n",
       "      <td>NaN</td>\n",
       "      <td>NaN</td>\n",
       "      <td>NaN</td>\n",
       "    </tr>\n",
       "    <tr>\n",
       "      <th>4</th>\n",
       "      <td>2025</td>\n",
       "      <td>Amazon Web Services</td>\n",
       "      <td>ap-northeast-3</td>\n",
       "      <td>Kansai</td>\n",
       "      <td>JP-KN</td>\n",
       "      <td>JP_KN</td>\n",
       "      <td>Asia Pacific (Osaka)</td>\n",
       "      <td>34.6939,135.502</td>\n",
       "      <td>NaN</td>\n",
       "      <td>NaN</td>\n",
       "      <td>...</td>\n",
       "      <td>NaN</td>\n",
       "      <td>550.532231</td>\n",
       "      <td>NaN</td>\n",
       "      <td>551.0</td>\n",
       "      <td>NaN</td>\n",
       "      <td>NaN</td>\n",
       "      <td>NaN</td>\n",
       "      <td>NaN</td>\n",
       "      <td>NaN</td>\n",
       "      <td>NaN</td>\n",
       "    </tr>\n",
       "  </tbody>\n",
       "</table>\n",
       "<p>5 rows × 24 columns</p>\n",
       "</div>"
      ]
     },
     "execution_count": 139,
     "metadata": {},
     "output_type": "execute_result"
    }
   ],
   "execution_count": 139
  },
  {
   "metadata": {},
   "cell_type": "markdown",
   "source": [
    "## Confirm columns match\n",
    "\n",
    "After dropping the unique columns we run a final check to ensure the columns match across both datasets"
   ],
   "id": "d66bb65451cd8c07"
  },
  {
   "metadata": {
    "ExecuteTime": {
     "end_time": "2025-07-11T16:21:44.093070Z",
     "start_time": "2025-07-11T16:21:44.088972Z"
    }
   },
   "cell_type": "code",
   "source": [
    "column_difference_summary = column_differences(\n",
    "    dataset_1=dataset[\"gsf_data_from_2019\"],\n",
    "    dataset_2=dataset[\"gsf_data_from_2024\"],\n",
    "    dataset_title_1=\"gsf_data_from_2019\",\n",
    "    dataset_title_2=\"gsf_data_from_2024\")\n",
    "\n",
    "'''Display a header for our summary table'''\n",
    "display(HTML('<span style=\"color: white;font-style:bold\"><br><h2>Unique columns between the two datasets</h2></span>'))\n",
    "display(pd.DataFrame(column_difference_summary).fillna(0).style.apply(style_column_differences_datafrme,axis=1))\n"
   ],
   "id": "b39710d2a7c437a9",
   "outputs": [
    {
     "data": {
      "text/plain": [
       "<IPython.core.display.HTML object>"
      ],
      "text/html": [
       "<span style=\"color: white;font-style:bold\"><br><h2>Unique columns between the two datasets</h2></span>"
      ]
     },
     "metadata": {},
     "output_type": "display_data"
    },
    {
     "data": {
      "text/plain": [
       "<pandas.io.formats.style.Styler at 0x3104c81a0>"
      ],
      "text/html": [
       "<style type=\"text/css\">\n",
       "#T_89e1a_row0_col0, #T_89e1a_row0_col1, #T_89e1a_row0_col2, #T_89e1a_row1_col0, #T_89e1a_row1_col1, #T_89e1a_row1_col2 {\n",
       "  color: green;\n",
       "}\n",
       "#T_89e1a_row2_col0, #T_89e1a_row2_col1, #T_89e1a_row2_col2 {\n",
       "  color: white;\n",
       "}\n",
       "</style>\n",
       "<table id=\"T_89e1a\">\n",
       "  <thead>\n",
       "    <tr>\n",
       "      <th class=\"blank level0\" >&nbsp;</th>\n",
       "      <th id=\"T_89e1a_level0_col0\" class=\"col_heading level0 col0\" >gsf_data_from_2019</th>\n",
       "      <th id=\"T_89e1a_level0_col1\" class=\"col_heading level0 col1\" >gsf_data_from_2024</th>\n",
       "      <th id=\"T_89e1a_level0_col2\" class=\"col_heading level0 col2\" >combined</th>\n",
       "    </tr>\n",
       "  </thead>\n",
       "  <tbody>\n",
       "    <tr>\n",
       "      <th id=\"T_89e1a_level0_row0\" class=\"row_heading level0 row0\" >unique_columns_list</th>\n",
       "      <td id=\"T_89e1a_row0_col0\" class=\"data row0 col0\" ></td>\n",
       "      <td id=\"T_89e1a_row0_col1\" class=\"data row0 col1\" ></td>\n",
       "      <td id=\"T_89e1a_row0_col2\" class=\"data row0 col2\" ></td>\n",
       "    </tr>\n",
       "    <tr>\n",
       "      <th id=\"T_89e1a_level0_row1\" class=\"row_heading level0 row1\" >total_unique_columns</th>\n",
       "      <td id=\"T_89e1a_row1_col0\" class=\"data row1 col0\" >0</td>\n",
       "      <td id=\"T_89e1a_row1_col1\" class=\"data row1 col1\" >0</td>\n",
       "      <td id=\"T_89e1a_row1_col2\" class=\"data row1 col2\" >0</td>\n",
       "    </tr>\n",
       "    <tr>\n",
       "      <th id=\"T_89e1a_level0_row2\" class=\"row_heading level0 row2\" >total_columns</th>\n",
       "      <td id=\"T_89e1a_row2_col0\" class=\"data row2 col0\" >24</td>\n",
       "      <td id=\"T_89e1a_row2_col1\" class=\"data row2 col1\" >24</td>\n",
       "      <td id=\"T_89e1a_row2_col2\" class=\"data row2 col2\" >24</td>\n",
       "    </tr>\n",
       "  </tbody>\n",
       "</table>\n"
      ]
     },
     "metadata": {},
     "output_type": "display_data"
    }
   ],
   "execution_count": 140
  },
  {
   "metadata": {},
   "cell_type": "markdown",
   "source": [
    "## Check for null columns\n",
    "\n",
    "There may be columns without any data entered in at all, which can be identified by having 'NaN' as every value.  If this is true across both datasets we are going to combine then we can drop them.   We can use the following function to identify them.\n",
    "\n"
   ],
   "id": "337a2af169602fc2"
  },
  {
   "metadata": {
    "ExecuteTime": {
     "end_time": "2025-07-11T16:21:44.132272Z",
     "start_time": "2025-07-11T16:21:44.130154Z"
    }
   },
   "cell_type": "code",
   "source": [
    "def check_for_null_columns(dataframe_to_check):\n",
    "    \"\"\"This function returns a list of columns that only have null values\"\"\"\n",
    "    '''Find out how many entries there are in the dataset'''\n",
    "    total_rows = dataframe_to_check.shape[0]\n",
    "    '''count up how many fields under each column are NaN/null'''\n",
    "    df_to_count_na_fields = dataframe_to_check.isna().sum(axis=0)\n",
    "    '''The NaN totals were returned in a pandas Series.  Lets rename its only column\n",
    "       so it is something more meaningful than <unnamed>'''\n",
    "    df_to_count_na_fields.rename(\"total\", inplace=True)\n",
    "    '''Return only rows that have a total number of NaN the same as the total number of rows'''\n",
    "    na_rows = df_to_count_na_fields[df_to_count_na_fields == total_rows]\n",
    "    '''return the columns with only NaN values as a list'''\n",
    "    return na_rows.index.tolist()"
   ],
   "id": "88a5a57114bd0afc",
   "outputs": [],
   "execution_count": 141
  },
  {
   "metadata": {},
   "cell_type": "markdown",
   "source": [
    "## Find Columns with NaN/null fields in both datasets\n",
    "Now we use that function to list the columns that are empty across both datasets.\n",
    "We only temporarily combine them, as we may need to do some more work on them independently before we are ready to properly merge\n"
   ],
   "id": "968c1653c4a274bf"
  },
  {
   "metadata": {
    "ExecuteTime": {
     "end_time": "2025-07-11T16:21:44.179447Z",
     "start_time": "2025-07-11T16:21:44.176819Z"
    }
   },
   "cell_type": "code",
   "source": [
    "'''List null columns that are common across both datasets'''\n",
    "common_empty_columns = check_for_null_columns(\n",
    "    pd.concat(\n",
    "        [dataset[\"gsf_data_from_2019\"],\n",
    "         dataset[\"gsf_data_from_2024\"]],\n",
    "        ignore_index=True)\n",
    "    )\n",
    "common_empty_columns"
   ],
   "id": "4384cd375ccfdee3",
   "outputs": [
    {
     "data": {
      "text/plain": [
       "['total-ICT-energy-consumption-annual',\n",
       " 'total-water-input',\n",
       " 'renewable-energy-consumption',\n",
       " 'renewable-energy-consumption-goe',\n",
       " 'renewable-energy-consumption-ppa',\n",
       " 'renewable-energy-consumption-onsite']"
      ]
     },
     "execution_count": 142,
     "metadata": {},
     "output_type": "execute_result"
    }
   ],
   "execution_count": 142
  },
  {
   "metadata": {},
   "cell_type": "markdown",
   "source": [
    "## Drop common NaN columns from both datasets\n",
    "Loop through the list of Nan columns and drop them from both datasets.  If we were ready to combine these, we could just use 'dropna' but doing so now would risk dropping a column from one dataset that has data in another, and having a mismatch of columns.\n"
   ],
   "id": "a9dffb7f34faee63"
  },
  {
   "metadata": {
    "ExecuteTime": {
     "end_time": "2025-07-11T16:21:44.208789Z",
     "start_time": "2025-07-11T16:21:44.203971Z"
    }
   },
   "cell_type": "code",
   "source": [
    "'''Drop all columns with NaN as the only value'''\n",
    "\n",
    "for column in common_empty_columns:\n",
    "    dataset['gsf_data_from_2019'].drop(column, axis=1, inplace=True)\n",
    "    dataset['gsf_data_from_2024'].drop(column, axis=1, inplace=True)\n",
    "\n",
    "\n",
    "'''Check the column listing now'''\n",
    "column_differences(\n",
    "    dataset_1=dataset[\"gsf_data_from_2019\"],\n",
    "    dataset_2=dataset[\"gsf_data_from_2024\"],\n",
    "    dataset_title_1=\"gsf_data_from_2019\",\n",
    "    dataset_title_2=\"gsf_data_from_2024\")"
   ],
   "id": "c41982c587267555",
   "outputs": [
    {
     "data": {
      "text/plain": [
       "{'gsf_data_from_2019': {'unique_columns_list': '',\n",
       "  'total_unique_columns': 0,\n",
       "  'total_columns': 18},\n",
       " 'gsf_data_from_2024': {'unique_columns_list': '',\n",
       "  'total_unique_columns': 0,\n",
       "  'total_columns': 18},\n",
       " 'combined': {'unique_columns_list': '',\n",
       "  'total_unique_columns': 0,\n",
       "  'total_columns': 18}}"
      ]
     },
     "execution_count": 143,
     "metadata": {},
     "output_type": "execute_result"
    }
   ],
   "execution_count": 143
  },
  {
   "metadata": {},
   "cell_type": "markdown",
   "source": [
    "## Identify columns with NaN/null in only one dataset\n",
    "If there is incomplete data in only one dataset, we should identify it and see if we can take some action on it"
   ],
   "id": "28b17ae8227de173"
  },
  {
   "metadata": {
    "ExecuteTime": {
     "end_time": "2025-07-11T16:21:44.235428Z",
     "start_time": "2025-07-11T16:21:44.231922Z"
    }
   },
   "cell_type": "code",
   "source": [
    "def map_list_to_dict(list1, list2, value1, value2):\n",
    "    \"\"\"Take two lists and convert them into a dictionary, with\n",
    "       each list member being a key in the dictionary, and the\n",
    "       value being a common one associated with all members of\n",
    "       that list.  The two lists will have unique values so there\n",
    "       are no duplicate keys.  The purpose of this function is to make\n",
    "       it much easier to identify which dataset the identified column\n",
    "       belongs to\"\"\"\n",
    "    dictionary_to_return = {}\n",
    "    for list_member in list1:\n",
    "        dictionary_to_return[list_member] = value1\n",
    "    for list_member in list2:\n",
    "        dictionary_to_return[list_member] = value2\n",
    "    return dictionary_to_return\n",
    "\n",
    "\n",
    "def compare_two_dataset_and_return_unique_null_columns(dataset_1, dataset_2, dataset_title_1, dataset_title_2):\n",
    "    \"\"\"docstring will go here eventually when i get to it\"\"\"\n",
    "    '''Get list of null columns from first dataset'''\n",
    "    null_columns = dict()\n",
    "    null_columns[dataset_title_1] = check_for_null_columns(dataset_1)\n",
    "    '''Get list of null columns from second dataset'''\n",
    "    null_columns[dataset_title_2] = check_for_null_columns(dataset_2)\n",
    "    '''Identify columns that are only null in one of the datasets'''\n",
    "    unique_null_col_1, unique_null_col_2 = return_unique_entries_between_two_lists(null_columns[dataset_title_1], null_columns[dataset_title_2])\n",
    "    '''Create a dictionary to hold the list of columns that have null values in only one dataset\n",
    "       and the name of the dataset'''\n",
    "    return map_list_to_dict(unique_null_col_1, unique_null_col_2, dataset_title_1, dataset_title_2)\n",
    "\n",
    "\n",
    "columns_null_in_only_one_dataset = compare_two_dataset_and_return_unique_null_columns(dataset[\"gsf_data_from_2019\"],\n",
    "                                                                                      dataset[\"gsf_data_from_2024\"],\n",
    "                                                                                      \"gsf_data_from_2019\",\n",
    "                                                                                      \"gsf_data_from_2024\")\n",
    "\n",
    "\n",
    "'''Display columns that have null values in only one dataset\n",
    "   and the name of the dataset'''\n",
    "columns_null_in_only_one_dataset"
   ],
   "id": "76869d17839b5f31",
   "outputs": [
    {
     "data": {
      "text/plain": [
       "{'grid-carbon-intensity-average-production-annual': 'gsf_data_from_2024'}"
      ]
     },
     "execution_count": 144,
     "metadata": {},
     "output_type": "execute_result"
    }
   ],
   "execution_count": 144
  },
  {
   "metadata": {},
   "cell_type": "markdown",
   "source": [
    "## Drop unique null columns as not required\n",
    "The list of columns with null data in only one dataset reveals only one column = 'grid-carbon-intensity-average-production-annual'.   Looking at the definition of this from https://www.electricitymaps.com/content/consumption-carbon-intensity, we can see that this is a measurement of only the energy produced locally in a region, discounting any used that has been imported.   The consumption measurements are more accurate for our purposes as they show all the energy available in a region regardless of where it's from.\n",
    "\n",
    "We can conclude then, that the column isn't required and can be dropped\n",
    "\n"
   ],
   "id": "2af26fed8b409b7b"
  },
  {
   "metadata": {
    "ExecuteTime": {
     "end_time": "2025-07-11T16:21:44.262756Z",
     "start_time": "2025-07-11T16:21:44.260296Z"
    }
   },
   "cell_type": "code",
   "source": [
    "for title in [\"gsf_data_from_2019\",\"gsf_data_from_2024\"]:\n",
    "    dataset[title].drop('grid-carbon-intensity-average-production-annual',axis=1, inplace=True)\n",
    "\n",
    "column_differences(\n",
    "    dataset_1=dataset[\"gsf_data_from_2019\"],\n",
    "    dataset_2=dataset[\"gsf_data_from_2024\"],\n",
    "    dataset_title_1=\"gsf_data_from_2019\",\n",
    "    dataset_title_2=\"gsf_data_from_2024\")"
   ],
   "id": "1e41cf853cdcadaf",
   "outputs": [
    {
     "data": {
      "text/plain": [
       "{'gsf_data_from_2019': {'unique_columns_list': '',\n",
       "  'total_unique_columns': 0,\n",
       "  'total_columns': 17},\n",
       " 'gsf_data_from_2024': {'unique_columns_list': '',\n",
       "  'total_unique_columns': 0,\n",
       "  'total_columns': 17},\n",
       " 'combined': {'unique_columns_list': '',\n",
       "  'total_unique_columns': 0,\n",
       "  'total_columns': 17}}"
      ]
     },
     "execution_count": 145,
     "metadata": {},
     "output_type": "execute_result"
    }
   ],
   "execution_count": 145
  },
  {
   "metadata": {},
   "cell_type": "markdown",
   "source": [
    "## Drop rows with null/NaN values in the columns we are interested in\n",
    "\n",
    "The columns we are interested in analysing to start with are :\n",
    "   - power-usage-effectiveness: PUE ratio for the region (1.0 = 100% of energy goes to IT, 1.0-1.5 = v efficient, 2.0+ = inefficient)\n",
    "   - provider-cfe-annual (0 = 0% carbon free energy & 100% fossil fuels, 1.0 = 100% cfe & 0% fossil fuels)\n",
    "   - provider-cfe-hourly: same as above, but meant to represent cfe proportion by hourly usage.\n",
    "\n",
    "The two provider columns do seem to represent the same thing, and looking at sample rows of the datasets we can see that neither column is comprehensively or consistently filled out.  To conclude which data column to use, we should compare the two column values and see where the gaps are, and confirm that where we have both sets of information, they do resemble each other.\n"
   ],
   "id": "428a253782654185"
  },
  {
   "metadata": {
    "ExecuteTime": {
     "end_time": "2025-07-11T16:21:44.307681Z",
     "start_time": "2025-07-11T16:21:44.288049Z"
    }
   },
   "cell_type": "code",
   "source": [
    "def debug_display(display_object, display_enabled=True):\n",
    "    \"\"\"A little helper function for me to use in place of display() so i can control whether i output all details or not,\n",
    "       to avoid flooding the Jupyter notebook output cell with too much info\"\"\"\n",
    "    if display_enabled:\n",
    "        display(display_object)\n",
    "\n",
    "\n",
    "def cast_float_to_int_and_set_nan_to_zero(input_dataframe):\n",
    "    '''Set all NaN to 0'''\n",
    "    input_dataframe.fillna(0, inplace=True)\n",
    "    '''Cast all floats to integer as merging tables seems to set the integers to floats'''\n",
    "    input_dataframe[input_dataframe.select_dtypes(include='float').columns] = input_dataframe.select_dtypes(include='float').astype(int)\n",
    "    return input_dataframe\n",
    "\n",
    "def compare_empty_values_across_two_columns(df, column_1, column_2, sort_by, debug_on=False):\n",
    "    \"\"\"Reports on NaN values across two columns in a dataframe.  Outputs a collated table that shows how many rows\n",
    "       - have values in both columns\n",
    "       - have have no value in either\n",
    "       - have values in just one column but not the other\n",
    "       - total rows that match the criteria.\n",
    "       The list 'sort_by' is used to determine not only which columns to sort by, but also what to match on, when filtering\n",
    "       for totals, and for merging each type of total into the collated table\"\"\"\n",
    "    '''Total number of rows'''\n",
    "    debug_display(\"Total number of rows\", debug_on)\n",
    "    total_row_counts_df=df[sort_by].value_counts().to_frame().sort_values(by=sort_by).rename(columns={'count':'total_rows'})\n",
    "    debug_display(total_row_counts_df, debug_on)\n",
    "\n",
    "    '''Number of rows where we have neither values filled in'''\n",
    "    debug_display(\"Number of rows where we have neither values filled in\", debug_on)\n",
    "    both_empty_rows_df = df[df[column_1].isna() & df[column_2].isna()][sort_by].value_counts().to_frame().sort_values(by=sort_by).rename(columns={'count':'both_empty'})\n",
    "    debug_display(both_empty_rows_df, debug_on)\n",
    "    total_row_counts_df = pd.merge(total_row_counts_df,both_empty_rows_df, how='left', on=sort_by)\n",
    "\n",
    "    f'''Rows where {column_1} is NaN and {column_2} is not'''\n",
    "    debug_display(f\"Number of entries where {column_1} is missing, but {column_2} is present\", debug_on)\n",
    "    column_1_df = df[df[column_1].isna() & df[column_2].notna()][sort_by].value_counts().to_frame().sort_values(by=sort_by).rename(columns={'count':f\"only_{column_1}_empty\"})\n",
    "    debug_display(column_1_df, debug_on)\n",
    "    total_row_counts_df = pd.merge(total_row_counts_df,column_1_df, how='left', on=sort_by)\n",
    "\n",
    "    f'''Rows where {column_2} is NaN and {column_1} is not'''\n",
    "    debug_display(f\"Number of entries where {column_2} is missing, but {column_1} is present\", debug_on)\n",
    "    column_2_df = df[df[column_1].notna() & df[column_2].isna()][sort_by].value_counts().to_frame().sort_values(by=sort_by).rename(columns={'count':f\"only_{column_2}_empty\"})\n",
    "    debug_display(column_2_df, debug_on)\n",
    "    total_row_counts_df = pd.merge(total_row_counts_df,column_2_df, how='left', on=sort_by)\n",
    "\n",
    "    '''Number of rows where we have both entries filled in'''\n",
    "    debug_display(\"Number of rows where we have both entries filled in\", debug_on)\n",
    "    both_have_values_df = df[df[column_1].notna() & df[column_2].notna()][sort_by].value_counts().to_frame().sort_values(by=sort_by).rename(columns={'count':'both_have_values'})\n",
    "    debug_display(both_have_values_df, debug_on)\n",
    "    total_row_counts_df = pd.merge(total_row_counts_df,both_have_values_df, how='left', on=sort_by)\n",
    "\n",
    "    '''clean up number columns'''\n",
    "    total_row_counts_df = cast_float_to_int_and_set_nan_to_zero(total_row_counts_df)\n",
    "\n",
    "    '''Add up totals columns using sum(), to give us a Series containing the sum total of each column,\n",
    "       convert to a dataframe (.to_frame) and then transpose the axis (.T) so we get a row with headings\n",
    "       that mostly align with our totals dataframe.  '''\n",
    "\n",
    "    total_of_totals_df = total_row_counts_df.sum().to_frame().T\n",
    "    '''create new index for our totals'''\n",
    "    all_totals_index = pd.MultiIndex.from_tuples([('All', 'All')],\n",
    "           names=['cloud-provider', 'dataset'])\n",
    "    '''Set the index on our single-row totals dataframe'''\n",
    "    total_of_totals_df.set_index(all_totals_index, inplace=True)\n",
    "\n",
    "    '''We add the row of overall totals to the bottom of the totals dataframe, by concatenating the totals dataframe\n",
    "       with our new, single row dataframe'''\n",
    "    total_row_counts_df = pd.concat(\n",
    "        [total_row_counts_df,\n",
    "         total_of_totals_df],\n",
    "         ignore_index=False)\n",
    "\n",
    "    '''return total counts dataframe as we may need it later'''\n",
    "    return total_row_counts_df\n",
    "\n",
    "def check_dataframe_columns_match(input_dataframe, column_1, column_2):\n",
    "    \"\"\"Check if two columns in a dataframe have matching values in every row\"\"\"\n",
    "    input_dataframe['matches'] = input_dataframe[column_1] == input_dataframe[column_2]\n",
    "\n",
    "    display(HTML('<span style=\"color: grey;font-style:italic\"><br>Checking that where we have rows with both entries filled in, those entries are the same value.....</span>'))\n",
    "    display(input_dataframe)\n",
    "    if input_dataframe['matches'].all():\n",
    "        display(HTML(f'<span style=\"color: green;font-weight:bold\"><br>The {column_1} and {column_2} column values DO match in every row where both column values are populated</span>'))\n",
    "    else:\n",
    "        display(HTML(f'<span style=\"color: red;font-weight:bold\"><br>The {column_1} and {column_2} column values DO NOT all match</span>'))\n",
    "\n",
    "'''Combine the two datasets into one, but add an additional column so we know which one they came from'''\n",
    "'''Make a copy of the original dataset dataframes in case we need to refer to them again later, after\n",
    "   we've cleaned the data'''\n",
    "temp_df_a = dataset[\"gsf_data_from_2019\"].copy()\n",
    "temp_df_a['dataset']='2019-2023'\n",
    "temp_df_b = dataset[\"gsf_data_from_2024\"].copy()\n",
    "temp_df_b['dataset']='2024-2025'\n",
    "\n",
    "'''use shortened name for df to make dataframe filtering easier to read'''\n",
    "df = pd.concat(\n",
    "        [temp_df_a,\n",
    "         temp_df_b],\n",
    "        ignore_index=True)\n",
    "\n",
    "column_a = \"provider-cfe-hourly\"\n",
    "column_b = \"provider-cfe-annual\"\n",
    "sort_by_columns=['cloud-provider','dataset']\n",
    "cfe_totals_df = compare_empty_values_across_two_columns(df, column_a, column_b, sort_by=sort_by_columns)\n",
    "\n",
    "'''Display comined totals, including overall totals of all columns'''\n",
    "display(HTML(f'<span style=\"color: grey;font-style:italic\"><br>Combined totals of our comparisons between columns <b>{column_a}</b> and <b>{column_b}</b>, including sum totals of each column</span>'))\n",
    "display(cfe_totals_df)\n",
    "\n",
    "'''Filter data for only rows with both entries filled in'''\n",
    "are_populated_columns_equal_df = df[df[column_a].notna() & df[column_b].notna()][['year','cloud-provider','cfe-region','provider-cfe-hourly','provider-cfe-annual']]\n",
    "\n",
    "'''Display whether the two columns are equal or not, for the rows with both entries filled in'''\n",
    "check_dataframe_columns_match(are_populated_columns_equal_df, column_a, column_b)\n"
   ],
   "id": "be6474cc6ca282df",
   "outputs": [
    {
     "data": {
      "text/plain": [
       "<IPython.core.display.HTML object>"
      ],
      "text/html": [
       "<span style=\"color: grey;font-style:italic\"><br>Combined totals of our comparisons between columns <b>provider-cfe-hourly</b> and <b>provider-cfe-annual</b>, including sum totals of each column</span>"
      ]
     },
     "metadata": {},
     "output_type": "display_data"
    },
    {
     "data": {
      "text/plain": [
       "                               total_rows  both_empty  \\\n",
       "cloud-provider      dataset                             \n",
       "Amazon Web Services 2019-2023          94          62   \n",
       "                    2024-2025          64          26   \n",
       "Google Cloud        2019-2023         160           0   \n",
       "                    2024-2025          78           0   \n",
       "Microsoft Azure     2019-2023          56          32   \n",
       "                    2024-2025          56          10   \n",
       "All                 All               508         130   \n",
       "\n",
       "                               only_provider-cfe-hourly_empty  \\\n",
       "cloud-provider      dataset                                     \n",
       "Amazon Web Services 2019-2023                              32   \n",
       "                    2024-2025                              38   \n",
       "Google Cloud        2019-2023                               0   \n",
       "                    2024-2025                               0   \n",
       "Microsoft Azure     2019-2023                              22   \n",
       "                    2024-2025                              44   \n",
       "All                 All                                   136   \n",
       "\n",
       "                               only_provider-cfe-annual_empty  \\\n",
       "cloud-provider      dataset                                     \n",
       "Amazon Web Services 2019-2023                               0   \n",
       "                    2024-2025                               0   \n",
       "Google Cloud        2019-2023                             160   \n",
       "                    2024-2025                              78   \n",
       "Microsoft Azure     2019-2023                               1   \n",
       "                    2024-2025                               0   \n",
       "All                 All                                   239   \n",
       "\n",
       "                               both_have_values  \n",
       "cloud-provider      dataset                      \n",
       "Amazon Web Services 2019-2023                 0  \n",
       "                    2024-2025                 0  \n",
       "Google Cloud        2019-2023                 0  \n",
       "                    2024-2025                 0  \n",
       "Microsoft Azure     2019-2023                 1  \n",
       "                    2024-2025                 2  \n",
       "All                 All                       3  "
      ],
      "text/html": [
       "<div>\n",
       "<style scoped>\n",
       "    .dataframe tbody tr th:only-of-type {\n",
       "        vertical-align: middle;\n",
       "    }\n",
       "\n",
       "    .dataframe tbody tr th {\n",
       "        vertical-align: top;\n",
       "    }\n",
       "\n",
       "    .dataframe thead th {\n",
       "        text-align: right;\n",
       "    }\n",
       "</style>\n",
       "<table border=\"1\" class=\"dataframe\">\n",
       "  <thead>\n",
       "    <tr style=\"text-align: right;\">\n",
       "      <th></th>\n",
       "      <th></th>\n",
       "      <th>total_rows</th>\n",
       "      <th>both_empty</th>\n",
       "      <th>only_provider-cfe-hourly_empty</th>\n",
       "      <th>only_provider-cfe-annual_empty</th>\n",
       "      <th>both_have_values</th>\n",
       "    </tr>\n",
       "    <tr>\n",
       "      <th>cloud-provider</th>\n",
       "      <th>dataset</th>\n",
       "      <th></th>\n",
       "      <th></th>\n",
       "      <th></th>\n",
       "      <th></th>\n",
       "      <th></th>\n",
       "    </tr>\n",
       "  </thead>\n",
       "  <tbody>\n",
       "    <tr>\n",
       "      <th rowspan=\"2\" valign=\"top\">Amazon Web Services</th>\n",
       "      <th>2019-2023</th>\n",
       "      <td>94</td>\n",
       "      <td>62</td>\n",
       "      <td>32</td>\n",
       "      <td>0</td>\n",
       "      <td>0</td>\n",
       "    </tr>\n",
       "    <tr>\n",
       "      <th>2024-2025</th>\n",
       "      <td>64</td>\n",
       "      <td>26</td>\n",
       "      <td>38</td>\n",
       "      <td>0</td>\n",
       "      <td>0</td>\n",
       "    </tr>\n",
       "    <tr>\n",
       "      <th rowspan=\"2\" valign=\"top\">Google Cloud</th>\n",
       "      <th>2019-2023</th>\n",
       "      <td>160</td>\n",
       "      <td>0</td>\n",
       "      <td>0</td>\n",
       "      <td>160</td>\n",
       "      <td>0</td>\n",
       "    </tr>\n",
       "    <tr>\n",
       "      <th>2024-2025</th>\n",
       "      <td>78</td>\n",
       "      <td>0</td>\n",
       "      <td>0</td>\n",
       "      <td>78</td>\n",
       "      <td>0</td>\n",
       "    </tr>\n",
       "    <tr>\n",
       "      <th rowspan=\"2\" valign=\"top\">Microsoft Azure</th>\n",
       "      <th>2019-2023</th>\n",
       "      <td>56</td>\n",
       "      <td>32</td>\n",
       "      <td>22</td>\n",
       "      <td>1</td>\n",
       "      <td>1</td>\n",
       "    </tr>\n",
       "    <tr>\n",
       "      <th>2024-2025</th>\n",
       "      <td>56</td>\n",
       "      <td>10</td>\n",
       "      <td>44</td>\n",
       "      <td>0</td>\n",
       "      <td>2</td>\n",
       "    </tr>\n",
       "    <tr>\n",
       "      <th>All</th>\n",
       "      <th>All</th>\n",
       "      <td>508</td>\n",
       "      <td>130</td>\n",
       "      <td>136</td>\n",
       "      <td>239</td>\n",
       "      <td>3</td>\n",
       "    </tr>\n",
       "  </tbody>\n",
       "</table>\n",
       "</div>"
      ]
     },
     "metadata": {},
     "output_type": "display_data"
    },
    {
     "data": {
      "text/plain": [
       "<IPython.core.display.HTML object>"
      ],
      "text/html": [
       "<span style=\"color: grey;font-style:italic\"><br>Checking that where we have rows with both entries filled in, those entries are the same value.....</span>"
      ]
     },
     "metadata": {},
     "output_type": "display_data"
    },
    {
     "data": {
      "text/plain": [
       "     year   cloud-provider cfe-region  provider-cfe-hourly  \\\n",
       "172  2022  Microsoft Azure     Sweden                  1.0   \n",
       "403  2025  Microsoft Azure     Sweden                  1.0   \n",
       "502  2024  Microsoft Azure     Sweden                  1.0   \n",
       "\n",
       "     provider-cfe-annual  matches  \n",
       "172                  1.0     True  \n",
       "403                  1.0     True  \n",
       "502                  1.0     True  "
      ],
      "text/html": [
       "<div>\n",
       "<style scoped>\n",
       "    .dataframe tbody tr th:only-of-type {\n",
       "        vertical-align: middle;\n",
       "    }\n",
       "\n",
       "    .dataframe tbody tr th {\n",
       "        vertical-align: top;\n",
       "    }\n",
       "\n",
       "    .dataframe thead th {\n",
       "        text-align: right;\n",
       "    }\n",
       "</style>\n",
       "<table border=\"1\" class=\"dataframe\">\n",
       "  <thead>\n",
       "    <tr style=\"text-align: right;\">\n",
       "      <th></th>\n",
       "      <th>year</th>\n",
       "      <th>cloud-provider</th>\n",
       "      <th>cfe-region</th>\n",
       "      <th>provider-cfe-hourly</th>\n",
       "      <th>provider-cfe-annual</th>\n",
       "      <th>matches</th>\n",
       "    </tr>\n",
       "  </thead>\n",
       "  <tbody>\n",
       "    <tr>\n",
       "      <th>172</th>\n",
       "      <td>2022</td>\n",
       "      <td>Microsoft Azure</td>\n",
       "      <td>Sweden</td>\n",
       "      <td>1.0</td>\n",
       "      <td>1.0</td>\n",
       "      <td>True</td>\n",
       "    </tr>\n",
       "    <tr>\n",
       "      <th>403</th>\n",
       "      <td>2025</td>\n",
       "      <td>Microsoft Azure</td>\n",
       "      <td>Sweden</td>\n",
       "      <td>1.0</td>\n",
       "      <td>1.0</td>\n",
       "      <td>True</td>\n",
       "    </tr>\n",
       "    <tr>\n",
       "      <th>502</th>\n",
       "      <td>2024</td>\n",
       "      <td>Microsoft Azure</td>\n",
       "      <td>Sweden</td>\n",
       "      <td>1.0</td>\n",
       "      <td>1.0</td>\n",
       "      <td>True</td>\n",
       "    </tr>\n",
       "  </tbody>\n",
       "</table>\n",
       "</div>"
      ]
     },
     "metadata": {},
     "output_type": "display_data"
    },
    {
     "data": {
      "text/plain": [
       "<IPython.core.display.HTML object>"
      ],
      "text/html": [
       "<span style=\"color: green;font-weight:bold\"><br>The provider-cfe-hourly and provider-cfe-annual column values DO match in every row where both column values are populated</span>"
      ]
     },
     "metadata": {},
     "output_type": "display_data"
    }
   ],
   "execution_count": 146
  },
  {
   "metadata": {},
   "cell_type": "markdown",
   "source": "### Based on the above, we can combine the two provider-cfe columns to make a more comprehensive dataset:",
   "id": "9f8b88ab0115c9d5"
  },
  {
   "metadata": {
    "ExecuteTime": {
     "end_time": "2025-07-11T16:21:44.348081Z",
     "start_time": "2025-07-11T16:21:44.346100Z"
    }
   },
   "cell_type": "code",
   "source": "df['cfe-ratio'] = df['provider-cfe-hourly'].where(df['provider-cfe-hourly'].notnull(), df['provider-cfe-annual'])",
   "id": "932edb9b3f6b7149",
   "outputs": [],
   "execution_count": 147
  },
  {
   "metadata": {},
   "cell_type": "markdown",
   "source": "### Once combined, check the totals to ensure the values in the two columns were combined successfully",
   "id": "76c12246ea29a58"
  },
  {
   "metadata": {
    "ExecuteTime": {
     "end_time": "2025-07-11T16:21:44.397688Z",
     "start_time": "2025-07-11T16:21:44.389687Z"
    }
   },
   "cell_type": "code",
   "source": [
    "'''First make a copy of the original totals dataframe, but only keep the columns showing total rows and how many rows had no value in both cfe columns'''\n",
    "total_check_df = cfe_totals_df.copy()[['total_rows','both_empty']]\n",
    "'''Now create a dataframe of just the counts of the rows with empty values in the new combined cfe-ratio column'''\n",
    "na_df = df[df['cfe-ratio'].isna()][sort_by_columns].value_counts().to_frame().sort_values(by=sort_by_columns).rename(columns={'count':f\"cfe-empty\"})\n",
    "'''Merge this new column onto the existing one'''\n",
    "total_check_df = total_check_df.merge(na_df, how='left', on=sort_by_columns)\n",
    "\n",
    "'''Add uo the number of empty cells in the cfe-ratio column, by totalling the cfe-empty totals in our summary table and then write it to All,All'''\n",
    "total_check_df.loc[('All', 'All'), 'cfe-empty'] = total_check_df['cfe-empty'].sum()\n",
    "\n",
    "'''clean up number columns'''\n",
    "total_check_df = cast_float_to_int_and_set_nan_to_zero(total_check_df)\n",
    "\n",
    "'''Validate the two empty columns match - this way we know we havent missed a row when we combined the data from our two columns'''\n",
    "check_dataframe_columns_match(total_check_df, \"both_empty\", \"cfe-empty\")"
   ],
   "id": "5743ac7e9414bae1",
   "outputs": [
    {
     "data": {
      "text/plain": [
       "<IPython.core.display.HTML object>"
      ],
      "text/html": [
       "<span style=\"color: grey;font-style:italic\"><br>Checking that where we have rows with both entries filled in, those entries are the same value.....</span>"
      ]
     },
     "metadata": {},
     "output_type": "display_data"
    },
    {
     "data": {
      "text/plain": [
       "                               total_rows  both_empty  cfe-empty  matches\n",
       "cloud-provider      dataset                                              \n",
       "Amazon Web Services 2019-2023          94          62         62     True\n",
       "                    2024-2025          64          26         26     True\n",
       "Google Cloud        2019-2023         160           0          0     True\n",
       "                    2024-2025          78           0          0     True\n",
       "Microsoft Azure     2019-2023          56          32         32     True\n",
       "                    2024-2025          56          10         10     True\n",
       "All                 All               508         130        130     True"
      ],
      "text/html": [
       "<div>\n",
       "<style scoped>\n",
       "    .dataframe tbody tr th:only-of-type {\n",
       "        vertical-align: middle;\n",
       "    }\n",
       "\n",
       "    .dataframe tbody tr th {\n",
       "        vertical-align: top;\n",
       "    }\n",
       "\n",
       "    .dataframe thead th {\n",
       "        text-align: right;\n",
       "    }\n",
       "</style>\n",
       "<table border=\"1\" class=\"dataframe\">\n",
       "  <thead>\n",
       "    <tr style=\"text-align: right;\">\n",
       "      <th></th>\n",
       "      <th></th>\n",
       "      <th>total_rows</th>\n",
       "      <th>both_empty</th>\n",
       "      <th>cfe-empty</th>\n",
       "      <th>matches</th>\n",
       "    </tr>\n",
       "    <tr>\n",
       "      <th>cloud-provider</th>\n",
       "      <th>dataset</th>\n",
       "      <th></th>\n",
       "      <th></th>\n",
       "      <th></th>\n",
       "      <th></th>\n",
       "    </tr>\n",
       "  </thead>\n",
       "  <tbody>\n",
       "    <tr>\n",
       "      <th rowspan=\"2\" valign=\"top\">Amazon Web Services</th>\n",
       "      <th>2019-2023</th>\n",
       "      <td>94</td>\n",
       "      <td>62</td>\n",
       "      <td>62</td>\n",
       "      <td>True</td>\n",
       "    </tr>\n",
       "    <tr>\n",
       "      <th>2024-2025</th>\n",
       "      <td>64</td>\n",
       "      <td>26</td>\n",
       "      <td>26</td>\n",
       "      <td>True</td>\n",
       "    </tr>\n",
       "    <tr>\n",
       "      <th rowspan=\"2\" valign=\"top\">Google Cloud</th>\n",
       "      <th>2019-2023</th>\n",
       "      <td>160</td>\n",
       "      <td>0</td>\n",
       "      <td>0</td>\n",
       "      <td>True</td>\n",
       "    </tr>\n",
       "    <tr>\n",
       "      <th>2024-2025</th>\n",
       "      <td>78</td>\n",
       "      <td>0</td>\n",
       "      <td>0</td>\n",
       "      <td>True</td>\n",
       "    </tr>\n",
       "    <tr>\n",
       "      <th rowspan=\"2\" valign=\"top\">Microsoft Azure</th>\n",
       "      <th>2019-2023</th>\n",
       "      <td>56</td>\n",
       "      <td>32</td>\n",
       "      <td>32</td>\n",
       "      <td>True</td>\n",
       "    </tr>\n",
       "    <tr>\n",
       "      <th>2024-2025</th>\n",
       "      <td>56</td>\n",
       "      <td>10</td>\n",
       "      <td>10</td>\n",
       "      <td>True</td>\n",
       "    </tr>\n",
       "    <tr>\n",
       "      <th>All</th>\n",
       "      <th>All</th>\n",
       "      <td>508</td>\n",
       "      <td>130</td>\n",
       "      <td>130</td>\n",
       "      <td>True</td>\n",
       "    </tr>\n",
       "  </tbody>\n",
       "</table>\n",
       "</div>"
      ]
     },
     "metadata": {},
     "output_type": "display_data"
    },
    {
     "data": {
      "text/plain": [
       "<IPython.core.display.HTML object>"
      ],
      "text/html": [
       "<span style=\"color: green;font-weight:bold\"><br>The both_empty and cfe-empty column values DO match in every row where both column values are populated</span>"
      ]
     },
     "metadata": {},
     "output_type": "display_data"
    }
   ],
   "execution_count": 148
  },
  {
   "metadata": {},
   "cell_type": "markdown",
   "source": "### Now drop rows that have no cfe data from the dataset and confirm that there are no empty cells",
   "id": "3a3a3eea0907a8a3"
  },
  {
   "metadata": {
    "ExecuteTime": {
     "end_time": "2025-07-11T16:21:44.439401Z",
     "start_time": "2025-07-11T16:21:44.425740Z"
    }
   },
   "cell_type": "code",
   "source": [
    "df = df[df['cfe-ratio'].notna()]\n",
    "new_totals_df = compare_empty_values_across_two_columns(df, 'cfe-ratio', 'dataset', sort_by=sort_by_columns)[['total_rows','both_have_values']].rename(columns={'both_have_values':'has_value'})\n",
    "check_dataframe_columns_match(new_totals_df, \"total_rows\", \"has_value\")"
   ],
   "id": "6adb9ed7a65ec3c5",
   "outputs": [
    {
     "data": {
      "text/plain": [
       "<IPython.core.display.HTML object>"
      ],
      "text/html": [
       "<span style=\"color: grey;font-style:italic\"><br>Checking that where we have rows with both entries filled in, those entries are the same value.....</span>"
      ]
     },
     "metadata": {},
     "output_type": "display_data"
    },
    {
     "data": {
      "text/plain": [
       "                               total_rows  has_value  matches\n",
       "cloud-provider      dataset                                  \n",
       "Amazon Web Services 2019-2023          32         32     True\n",
       "                    2024-2025          38         38     True\n",
       "Google Cloud        2019-2023         160        160     True\n",
       "                    2024-2025          78         78     True\n",
       "Microsoft Azure     2019-2023          24         24     True\n",
       "                    2024-2025          46         46     True\n",
       "All                 All               378        378     True"
      ],
      "text/html": [
       "<div>\n",
       "<style scoped>\n",
       "    .dataframe tbody tr th:only-of-type {\n",
       "        vertical-align: middle;\n",
       "    }\n",
       "\n",
       "    .dataframe tbody tr th {\n",
       "        vertical-align: top;\n",
       "    }\n",
       "\n",
       "    .dataframe thead th {\n",
       "        text-align: right;\n",
       "    }\n",
       "</style>\n",
       "<table border=\"1\" class=\"dataframe\">\n",
       "  <thead>\n",
       "    <tr style=\"text-align: right;\">\n",
       "      <th></th>\n",
       "      <th></th>\n",
       "      <th>total_rows</th>\n",
       "      <th>has_value</th>\n",
       "      <th>matches</th>\n",
       "    </tr>\n",
       "    <tr>\n",
       "      <th>cloud-provider</th>\n",
       "      <th>dataset</th>\n",
       "      <th></th>\n",
       "      <th></th>\n",
       "      <th></th>\n",
       "    </tr>\n",
       "  </thead>\n",
       "  <tbody>\n",
       "    <tr>\n",
       "      <th rowspan=\"2\" valign=\"top\">Amazon Web Services</th>\n",
       "      <th>2019-2023</th>\n",
       "      <td>32</td>\n",
       "      <td>32</td>\n",
       "      <td>True</td>\n",
       "    </tr>\n",
       "    <tr>\n",
       "      <th>2024-2025</th>\n",
       "      <td>38</td>\n",
       "      <td>38</td>\n",
       "      <td>True</td>\n",
       "    </tr>\n",
       "    <tr>\n",
       "      <th rowspan=\"2\" valign=\"top\">Google Cloud</th>\n",
       "      <th>2019-2023</th>\n",
       "      <td>160</td>\n",
       "      <td>160</td>\n",
       "      <td>True</td>\n",
       "    </tr>\n",
       "    <tr>\n",
       "      <th>2024-2025</th>\n",
       "      <td>78</td>\n",
       "      <td>78</td>\n",
       "      <td>True</td>\n",
       "    </tr>\n",
       "    <tr>\n",
       "      <th rowspan=\"2\" valign=\"top\">Microsoft Azure</th>\n",
       "      <th>2019-2023</th>\n",
       "      <td>24</td>\n",
       "      <td>24</td>\n",
       "      <td>True</td>\n",
       "    </tr>\n",
       "    <tr>\n",
       "      <th>2024-2025</th>\n",
       "      <td>46</td>\n",
       "      <td>46</td>\n",
       "      <td>True</td>\n",
       "    </tr>\n",
       "    <tr>\n",
       "      <th>All</th>\n",
       "      <th>All</th>\n",
       "      <td>378</td>\n",
       "      <td>378</td>\n",
       "      <td>True</td>\n",
       "    </tr>\n",
       "  </tbody>\n",
       "</table>\n",
       "</div>"
      ]
     },
     "metadata": {},
     "output_type": "display_data"
    },
    {
     "data": {
      "text/plain": [
       "<IPython.core.display.HTML object>"
      ],
      "text/html": [
       "<span style=\"color: green;font-weight:bold\"><br>The total_rows and has_value column values DO match in every row where both column values are populated</span>"
      ]
     },
     "metadata": {},
     "output_type": "display_data"
    }
   ],
   "execution_count": 149
  },
  {
   "metadata": {},
   "cell_type": "markdown",
   "source": "### Now we have confirmed our combined CFE column has been collated successfully, we can drop the two source ones",
   "id": "3185853d42255423"
  },
  {
   "metadata": {
    "ExecuteTime": {
     "end_time": "2025-07-11T16:21:44.485248Z",
     "start_time": "2025-07-11T16:21:44.483022Z"
    }
   },
   "cell_type": "code",
   "source": [
    "for old_column in ['provider-cfe-hourly','provider-cfe-annual']:\n",
    "    if old_column in df.columns:\n",
    "        df.drop(columns=[old_column], inplace=True)"
   ],
   "id": "a416aa8028fcc679",
   "outputs": [],
   "execution_count": 150
  },
  {
   "metadata": {},
   "cell_type": "markdown",
   "source": "### Check all cloud-providers have data for all years in the dataset",
   "id": "160d8d0fba9963c5"
  },
  {
   "metadata": {
    "ExecuteTime": {
     "end_time": "2025-07-11T16:21:44.539707Z",
     "start_time": "2025-07-11T16:21:44.526851Z"
    }
   },
   "cell_type": "code",
   "source": [
    "def change_table_style_based_on_how_many_cells_are_true(row):\n",
    "    \"\"\"This function we will use to set the style of our dataframe based on how many True\n",
    "        cells are in a row.   The last column is ignored when calculating what the style\n",
    "        should be as i added this to show if the other columns matched - much like the\n",
    "        style colour, but more binary being just true/false, rather than the traffic light\n",
    "        colouring being applied here, using thresholds for each colour\"\"\"\n",
    "    return_style = ''\n",
    "    return_value = []\n",
    "    total_booL_columns = 0\n",
    "    total_booL_is_true = 0\n",
    "    for _ in row[:-1]:\n",
    "        if type(_) == bool:\n",
    "            total_booL_columns=total_booL_columns+1\n",
    "            if _:\n",
    "                total_booL_is_true=total_booL_is_true+1\n",
    "\n",
    "    pct_true = int((total_booL_is_true / total_booL_columns) * 100)\n",
    "    if pct_true == 100:\n",
    "        return_style = 'background-color: lightgreen; color: black'\n",
    "    if 100 > pct_true >= 66:\n",
    "        return_style = 'background-color: yellow; color: black'\n",
    "    if 66 > pct_true >= 33:\n",
    "        return_style = 'background-color: orange; color: black'\n",
    "    if 33 > pct_true >= 0:\n",
    "        return_style = 'background-color: red; color: black'\n",
    "    for _ in row:\n",
    "          return_value.append(return_style)\n",
    "    return return_value\n",
    "\n",
    "'''Create a list of the different cloud providers in the dataset'''\n",
    "cloud_providers_in_ds = df['cloud-provider'].unique().tolist()\n",
    "'''Create a list of the years included in the dataset'''\n",
    "years_in_ds = df['year'].unique().tolist()\n",
    "\n",
    "'''Loop through years and cloud providers to check if there is a valid combination of both in the dataset\n",
    "    If there isn't then it means we are missing data for some years for that cloud provider'''\n",
    "data_check = []\n",
    "'''loop through years'''\n",
    "for year in years_in_ds:\n",
    "    '''For each year we start with our result being true, indicating that year has entries\n",
    "       for all cloud providers'''\n",
    "    year_result = True\n",
    "    '''For each year we create a dictionary that includes that year as one of the kv pairs'''\n",
    "    year_status = {'year' : year}\n",
    "    '''loop through cloud providers'''\n",
    "    for cloud_provider in cloud_providers_in_ds:\n",
    "        '''If a cloud provider isnt found for that year we set the result to False so we\n",
    "           know that years dataset is incomplete'''\n",
    "        if len(df[(df['year'] == year) & (df['cloud-provider'] == cloud_provider)]) == 0:\n",
    "            '''if our row count when filtering for the current year and provider is zero,\n",
    "               then set the year_result to False (dataset for that year is incomplete) and\n",
    "               set a kv pair for the cloud provider in our year dictionary to False'''\n",
    "            year_status[cloud_provider] = False\n",
    "            year_result=False\n",
    "        else:\n",
    "            '''If we do find rows, we can leave the year_result alone, as it started True,\n",
    "               but we set a kv pair for the cloud provider in our year dictionary to True'''\n",
    "            year_status[cloud_provider] = True\n",
    "    '''Once we've looped through all cloud prpviders we set a kv pair for 'complete' to be\n",
    "       either True/False depending on year_result.  This will be a summary column in this\n",
    "       totals dataframe to show if the dataset for that year has all cloud-providers or\n",
    "       is incomplete'''\n",
    "    year_status['complete'] = year_result\n",
    "    '''Add the dictionary for the current year to our list.  Once the list is complete, we\n",
    "       can turn this list of dicts into a dataframe'''\n",
    "    data_check.append(year_status)\n",
    "\n",
    "'''Display a header for our summary table'''\n",
    "display(HTML('<span style=\"color: white;font-style:bold\"><br><h2>Cloud provider presence in dataset by year</h2></span>'))\n",
    "\n",
    "'''turn the list of dicts into a dataframe'''\n",
    "results_df = pd.DataFrame(data_check).sort_values(by=['year'])\n",
    "'''apply some styling to the dataframe so it is colour coded based on how many columns have the value of\n",
    "   True.  We use a custom function for this'''\n",
    "results_with_style_df = results_df.style.apply(change_table_style_based_on_how_many_cells_are_true, axis=1)\n",
    "'''Display our styled dataframe'''\n",
    "display(results_with_style_df)\n",
    "'''Display a legend for the dataframe'''\n",
    "display(HTML(f'<span style=\"color: white;font-style:italic\"><br>In the above table, the rows are colour-coded based on how many cloud providers have data that year;\\\n",
    " <br>- years with all 3 cloud providers are highlighted in green; \\\n",
    " <br>- years with only two are highlighted in yellow;\\\n",
    " <br>- years with only 1 are orange;\\\n",
    " <br>- years with none are red.</span>'))\n",
    "\n",
    "'''Get a list of the years that contain data for all cloud providers, then display it'''\n",
    "complete_years = results_df[results_df['complete'] == True]['year'].sort_values().tolist()\n",
    "display(HTML(f'<span style=\"color: white;font-style:italic\"><br>Complete years are : </span>'))\n",
    "display(complete_years)\n",
    "\n",
    "\n"
   ],
   "id": "ded28e58caee7c03",
   "outputs": [
    {
     "data": {
      "text/plain": [
       "<IPython.core.display.HTML object>"
      ],
      "text/html": [
       "<span style=\"color: white;font-style:bold\"><br><h2>Cloud provider presence in dataset by year</h2></span>"
      ]
     },
     "metadata": {},
     "output_type": "display_data"
    },
    {
     "data": {
      "text/plain": [
       "<pandas.io.formats.style.Styler at 0x310708ce0>"
      ],
      "text/html": [
       "<style type=\"text/css\">\n",
       "#T_0d158_row0_col0, #T_0d158_row0_col1, #T_0d158_row0_col2, #T_0d158_row0_col3, #T_0d158_row0_col4, #T_0d158_row1_col0, #T_0d158_row1_col1, #T_0d158_row1_col2, #T_0d158_row1_col3, #T_0d158_row1_col4 {\n",
       "  background-color: orange;\n",
       "  color: black;\n",
       "}\n",
       "#T_0d158_row2_col0, #T_0d158_row2_col1, #T_0d158_row2_col2, #T_0d158_row2_col3, #T_0d158_row2_col4, #T_0d158_row4_col0, #T_0d158_row4_col1, #T_0d158_row4_col2, #T_0d158_row4_col3, #T_0d158_row4_col4 {\n",
       "  background-color: yellow;\n",
       "  color: black;\n",
       "}\n",
       "#T_0d158_row3_col0, #T_0d158_row3_col1, #T_0d158_row3_col2, #T_0d158_row3_col3, #T_0d158_row3_col4, #T_0d158_row5_col0, #T_0d158_row5_col1, #T_0d158_row5_col2, #T_0d158_row5_col3, #T_0d158_row5_col4, #T_0d158_row6_col0, #T_0d158_row6_col1, #T_0d158_row6_col2, #T_0d158_row6_col3, #T_0d158_row6_col4 {\n",
       "  background-color: lightgreen;\n",
       "  color: black;\n",
       "}\n",
       "</style>\n",
       "<table id=\"T_0d158\">\n",
       "  <thead>\n",
       "    <tr>\n",
       "      <th class=\"blank level0\" >&nbsp;</th>\n",
       "      <th id=\"T_0d158_level0_col0\" class=\"col_heading level0 col0\" >year</th>\n",
       "      <th id=\"T_0d158_level0_col1\" class=\"col_heading level0 col1\" >Google Cloud</th>\n",
       "      <th id=\"T_0d158_level0_col2\" class=\"col_heading level0 col2\" >Microsoft Azure</th>\n",
       "      <th id=\"T_0d158_level0_col3\" class=\"col_heading level0 col3\" >Amazon Web Services</th>\n",
       "      <th id=\"T_0d158_level0_col4\" class=\"col_heading level0 col4\" >complete</th>\n",
       "    </tr>\n",
       "  </thead>\n",
       "  <tbody>\n",
       "    <tr>\n",
       "      <th id=\"T_0d158_level0_row0\" class=\"row_heading level0 row0\" >4</th>\n",
       "      <td id=\"T_0d158_row0_col0\" class=\"data row0 col0\" >2019</td>\n",
       "      <td id=\"T_0d158_row0_col1\" class=\"data row0 col1\" >True</td>\n",
       "      <td id=\"T_0d158_row0_col2\" class=\"data row0 col2\" >False</td>\n",
       "      <td id=\"T_0d158_row0_col3\" class=\"data row0 col3\" >False</td>\n",
       "      <td id=\"T_0d158_row0_col4\" class=\"data row0 col4\" >False</td>\n",
       "    </tr>\n",
       "    <tr>\n",
       "      <th id=\"T_0d158_level0_row1\" class=\"row_heading level0 row1\" >3</th>\n",
       "      <td id=\"T_0d158_row1_col0\" class=\"data row1 col0\" >2020</td>\n",
       "      <td id=\"T_0d158_row1_col1\" class=\"data row1 col1\" >True</td>\n",
       "      <td id=\"T_0d158_row1_col2\" class=\"data row1 col2\" >False</td>\n",
       "      <td id=\"T_0d158_row1_col3\" class=\"data row1 col3\" >False</td>\n",
       "      <td id=\"T_0d158_row1_col4\" class=\"data row1 col4\" >False</td>\n",
       "    </tr>\n",
       "    <tr>\n",
       "      <th id=\"T_0d158_level0_row2\" class=\"row_heading level0 row2\" >2</th>\n",
       "      <td id=\"T_0d158_row2_col0\" class=\"data row2 col0\" >2021</td>\n",
       "      <td id=\"T_0d158_row2_col1\" class=\"data row2 col1\" >True</td>\n",
       "      <td id=\"T_0d158_row2_col2\" class=\"data row2 col2\" >False</td>\n",
       "      <td id=\"T_0d158_row2_col3\" class=\"data row2 col3\" >True</td>\n",
       "      <td id=\"T_0d158_row2_col4\" class=\"data row2 col4\" >False</td>\n",
       "    </tr>\n",
       "    <tr>\n",
       "      <th id=\"T_0d158_level0_row3\" class=\"row_heading level0 row3\" >1</th>\n",
       "      <td id=\"T_0d158_row3_col0\" class=\"data row3 col0\" >2022</td>\n",
       "      <td id=\"T_0d158_row3_col1\" class=\"data row3 col1\" >True</td>\n",
       "      <td id=\"T_0d158_row3_col2\" class=\"data row3 col2\" >True</td>\n",
       "      <td id=\"T_0d158_row3_col3\" class=\"data row3 col3\" >True</td>\n",
       "      <td id=\"T_0d158_row3_col4\" class=\"data row3 col4\" >True</td>\n",
       "    </tr>\n",
       "    <tr>\n",
       "      <th id=\"T_0d158_level0_row4\" class=\"row_heading level0 row4\" >0</th>\n",
       "      <td id=\"T_0d158_row4_col0\" class=\"data row4 col0\" >2023</td>\n",
       "      <td id=\"T_0d158_row4_col1\" class=\"data row4 col1\" >True</td>\n",
       "      <td id=\"T_0d158_row4_col2\" class=\"data row4 col2\" >True</td>\n",
       "      <td id=\"T_0d158_row4_col3\" class=\"data row4 col3\" >False</td>\n",
       "      <td id=\"T_0d158_row4_col4\" class=\"data row4 col4\" >False</td>\n",
       "    </tr>\n",
       "    <tr>\n",
       "      <th id=\"T_0d158_level0_row5\" class=\"row_heading level0 row5\" >6</th>\n",
       "      <td id=\"T_0d158_row5_col0\" class=\"data row5 col0\" >2024</td>\n",
       "      <td id=\"T_0d158_row5_col1\" class=\"data row5 col1\" >True</td>\n",
       "      <td id=\"T_0d158_row5_col2\" class=\"data row5 col2\" >True</td>\n",
       "      <td id=\"T_0d158_row5_col3\" class=\"data row5 col3\" >True</td>\n",
       "      <td id=\"T_0d158_row5_col4\" class=\"data row5 col4\" >True</td>\n",
       "    </tr>\n",
       "    <tr>\n",
       "      <th id=\"T_0d158_level0_row6\" class=\"row_heading level0 row6\" >5</th>\n",
       "      <td id=\"T_0d158_row6_col0\" class=\"data row6 col0\" >2025</td>\n",
       "      <td id=\"T_0d158_row6_col1\" class=\"data row6 col1\" >True</td>\n",
       "      <td id=\"T_0d158_row6_col2\" class=\"data row6 col2\" >True</td>\n",
       "      <td id=\"T_0d158_row6_col3\" class=\"data row6 col3\" >True</td>\n",
       "      <td id=\"T_0d158_row6_col4\" class=\"data row6 col4\" >True</td>\n",
       "    </tr>\n",
       "  </tbody>\n",
       "</table>\n"
      ]
     },
     "metadata": {},
     "output_type": "display_data"
    },
    {
     "data": {
      "text/plain": [
       "<IPython.core.display.HTML object>"
      ],
      "text/html": [
       "<span style=\"color: white;font-style:italic\"><br>In the above table, the rows are colour-coded based on how many cloud providers have data that year; <br>- years with all 3 cloud providers are highlighted in green;  <br>- years with only two are highlighted in yellow; <br>- years with only 1 are orange; <br>- years with none are red.</span>"
      ]
     },
     "metadata": {},
     "output_type": "display_data"
    },
    {
     "data": {
      "text/plain": [
       "<IPython.core.display.HTML object>"
      ],
      "text/html": [
       "<span style=\"color: white;font-style:italic\"><br>Complete years are : </span>"
      ]
     },
     "metadata": {},
     "output_type": "display_data"
    },
    {
     "data": {
      "text/plain": [
       "[2022, 2024, 2025]"
      ]
     },
     "metadata": {},
     "output_type": "display_data"
    }
   ],
   "execution_count": 151
  },
  {
   "metadata": {},
   "cell_type": "markdown",
   "source": [
    "### Filter for only the complete years\n",
    "\n",
    "It will be interesting to see what difference keeping the partial year dataset will make, so lets take forward two versions of this: one with all the years, and one with only the years with data from all cloud-providers"
   ],
   "id": "f8bcdc61956ea0e6"
  },
  {
   "metadata": {
    "ExecuteTime": {
     "end_time": "2025-07-11T16:21:44.569677Z",
     "start_time": "2025-07-11T16:21:44.566571Z"
    }
   },
   "cell_type": "code",
   "source": [
    "'''Create a dataframe to represent the dataset with all years present, even those that don't contain\n",
    "   data for all cloud providers'''\n",
    "all_year_df = df.copy()\n",
    "partial_year_df = df[df['year'].isin(complete_years)]\n",
    "\n",
    "'''Validate that our partial dataframe only has the complete years in'''\n",
    "validation_check = partial_year_df['year'].sort_values().unique().tolist() == complete_years\n",
    "text_colour = 'green' if validation_check else 'red'\n",
    "display(HTML(f'<span style=\"color: {text_colour};font-style:italic\"><br>It is {validation_check} that the years in the partial table are the ones we expect </span>'))"
   ],
   "id": "55ebdaa23d74eb2",
   "outputs": [
    {
     "data": {
      "text/plain": [
       "<IPython.core.display.HTML object>"
      ],
      "text/html": [
       "<span style=\"color: green;font-style:italic\"><br>It is True that the years in the partial table are the ones we expect </span>"
      ]
     },
     "metadata": {},
     "output_type": "display_data"
    }
   ],
   "execution_count": 152
  },
  {
   "metadata": {},
   "cell_type": "markdown",
   "source": "## Filter for valid PUE Effectiveness on both datasets and compare",
   "id": "f4d379add1f9950d"
  },
  {
   "metadata": {
    "ExecuteTime": {
     "end_time": "2025-07-11T16:21:44.613689Z",
     "start_time": "2025-07-11T16:21:44.596184Z"
    }
   },
   "cell_type": "code",
   "source": [
    "def change_table_style_based_on_pct_in_cell(row):\n",
    "    \"\"\"Custom style our dataframe so that the percentage decrease shown in the last column\n",
    "       dictates the colour of the row.  100% is red (all rows gone), 0% is green (all rows remain)\n",
    "       with orange, yellow and yellowgreen used for the steps inbetween\"\"\"\n",
    "    colour = ''\n",
    "    return_value = []\n",
    "    '''Check the value of the final cell in the row and assign style based on that'''\n",
    "    if row.iloc[-1] == 100: colour = 'red'\n",
    "    if 100 > row.iloc[-1] >= 75: colour = 'orange'\n",
    "    if 75 > row.iloc[-1] >= 50: colour = 'yellow'\n",
    "    if 50 > row.iloc[-1] >= 1: colour = 'yellowgreen'\n",
    "    if row.iloc[-1] == 0: colour = 'green'\n",
    "    for _ in row:\n",
    "          return_value.append(f'background-color: {colour}; color: black')\n",
    "    return return_value\n",
    "\n",
    "def show_row_count_change_when_dropping_empty_values_cells_from_specified_column(input_df,target_column,sort_columns):\n",
    "    row_counts_df = input_df[sort_columns].value_counts().to_frame().rename(columns={'count':'before'})\n",
    "    row_counts_post_drop_df = input_df.dropna(subset=[target_column])[sort_columns].value_counts().to_frame().rename(columns={'count':'after'})\n",
    "    output_df = pd.merge(row_counts_df,row_counts_post_drop_df,how='left', on=sort_columns).fillna(0)\n",
    "    output_df['% decrease'] = (100-((output_df['after'] / output_df['before']) * 100))\n",
    "    output_df[['before','after']] = output_df[['before','after']].astype(int)\n",
    "    return output_df.style.apply(change_table_style_based_on_pct_in_cell, axis=1).format(\"{:.1f}\")\n",
    "\n",
    "'''Lets ensure the PUE rows we have are all valid'''\n",
    "display(HTML('<span style=\"color: white;font-style:bold\"><br><h1>Number of rows, by year & provider : before and after cleansing rows with empty PUE values, with % decrease in rows</h1></span>'))\n",
    "display(HTML('<span style=\"color: white;font-style:bold\"><br><h2>All years (including years with partial provider data)</h2></span>'))\n",
    "display(\n",
    "    show_row_count_change_when_dropping_empty_values_cells_from_specified_column(\n",
    "        all_year_df,\n",
    "        \"power-usage-effectiveness\",\n",
    "        ['cloud-provider','year'] ))\n",
    "\n",
    "\n",
    "display(HTML('<span style=\"color: white;font-style:bold\"><br><h2>Subset of years (including only those with data from all providers)</h2></span>'))\n",
    "display(\n",
    "    show_row_count_change_when_dropping_empty_values_cells_from_specified_column(\n",
    "        partial_year_df,\n",
    "        \"power-usage-effectiveness\",\n",
    "        ['cloud-provider','year'] ))\n",
    "\n",
    "display(HTML('<span style=\"color: white;font-style:italic\"><br>In the above tables, the rows are colour-coded based on the percentage reduction in record counts after removing rows where PUE effectiveness is null;\\\n",
    " <br>- 0% reduction is green: we have lost no rows \\\n",
    " <br>- 1-49% reduction is yellow-green\\\n",
    " <br>- 50-74% is yellow\\\n",
    " <br>- 75-99% is orange\\\n",
    " <br>- 100% is red : all record had no PUE value so have been removed</span>'))"
   ],
   "id": "642b50db62f1739d",
   "outputs": [
    {
     "data": {
      "text/plain": [
       "<IPython.core.display.HTML object>"
      ],
      "text/html": [
       "<span style=\"color: white;font-style:bold\"><br><h1>Number of rows, by year & provider : before and after cleansing rows with empty PUE values, with % decrease in rows</h1></span>"
      ]
     },
     "metadata": {},
     "output_type": "display_data"
    },
    {
     "data": {
      "text/plain": [
       "<IPython.core.display.HTML object>"
      ],
      "text/html": [
       "<span style=\"color: white;font-style:bold\"><br><h2>All years (including years with partial provider data)</h2></span>"
      ]
     },
     "metadata": {},
     "output_type": "display_data"
    },
    {
     "data": {
      "text/plain": [
       "<pandas.io.formats.style.Styler at 0x11c635610>"
      ],
      "text/html": [
       "<style type=\"text/css\">\n",
       "#T_9b4bc_row0_col0, #T_9b4bc_row0_col1, #T_9b4bc_row0_col2, #T_9b4bc_row1_col0, #T_9b4bc_row1_col1, #T_9b4bc_row1_col2, #T_9b4bc_row2_col0, #T_9b4bc_row2_col1, #T_9b4bc_row2_col2, #T_9b4bc_row3_col0, #T_9b4bc_row3_col1, #T_9b4bc_row3_col2 {\n",
       "  background-color: yellow;\n",
       "  color: black;\n",
       "}\n",
       "#T_9b4bc_row4_col0, #T_9b4bc_row4_col1, #T_9b4bc_row4_col2, #T_9b4bc_row5_col0, #T_9b4bc_row5_col1, #T_9b4bc_row5_col2, #T_9b4bc_row6_col0, #T_9b4bc_row6_col1, #T_9b4bc_row6_col2, #T_9b4bc_row13_col0, #T_9b4bc_row13_col1, #T_9b4bc_row13_col2 {\n",
       "  background-color: red;\n",
       "  color: black;\n",
       "}\n",
       "#T_9b4bc_row7_col0, #T_9b4bc_row7_col1, #T_9b4bc_row7_col2, #T_9b4bc_row8_col0, #T_9b4bc_row8_col1, #T_9b4bc_row8_col2, #T_9b4bc_row9_col0, #T_9b4bc_row9_col1, #T_9b4bc_row9_col2, #T_9b4bc_row14_col0, #T_9b4bc_row14_col1, #T_9b4bc_row14_col2 {\n",
       "  background-color: green;\n",
       "  color: black;\n",
       "}\n",
       "#T_9b4bc_row10_col0, #T_9b4bc_row10_col1, #T_9b4bc_row10_col2, #T_9b4bc_row11_col0, #T_9b4bc_row11_col1, #T_9b4bc_row11_col2, #T_9b4bc_row12_col0, #T_9b4bc_row12_col1, #T_9b4bc_row12_col2 {\n",
       "  background-color: yellowgreen;\n",
       "  color: black;\n",
       "}\n",
       "</style>\n",
       "<table id=\"T_9b4bc\">\n",
       "  <thead>\n",
       "    <tr>\n",
       "      <th class=\"blank\" >&nbsp;</th>\n",
       "      <th class=\"blank level0\" >&nbsp;</th>\n",
       "      <th id=\"T_9b4bc_level0_col0\" class=\"col_heading level0 col0\" >before</th>\n",
       "      <th id=\"T_9b4bc_level0_col1\" class=\"col_heading level0 col1\" >after</th>\n",
       "      <th id=\"T_9b4bc_level0_col2\" class=\"col_heading level0 col2\" >% decrease</th>\n",
       "    </tr>\n",
       "    <tr>\n",
       "      <th class=\"index_name level0\" >cloud-provider</th>\n",
       "      <th class=\"index_name level1\" >year</th>\n",
       "      <th class=\"blank col0\" >&nbsp;</th>\n",
       "      <th class=\"blank col1\" >&nbsp;</th>\n",
       "      <th class=\"blank col2\" >&nbsp;</th>\n",
       "    </tr>\n",
       "  </thead>\n",
       "  <tbody>\n",
       "    <tr>\n",
       "      <th id=\"T_9b4bc_level0_row0\" class=\"row_heading level0 row0\" rowspan=\"7\">Google Cloud</th>\n",
       "      <th id=\"T_9b4bc_level1_row0\" class=\"row_heading level1 row0\" >2023</th>\n",
       "      <td id=\"T_9b4bc_row0_col0\" class=\"data row0 col0\" >39.0</td>\n",
       "      <td id=\"T_9b4bc_row0_col1\" class=\"data row0 col1\" >13.0</td>\n",
       "      <td id=\"T_9b4bc_row0_col2\" class=\"data row0 col2\" >66.7</td>\n",
       "    </tr>\n",
       "    <tr>\n",
       "      <th id=\"T_9b4bc_level1_row1\" class=\"row_heading level1 row1\" >2024</th>\n",
       "      <td id=\"T_9b4bc_row1_col0\" class=\"data row1 col0\" >39.0</td>\n",
       "      <td id=\"T_9b4bc_row1_col1\" class=\"data row1 col1\" >13.0</td>\n",
       "      <td id=\"T_9b4bc_row1_col2\" class=\"data row1 col2\" >66.7</td>\n",
       "    </tr>\n",
       "    <tr>\n",
       "      <th id=\"T_9b4bc_level1_row2\" class=\"row_heading level1 row2\" >2025</th>\n",
       "      <td id=\"T_9b4bc_row2_col0\" class=\"data row2 col0\" >39.0</td>\n",
       "      <td id=\"T_9b4bc_row2_col1\" class=\"data row2 col1\" >13.0</td>\n",
       "      <td id=\"T_9b4bc_row2_col2\" class=\"data row2 col2\" >66.7</td>\n",
       "    </tr>\n",
       "    <tr>\n",
       "      <th id=\"T_9b4bc_level1_row3\" class=\"row_heading level1 row3\" >2022</th>\n",
       "      <td id=\"T_9b4bc_row3_col0\" class=\"data row3 col0\" >36.0</td>\n",
       "      <td id=\"T_9b4bc_row3_col1\" class=\"data row3 col1\" >13.0</td>\n",
       "      <td id=\"T_9b4bc_row3_col2\" class=\"data row3 col2\" >63.9</td>\n",
       "    </tr>\n",
       "    <tr>\n",
       "      <th id=\"T_9b4bc_level1_row4\" class=\"row_heading level1 row4\" >2021</th>\n",
       "      <td id=\"T_9b4bc_row4_col0\" class=\"data row4 col0\" >34.0</td>\n",
       "      <td id=\"T_9b4bc_row4_col1\" class=\"data row4 col1\" >0.0</td>\n",
       "      <td id=\"T_9b4bc_row4_col2\" class=\"data row4 col2\" >100.0</td>\n",
       "    </tr>\n",
       "    <tr>\n",
       "      <th id=\"T_9b4bc_level1_row5\" class=\"row_heading level1 row5\" >2020</th>\n",
       "      <td id=\"T_9b4bc_row5_col0\" class=\"data row5 col0\" >27.0</td>\n",
       "      <td id=\"T_9b4bc_row5_col1\" class=\"data row5 col1\" >0.0</td>\n",
       "      <td id=\"T_9b4bc_row5_col2\" class=\"data row5 col2\" >100.0</td>\n",
       "    </tr>\n",
       "    <tr>\n",
       "      <th id=\"T_9b4bc_level1_row6\" class=\"row_heading level1 row6\" >2019</th>\n",
       "      <td id=\"T_9b4bc_row6_col0\" class=\"data row6 col0\" >24.0</td>\n",
       "      <td id=\"T_9b4bc_row6_col1\" class=\"data row6 col1\" >0.0</td>\n",
       "      <td id=\"T_9b4bc_row6_col2\" class=\"data row6 col2\" >100.0</td>\n",
       "    </tr>\n",
       "    <tr>\n",
       "      <th id=\"T_9b4bc_level0_row7\" class=\"row_heading level0 row7\" rowspan=\"3\">Microsoft Azure</th>\n",
       "      <th id=\"T_9b4bc_level1_row7\" class=\"row_heading level1 row7\" >2022</th>\n",
       "      <td id=\"T_9b4bc_row7_col0\" class=\"data row7 col0\" >23.0</td>\n",
       "      <td id=\"T_9b4bc_row7_col1\" class=\"data row7 col1\" >23.0</td>\n",
       "      <td id=\"T_9b4bc_row7_col2\" class=\"data row7 col2\" >0.0</td>\n",
       "    </tr>\n",
       "    <tr>\n",
       "      <th id=\"T_9b4bc_level1_row8\" class=\"row_heading level1 row8\" >2024</th>\n",
       "      <td id=\"T_9b4bc_row8_col0\" class=\"data row8 col0\" >23.0</td>\n",
       "      <td id=\"T_9b4bc_row8_col1\" class=\"data row8 col1\" >23.0</td>\n",
       "      <td id=\"T_9b4bc_row8_col2\" class=\"data row8 col2\" >0.0</td>\n",
       "    </tr>\n",
       "    <tr>\n",
       "      <th id=\"T_9b4bc_level1_row9\" class=\"row_heading level1 row9\" >2025</th>\n",
       "      <td id=\"T_9b4bc_row9_col0\" class=\"data row9 col0\" >23.0</td>\n",
       "      <td id=\"T_9b4bc_row9_col1\" class=\"data row9 col1\" >23.0</td>\n",
       "      <td id=\"T_9b4bc_row9_col2\" class=\"data row9 col2\" >0.0</td>\n",
       "    </tr>\n",
       "    <tr>\n",
       "      <th id=\"T_9b4bc_level0_row10\" class=\"row_heading level0 row10\" rowspan=\"4\">Amazon Web Services</th>\n",
       "      <th id=\"T_9b4bc_level1_row10\" class=\"row_heading level1 row10\" >2022</th>\n",
       "      <td id=\"T_9b4bc_row10_col0\" class=\"data row10 col0\" >19.0</td>\n",
       "      <td id=\"T_9b4bc_row10_col1\" class=\"data row10 col1\" >10.0</td>\n",
       "      <td id=\"T_9b4bc_row10_col2\" class=\"data row10 col2\" >47.4</td>\n",
       "    </tr>\n",
       "    <tr>\n",
       "      <th id=\"T_9b4bc_level1_row11\" class=\"row_heading level1 row11\" >2024</th>\n",
       "      <td id=\"T_9b4bc_row11_col0\" class=\"data row11 col0\" >19.0</td>\n",
       "      <td id=\"T_9b4bc_row11_col1\" class=\"data row11 col1\" >12.0</td>\n",
       "      <td id=\"T_9b4bc_row11_col2\" class=\"data row11 col2\" >36.8</td>\n",
       "    </tr>\n",
       "    <tr>\n",
       "      <th id=\"T_9b4bc_level1_row12\" class=\"row_heading level1 row12\" >2025</th>\n",
       "      <td id=\"T_9b4bc_row12_col0\" class=\"data row12 col0\" >19.0</td>\n",
       "      <td id=\"T_9b4bc_row12_col1\" class=\"data row12 col1\" >12.0</td>\n",
       "      <td id=\"T_9b4bc_row12_col2\" class=\"data row12 col2\" >36.8</td>\n",
       "    </tr>\n",
       "    <tr>\n",
       "      <th id=\"T_9b4bc_level1_row13\" class=\"row_heading level1 row13\" >2021</th>\n",
       "      <td id=\"T_9b4bc_row13_col0\" class=\"data row13 col0\" >13.0</td>\n",
       "      <td id=\"T_9b4bc_row13_col1\" class=\"data row13 col1\" >0.0</td>\n",
       "      <td id=\"T_9b4bc_row13_col2\" class=\"data row13 col2\" >100.0</td>\n",
       "    </tr>\n",
       "    <tr>\n",
       "      <th id=\"T_9b4bc_level0_row14\" class=\"row_heading level0 row14\" >Microsoft Azure</th>\n",
       "      <th id=\"T_9b4bc_level1_row14\" class=\"row_heading level1 row14\" >2023</th>\n",
       "      <td id=\"T_9b4bc_row14_col0\" class=\"data row14 col0\" >1.0</td>\n",
       "      <td id=\"T_9b4bc_row14_col1\" class=\"data row14 col1\" >1.0</td>\n",
       "      <td id=\"T_9b4bc_row14_col2\" class=\"data row14 col2\" >0.0</td>\n",
       "    </tr>\n",
       "  </tbody>\n",
       "</table>\n"
      ]
     },
     "metadata": {},
     "output_type": "display_data"
    },
    {
     "data": {
      "text/plain": [
       "<IPython.core.display.HTML object>"
      ],
      "text/html": [
       "<span style=\"color: white;font-style:bold\"><br><h2>Subset of years (including only those with data from all providers)</h2></span>"
      ]
     },
     "metadata": {},
     "output_type": "display_data"
    },
    {
     "data": {
      "text/plain": [
       "<pandas.io.formats.style.Styler at 0x310708a10>"
      ],
      "text/html": [
       "<style type=\"text/css\">\n",
       "#T_78a2f_row0_col0, #T_78a2f_row0_col1, #T_78a2f_row0_col2, #T_78a2f_row1_col0, #T_78a2f_row1_col1, #T_78a2f_row1_col2, #T_78a2f_row2_col0, #T_78a2f_row2_col1, #T_78a2f_row2_col2 {\n",
       "  background-color: yellow;\n",
       "  color: black;\n",
       "}\n",
       "#T_78a2f_row3_col0, #T_78a2f_row3_col1, #T_78a2f_row3_col2, #T_78a2f_row4_col0, #T_78a2f_row4_col1, #T_78a2f_row4_col2, #T_78a2f_row5_col0, #T_78a2f_row5_col1, #T_78a2f_row5_col2 {\n",
       "  background-color: green;\n",
       "  color: black;\n",
       "}\n",
       "#T_78a2f_row6_col0, #T_78a2f_row6_col1, #T_78a2f_row6_col2, #T_78a2f_row7_col0, #T_78a2f_row7_col1, #T_78a2f_row7_col2, #T_78a2f_row8_col0, #T_78a2f_row8_col1, #T_78a2f_row8_col2 {\n",
       "  background-color: yellowgreen;\n",
       "  color: black;\n",
       "}\n",
       "</style>\n",
       "<table id=\"T_78a2f\">\n",
       "  <thead>\n",
       "    <tr>\n",
       "      <th class=\"blank\" >&nbsp;</th>\n",
       "      <th class=\"blank level0\" >&nbsp;</th>\n",
       "      <th id=\"T_78a2f_level0_col0\" class=\"col_heading level0 col0\" >before</th>\n",
       "      <th id=\"T_78a2f_level0_col1\" class=\"col_heading level0 col1\" >after</th>\n",
       "      <th id=\"T_78a2f_level0_col2\" class=\"col_heading level0 col2\" >% decrease</th>\n",
       "    </tr>\n",
       "    <tr>\n",
       "      <th class=\"index_name level0\" >cloud-provider</th>\n",
       "      <th class=\"index_name level1\" >year</th>\n",
       "      <th class=\"blank col0\" >&nbsp;</th>\n",
       "      <th class=\"blank col1\" >&nbsp;</th>\n",
       "      <th class=\"blank col2\" >&nbsp;</th>\n",
       "    </tr>\n",
       "  </thead>\n",
       "  <tbody>\n",
       "    <tr>\n",
       "      <th id=\"T_78a2f_level0_row0\" class=\"row_heading level0 row0\" rowspan=\"3\">Google Cloud</th>\n",
       "      <th id=\"T_78a2f_level1_row0\" class=\"row_heading level1 row0\" >2024</th>\n",
       "      <td id=\"T_78a2f_row0_col0\" class=\"data row0 col0\" >39.0</td>\n",
       "      <td id=\"T_78a2f_row0_col1\" class=\"data row0 col1\" >13.0</td>\n",
       "      <td id=\"T_78a2f_row0_col2\" class=\"data row0 col2\" >66.7</td>\n",
       "    </tr>\n",
       "    <tr>\n",
       "      <th id=\"T_78a2f_level1_row1\" class=\"row_heading level1 row1\" >2025</th>\n",
       "      <td id=\"T_78a2f_row1_col0\" class=\"data row1 col0\" >39.0</td>\n",
       "      <td id=\"T_78a2f_row1_col1\" class=\"data row1 col1\" >13.0</td>\n",
       "      <td id=\"T_78a2f_row1_col2\" class=\"data row1 col2\" >66.7</td>\n",
       "    </tr>\n",
       "    <tr>\n",
       "      <th id=\"T_78a2f_level1_row2\" class=\"row_heading level1 row2\" >2022</th>\n",
       "      <td id=\"T_78a2f_row2_col0\" class=\"data row2 col0\" >36.0</td>\n",
       "      <td id=\"T_78a2f_row2_col1\" class=\"data row2 col1\" >13.0</td>\n",
       "      <td id=\"T_78a2f_row2_col2\" class=\"data row2 col2\" >63.9</td>\n",
       "    </tr>\n",
       "    <tr>\n",
       "      <th id=\"T_78a2f_level0_row3\" class=\"row_heading level0 row3\" rowspan=\"3\">Microsoft Azure</th>\n",
       "      <th id=\"T_78a2f_level1_row3\" class=\"row_heading level1 row3\" >2022</th>\n",
       "      <td id=\"T_78a2f_row3_col0\" class=\"data row3 col0\" >23.0</td>\n",
       "      <td id=\"T_78a2f_row3_col1\" class=\"data row3 col1\" >23.0</td>\n",
       "      <td id=\"T_78a2f_row3_col2\" class=\"data row3 col2\" >0.0</td>\n",
       "    </tr>\n",
       "    <tr>\n",
       "      <th id=\"T_78a2f_level1_row4\" class=\"row_heading level1 row4\" >2024</th>\n",
       "      <td id=\"T_78a2f_row4_col0\" class=\"data row4 col0\" >23.0</td>\n",
       "      <td id=\"T_78a2f_row4_col1\" class=\"data row4 col1\" >23.0</td>\n",
       "      <td id=\"T_78a2f_row4_col2\" class=\"data row4 col2\" >0.0</td>\n",
       "    </tr>\n",
       "    <tr>\n",
       "      <th id=\"T_78a2f_level1_row5\" class=\"row_heading level1 row5\" >2025</th>\n",
       "      <td id=\"T_78a2f_row5_col0\" class=\"data row5 col0\" >23.0</td>\n",
       "      <td id=\"T_78a2f_row5_col1\" class=\"data row5 col1\" >23.0</td>\n",
       "      <td id=\"T_78a2f_row5_col2\" class=\"data row5 col2\" >0.0</td>\n",
       "    </tr>\n",
       "    <tr>\n",
       "      <th id=\"T_78a2f_level0_row6\" class=\"row_heading level0 row6\" rowspan=\"3\">Amazon Web Services</th>\n",
       "      <th id=\"T_78a2f_level1_row6\" class=\"row_heading level1 row6\" >2022</th>\n",
       "      <td id=\"T_78a2f_row6_col0\" class=\"data row6 col0\" >19.0</td>\n",
       "      <td id=\"T_78a2f_row6_col1\" class=\"data row6 col1\" >10.0</td>\n",
       "      <td id=\"T_78a2f_row6_col2\" class=\"data row6 col2\" >47.4</td>\n",
       "    </tr>\n",
       "    <tr>\n",
       "      <th id=\"T_78a2f_level1_row7\" class=\"row_heading level1 row7\" >2024</th>\n",
       "      <td id=\"T_78a2f_row7_col0\" class=\"data row7 col0\" >19.0</td>\n",
       "      <td id=\"T_78a2f_row7_col1\" class=\"data row7 col1\" >12.0</td>\n",
       "      <td id=\"T_78a2f_row7_col2\" class=\"data row7 col2\" >36.8</td>\n",
       "    </tr>\n",
       "    <tr>\n",
       "      <th id=\"T_78a2f_level1_row8\" class=\"row_heading level1 row8\" >2025</th>\n",
       "      <td id=\"T_78a2f_row8_col0\" class=\"data row8 col0\" >19.0</td>\n",
       "      <td id=\"T_78a2f_row8_col1\" class=\"data row8 col1\" >12.0</td>\n",
       "      <td id=\"T_78a2f_row8_col2\" class=\"data row8 col2\" >36.8</td>\n",
       "    </tr>\n",
       "  </tbody>\n",
       "</table>\n"
      ]
     },
     "metadata": {},
     "output_type": "display_data"
    },
    {
     "data": {
      "text/plain": [
       "<IPython.core.display.HTML object>"
      ],
      "text/html": [
       "<span style=\"color: white;font-style:italic\"><br>In the above tables, the rows are colour-coded based on the percentage reduction in record counts after removing rows where PUE effectiveness is null; <br>- 0% reduction is green: we have lost no rows  <br>- 1-49% reduction is yellow-green <br>- 50-74% is yellow <br>- 75-99% is orange <br>- 100% is red : all record had no PUE value so have been removed</span>"
      ]
     },
     "metadata": {},
     "output_type": "display_data"
    }
   ],
   "execution_count": 153
  },
  {
   "metadata": {},
   "cell_type": "markdown",
   "source": [
    "# Data Analysis Phase\n",
    "## Checkiing for correlation"
   ],
   "id": "6f5d27ff8030faf0"
  },
  {
   "metadata": {
    "ExecuteTime": {
     "end_time": "2025-07-11T16:21:44.666673Z",
     "start_time": "2025-07-11T16:21:44.651189Z"
    }
   },
   "cell_type": "code",
   "source": [
    "import plotly.express as px\n",
    "\n",
    "def generate_correlation_heatmap(input_df, heatmap_title):\n",
    "    heatmap_data = input_df.select_dtypes(include='number').corr().fillna(0)\n",
    "    display(HTML(f'<span style=\"color: white;font-style:bold\"><br><h2>{heatmap_title}</h2></span>'))\n",
    "    display(\n",
    "        heatmap_data.style.background_gradient(cmap='coolwarm').format(precision=2))\n",
    "    return heatmap_data\n",
    "\n",
    "\n",
    "all_year_graph = generate_correlation_heatmap(all_year_df,\"Heatmap of dataset containing all years (including years with partial provider data)\")\n",
    "partial_year_graph = generate_correlation_heatmap(partial_year_df,\"Heatmap of dataset for subset of years (including only years with all providers)\")\n",
    "\n",
    "\n",
    "\n"
   ],
   "id": "dbb15024eab4864e",
   "outputs": [
    {
     "data": {
      "text/plain": [
       "<IPython.core.display.HTML object>"
      ],
      "text/html": [
       "<span style=\"color: white;font-style:bold\"><br><h2>Heatmap of dataset containing all years (including years with partial provider data)</h2></span>"
      ]
     },
     "metadata": {},
     "output_type": "display_data"
    },
    {
     "data": {
      "text/plain": [
       "<pandas.io.formats.style.Styler at 0x10a8cdb20>"
      ],
      "text/html": [
       "<style type=\"text/css\">\n",
       "#T_670b2_row0_col0, #T_670b2_row1_col1, #T_670b2_row2_col2, #T_670b2_row4_col4, #T_670b2_row5_col5, #T_670b2_row6_col6, #T_670b2_row6_col7, #T_670b2_row7_col6, #T_670b2_row7_col7, #T_670b2_row8_col8 {\n",
       "  background-color: #b40426;\n",
       "  color: #f1f1f1;\n",
       "}\n",
       "#T_670b2_row0_col1 {\n",
       "  background-color: #3e51c5;\n",
       "  color: #f1f1f1;\n",
       "}\n",
       "#T_670b2_row0_col2 {\n",
       "  background-color: #82a6fb;\n",
       "  color: #f1f1f1;\n",
       "}\n",
       "#T_670b2_row0_col3, #T_670b2_row1_col3, #T_670b2_row2_col3, #T_670b2_row2_col6, #T_670b2_row2_col7, #T_670b2_row3_col1, #T_670b2_row3_col3, #T_670b2_row4_col0, #T_670b2_row4_col3, #T_670b2_row4_col8, #T_670b2_row5_col3, #T_670b2_row6_col2, #T_670b2_row6_col3, #T_670b2_row7_col2, #T_670b2_row7_col3, #T_670b2_row8_col3, #T_670b2_row8_col4, #T_670b2_row8_col5 {\n",
       "  background-color: #3b4cc0;\n",
       "  color: #f1f1f1;\n",
       "}\n",
       "#T_670b2_row0_col4 {\n",
       "  background-color: #aec9fc;\n",
       "  color: #000000;\n",
       "}\n",
       "#T_670b2_row0_col5 {\n",
       "  background-color: #9abbff;\n",
       "  color: #000000;\n",
       "}\n",
       "#T_670b2_row0_col6, #T_670b2_row0_col7 {\n",
       "  background-color: #89acfd;\n",
       "  color: #000000;\n",
       "}\n",
       "#T_670b2_row0_col8 {\n",
       "  background-color: #e7d7ce;\n",
       "  color: #000000;\n",
       "}\n",
       "#T_670b2_row1_col0, #T_670b2_row6_col0, #T_670b2_row7_col0 {\n",
       "  background-color: #6282ea;\n",
       "  color: #f1f1f1;\n",
       "}\n",
       "#T_670b2_row1_col2 {\n",
       "  background-color: #ccd9ed;\n",
       "  color: #000000;\n",
       "}\n",
       "#T_670b2_row1_col4 {\n",
       "  background-color: #e0dbd8;\n",
       "  color: #000000;\n",
       "}\n",
       "#T_670b2_row1_col5 {\n",
       "  background-color: #e5d8d1;\n",
       "  color: #000000;\n",
       "}\n",
       "#T_670b2_row1_col6, #T_670b2_row1_col7 {\n",
       "  background-color: #d1dae9;\n",
       "  color: #000000;\n",
       "}\n",
       "#T_670b2_row1_col8 {\n",
       "  background-color: #cfdaea;\n",
       "  color: #000000;\n",
       "}\n",
       "#T_670b2_row2_col0 {\n",
       "  background-color: #5b7ae5;\n",
       "  color: #f1f1f1;\n",
       "}\n",
       "#T_670b2_row2_col1 {\n",
       "  background-color: #96b7ff;\n",
       "  color: #000000;\n",
       "}\n",
       "#T_670b2_row2_col4, #T_670b2_row3_col4, #T_670b2_row3_col8 {\n",
       "  background-color: #c6d6f1;\n",
       "  color: #000000;\n",
       "}\n",
       "#T_670b2_row2_col5, #T_670b2_row5_col6, #T_670b2_row5_col7 {\n",
       "  background-color: #dcdddd;\n",
       "  color: #000000;\n",
       "}\n",
       "#T_670b2_row2_col8 {\n",
       "  background-color: #a1c0ff;\n",
       "  color: #000000;\n",
       "}\n",
       "#T_670b2_row3_col0 {\n",
       "  background-color: #5e7de7;\n",
       "  color: #f1f1f1;\n",
       "}\n",
       "#T_670b2_row3_col2, #T_670b2_row3_col6, #T_670b2_row3_col7, #T_670b2_row4_col2 {\n",
       "  background-color: #85a8fc;\n",
       "  color: #f1f1f1;\n",
       "}\n",
       "#T_670b2_row3_col5 {\n",
       "  background-color: #b1cbfc;\n",
       "  color: #000000;\n",
       "}\n",
       "#T_670b2_row4_col1 {\n",
       "  background-color: #6f92f3;\n",
       "  color: #f1f1f1;\n",
       "}\n",
       "#T_670b2_row4_col5 {\n",
       "  background-color: #c53334;\n",
       "  color: #f1f1f1;\n",
       "}\n",
       "#T_670b2_row4_col6, #T_670b2_row4_col7 {\n",
       "  background-color: #f7b093;\n",
       "  color: #000000;\n",
       "}\n",
       "#T_670b2_row5_col0 {\n",
       "  background-color: #4257c9;\n",
       "  color: #f1f1f1;\n",
       "}\n",
       "#T_670b2_row5_col1 {\n",
       "  background-color: #97b8ff;\n",
       "  color: #000000;\n",
       "}\n",
       "#T_670b2_row5_col2 {\n",
       "  background-color: #c0d4f5;\n",
       "  color: #000000;\n",
       "}\n",
       "#T_670b2_row5_col4 {\n",
       "  background-color: #c43032;\n",
       "  color: #f1f1f1;\n",
       "}\n",
       "#T_670b2_row5_col8 {\n",
       "  background-color: #5977e3;\n",
       "  color: #f1f1f1;\n",
       "}\n",
       "#T_670b2_row6_col1, #T_670b2_row7_col1 {\n",
       "  background-color: #9dbdff;\n",
       "  color: #000000;\n",
       "}\n",
       "#T_670b2_row6_col4, #T_670b2_row7_col4 {\n",
       "  background-color: #f29274;\n",
       "  color: #f1f1f1;\n",
       "}\n",
       "#T_670b2_row6_col5, #T_670b2_row7_col5 {\n",
       "  background-color: #efcfbf;\n",
       "  color: #000000;\n",
       "}\n",
       "#T_670b2_row6_col8, #T_670b2_row7_col8 {\n",
       "  background-color: #adc9fd;\n",
       "  color: #000000;\n",
       "}\n",
       "#T_670b2_row8_col0 {\n",
       "  background-color: #9fbfff;\n",
       "  color: #000000;\n",
       "}\n",
       "#T_670b2_row8_col1 {\n",
       "  background-color: #4b64d5;\n",
       "  color: #f1f1f1;\n",
       "}\n",
       "#T_670b2_row8_col2 {\n",
       "  background-color: #516ddb;\n",
       "  color: #f1f1f1;\n",
       "}\n",
       "#T_670b2_row8_col6, #T_670b2_row8_col7 {\n",
       "  background-color: #6180e9;\n",
       "  color: #f1f1f1;\n",
       "}\n",
       "</style>\n",
       "<table id=\"T_670b2\">\n",
       "  <thead>\n",
       "    <tr>\n",
       "      <th class=\"blank level0\" >&nbsp;</th>\n",
       "      <th id=\"T_670b2_level0_col0\" class=\"col_heading level0 col0\" >year</th>\n",
       "      <th id=\"T_670b2_level0_col1\" class=\"col_heading level0 col1\" >power-usage-effectiveness</th>\n",
       "      <th id=\"T_670b2_level0_col2\" class=\"col_heading level0 col2\" >water-usage-effectiveness</th>\n",
       "      <th id=\"T_670b2_level0_col3\" class=\"col_heading level0 col3\" >provider-carbon-intensity-market-annual</th>\n",
       "      <th id=\"T_670b2_level0_col4\" class=\"col_heading level0 col4\" >provider-carbon-intensity-average-consumption-hourly</th>\n",
       "      <th id=\"T_670b2_level0_col5\" class=\"col_heading level0 col5\" >grid-carbon-intensity-average-consumption-annual</th>\n",
       "      <th id=\"T_670b2_level0_col6\" class=\"col_heading level0 col6\" >grid-carbon-intensity-marginal-consumption-annual</th>\n",
       "      <th id=\"T_670b2_level0_col7\" class=\"col_heading level0 col7\" >grid-carbon-intensity</th>\n",
       "      <th id=\"T_670b2_level0_col8\" class=\"col_heading level0 col8\" >cfe-ratio</th>\n",
       "    </tr>\n",
       "  </thead>\n",
       "  <tbody>\n",
       "    <tr>\n",
       "      <th id=\"T_670b2_level0_row0\" class=\"row_heading level0 row0\" >year</th>\n",
       "      <td id=\"T_670b2_row0_col0\" class=\"data row0 col0\" >1.00</td>\n",
       "      <td id=\"T_670b2_row0_col1\" class=\"data row0 col1\" >0.01</td>\n",
       "      <td id=\"T_670b2_row0_col2\" class=\"data row0 col2\" >-0.01</td>\n",
       "      <td id=\"T_670b2_row0_col3\" class=\"data row0 col3\" >0.00</td>\n",
       "      <td id=\"T_670b2_row0_col4\" class=\"data row0 col4\" >-0.13</td>\n",
       "      <td id=\"T_670b2_row0_col5\" class=\"data row0 col5\" >-0.10</td>\n",
       "      <td id=\"T_670b2_row0_col6\" class=\"data row0 col6\" >0.01</td>\n",
       "      <td id=\"T_670b2_row0_col7\" class=\"data row0 col7\" >0.01</td>\n",
       "      <td id=\"T_670b2_row0_col8\" class=\"data row0 col8\" >0.21</td>\n",
       "    </tr>\n",
       "    <tr>\n",
       "      <th id=\"T_670b2_level0_row1\" class=\"row_heading level0 row1\" >power-usage-effectiveness</th>\n",
       "      <td id=\"T_670b2_row1_col0\" class=\"data row1 col0\" >0.01</td>\n",
       "      <td id=\"T_670b2_row1_col1\" class=\"data row1 col1\" >1.00</td>\n",
       "      <td id=\"T_670b2_row1_col2\" class=\"data row1 col2\" >0.28</td>\n",
       "      <td id=\"T_670b2_row1_col3\" class=\"data row1 col3\" >0.00</td>\n",
       "      <td id=\"T_670b2_row1_col4\" class=\"data row1 col4\" >0.17</td>\n",
       "      <td id=\"T_670b2_row1_col5\" class=\"data row1 col5\" >0.28</td>\n",
       "      <td id=\"T_670b2_row1_col6\" class=\"data row1 col6\" >0.30</td>\n",
       "      <td id=\"T_670b2_row1_col7\" class=\"data row1 col7\" >0.30</td>\n",
       "      <td id=\"T_670b2_row1_col8\" class=\"data row1 col8\" >0.06</td>\n",
       "    </tr>\n",
       "    <tr>\n",
       "      <th id=\"T_670b2_level0_row2\" class=\"row_heading level0 row2\" >water-usage-effectiveness</th>\n",
       "      <td id=\"T_670b2_row2_col0\" class=\"data row2 col0\" >-0.01</td>\n",
       "      <td id=\"T_670b2_row2_col1\" class=\"data row2 col1\" >0.28</td>\n",
       "      <td id=\"T_670b2_row2_col2\" class=\"data row2 col2\" >1.00</td>\n",
       "      <td id=\"T_670b2_row2_col3\" class=\"data row2 col3\" >0.00</td>\n",
       "      <td id=\"T_670b2_row2_col4\" class=\"data row2 col4\" >0.00</td>\n",
       "      <td id=\"T_670b2_row2_col5\" class=\"data row2 col5\" >0.22</td>\n",
       "      <td id=\"T_670b2_row2_col6\" class=\"data row2 col6\" >-0.29</td>\n",
       "      <td id=\"T_670b2_row2_col7\" class=\"data row2 col7\" >-0.29</td>\n",
       "      <td id=\"T_670b2_row2_col8\" class=\"data row2 col8\" >-0.19</td>\n",
       "    </tr>\n",
       "    <tr>\n",
       "      <th id=\"T_670b2_level0_row3\" class=\"row_heading level0 row3\" >provider-carbon-intensity-market-annual</th>\n",
       "      <td id=\"T_670b2_row3_col0\" class=\"data row3 col0\" >0.00</td>\n",
       "      <td id=\"T_670b2_row3_col1\" class=\"data row3 col1\" >0.00</td>\n",
       "      <td id=\"T_670b2_row3_col2\" class=\"data row3 col2\" >0.00</td>\n",
       "      <td id=\"T_670b2_row3_col3\" class=\"data row3 col3\" >0.00</td>\n",
       "      <td id=\"T_670b2_row3_col4\" class=\"data row3 col4\" >0.00</td>\n",
       "      <td id=\"T_670b2_row3_col5\" class=\"data row3 col5\" >0.00</td>\n",
       "      <td id=\"T_670b2_row3_col6\" class=\"data row3 col6\" >0.00</td>\n",
       "      <td id=\"T_670b2_row3_col7\" class=\"data row3 col7\" >0.00</td>\n",
       "      <td id=\"T_670b2_row3_col8\" class=\"data row3 col8\" >0.00</td>\n",
       "    </tr>\n",
       "    <tr>\n",
       "      <th id=\"T_670b2_level0_row4\" class=\"row_heading level0 row4\" >provider-carbon-intensity-average-consumption-hourly</th>\n",
       "      <td id=\"T_670b2_row4_col0\" class=\"data row4 col0\" >-0.13</td>\n",
       "      <td id=\"T_670b2_row4_col1\" class=\"data row4 col1\" >0.17</td>\n",
       "      <td id=\"T_670b2_row4_col2\" class=\"data row4 col2\" >0.00</td>\n",
       "      <td id=\"T_670b2_row4_col3\" class=\"data row4 col3\" >0.00</td>\n",
       "      <td id=\"T_670b2_row4_col4\" class=\"data row4 col4\" >1.00</td>\n",
       "      <td id=\"T_670b2_row4_col5\" class=\"data row4 col5\" >0.93</td>\n",
       "      <td id=\"T_670b2_row4_col6\" class=\"data row4 col6\" >0.60</td>\n",
       "      <td id=\"T_670b2_row4_col7\" class=\"data row4 col7\" >0.60</td>\n",
       "      <td id=\"T_670b2_row4_col8\" class=\"data row4 col8\" >-0.72</td>\n",
       "    </tr>\n",
       "    <tr>\n",
       "      <th id=\"T_670b2_level0_row5\" class=\"row_heading level0 row5\" >grid-carbon-intensity-average-consumption-annual</th>\n",
       "      <td id=\"T_670b2_row5_col0\" class=\"data row5 col0\" >-0.10</td>\n",
       "      <td id=\"T_670b2_row5_col1\" class=\"data row5 col1\" >0.28</td>\n",
       "      <td id=\"T_670b2_row5_col2\" class=\"data row5 col2\" >0.22</td>\n",
       "      <td id=\"T_670b2_row5_col3\" class=\"data row5 col3\" >0.00</td>\n",
       "      <td id=\"T_670b2_row5_col4\" class=\"data row5 col4\" >0.93</td>\n",
       "      <td id=\"T_670b2_row5_col5\" class=\"data row5 col5\" >1.00</td>\n",
       "      <td id=\"T_670b2_row5_col6\" class=\"data row5 col6\" >0.35</td>\n",
       "      <td id=\"T_670b2_row5_col7\" class=\"data row5 col7\" >0.35</td>\n",
       "      <td id=\"T_670b2_row5_col8\" class=\"data row5 col8\" >-0.55</td>\n",
       "    </tr>\n",
       "    <tr>\n",
       "      <th id=\"T_670b2_level0_row6\" class=\"row_heading level0 row6\" >grid-carbon-intensity-marginal-consumption-annual</th>\n",
       "      <td id=\"T_670b2_row6_col0\" class=\"data row6 col0\" >0.01</td>\n",
       "      <td id=\"T_670b2_row6_col1\" class=\"data row6 col1\" >0.30</td>\n",
       "      <td id=\"T_670b2_row6_col2\" class=\"data row6 col2\" >-0.29</td>\n",
       "      <td id=\"T_670b2_row6_col3\" class=\"data row6 col3\" >0.00</td>\n",
       "      <td id=\"T_670b2_row6_col4\" class=\"data row6 col4\" >0.60</td>\n",
       "      <td id=\"T_670b2_row6_col5\" class=\"data row6 col5\" >0.35</td>\n",
       "      <td id=\"T_670b2_row6_col6\" class=\"data row6 col6\" >1.00</td>\n",
       "      <td id=\"T_670b2_row6_col7\" class=\"data row6 col7\" >1.00</td>\n",
       "      <td id=\"T_670b2_row6_col8\" class=\"data row6 col8\" >-0.14</td>\n",
       "    </tr>\n",
       "    <tr>\n",
       "      <th id=\"T_670b2_level0_row7\" class=\"row_heading level0 row7\" >grid-carbon-intensity</th>\n",
       "      <td id=\"T_670b2_row7_col0\" class=\"data row7 col0\" >0.01</td>\n",
       "      <td id=\"T_670b2_row7_col1\" class=\"data row7 col1\" >0.30</td>\n",
       "      <td id=\"T_670b2_row7_col2\" class=\"data row7 col2\" >-0.29</td>\n",
       "      <td id=\"T_670b2_row7_col3\" class=\"data row7 col3\" >0.00</td>\n",
       "      <td id=\"T_670b2_row7_col4\" class=\"data row7 col4\" >0.60</td>\n",
       "      <td id=\"T_670b2_row7_col5\" class=\"data row7 col5\" >0.35</td>\n",
       "      <td id=\"T_670b2_row7_col6\" class=\"data row7 col6\" >1.00</td>\n",
       "      <td id=\"T_670b2_row7_col7\" class=\"data row7 col7\" >1.00</td>\n",
       "      <td id=\"T_670b2_row7_col8\" class=\"data row7 col8\" >-0.14</td>\n",
       "    </tr>\n",
       "    <tr>\n",
       "      <th id=\"T_670b2_level0_row8\" class=\"row_heading level0 row8\" >cfe-ratio</th>\n",
       "      <td id=\"T_670b2_row8_col0\" class=\"data row8 col0\" >0.21</td>\n",
       "      <td id=\"T_670b2_row8_col1\" class=\"data row8 col1\" >0.06</td>\n",
       "      <td id=\"T_670b2_row8_col2\" class=\"data row8 col2\" >-0.19</td>\n",
       "      <td id=\"T_670b2_row8_col3\" class=\"data row8 col3\" >0.00</td>\n",
       "      <td id=\"T_670b2_row8_col4\" class=\"data row8 col4\" >-0.72</td>\n",
       "      <td id=\"T_670b2_row8_col5\" class=\"data row8 col5\" >-0.55</td>\n",
       "      <td id=\"T_670b2_row8_col6\" class=\"data row8 col6\" >-0.14</td>\n",
       "      <td id=\"T_670b2_row8_col7\" class=\"data row8 col7\" >-0.14</td>\n",
       "      <td id=\"T_670b2_row8_col8\" class=\"data row8 col8\" >1.00</td>\n",
       "    </tr>\n",
       "  </tbody>\n",
       "</table>\n"
      ]
     },
     "metadata": {},
     "output_type": "display_data"
    },
    {
     "data": {
      "text/plain": [
       "<IPython.core.display.HTML object>"
      ],
      "text/html": [
       "<span style=\"color: white;font-style:bold\"><br><h2>Heatmap of dataset for subset of years (including only years with all providers)</h2></span>"
      ]
     },
     "metadata": {},
     "output_type": "display_data"
    },
    {
     "data": {
      "text/plain": [
       "<pandas.io.formats.style.Styler at 0x10a8ceae0>"
      ],
      "text/html": [
       "<style type=\"text/css\">\n",
       "#T_bd064_row0_col0, #T_bd064_row1_col1, #T_bd064_row2_col2, #T_bd064_row4_col4, #T_bd064_row5_col5, #T_bd064_row6_col6, #T_bd064_row6_col7, #T_bd064_row7_col6, #T_bd064_row7_col7, #T_bd064_row8_col8 {\n",
       "  background-color: #b40426;\n",
       "  color: #f1f1f1;\n",
       "}\n",
       "#T_bd064_row0_col1, #T_bd064_row0_col3, #T_bd064_row1_col3, #T_bd064_row2_col3, #T_bd064_row2_col6, #T_bd064_row2_col7, #T_bd064_row3_col3, #T_bd064_row4_col0, #T_bd064_row4_col3, #T_bd064_row4_col8, #T_bd064_row5_col3, #T_bd064_row6_col2, #T_bd064_row6_col3, #T_bd064_row7_col2, #T_bd064_row7_col3, #T_bd064_row8_col3, #T_bd064_row8_col4, #T_bd064_row8_col5 {\n",
       "  background-color: #3b4cc0;\n",
       "  color: #f1f1f1;\n",
       "}\n",
       "#T_bd064_row0_col2 {\n",
       "  background-color: #82a6fb;\n",
       "  color: #f1f1f1;\n",
       "}\n",
       "#T_bd064_row0_col4 {\n",
       "  background-color: #c5d6f2;\n",
       "  color: #000000;\n",
       "}\n",
       "#T_bd064_row0_col5 {\n",
       "  background-color: #b3cdfb;\n",
       "  color: #000000;\n",
       "}\n",
       "#T_bd064_row0_col6, #T_bd064_row0_col7 {\n",
       "  background-color: #89acfd;\n",
       "  color: #000000;\n",
       "}\n",
       "#T_bd064_row0_col8 {\n",
       "  background-color: #cfdaea;\n",
       "  color: #000000;\n",
       "}\n",
       "#T_bd064_row1_col0 {\n",
       "  background-color: #4257c9;\n",
       "  color: #f1f1f1;\n",
       "}\n",
       "#T_bd064_row1_col2, #T_bd064_row2_col4, #T_bd064_row3_col4, #T_bd064_row3_col8 {\n",
       "  background-color: #ccd9ed;\n",
       "  color: #000000;\n",
       "}\n",
       "#T_bd064_row1_col4 {\n",
       "  background-color: #e1dad6;\n",
       "  color: #000000;\n",
       "}\n",
       "#T_bd064_row1_col5 {\n",
       "  background-color: #e3d9d3;\n",
       "  color: #000000;\n",
       "}\n",
       "#T_bd064_row1_col6, #T_bd064_row1_col7 {\n",
       "  background-color: #d1dae9;\n",
       "  color: #000000;\n",
       "}\n",
       "#T_bd064_row1_col8 {\n",
       "  background-color: #d7dce3;\n",
       "  color: #000000;\n",
       "}\n",
       "#T_bd064_row2_col0 {\n",
       "  background-color: #445acc;\n",
       "  color: #f1f1f1;\n",
       "}\n",
       "#T_bd064_row2_col1 {\n",
       "  background-color: #9abbff;\n",
       "  color: #000000;\n",
       "}\n",
       "#T_bd064_row2_col5 {\n",
       "  background-color: #d4dbe6;\n",
       "  color: #000000;\n",
       "}\n",
       "#T_bd064_row2_col8 {\n",
       "  background-color: #aac7fd;\n",
       "  color: #000000;\n",
       "}\n",
       "#T_bd064_row3_col0 {\n",
       "  background-color: #465ecf;\n",
       "  color: #f1f1f1;\n",
       "}\n",
       "#T_bd064_row3_col1 {\n",
       "  background-color: #3f53c6;\n",
       "  color: #f1f1f1;\n",
       "}\n",
       "#T_bd064_row3_col2, #T_bd064_row3_col6, #T_bd064_row3_col7, #T_bd064_row4_col2 {\n",
       "  background-color: #85a8fc;\n",
       "  color: #f1f1f1;\n",
       "}\n",
       "#T_bd064_row3_col5, #T_bd064_row6_col1, #T_bd064_row7_col1 {\n",
       "  background-color: #a2c1ff;\n",
       "  color: #000000;\n",
       "}\n",
       "#T_bd064_row4_col1 {\n",
       "  background-color: #6b8df0;\n",
       "  color: #f1f1f1;\n",
       "}\n",
       "#T_bd064_row4_col5 {\n",
       "  background-color: #ba162b;\n",
       "  color: #f1f1f1;\n",
       "}\n",
       "#T_bd064_row4_col6, #T_bd064_row4_col7 {\n",
       "  background-color: #f7b093;\n",
       "  color: #000000;\n",
       "}\n",
       "#T_bd064_row5_col0 {\n",
       "  background-color: #5d7ce6;\n",
       "  color: #f1f1f1;\n",
       "}\n",
       "#T_bd064_row5_col1 {\n",
       "  background-color: #a7c5fe;\n",
       "  color: #000000;\n",
       "}\n",
       "#T_bd064_row5_col2 {\n",
       "  background-color: #c0d4f5;\n",
       "  color: #000000;\n",
       "}\n",
       "#T_bd064_row5_col4 {\n",
       "  background-color: #b8122a;\n",
       "  color: #f1f1f1;\n",
       "}\n",
       "#T_bd064_row5_col6, #T_bd064_row5_col7 {\n",
       "  background-color: #dcdddd;\n",
       "  color: #000000;\n",
       "}\n",
       "#T_bd064_row5_col8 {\n",
       "  background-color: #779af7;\n",
       "  color: #f1f1f1;\n",
       "}\n",
       "#T_bd064_row6_col0, #T_bd064_row7_col0, #T_bd064_row8_col0 {\n",
       "  background-color: #4b64d5;\n",
       "  color: #f1f1f1;\n",
       "}\n",
       "#T_bd064_row6_col4, #T_bd064_row7_col4 {\n",
       "  background-color: #f18f71;\n",
       "  color: #f1f1f1;\n",
       "}\n",
       "#T_bd064_row6_col5, #T_bd064_row7_col5 {\n",
       "  background-color: #ead5c9;\n",
       "  color: #000000;\n",
       "}\n",
       "#T_bd064_row6_col8, #T_bd064_row7_col8 {\n",
       "  background-color: #b5cdfa;\n",
       "  color: #000000;\n",
       "}\n",
       "#T_bd064_row8_col1 {\n",
       "  background-color: #5470de;\n",
       "  color: #f1f1f1;\n",
       "}\n",
       "#T_bd064_row8_col2 {\n",
       "  background-color: #516ddb;\n",
       "  color: #f1f1f1;\n",
       "}\n",
       "#T_bd064_row8_col6, #T_bd064_row8_col7 {\n",
       "  background-color: #6180e9;\n",
       "  color: #f1f1f1;\n",
       "}\n",
       "</style>\n",
       "<table id=\"T_bd064\">\n",
       "  <thead>\n",
       "    <tr>\n",
       "      <th class=\"blank level0\" >&nbsp;</th>\n",
       "      <th id=\"T_bd064_level0_col0\" class=\"col_heading level0 col0\" >year</th>\n",
       "      <th id=\"T_bd064_level0_col1\" class=\"col_heading level0 col1\" >power-usage-effectiveness</th>\n",
       "      <th id=\"T_bd064_level0_col2\" class=\"col_heading level0 col2\" >water-usage-effectiveness</th>\n",
       "      <th id=\"T_bd064_level0_col3\" class=\"col_heading level0 col3\" >provider-carbon-intensity-market-annual</th>\n",
       "      <th id=\"T_bd064_level0_col4\" class=\"col_heading level0 col4\" >provider-carbon-intensity-average-consumption-hourly</th>\n",
       "      <th id=\"T_bd064_level0_col5\" class=\"col_heading level0 col5\" >grid-carbon-intensity-average-consumption-annual</th>\n",
       "      <th id=\"T_bd064_level0_col6\" class=\"col_heading level0 col6\" >grid-carbon-intensity-marginal-consumption-annual</th>\n",
       "      <th id=\"T_bd064_level0_col7\" class=\"col_heading level0 col7\" >grid-carbon-intensity</th>\n",
       "      <th id=\"T_bd064_level0_col8\" class=\"col_heading level0 col8\" >cfe-ratio</th>\n",
       "    </tr>\n",
       "  </thead>\n",
       "  <tbody>\n",
       "    <tr>\n",
       "      <th id=\"T_bd064_level0_row0\" class=\"row_heading level0 row0\" >year</th>\n",
       "      <td id=\"T_bd064_row0_col0\" class=\"data row0 col0\" >1.00</td>\n",
       "      <td id=\"T_bd064_row0_col1\" class=\"data row0 col1\" >-0.02</td>\n",
       "      <td id=\"T_bd064_row0_col2\" class=\"data row0 col2\" >-0.01</td>\n",
       "      <td id=\"T_bd064_row0_col3\" class=\"data row0 col3\" >0.00</td>\n",
       "      <td id=\"T_bd064_row0_col4\" class=\"data row0 col4\" >-0.04</td>\n",
       "      <td id=\"T_bd064_row0_col5\" class=\"data row0 col5\" >0.07</td>\n",
       "      <td id=\"T_bd064_row0_col6\" class=\"data row0 col6\" >0.01</td>\n",
       "      <td id=\"T_bd064_row0_col7\" class=\"data row0 col7\" >0.01</td>\n",
       "      <td id=\"T_bd064_row0_col8\" class=\"data row0 col8\" >0.02</td>\n",
       "    </tr>\n",
       "    <tr>\n",
       "      <th id=\"T_bd064_level0_row1\" class=\"row_heading level0 row1\" >power-usage-effectiveness</th>\n",
       "      <td id=\"T_bd064_row1_col0\" class=\"data row1 col0\" >-0.02</td>\n",
       "      <td id=\"T_bd064_row1_col1\" class=\"data row1 col1\" >1.00</td>\n",
       "      <td id=\"T_bd064_row1_col2\" class=\"data row1 col2\" >0.28</td>\n",
       "      <td id=\"T_bd064_row1_col3\" class=\"data row1 col3\" >0.00</td>\n",
       "      <td id=\"T_bd064_row1_col4\" class=\"data row1 col4\" >0.14</td>\n",
       "      <td id=\"T_bd064_row1_col5\" class=\"data row1 col5\" >0.31</td>\n",
       "      <td id=\"T_bd064_row1_col6\" class=\"data row1 col6\" >0.30</td>\n",
       "      <td id=\"T_bd064_row1_col7\" class=\"data row1 col7\" >0.30</td>\n",
       "      <td id=\"T_bd064_row1_col8\" class=\"data row1 col8\" >0.07</td>\n",
       "    </tr>\n",
       "    <tr>\n",
       "      <th id=\"T_bd064_level0_row2\" class=\"row_heading level0 row2\" >water-usage-effectiveness</th>\n",
       "      <td id=\"T_bd064_row2_col0\" class=\"data row2 col0\" >-0.01</td>\n",
       "      <td id=\"T_bd064_row2_col1\" class=\"data row2 col1\" >0.28</td>\n",
       "      <td id=\"T_bd064_row2_col2\" class=\"data row2 col2\" >1.00</td>\n",
       "      <td id=\"T_bd064_row2_col3\" class=\"data row2 col3\" >0.00</td>\n",
       "      <td id=\"T_bd064_row2_col4\" class=\"data row2 col4\" >0.00</td>\n",
       "      <td id=\"T_bd064_row2_col5\" class=\"data row2 col5\" >0.22</td>\n",
       "      <td id=\"T_bd064_row2_col6\" class=\"data row2 col6\" >-0.29</td>\n",
       "      <td id=\"T_bd064_row2_col7\" class=\"data row2 col7\" >-0.29</td>\n",
       "      <td id=\"T_bd064_row2_col8\" class=\"data row2 col8\" >-0.19</td>\n",
       "    </tr>\n",
       "    <tr>\n",
       "      <th id=\"T_bd064_level0_row3\" class=\"row_heading level0 row3\" >provider-carbon-intensity-market-annual</th>\n",
       "      <td id=\"T_bd064_row3_col0\" class=\"data row3 col0\" >0.00</td>\n",
       "      <td id=\"T_bd064_row3_col1\" class=\"data row3 col1\" >0.00</td>\n",
       "      <td id=\"T_bd064_row3_col2\" class=\"data row3 col2\" >0.00</td>\n",
       "      <td id=\"T_bd064_row3_col3\" class=\"data row3 col3\" >0.00</td>\n",
       "      <td id=\"T_bd064_row3_col4\" class=\"data row3 col4\" >0.00</td>\n",
       "      <td id=\"T_bd064_row3_col5\" class=\"data row3 col5\" >0.00</td>\n",
       "      <td id=\"T_bd064_row3_col6\" class=\"data row3 col6\" >0.00</td>\n",
       "      <td id=\"T_bd064_row3_col7\" class=\"data row3 col7\" >0.00</td>\n",
       "      <td id=\"T_bd064_row3_col8\" class=\"data row3 col8\" >0.00</td>\n",
       "    </tr>\n",
       "    <tr>\n",
       "      <th id=\"T_bd064_level0_row4\" class=\"row_heading level0 row4\" >provider-carbon-intensity-average-consumption-hourly</th>\n",
       "      <td id=\"T_bd064_row4_col0\" class=\"data row4 col0\" >-0.04</td>\n",
       "      <td id=\"T_bd064_row4_col1\" class=\"data row4 col1\" >0.14</td>\n",
       "      <td id=\"T_bd064_row4_col2\" class=\"data row4 col2\" >0.00</td>\n",
       "      <td id=\"T_bd064_row4_col3\" class=\"data row4 col3\" >0.00</td>\n",
       "      <td id=\"T_bd064_row4_col4\" class=\"data row4 col4\" >1.00</td>\n",
       "      <td id=\"T_bd064_row4_col5\" class=\"data row4 col5\" >0.97</td>\n",
       "      <td id=\"T_bd064_row4_col6\" class=\"data row4 col6\" >0.60</td>\n",
       "      <td id=\"T_bd064_row4_col7\" class=\"data row4 col7\" >0.60</td>\n",
       "      <td id=\"T_bd064_row4_col8\" class=\"data row4 col8\" >-0.79</td>\n",
       "    </tr>\n",
       "    <tr>\n",
       "      <th id=\"T_bd064_level0_row5\" class=\"row_heading level0 row5\" >grid-carbon-intensity-average-consumption-annual</th>\n",
       "      <td id=\"T_bd064_row5_col0\" class=\"data row5 col0\" >0.07</td>\n",
       "      <td id=\"T_bd064_row5_col1\" class=\"data row5 col1\" >0.31</td>\n",
       "      <td id=\"T_bd064_row5_col2\" class=\"data row5 col2\" >0.22</td>\n",
       "      <td id=\"T_bd064_row5_col3\" class=\"data row5 col3\" >0.00</td>\n",
       "      <td id=\"T_bd064_row5_col4\" class=\"data row5 col4\" >0.97</td>\n",
       "      <td id=\"T_bd064_row5_col5\" class=\"data row5 col5\" >1.00</td>\n",
       "      <td id=\"T_bd064_row5_col6\" class=\"data row5 col6\" >0.35</td>\n",
       "      <td id=\"T_bd064_row5_col7\" class=\"data row5 col7\" >0.35</td>\n",
       "      <td id=\"T_bd064_row5_col8\" class=\"data row5 col8\" >-0.45</td>\n",
       "    </tr>\n",
       "    <tr>\n",
       "      <th id=\"T_bd064_level0_row6\" class=\"row_heading level0 row6\" >grid-carbon-intensity-marginal-consumption-annual</th>\n",
       "      <td id=\"T_bd064_row6_col0\" class=\"data row6 col0\" >0.01</td>\n",
       "      <td id=\"T_bd064_row6_col1\" class=\"data row6 col1\" >0.30</td>\n",
       "      <td id=\"T_bd064_row6_col2\" class=\"data row6 col2\" >-0.29</td>\n",
       "      <td id=\"T_bd064_row6_col3\" class=\"data row6 col3\" >0.00</td>\n",
       "      <td id=\"T_bd064_row6_col4\" class=\"data row6 col4\" >0.60</td>\n",
       "      <td id=\"T_bd064_row6_col5\" class=\"data row6 col5\" >0.35</td>\n",
       "      <td id=\"T_bd064_row6_col6\" class=\"data row6 col6\" >1.00</td>\n",
       "      <td id=\"T_bd064_row6_col7\" class=\"data row6 col7\" >1.00</td>\n",
       "      <td id=\"T_bd064_row6_col8\" class=\"data row6 col8\" >-0.14</td>\n",
       "    </tr>\n",
       "    <tr>\n",
       "      <th id=\"T_bd064_level0_row7\" class=\"row_heading level0 row7\" >grid-carbon-intensity</th>\n",
       "      <td id=\"T_bd064_row7_col0\" class=\"data row7 col0\" >0.01</td>\n",
       "      <td id=\"T_bd064_row7_col1\" class=\"data row7 col1\" >0.30</td>\n",
       "      <td id=\"T_bd064_row7_col2\" class=\"data row7 col2\" >-0.29</td>\n",
       "      <td id=\"T_bd064_row7_col3\" class=\"data row7 col3\" >0.00</td>\n",
       "      <td id=\"T_bd064_row7_col4\" class=\"data row7 col4\" >0.60</td>\n",
       "      <td id=\"T_bd064_row7_col5\" class=\"data row7 col5\" >0.35</td>\n",
       "      <td id=\"T_bd064_row7_col6\" class=\"data row7 col6\" >1.00</td>\n",
       "      <td id=\"T_bd064_row7_col7\" class=\"data row7 col7\" >1.00</td>\n",
       "      <td id=\"T_bd064_row7_col8\" class=\"data row7 col8\" >-0.14</td>\n",
       "    </tr>\n",
       "    <tr>\n",
       "      <th id=\"T_bd064_level0_row8\" class=\"row_heading level0 row8\" >cfe-ratio</th>\n",
       "      <td id=\"T_bd064_row8_col0\" class=\"data row8 col0\" >0.02</td>\n",
       "      <td id=\"T_bd064_row8_col1\" class=\"data row8 col1\" >0.07</td>\n",
       "      <td id=\"T_bd064_row8_col2\" class=\"data row8 col2\" >-0.19</td>\n",
       "      <td id=\"T_bd064_row8_col3\" class=\"data row8 col3\" >0.00</td>\n",
       "      <td id=\"T_bd064_row8_col4\" class=\"data row8 col4\" >-0.79</td>\n",
       "      <td id=\"T_bd064_row8_col5\" class=\"data row8 col5\" >-0.45</td>\n",
       "      <td id=\"T_bd064_row8_col6\" class=\"data row8 col6\" >-0.14</td>\n",
       "      <td id=\"T_bd064_row8_col7\" class=\"data row8 col7\" >-0.14</td>\n",
       "      <td id=\"T_bd064_row8_col8\" class=\"data row8 col8\" >1.00</td>\n",
       "    </tr>\n",
       "  </tbody>\n",
       "</table>\n"
      ]
     },
     "metadata": {},
     "output_type": "display_data"
    }
   ],
   "execution_count": 154
  },
  {
   "metadata": {},
   "cell_type": "markdown",
   "source": [
    "Initial conclusions from above :\n",
    "\n",
    "- there is little/no difference in correlation if we exclude rows containing empty PUE values or not\n",
    "- There seems to be a high correlation between \"grid carbon intensity average consumption annual\" and \"provider carbon intensity average consumption hourly\"\n",
    "- There seems to be no correlation between \"provider-carbon-intensity-market-annual\" and anything else, suggesting it has empty values\n",
    "- there is a strong inverse relationship between \"Carbon Free Energy ratio\" and \"provider-carbon-intensity-average-consumption-hourly\", which makes sense as the cfe-ratio is a measurement of how much carbon producing, vs carbon free energy a provider is consuming\n",
    "- There is a strong correlation between grid-carbon-intensity and provider-carbon-intensity-average-consumption-hourly : this is suggestive that in areas where there is a high amount of carbon based energy, providers will consume a higher amount"
   ],
   "id": "37d6aa70b4781bbd"
  },
  {
   "metadata": {},
   "cell_type": "markdown",
   "source": "### Investigating correlation between the ratio of CFE (Carbon Free Energy) to CEE (Carbon Emitting Energy) between Cloud providers and the Energy supplier for their region",
   "id": "3b342f1f943d21de"
  },
  {
   "metadata": {
    "ExecuteTime": {
     "end_time": "2025-07-11T16:21:44.716527Z",
     "start_time": "2025-07-11T16:21:44.699779Z"
    }
   },
   "cell_type": "code",
   "source": [
    "import plotly.express as px\n",
    "all_year_df = all_year_df.rename(columns={'provider-carbon-intensity-average-consumption-hourly':'provider carbon intensity',\n",
    "                                             'grid-carbon-intensity-average-consumption-annual': 'grid carbon intensity'})\n",
    "scatter_graph = px.scatter(all_year_df,\n",
    "    x='provider carbon intensity',\n",
    "    y='grid carbon intensity',\n",
    "    trendline='ols')\n",
    "scatter_graph.show()"
   ],
   "id": "a5ca19314f4f5823",
   "outputs": [
    {
     "data": {
      "application/vnd.plotly.v1+json": {
       "data": [
        {
         "hovertemplate": "provider carbon intensity=%{x}<br>grid carbon intensity=%{y}<extra></extra>",
         "legendgroup": "",
         "marker": {
          "color": "#636efa",
          "symbol": "circle"
         },
         "mode": "markers",
         "name": "",
         "orientation": "v",
         "showlegend": false,
         "x": {
          "dtype": "f8",
          "bdata": "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"
         },
         "xaxis": "x",
         "y": {
          "dtype": "f8",
          "bdata": "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"
         },
         "yaxis": "y",
         "type": "scatter"
        },
        {
         "hovertemplate": "<b>OLS trendline</b><br>grid carbon intensity = 0.96259 * provider carbon intensity + 69.1662<br>R<sup>2</sup>=0.855956<br><br>provider carbon intensity=%{x}<br>grid carbon intensity=%{y} <b>(trend)</b><extra></extra>",
         "legendgroup": "",
         "marker": {
          "color": "#636efa",
          "symbol": "circle"
         },
         "mode": "lines",
         "name": "",
         "showlegend": false,
         "x": {
          "dtype": "f8",
          "bdata": "AAAAAAAAAAAAAAAAAAAAAAAAAAAAAABAAAAAAAAAO0AAAAAAAAA7QAAAAAAAAD1AAAAAAAAAQUAAAAAAAABCQAAAAAAAAEdAAAAAAACAR0AAAAAAAABMQAAAAAAAAExAAAAAAACATUAAAAAAAIBNQAAAAAAAAE5AAAAAAABAUEAAAAAAAMBQQAAAAAAAwFFAAAAAAACAU0AAAAAAAIBVQAAAAAAAwFVAAAAAAADAVUAAAAAAAIBXQAAAAAAAwFlAAAAAAABAW0AAAAAAAIBbQAAAAAAAAFxAAAAAAABAXUAAAAAAAIBdQAAAAAAAQF5AAAAAAACAXkAAAAAAAMBeQAAAAAAAwF9AAAAAAAAgYEAAAAAAAGBgQAAAAAAAoGBAAAAAAAAAYUAAAAAAAABkQAAAAAAAoGRAAAAAAADAZEAAAAAAAIBlQAAAAAAAoGZAAAAAAADAZ0AAAAAAAMBnQAAAAAAAgGhAAAAAAADAaEAAAAAAAEBpQAAAAAAAgGpAAAAAAADgbEAAAAAAAIBtQAAAAAAAAG9AAAAAAAAgb0AAAAAAACBvQAAAAAAAoG9AAAAAAAAQcEAAAAAAANBwQAAAAAAAsHFAAAAAAABQckAAAAAAAIByQAAAAAAAoHJAAAAAAAAsc0AAAAAAACxzQAAAAAAAUHNAAAAAAABQc0AAAAAAANBzQAAAAAAA8HNAAAAAAAAQdEAAAAAAACB0QAAAAAAAIHRAAAAAAAAwdEAAAAAAADB0QAAAAAAAiHRAAAAAAACIdEAAAAAAAGB1QAAAAAAAkHVAAAAAAAAgdkAAAAAAACB2QAAAAAAAgHZAAAAAAACAdkAAAAAAAIB2QAAAAAAAkHZAAAAAAADQdkAAAAAAAEB3QAAAAAAAQHdAAAAAAABAd0AAAAAAAFB3QAAAAAAAoHdAAAAAAADwd0AAAAAAAPB3QAAAAAAAAHhAAAAAAAAQeEAAAAAAAKB4QAAAAAAAwHhAAAAAAACgeUAAAAAAANB5QAAAAAAA4HlAAAAAAACQekAAAAAAAJB6QAAAAAAA4HpAAAAAAAAge0AAAAAAAKB7QAAAAAAA0HtAAAAAAAAAfEAAAAAAADB8QAAAAAAAUHxAAAAAAABQfEAAAAAAAGB8QAAAAAAAcHxAAAAAAACAfEAAAAAAAIB8QAAAAAAAkHxAAAAAAACwfEAAAAAAAPB8QAAAAAAA8HxAAAAAAAAAfUAAAAAAAKB9QAAAAAAAwH1AAAAAAADwfUAAAAAAAAB+QAAAAAAAoH5AAAAAAACgfkAAAAAAALB+QAAAAAAA0H5AAAAAAADQfkAAAAAAAEB/QAAAAAAAUH9AAAAAAACgf0AAAAAAAEiAQAAAAAAAiIBAAAAAAACggEAAAAAAAKiAQAAAAAAA0IBAAAAAAADggEAAAAAAAOiAQAAAAAAAUIFAAAAAAABYgUAAAAAAAICBQAAAAAAAiIFAAAAAAADIgUAAAAAAAPiBQAAAAAAAAIJAAAAAAAAggkAAAAAAACCCQAAAAAAAIIJAAAAAAABggkAAAAAAALCCQAAAAAAA8IJAAAAAAABwg0AAAAAAAMCDQAAAAAAAMIRAAAAAAAA4hEAAAAAAADiEQAAAAAAAQIRAAAAAAACIhEAAAAAAAPCEQAAAAAAA+IRAAAAAAACYhUAAAAAAAIiGQAAAAAAAmIZAAAAAAACohkAAAAAAALiGQAAAAAAAEIdAAAAAAACAh0A="
         },
         "xaxis": "x",
         "y": {
          "dtype": "f8",
          "bdata": "cewnOaJKUUBx7Cc5okpRQH76Gl/YxVFAJCp5Of3JV0AkKnk5/clXQDI4bF8zRVhAU9tLvjp5WUBg6T7kcPRZQKIv/qF/XFxAqbb3tBqaXEDldb1fjsReQOV1vV+OxF5A+QqqmF99X0D5CqqYX31fQACSo6v6ul9AkJpBBYF3YECXITsYHLVgQKQvLj5SMGFAPIiXAPEHYkBWpH1MXf5iQNpn+tUqHWNA2mf61SodY0BwwGOYyfRjQA6gxm0DCmVAIjWzptTCZUCm+C8wouFlQKx/KUM9H2ZAPVGZ8kC5ZkDAFBZ8DthmQEpfjBh3NGdAziIJokRTZ0BR5oUrEnJnQF70eFFI7WdAZXtyZOMqaEBsAmx3fmhoQHKJZYoZpmhA/NPbJoICaUBMKI4Kx+VrQNz5/bnKf2xAYL16Q5iebEB0Umd8aVdtQBIyylGjbG5AsBEtJ92Bb0CwES0n3YFvQGLTDDBXHXBA5ZaJuSQ8cEDsHYPMv3lwQHzv8nvDE3FA3DAUFmQ4ckCkGcztZYVyQLiuuCY3PnNAehB3651Nc0B6EHfrnU1zQICXcP44i3NAhx5qEdTIc0Cbs1ZKpYF0QDIMwAxEWXVAwt0vvEfzdUAHA2sKfCF2QIvG55NJQHZA6Z1pzQzHdkDpnWnNDMd2QN35FQi06XZA3fkVCLTpdkDqBwku6mR3QG7Lhbe3g3dA8Y4CQYWid0Cz8MAF7LF3QLPwwAXssXdAdFJ/ylLBd0B0Un/KUsF3QB1slgQIFnhAHWyWBAgWeEDUk6Bk8+V4QBm527InFHlA6CiNncSeeUDoKI2dxJ55QHJzAzot+3lAcnMDOi37eUBycwM6Lft5QDPVwf6TCnpAOly7ES9IekCGCPBy/rN6QIYI8HL+s3pAhgjwcv6zekBHaq43ZcN6QBBTZg9nEHtA2Dse52hde0DYOx7naF17QJqd3KvPbHtAW/+acDZ8e0Aqb0xb0wZ8QK0yyeSgJXxARYsypz/9fECKsG31cyt9QEsSLLraOn1AnkVaLkXkfUCeRVouReR9QGYuEgZHMX5AbbULGeJufkB6w/4+GOp+QL/oOY1MGH9ABA5124BGf0BJM7AptXR/QMz2LLOCk39AzPYss4KTf0COWOt36aJ/QE+6qTxQsn9AERxoAbfBf0ARHGgBt8F/QNN9JsYd0X9AVkGjT+vvf0AvZE4xwxaAQC9kTjHDFoBAD5Wtk3YegEDYfWVreGuAQJnfIzDfeoBAPHJBV/mRgEAdo6C5rJmAQOWLWJGu5oBA5YtYka7mgEDGvLfzYe6AQIcedrjI/YBAhx52uMj9gECtdBBpsDOBQI6lb8tjO4FA8plLt+RhgUAfd996Z9WBQCX+2I0CE4JAyJD2tBwqgkCowVUX0DGCQA22MQNRWIJAzhfwx7dngkCvSE8qa2+CQBrEJCmH04JA+/SDizrbgkBf6V93uwGDQEAav9luCYNARqG47AlHg0CLxvM6PnWDQGz3Up3xfINA77rPJr+bg0Dvus8mv5uDQO+6zya/m4NA9kHJOVrZg0C+KoERXCaEQMWxeiT3Y4RA0r9tSi3fhECbqCUiLyyFQOZUWoP+l4VAx4W55bGfhUDHhbnlsZ+FQKi2GEhlp4VAj25xvbPshUD66Ua8z1CGQNsaph6DWIZAbOwVzobyhkDEpj1VjNmHQIYI/Bnz6IdASGq63ln4h0AJzHijwAeIQLPlj911XIhA/pHEPkXIiEA="
         },
         "yaxis": "y",
         "type": "scatter"
        }
       ],
       "layout": {
        "template": {
         "data": {
          "histogram2dcontour": [
           {
            "type": "histogram2dcontour",
            "colorbar": {
             "outlinewidth": 0,
             "ticks": ""
            },
            "colorscale": [
             [
              0.0,
              "#0d0887"
             ],
             [
              0.1111111111111111,
              "#46039f"
             ],
             [
              0.2222222222222222,
              "#7201a8"
             ],
             [
              0.3333333333333333,
              "#9c179e"
             ],
             [
              0.4444444444444444,
              "#bd3786"
             ],
             [
              0.5555555555555556,
              "#d8576b"
             ],
             [
              0.6666666666666666,
              "#ed7953"
             ],
             [
              0.7777777777777778,
              "#fb9f3a"
             ],
             [
              0.8888888888888888,
              "#fdca26"
             ],
             [
              1.0,
              "#f0f921"
             ]
            ]
           }
          ],
          "choropleth": [
           {
            "type": "choropleth",
            "colorbar": {
             "outlinewidth": 0,
             "ticks": ""
            }
           }
          ],
          "histogram2d": [
           {
            "type": "histogram2d",
            "colorbar": {
             "outlinewidth": 0,
             "ticks": ""
            },
            "colorscale": [
             [
              0.0,
              "#0d0887"
             ],
             [
              0.1111111111111111,
              "#46039f"
             ],
             [
              0.2222222222222222,
              "#7201a8"
             ],
             [
              0.3333333333333333,
              "#9c179e"
             ],
             [
              0.4444444444444444,
              "#bd3786"
             ],
             [
              0.5555555555555556,
              "#d8576b"
             ],
             [
              0.6666666666666666,
              "#ed7953"
             ],
             [
              0.7777777777777778,
              "#fb9f3a"
             ],
             [
              0.8888888888888888,
              "#fdca26"
             ],
             [
              1.0,
              "#f0f921"
             ]
            ]
           }
          ],
          "heatmap": [
           {
            "type": "heatmap",
            "colorbar": {
             "outlinewidth": 0,
             "ticks": ""
            },
            "colorscale": [
             [
              0.0,
              "#0d0887"
             ],
             [
              0.1111111111111111,
              "#46039f"
             ],
             [
              0.2222222222222222,
              "#7201a8"
             ],
             [
              0.3333333333333333,
              "#9c179e"
             ],
             [
              0.4444444444444444,
              "#bd3786"
             ],
             [
              0.5555555555555556,
              "#d8576b"
             ],
             [
              0.6666666666666666,
              "#ed7953"
             ],
             [
              0.7777777777777778,
              "#fb9f3a"
             ],
             [
              0.8888888888888888,
              "#fdca26"
             ],
             [
              1.0,
              "#f0f921"
             ]
            ]
           }
          ],
          "contourcarpet": [
           {
            "type": "contourcarpet",
            "colorbar": {
             "outlinewidth": 0,
             "ticks": ""
            }
           }
          ],
          "contour": [
           {
            "type": "contour",
            "colorbar": {
             "outlinewidth": 0,
             "ticks": ""
            },
            "colorscale": [
             [
              0.0,
              "#0d0887"
             ],
             [
              0.1111111111111111,
              "#46039f"
             ],
             [
              0.2222222222222222,
              "#7201a8"
             ],
             [
              0.3333333333333333,
              "#9c179e"
             ],
             [
              0.4444444444444444,
              "#bd3786"
             ],
             [
              0.5555555555555556,
              "#d8576b"
             ],
             [
              0.6666666666666666,
              "#ed7953"
             ],
             [
              0.7777777777777778,
              "#fb9f3a"
             ],
             [
              0.8888888888888888,
              "#fdca26"
             ],
             [
              1.0,
              "#f0f921"
             ]
            ]
           }
          ],
          "surface": [
           {
            "type": "surface",
            "colorbar": {
             "outlinewidth": 0,
             "ticks": ""
            },
            "colorscale": [
             [
              0.0,
              "#0d0887"
             ],
             [
              0.1111111111111111,
              "#46039f"
             ],
             [
              0.2222222222222222,
              "#7201a8"
             ],
             [
              0.3333333333333333,
              "#9c179e"
             ],
             [
              0.4444444444444444,
              "#bd3786"
             ],
             [
              0.5555555555555556,
              "#d8576b"
             ],
             [
              0.6666666666666666,
              "#ed7953"
             ],
             [
              0.7777777777777778,
              "#fb9f3a"
             ],
             [
              0.8888888888888888,
              "#fdca26"
             ],
             [
              1.0,
              "#f0f921"
             ]
            ]
           }
          ],
          "mesh3d": [
           {
            "type": "mesh3d",
            "colorbar": {
             "outlinewidth": 0,
             "ticks": ""
            }
           }
          ],
          "scatter": [
           {
            "marker": {
             "line": {
              "color": "#283442"
             }
            },
            "type": "scatter"
           }
          ],
          "parcoords": [
           {
            "type": "parcoords",
            "line": {
             "colorbar": {
              "outlinewidth": 0,
              "ticks": ""
             }
            }
           }
          ],
          "scatterpolargl": [
           {
            "type": "scatterpolargl",
            "marker": {
             "colorbar": {
              "outlinewidth": 0,
              "ticks": ""
             }
            }
           }
          ],
          "bar": [
           {
            "error_x": {
             "color": "#f2f5fa"
            },
            "error_y": {
             "color": "#f2f5fa"
            },
            "marker": {
             "line": {
              "color": "rgb(17,17,17)",
              "width": 0.5
             },
             "pattern": {
              "fillmode": "overlay",
              "size": 10,
              "solidity": 0.2
             }
            },
            "type": "bar"
           }
          ],
          "scattergeo": [
           {
            "type": "scattergeo",
            "marker": {
             "colorbar": {
              "outlinewidth": 0,
              "ticks": ""
             }
            }
           }
          ],
          "scatterpolar": [
           {
            "type": "scatterpolar",
            "marker": {
             "colorbar": {
              "outlinewidth": 0,
              "ticks": ""
             }
            }
           }
          ],
          "histogram": [
           {
            "marker": {
             "pattern": {
              "fillmode": "overlay",
              "size": 10,
              "solidity": 0.2
             }
            },
            "type": "histogram"
           }
          ],
          "scattergl": [
           {
            "marker": {
             "line": {
              "color": "#283442"
             }
            },
            "type": "scattergl"
           }
          ],
          "scatter3d": [
           {
            "type": "scatter3d",
            "line": {
             "colorbar": {
              "outlinewidth": 0,
              "ticks": ""
             }
            },
            "marker": {
             "colorbar": {
              "outlinewidth": 0,
              "ticks": ""
             }
            }
           }
          ],
          "scattermap": [
           {
            "type": "scattermap",
            "marker": {
             "colorbar": {
              "outlinewidth": 0,
              "ticks": ""
             }
            }
           }
          ],
          "scattermapbox": [
           {
            "type": "scattermapbox",
            "marker": {
             "colorbar": {
              "outlinewidth": 0,
              "ticks": ""
             }
            }
           }
          ],
          "scatterternary": [
           {
            "type": "scatterternary",
            "marker": {
             "colorbar": {
              "outlinewidth": 0,
              "ticks": ""
             }
            }
           }
          ],
          "scattercarpet": [
           {
            "type": "scattercarpet",
            "marker": {
             "colorbar": {
              "outlinewidth": 0,
              "ticks": ""
             }
            }
           }
          ],
          "carpet": [
           {
            "aaxis": {
             "endlinecolor": "#A2B1C6",
             "gridcolor": "#506784",
             "linecolor": "#506784",
             "minorgridcolor": "#506784",
             "startlinecolor": "#A2B1C6"
            },
            "baxis": {
             "endlinecolor": "#A2B1C6",
             "gridcolor": "#506784",
             "linecolor": "#506784",
             "minorgridcolor": "#506784",
             "startlinecolor": "#A2B1C6"
            },
            "type": "carpet"
           }
          ],
          "table": [
           {
            "cells": {
             "fill": {
              "color": "#506784"
             },
             "line": {
              "color": "rgb(17,17,17)"
             }
            },
            "header": {
             "fill": {
              "color": "#2a3f5f"
             },
             "line": {
              "color": "rgb(17,17,17)"
             }
            },
            "type": "table"
           }
          ],
          "barpolar": [
           {
            "marker": {
             "line": {
              "color": "rgb(17,17,17)",
              "width": 0.5
             },
             "pattern": {
              "fillmode": "overlay",
              "size": 10,
              "solidity": 0.2
             }
            },
            "type": "barpolar"
           }
          ],
          "pie": [
           {
            "automargin": true,
            "type": "pie"
           }
          ]
         },
         "layout": {
          "autotypenumbers": "strict",
          "colorway": [
           "#636efa",
           "#EF553B",
           "#00cc96",
           "#ab63fa",
           "#FFA15A",
           "#19d3f3",
           "#FF6692",
           "#B6E880",
           "#FF97FF",
           "#FECB52"
          ],
          "font": {
           "color": "#f2f5fa"
          },
          "hovermode": "closest",
          "hoverlabel": {
           "align": "left"
          },
          "paper_bgcolor": "rgb(17,17,17)",
          "plot_bgcolor": "rgb(17,17,17)",
          "polar": {
           "bgcolor": "rgb(17,17,17)",
           "angularaxis": {
            "gridcolor": "#506784",
            "linecolor": "#506784",
            "ticks": ""
           },
           "radialaxis": {
            "gridcolor": "#506784",
            "linecolor": "#506784",
            "ticks": ""
           }
          },
          "ternary": {
           "bgcolor": "rgb(17,17,17)",
           "aaxis": {
            "gridcolor": "#506784",
            "linecolor": "#506784",
            "ticks": ""
           },
           "baxis": {
            "gridcolor": "#506784",
            "linecolor": "#506784",
            "ticks": ""
           },
           "caxis": {
            "gridcolor": "#506784",
            "linecolor": "#506784",
            "ticks": ""
           }
          },
          "coloraxis": {
           "colorbar": {
            "outlinewidth": 0,
            "ticks": ""
           }
          },
          "colorscale": {
           "sequential": [
            [
             0.0,
             "#0d0887"
            ],
            [
             0.1111111111111111,
             "#46039f"
            ],
            [
             0.2222222222222222,
             "#7201a8"
            ],
            [
             0.3333333333333333,
             "#9c179e"
            ],
            [
             0.4444444444444444,
             "#bd3786"
            ],
            [
             0.5555555555555556,
             "#d8576b"
            ],
            [
             0.6666666666666666,
             "#ed7953"
            ],
            [
             0.7777777777777778,
             "#fb9f3a"
            ],
            [
             0.8888888888888888,
             "#fdca26"
            ],
            [
             1.0,
             "#f0f921"
            ]
           ],
           "sequentialminus": [
            [
             0.0,
             "#0d0887"
            ],
            [
             0.1111111111111111,
             "#46039f"
            ],
            [
             0.2222222222222222,
             "#7201a8"
            ],
            [
             0.3333333333333333,
             "#9c179e"
            ],
            [
             0.4444444444444444,
             "#bd3786"
            ],
            [
             0.5555555555555556,
             "#d8576b"
            ],
            [
             0.6666666666666666,
             "#ed7953"
            ],
            [
             0.7777777777777778,
             "#fb9f3a"
            ],
            [
             0.8888888888888888,
             "#fdca26"
            ],
            [
             1.0,
             "#f0f921"
            ]
           ],
           "diverging": [
            [
             0,
             "#8e0152"
            ],
            [
             0.1,
             "#c51b7d"
            ],
            [
             0.2,
             "#de77ae"
            ],
            [
             0.3,
             "#f1b6da"
            ],
            [
             0.4,
             "#fde0ef"
            ],
            [
             0.5,
             "#f7f7f7"
            ],
            [
             0.6,
             "#e6f5d0"
            ],
            [
             0.7,
             "#b8e186"
            ],
            [
             0.8,
             "#7fbc41"
            ],
            [
             0.9,
             "#4d9221"
            ],
            [
             1,
             "#276419"
            ]
           ]
          },
          "xaxis": {
           "gridcolor": "#283442",
           "linecolor": "#506784",
           "ticks": "",
           "title": {
            "standoff": 15
           },
           "zerolinecolor": "#283442",
           "automargin": true,
           "zerolinewidth": 2
          },
          "yaxis": {
           "gridcolor": "#283442",
           "linecolor": "#506784",
           "ticks": "",
           "title": {
            "standoff": 15
           },
           "zerolinecolor": "#283442",
           "automargin": true,
           "zerolinewidth": 2
          },
          "scene": {
           "xaxis": {
            "backgroundcolor": "rgb(17,17,17)",
            "gridcolor": "#506784",
            "linecolor": "#506784",
            "showbackground": true,
            "ticks": "",
            "zerolinecolor": "#C8D4E3",
            "gridwidth": 2
           },
           "yaxis": {
            "backgroundcolor": "rgb(17,17,17)",
            "gridcolor": "#506784",
            "linecolor": "#506784",
            "showbackground": true,
            "ticks": "",
            "zerolinecolor": "#C8D4E3",
            "gridwidth": 2
           },
           "zaxis": {
            "backgroundcolor": "rgb(17,17,17)",
            "gridcolor": "#506784",
            "linecolor": "#506784",
            "showbackground": true,
            "ticks": "",
            "zerolinecolor": "#C8D4E3",
            "gridwidth": 2
           }
          },
          "shapedefaults": {
           "line": {
            "color": "#f2f5fa"
           }
          },
          "annotationdefaults": {
           "arrowcolor": "#f2f5fa",
           "arrowhead": 0,
           "arrowwidth": 1
          },
          "geo": {
           "bgcolor": "rgb(17,17,17)",
           "landcolor": "rgb(17,17,17)",
           "subunitcolor": "#506784",
           "showland": true,
           "showlakes": true,
           "lakecolor": "rgb(17,17,17)"
          },
          "title": {
           "x": 0.05
          },
          "updatemenudefaults": {
           "bgcolor": "#506784",
           "borderwidth": 0
          },
          "sliderdefaults": {
           "bgcolor": "#C8D4E3",
           "borderwidth": 1,
           "bordercolor": "rgb(17,17,17)",
           "tickwidth": 0
          },
          "mapbox": {
           "style": "dark"
          }
         }
        },
        "xaxis": {
         "anchor": "y",
         "domain": [
          0.0,
          1.0
         ],
         "title": {
          "text": "provider carbon intensity"
         }
        },
        "yaxis": {
         "anchor": "x",
         "domain": [
          0.0,
          1.0
         ],
         "title": {
          "text": "grid carbon intensity"
         }
        },
        "legend": {
         "tracegroupgap": 0
        },
        "margin": {
         "t": 60
        }
       },
       "config": {
        "plotlyServerURL": "https://plot.ly"
       }
      }
     },
     "metadata": {},
     "output_type": "display_data"
    }
   ],
   "execution_count": 155
  },
  {
   "metadata": {},
   "cell_type": "markdown",
   "source": "Using the linear regression model, we can extrapolate on the correlation between provider and grid carbon intensity (identified in our heatmap above) and demonstrate a positive linear relationship between the two variables.   There are a few outliers but the general trend is clear.",
   "id": "2395425a71b8f0ce"
  },
  {
   "metadata": {},
   "cell_type": "markdown",
   "source": [
    "## Linear regression by cloud provider\n",
    "If we take the above to the next level of detail we can see if all cloud providers follow that trend:\n"
   ],
   "id": "f04fd6a82c0ab09c"
  },
  {
   "metadata": {
    "ExecuteTime": {
     "end_time": "2025-07-11T16:21:44.760790Z",
     "start_time": "2025-07-11T16:21:44.742907Z"
    }
   },
   "cell_type": "code",
   "source": [
    "scatter_graph = px.scatter(all_year_df,\n",
    "    x='provider carbon intensity',\n",
    "    y='grid carbon intensity',\n",
    "    color='cloud-provider',\n",
    "    symbol='cloud-provider',\n",
    "    trendline='ols')\n",
    "scatter_graph.show()"
   ],
   "id": "32f61e5e81c2ab2f",
   "outputs": [
    {
     "data": {
      "application/vnd.plotly.v1+json": {
       "data": [
        {
         "hovertemplate": "cloud-provider=Google Cloud<br>provider carbon intensity=%{x}<br>grid carbon intensity=%{y}<extra></extra>",
         "legendgroup": "Google Cloud",
         "marker": {
          "color": "#636efa",
          "symbol": "circle"
         },
         "mode": "markers",
         "name": "Google Cloud",
         "orientation": "v",
         "showlegend": true,
         "x": {
          "dtype": "f8",
          "bdata": "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"
         },
         "xaxis": "x",
         "y": {
          "dtype": "f8",
          "bdata": "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"
         },
         "yaxis": "y",
         "type": "scatter"
        },
        {
         "hovertemplate": "<b>OLS trendline</b><br>grid carbon intensity = 0.96259 * provider carbon intensity + 69.1662<br>R<sup>2</sup>=0.855956<br><br>cloud-provider=Google Cloud<br>provider carbon intensity=%{x}<br>grid carbon intensity=%{y} <b>(trend)</b><extra></extra>",
         "legendgroup": "Google Cloud",
         "marker": {
          "color": "#636efa",
          "symbol": "circle"
         },
         "mode": "lines",
         "name": "Google Cloud",
         "showlegend": false,
         "x": {
          "dtype": "f8",
          "bdata": "AAAAAAAAAAAAAAAAAAAAAAAAAAAAAABAAAAAAAAAO0AAAAAAAAA7QAAAAAAAAD1AAAAAAAAAQUAAAAAAAABCQAAAAAAAAEdAAAAAAACAR0AAAAAAAABMQAAAAAAAAExAAAAAAACATUAAAAAAAIBNQAAAAAAAAE5AAAAAAABAUEAAAAAAAMBQQAAAAAAAwFFAAAAAAACAU0AAAAAAAIBVQAAAAAAAwFVAAAAAAADAVUAAAAAAAIBXQAAAAAAAwFlAAAAAAABAW0AAAAAAAIBbQAAAAAAAAFxAAAAAAABAXUAAAAAAAIBdQAAAAAAAQF5AAAAAAACAXkAAAAAAAMBeQAAAAAAAwF9AAAAAAAAgYEAAAAAAAGBgQAAAAAAAoGBAAAAAAAAAYUAAAAAAAABkQAAAAAAAoGRAAAAAAADAZEAAAAAAAIBlQAAAAAAAoGZAAAAAAADAZ0AAAAAAAMBnQAAAAAAAgGhAAAAAAADAaEAAAAAAAEBpQAAAAAAAgGpAAAAAAADgbEAAAAAAAIBtQAAAAAAAAG9AAAAAAAAgb0AAAAAAACBvQAAAAAAAoG9AAAAAAAAQcEAAAAAAANBwQAAAAAAAsHFAAAAAAABQckAAAAAAAIByQAAAAAAAoHJAAAAAAAAsc0AAAAAAACxzQAAAAAAAUHNAAAAAAABQc0AAAAAAANBzQAAAAAAA8HNAAAAAAAAQdEAAAAAAACB0QAAAAAAAIHRAAAAAAAAwdEAAAAAAADB0QAAAAAAAiHRAAAAAAACIdEAAAAAAAGB1QAAAAAAAkHVAAAAAAAAgdkAAAAAAACB2QAAAAAAAgHZAAAAAAACAdkAAAAAAAIB2QAAAAAAAkHZAAAAAAADQdkAAAAAAAEB3QAAAAAAAQHdAAAAAAABAd0AAAAAAAFB3QAAAAAAAoHdAAAAAAADwd0AAAAAAAPB3QAAAAAAAAHhAAAAAAAAQeEAAAAAAAKB4QAAAAAAAwHhAAAAAAACgeUAAAAAAANB5QAAAAAAA4HlAAAAAAACQekAAAAAAAJB6QAAAAAAA4HpAAAAAAAAge0AAAAAAAKB7QAAAAAAA0HtAAAAAAAAAfEAAAAAAADB8QAAAAAAAUHxAAAAAAABQfEAAAAAAAGB8QAAAAAAAcHxAAAAAAACAfEAAAAAAAIB8QAAAAAAAkHxAAAAAAACwfEAAAAAAAPB8QAAAAAAA8HxAAAAAAAAAfUAAAAAAAKB9QAAAAAAAwH1AAAAAAADwfUAAAAAAAAB+QAAAAAAAoH5AAAAAAACgfkAAAAAAALB+QAAAAAAA0H5AAAAAAADQfkAAAAAAAEB/QAAAAAAAUH9AAAAAAACgf0AAAAAAAEiAQAAAAAAAiIBAAAAAAACggEAAAAAAAKiAQAAAAAAA0IBAAAAAAADggEAAAAAAAOiAQAAAAAAAUIFAAAAAAABYgUAAAAAAAICBQAAAAAAAiIFAAAAAAADIgUAAAAAAAPiBQAAAAAAAAIJAAAAAAAAggkAAAAAAACCCQAAAAAAAIIJAAAAAAABggkAAAAAAALCCQAAAAAAA8IJAAAAAAABwg0AAAAAAAMCDQAAAAAAAMIRAAAAAAAA4hEAAAAAAADiEQAAAAAAAQIRAAAAAAACIhEAAAAAAAPCEQAAAAAAA+IRAAAAAAACYhUAAAAAAAIiGQAAAAAAAmIZAAAAAAACohkAAAAAAALiGQAAAAAAAEIdAAAAAAACAh0A="
         },
         "xaxis": "x",
         "y": {
          "dtype": "f8",
          "bdata": "cewnOaJKUUBx7Cc5okpRQH76Gl/YxVFAJCp5Of3JV0AkKnk5/clXQDI4bF8zRVhAU9tLvjp5WUBg6T7kcPRZQKIv/qF/XFxAqbb3tBqaXEDldb1fjsReQOV1vV+OxF5A+QqqmF99X0D5CqqYX31fQACSo6v6ul9AkJpBBYF3YECXITsYHLVgQKQvLj5SMGFAPIiXAPEHYkBWpH1MXf5iQNpn+tUqHWNA2mf61SodY0BwwGOYyfRjQA6gxm0DCmVAIjWzptTCZUCm+C8wouFlQKx/KUM9H2ZAPVGZ8kC5ZkDAFBZ8DthmQEpfjBh3NGdAziIJokRTZ0BR5oUrEnJnQF70eFFI7WdAZXtyZOMqaEBsAmx3fmhoQHKJZYoZpmhA/NPbJoICaUBMKI4Kx+VrQNz5/bnKf2xAYL16Q5iebEB0Umd8aVdtQBIyylGjbG5AsBEtJ92Bb0CwES0n3YFvQGLTDDBXHXBA5ZaJuSQ8cEDsHYPMv3lwQHzv8nvDE3FA3DAUFmQ4ckCkGcztZYVyQLiuuCY3PnNAehB3651Nc0B6EHfrnU1zQICXcP44i3NAhx5qEdTIc0Cbs1ZKpYF0QDIMwAxEWXVAwt0vvEfzdUAHA2sKfCF2QIvG55NJQHZA6Z1pzQzHdkDpnWnNDMd2QN35FQi06XZA3fkVCLTpdkDqBwku6mR3QG7Lhbe3g3dA8Y4CQYWid0Cz8MAF7LF3QLPwwAXssXdAdFJ/ylLBd0B0Un/KUsF3QB1slgQIFnhAHWyWBAgWeEDUk6Bk8+V4QBm527InFHlA6CiNncSeeUDoKI2dxJ55QHJzAzot+3lAcnMDOi37eUBycwM6Lft5QDPVwf6TCnpAOly7ES9IekCGCPBy/rN6QIYI8HL+s3pAhgjwcv6zekBHaq43ZcN6QBBTZg9nEHtA2Dse52hde0DYOx7naF17QJqd3KvPbHtAW/+acDZ8e0Aqb0xb0wZ8QK0yyeSgJXxARYsypz/9fECKsG31cyt9QEsSLLraOn1AnkVaLkXkfUCeRVouReR9QGYuEgZHMX5AbbULGeJufkB6w/4+GOp+QL/oOY1MGH9ABA5124BGf0BJM7AptXR/QMz2LLOCk39AzPYss4KTf0COWOt36aJ/QE+6qTxQsn9AERxoAbfBf0ARHGgBt8F/QNN9JsYd0X9AVkGjT+vvf0AvZE4xwxaAQC9kTjHDFoBAD5Wtk3YegEDYfWVreGuAQJnfIzDfeoBAPHJBV/mRgEAdo6C5rJmAQOWLWJGu5oBA5YtYka7mgEDGvLfzYe6AQIcedrjI/YBAhx52uMj9gECtdBBpsDOBQI6lb8tjO4FA8plLt+RhgUAfd996Z9WBQCX+2I0CE4JAyJD2tBwqgkCowVUX0DGCQA22MQNRWIJAzhfwx7dngkCvSE8qa2+CQBrEJCmH04JA+/SDizrbgkBf6V93uwGDQEAav9luCYNARqG47AlHg0CLxvM6PnWDQGz3Up3xfINA77rPJr+bg0Dvus8mv5uDQO+6zya/m4NA9kHJOVrZg0C+KoERXCaEQMWxeiT3Y4RA0r9tSi3fhECbqCUiLyyFQOZUWoP+l4VAx4W55bGfhUDHhbnlsZ+FQKi2GEhlp4VAj25xvbPshUD66Ua8z1CGQNsaph6DWIZAbOwVzobyhkDEpj1VjNmHQIYI/Bnz6IdASGq63ln4h0AJzHijwAeIQLPlj911XIhA/pHEPkXIiEA="
         },
         "yaxis": "y",
         "type": "scatter"
        },
        {
         "hovertemplate": "cloud-provider=Microsoft Azure<br>provider carbon intensity=%{x}<br>grid carbon intensity=%{y}<extra></extra>",
         "legendgroup": "Microsoft Azure",
         "marker": {
          "color": "#EF553B",
          "symbol": "diamond"
         },
         "mode": "markers",
         "name": "Microsoft Azure",
         "orientation": "v",
         "showlegend": true,
         "x": {
          "dtype": "f8",
          "bdata": "AAAAAAAA+H8AAAAAAAD4fwAAAAAAAPh/AAAAAAAA+H8AAAAAAAD4fwAAAAAAAPh/AAAAAAAA+H8AAAAAAAD4fwAAAAAAAPh/AAAAAAAA+H8AAAAAAAD4fwAAAAAAAPh/AAAAAAAA+H8AAAAAAAD4fwAAAAAAAPh/AAAAAAAA+H8AAAAAAAD4fwAAAAAAAPh/AAAAAAAA+H8AAAAAAAD4fwAAAAAAAPh/AAAAAAAA+H8AAAAAAAD4fwAAAAAAAPh/AAAAAAAA+H8AAAAAAAD4fwAAAAAAAPh/AAAAAAAA+H8AAAAAAAD4fwAAAAAAAPh/AAAAAAAA+H8AAAAAAAD4fwAAAAAAAPh/AAAAAAAA+H8AAAAAAAD4fwAAAAAAAPh/AAAAAAAA+H8AAAAAAAD4fwAAAAAAAPh/AAAAAAAA+H8AAAAAAAD4fwAAAAAAAPh/AAAAAAAA+H8AAAAAAAD4fwAAAAAAAPh/AAAAAAAA+H8AAAAAAAD4fwAAAAAAAPh/AAAAAAAA+H8AAAAAAAD4fwAAAAAAAPh/AAAAAAAA+H8AAAAAAAD4fwAAAAAAAPh/AAAAAAAA+H8AAAAAAAD4fwAAAAAAAPh/AAAAAAAA+H8AAAAAAAD4fwAAAAAAAPh/AAAAAAAA+H8AAAAAAAD4fwAAAAAAAPh/AAAAAAAA+H8AAAAAAAD4fwAAAAAAAPh/AAAAAAAA+H8AAAAAAAD4fwAAAAAAAPh/AAAAAAAA+H8="
         },
         "xaxis": "x",
         "y": {
          "dtype": "f8",
          "bdata": "9ihcj8K1OEA9CtejcLF+QOxRuB6F+1hArkfhehSWYEB7FK5H4WKEQFK4HoXr0TlAZmZmZmZSgkDNzMzMzLaAQD0K16NwrWRASOF6FK4Xd0BSuB6F65luQArXo3A9TnlAAAAAAAAUdUDXo3A9Cot/QFyPwvUolGtAAAAAAAAA+H+uR+F6FMZ8QIXrUbgecYBAhetRuB5xgECuR+F6FFZ5QD0K16Nw3XpAPQrXo3DdekDXo3A9CqdVQAAAAAAAAPh/AAAAAAAA+H8AAAAAAAD4fwAAAAAAAPh/AAAAAAAA+H8AAAAAAAD4fwAAAAAAAPh/AAAAAAAA+H8AAAAAAAD4fwAAAAAAAPh/AAAAAAAA+H8AAAAAAAD4fwAAAAAAAPh/AAAAAAAA+H8AAAAAAAD4fwAAAAAAAPh/AAAAAAAA+H8AAAAAAAD4fwAAAAAAAPh/AAAAAAAA+H8AAAAAAAD4fwAAAAAAAPh/AAAAAAAA+H8AAAAAAAD4fwAAAAAAAPh/AAAAAAAA+H8AAAAAAAD4fwAAAAAAAPh/AAAAAAAA+H8AAAAAAAD4fwAAAAAAAPh/AAAAAAAA+H8AAAAAAAD4fwAAAAAAAPh/AAAAAAAA+H8AAAAAAAD4fwAAAAAAAPh/AAAAAAAA+H8AAAAAAAD4fwAAAAAAAPh/AAAAAAAA+H8AAAAAAAD4fwAAAAAAAPh/AAAAAAAA+H8AAAAAAAD4fwAAAAAAAPh/AAAAAAAA+H8="
         },
         "yaxis": "y",
         "type": "scatter"
        },
        {
         "hovertemplate": "cloud-provider=Microsoft Azure<extra></extra>",
         "legendgroup": "Microsoft Azure",
         "marker": {
          "color": "#EF553B",
          "symbol": "diamond"
         },
         "mode": "lines",
         "name": "Microsoft Azure",
         "showlegend": false,
         "xaxis": "x",
         "yaxis": "y",
         "type": "scatter"
        },
        {
         "hovertemplate": "cloud-provider=Amazon Web Services<br>provider carbon intensity=%{x}<br>grid carbon intensity=%{y}<extra></extra>",
         "legendgroup": "Amazon Web Services",
         "marker": {
          "color": "#00cc96",
          "symbol": "square"
         },
         "mode": "markers",
         "name": "Amazon Web Services",
         "orientation": "v",
         "showlegend": true,
         "x": {
          "dtype": "f8",
          "bdata": "AAAAAAAA+H8AAAAAAAD4fwAAAAAAAPh/AAAAAAAA+H8AAAAAAAD4fwAAAAAAAPh/AAAAAAAA+H8AAAAAAAD4fwAAAAAAAPh/AAAAAAAA+H8AAAAAAAD4fwAAAAAAAPh/AAAAAAAA+H8AAAAAAAD4fwAAAAAAAPh/AAAAAAAA+H8AAAAAAAD4fwAAAAAAAPh/AAAAAAAA+H8AAAAAAAD4fwAAAAAAAPh/AAAAAAAA+H8AAAAAAAD4fwAAAAAAAPh/AAAAAAAA+H8AAAAAAAD4fwAAAAAAAPh/AAAAAAAA+H8AAAAAAAD4fwAAAAAAAPh/AAAAAAAA+H8AAAAAAAD4fwAAAAAAAPh/AAAAAAAA+H8AAAAAAAD4fwAAAAAAAPh/AAAAAAAA+H8AAAAAAAD4fwAAAAAAAPh/AAAAAAAA+H8AAAAAAAD4fwAAAAAAAPh/AAAAAAAA+H8AAAAAAAD4fwAAAAAAAPh/AAAAAAAA+H8AAAAAAAD4fwAAAAAAAPh/AAAAAAAA+H8AAAAAAAD4fwAAAAAAAPh/AAAAAAAA+H8AAAAAAAD4fwAAAAAAAPh/AAAAAAAA+H8AAAAAAAD4fwAAAAAAAPh/AAAAAAAA+H8AAAAAAAD4fwAAAAAAAPh/AAAAAAAA+H8AAAAAAAD4fwAAAAAAAPh/AAAAAAAA+H8AAAAAAAD4fwAAAAAAAPh/AAAAAAAA+H8AAAAAAAD4fwAAAAAAAPh/AAAAAAAA+H8="
         },
         "xaxis": "x",
         "y": {
          "dtype": "f8",
          "bdata": "PQrXo3DdekA9CtejcN16QGZmZmZmhnBA16NwPQqnVUDXo3A9Cot/QI/C9ShcXYdAuB6F61E4PECPwvUoXKd9QArXo3A9TnlAZmZmZmaOa0BI4XoUrhd3QB+F61G4zlZAXI/C9SiUa0BSuB6F69E5QBSuR+F6jGJAPQrXo3DdekDXo3A9CqdVQAAAAAAAAPh/AAAAAAAA+H8zMzMzM5d7QDMzMzMzl3tAZmZmZmYucUDNzMzMzLxWQKRwPQrXYzxAmpmZmZlRe0A9CtejcH13QKRwPQrXQ2xAMzMzMzNzdECF61G4HkVOQOxRuB6Fy2VAMzMzMzOXe0DNzMzMzLxWQAAAAAAAAPh/AAAAAAAA+H8AAAAAAAD4fwAAAAAAAPh/AAAAAAAA+H8AAAAAAAD4fwAAAAAAAPh/AAAAAAAA+H8AAAAAAAD4fwAAAAAAAPh/AAAAAAAA+H8AAAAAAAD4fwAAAAAAAPh/AAAAAAAA+H8AAAAAAAD4fwAAAAAAAPh/AAAAAAAA+H8AAAAAAAD4fwAAAAAAAPh/AAAAAAAA+H8AAAAAAAD4fwAAAAAAAPh/AAAAAAAA+H8AAAAAAAD4fwAAAAAAAPh/AAAAAAAA+H8AAAAAAAD4fwAAAAAAAPh/AAAAAAAA+H8AAAAAAAD4fwAAAAAAAPh/AAAAAAAA+H8AAAAAAAD4fwAAAAAAAPh/AAAAAAAA+H8AAAAAAAD4fwAAAAAAAPh/AAAAAAAA+H8="
         },
         "yaxis": "y",
         "type": "scatter"
        },
        {
         "hovertemplate": "cloud-provider=Amazon Web Services<extra></extra>",
         "legendgroup": "Amazon Web Services",
         "marker": {
          "color": "#00cc96",
          "symbol": "square"
         },
         "mode": "lines",
         "name": "Amazon Web Services",
         "showlegend": false,
         "xaxis": "x",
         "yaxis": "y",
         "type": "scatter"
        }
       ],
       "layout": {
        "template": {
         "data": {
          "histogram2dcontour": [
           {
            "type": "histogram2dcontour",
            "colorbar": {
             "outlinewidth": 0,
             "ticks": ""
            },
            "colorscale": [
             [
              0.0,
              "#0d0887"
             ],
             [
              0.1111111111111111,
              "#46039f"
             ],
             [
              0.2222222222222222,
              "#7201a8"
             ],
             [
              0.3333333333333333,
              "#9c179e"
             ],
             [
              0.4444444444444444,
              "#bd3786"
             ],
             [
              0.5555555555555556,
              "#d8576b"
             ],
             [
              0.6666666666666666,
              "#ed7953"
             ],
             [
              0.7777777777777778,
              "#fb9f3a"
             ],
             [
              0.8888888888888888,
              "#fdca26"
             ],
             [
              1.0,
              "#f0f921"
             ]
            ]
           }
          ],
          "choropleth": [
           {
            "type": "choropleth",
            "colorbar": {
             "outlinewidth": 0,
             "ticks": ""
            }
           }
          ],
          "histogram2d": [
           {
            "type": "histogram2d",
            "colorbar": {
             "outlinewidth": 0,
             "ticks": ""
            },
            "colorscale": [
             [
              0.0,
              "#0d0887"
             ],
             [
              0.1111111111111111,
              "#46039f"
             ],
             [
              0.2222222222222222,
              "#7201a8"
             ],
             [
              0.3333333333333333,
              "#9c179e"
             ],
             [
              0.4444444444444444,
              "#bd3786"
             ],
             [
              0.5555555555555556,
              "#d8576b"
             ],
             [
              0.6666666666666666,
              "#ed7953"
             ],
             [
              0.7777777777777778,
              "#fb9f3a"
             ],
             [
              0.8888888888888888,
              "#fdca26"
             ],
             [
              1.0,
              "#f0f921"
             ]
            ]
           }
          ],
          "heatmap": [
           {
            "type": "heatmap",
            "colorbar": {
             "outlinewidth": 0,
             "ticks": ""
            },
            "colorscale": [
             [
              0.0,
              "#0d0887"
             ],
             [
              0.1111111111111111,
              "#46039f"
             ],
             [
              0.2222222222222222,
              "#7201a8"
             ],
             [
              0.3333333333333333,
              "#9c179e"
             ],
             [
              0.4444444444444444,
              "#bd3786"
             ],
             [
              0.5555555555555556,
              "#d8576b"
             ],
             [
              0.6666666666666666,
              "#ed7953"
             ],
             [
              0.7777777777777778,
              "#fb9f3a"
             ],
             [
              0.8888888888888888,
              "#fdca26"
             ],
             [
              1.0,
              "#f0f921"
             ]
            ]
           }
          ],
          "contourcarpet": [
           {
            "type": "contourcarpet",
            "colorbar": {
             "outlinewidth": 0,
             "ticks": ""
            }
           }
          ],
          "contour": [
           {
            "type": "contour",
            "colorbar": {
             "outlinewidth": 0,
             "ticks": ""
            },
            "colorscale": [
             [
              0.0,
              "#0d0887"
             ],
             [
              0.1111111111111111,
              "#46039f"
             ],
             [
              0.2222222222222222,
              "#7201a8"
             ],
             [
              0.3333333333333333,
              "#9c179e"
             ],
             [
              0.4444444444444444,
              "#bd3786"
             ],
             [
              0.5555555555555556,
              "#d8576b"
             ],
             [
              0.6666666666666666,
              "#ed7953"
             ],
             [
              0.7777777777777778,
              "#fb9f3a"
             ],
             [
              0.8888888888888888,
              "#fdca26"
             ],
             [
              1.0,
              "#f0f921"
             ]
            ]
           }
          ],
          "surface": [
           {
            "type": "surface",
            "colorbar": {
             "outlinewidth": 0,
             "ticks": ""
            },
            "colorscale": [
             [
              0.0,
              "#0d0887"
             ],
             [
              0.1111111111111111,
              "#46039f"
             ],
             [
              0.2222222222222222,
              "#7201a8"
             ],
             [
              0.3333333333333333,
              "#9c179e"
             ],
             [
              0.4444444444444444,
              "#bd3786"
             ],
             [
              0.5555555555555556,
              "#d8576b"
             ],
             [
              0.6666666666666666,
              "#ed7953"
             ],
             [
              0.7777777777777778,
              "#fb9f3a"
             ],
             [
              0.8888888888888888,
              "#fdca26"
             ],
             [
              1.0,
              "#f0f921"
             ]
            ]
           }
          ],
          "mesh3d": [
           {
            "type": "mesh3d",
            "colorbar": {
             "outlinewidth": 0,
             "ticks": ""
            }
           }
          ],
          "scatter": [
           {
            "marker": {
             "line": {
              "color": "#283442"
             }
            },
            "type": "scatter"
           }
          ],
          "parcoords": [
           {
            "type": "parcoords",
            "line": {
             "colorbar": {
              "outlinewidth": 0,
              "ticks": ""
             }
            }
           }
          ],
          "scatterpolargl": [
           {
            "type": "scatterpolargl",
            "marker": {
             "colorbar": {
              "outlinewidth": 0,
              "ticks": ""
             }
            }
           }
          ],
          "bar": [
           {
            "error_x": {
             "color": "#f2f5fa"
            },
            "error_y": {
             "color": "#f2f5fa"
            },
            "marker": {
             "line": {
              "color": "rgb(17,17,17)",
              "width": 0.5
             },
             "pattern": {
              "fillmode": "overlay",
              "size": 10,
              "solidity": 0.2
             }
            },
            "type": "bar"
           }
          ],
          "scattergeo": [
           {
            "type": "scattergeo",
            "marker": {
             "colorbar": {
              "outlinewidth": 0,
              "ticks": ""
             }
            }
           }
          ],
          "scatterpolar": [
           {
            "type": "scatterpolar",
            "marker": {
             "colorbar": {
              "outlinewidth": 0,
              "ticks": ""
             }
            }
           }
          ],
          "histogram": [
           {
            "marker": {
             "pattern": {
              "fillmode": "overlay",
              "size": 10,
              "solidity": 0.2
             }
            },
            "type": "histogram"
           }
          ],
          "scattergl": [
           {
            "marker": {
             "line": {
              "color": "#283442"
             }
            },
            "type": "scattergl"
           }
          ],
          "scatter3d": [
           {
            "type": "scatter3d",
            "line": {
             "colorbar": {
              "outlinewidth": 0,
              "ticks": ""
             }
            },
            "marker": {
             "colorbar": {
              "outlinewidth": 0,
              "ticks": ""
             }
            }
           }
          ],
          "scattermap": [
           {
            "type": "scattermap",
            "marker": {
             "colorbar": {
              "outlinewidth": 0,
              "ticks": ""
             }
            }
           }
          ],
          "scattermapbox": [
           {
            "type": "scattermapbox",
            "marker": {
             "colorbar": {
              "outlinewidth": 0,
              "ticks": ""
             }
            }
           }
          ],
          "scatterternary": [
           {
            "type": "scatterternary",
            "marker": {
             "colorbar": {
              "outlinewidth": 0,
              "ticks": ""
             }
            }
           }
          ],
          "scattercarpet": [
           {
            "type": "scattercarpet",
            "marker": {
             "colorbar": {
              "outlinewidth": 0,
              "ticks": ""
             }
            }
           }
          ],
          "carpet": [
           {
            "aaxis": {
             "endlinecolor": "#A2B1C6",
             "gridcolor": "#506784",
             "linecolor": "#506784",
             "minorgridcolor": "#506784",
             "startlinecolor": "#A2B1C6"
            },
            "baxis": {
             "endlinecolor": "#A2B1C6",
             "gridcolor": "#506784",
             "linecolor": "#506784",
             "minorgridcolor": "#506784",
             "startlinecolor": "#A2B1C6"
            },
            "type": "carpet"
           }
          ],
          "table": [
           {
            "cells": {
             "fill": {
              "color": "#506784"
             },
             "line": {
              "color": "rgb(17,17,17)"
             }
            },
            "header": {
             "fill": {
              "color": "#2a3f5f"
             },
             "line": {
              "color": "rgb(17,17,17)"
             }
            },
            "type": "table"
           }
          ],
          "barpolar": [
           {
            "marker": {
             "line": {
              "color": "rgb(17,17,17)",
              "width": 0.5
             },
             "pattern": {
              "fillmode": "overlay",
              "size": 10,
              "solidity": 0.2
             }
            },
            "type": "barpolar"
           }
          ],
          "pie": [
           {
            "automargin": true,
            "type": "pie"
           }
          ]
         },
         "layout": {
          "autotypenumbers": "strict",
          "colorway": [
           "#636efa",
           "#EF553B",
           "#00cc96",
           "#ab63fa",
           "#FFA15A",
           "#19d3f3",
           "#FF6692",
           "#B6E880",
           "#FF97FF",
           "#FECB52"
          ],
          "font": {
           "color": "#f2f5fa"
          },
          "hovermode": "closest",
          "hoverlabel": {
           "align": "left"
          },
          "paper_bgcolor": "rgb(17,17,17)",
          "plot_bgcolor": "rgb(17,17,17)",
          "polar": {
           "bgcolor": "rgb(17,17,17)",
           "angularaxis": {
            "gridcolor": "#506784",
            "linecolor": "#506784",
            "ticks": ""
           },
           "radialaxis": {
            "gridcolor": "#506784",
            "linecolor": "#506784",
            "ticks": ""
           }
          },
          "ternary": {
           "bgcolor": "rgb(17,17,17)",
           "aaxis": {
            "gridcolor": "#506784",
            "linecolor": "#506784",
            "ticks": ""
           },
           "baxis": {
            "gridcolor": "#506784",
            "linecolor": "#506784",
            "ticks": ""
           },
           "caxis": {
            "gridcolor": "#506784",
            "linecolor": "#506784",
            "ticks": ""
           }
          },
          "coloraxis": {
           "colorbar": {
            "outlinewidth": 0,
            "ticks": ""
           }
          },
          "colorscale": {
           "sequential": [
            [
             0.0,
             "#0d0887"
            ],
            [
             0.1111111111111111,
             "#46039f"
            ],
            [
             0.2222222222222222,
             "#7201a8"
            ],
            [
             0.3333333333333333,
             "#9c179e"
            ],
            [
             0.4444444444444444,
             "#bd3786"
            ],
            [
             0.5555555555555556,
             "#d8576b"
            ],
            [
             0.6666666666666666,
             "#ed7953"
            ],
            [
             0.7777777777777778,
             "#fb9f3a"
            ],
            [
             0.8888888888888888,
             "#fdca26"
            ],
            [
             1.0,
             "#f0f921"
            ]
           ],
           "sequentialminus": [
            [
             0.0,
             "#0d0887"
            ],
            [
             0.1111111111111111,
             "#46039f"
            ],
            [
             0.2222222222222222,
             "#7201a8"
            ],
            [
             0.3333333333333333,
             "#9c179e"
            ],
            [
             0.4444444444444444,
             "#bd3786"
            ],
            [
             0.5555555555555556,
             "#d8576b"
            ],
            [
             0.6666666666666666,
             "#ed7953"
            ],
            [
             0.7777777777777778,
             "#fb9f3a"
            ],
            [
             0.8888888888888888,
             "#fdca26"
            ],
            [
             1.0,
             "#f0f921"
            ]
           ],
           "diverging": [
            [
             0,
             "#8e0152"
            ],
            [
             0.1,
             "#c51b7d"
            ],
            [
             0.2,
             "#de77ae"
            ],
            [
             0.3,
             "#f1b6da"
            ],
            [
             0.4,
             "#fde0ef"
            ],
            [
             0.5,
             "#f7f7f7"
            ],
            [
             0.6,
             "#e6f5d0"
            ],
            [
             0.7,
             "#b8e186"
            ],
            [
             0.8,
             "#7fbc41"
            ],
            [
             0.9,
             "#4d9221"
            ],
            [
             1,
             "#276419"
            ]
           ]
          },
          "xaxis": {
           "gridcolor": "#283442",
           "linecolor": "#506784",
           "ticks": "",
           "title": {
            "standoff": 15
           },
           "zerolinecolor": "#283442",
           "automargin": true,
           "zerolinewidth": 2
          },
          "yaxis": {
           "gridcolor": "#283442",
           "linecolor": "#506784",
           "ticks": "",
           "title": {
            "standoff": 15
           },
           "zerolinecolor": "#283442",
           "automargin": true,
           "zerolinewidth": 2
          },
          "scene": {
           "xaxis": {
            "backgroundcolor": "rgb(17,17,17)",
            "gridcolor": "#506784",
            "linecolor": "#506784",
            "showbackground": true,
            "ticks": "",
            "zerolinecolor": "#C8D4E3",
            "gridwidth": 2
           },
           "yaxis": {
            "backgroundcolor": "rgb(17,17,17)",
            "gridcolor": "#506784",
            "linecolor": "#506784",
            "showbackground": true,
            "ticks": "",
            "zerolinecolor": "#C8D4E3",
            "gridwidth": 2
           },
           "zaxis": {
            "backgroundcolor": "rgb(17,17,17)",
            "gridcolor": "#506784",
            "linecolor": "#506784",
            "showbackground": true,
            "ticks": "",
            "zerolinecolor": "#C8D4E3",
            "gridwidth": 2
           }
          },
          "shapedefaults": {
           "line": {
            "color": "#f2f5fa"
           }
          },
          "annotationdefaults": {
           "arrowcolor": "#f2f5fa",
           "arrowhead": 0,
           "arrowwidth": 1
          },
          "geo": {
           "bgcolor": "rgb(17,17,17)",
           "landcolor": "rgb(17,17,17)",
           "subunitcolor": "#506784",
           "showland": true,
           "showlakes": true,
           "lakecolor": "rgb(17,17,17)"
          },
          "title": {
           "x": 0.05
          },
          "updatemenudefaults": {
           "bgcolor": "#506784",
           "borderwidth": 0
          },
          "sliderdefaults": {
           "bgcolor": "#C8D4E3",
           "borderwidth": 1,
           "bordercolor": "rgb(17,17,17)",
           "tickwidth": 0
          },
          "mapbox": {
           "style": "dark"
          }
         }
        },
        "xaxis": {
         "anchor": "y",
         "domain": [
          0.0,
          1.0
         ],
         "title": {
          "text": "provider carbon intensity"
         }
        },
        "yaxis": {
         "anchor": "x",
         "domain": [
          0.0,
          1.0
         ],
         "title": {
          "text": "grid carbon intensity"
         }
        },
        "legend": {
         "title": {
          "text": "cloud-provider"
         },
         "tracegroupgap": 0
        },
        "margin": {
         "t": 60
        }
       },
       "config": {
        "plotlyServerURL": "https://plot.ly"
       }
      }
     },
     "metadata": {},
     "output_type": "display_data"
    }
   ],
   "execution_count": 156
  },
  {
   "metadata": {},
   "cell_type": "markdown",
   "source": [
    "So the results of this are unexpected - there seems to be no data for cloud providers other than 'Google Cloud' on our linear regression graph.\n",
    "\n",
    "To check why -"
   ],
   "id": "577875fb8a64c11a"
  },
  {
   "metadata": {
    "ExecuteTime": {
     "end_time": "2025-07-11T16:21:44.799376Z",
     "start_time": "2025-07-11T16:21:44.792469Z"
    }
   },
   "cell_type": "code",
   "source": [
    "\n",
    "'''Create a summary table showing how many total rows there are for each cloud provider'''\n",
    "all_rows_regardless_of_carbon = all_year_df['cloud-provider'].value_counts().to_frame().rename(columns={'count':'total rows'})\n",
    "'''Create a summary table showing how many rows there are for each cloud provider when grid carbon intensity is not empty'''\n",
    "not_empty_grid_carbon = all_year_df[all_year_df['grid carbon intensity'].notna()]['cloud-provider'].value_counts().to_frame().rename(columns={'count':'grid carbon intensity'})\n",
    "'''Create a summary table showing how many rows there are for each cloud provider when provider carbon intensity is not empty'''\n",
    "not_empty_provider_carbon = all_year_df[all_year_df['provider carbon intensity'].notna()]['cloud-provider'].value_counts().to_frame().rename(columns={'count':'provider carbon intensity'})\n",
    "'''Merge summary tables together by joining on cloud provider name.  As we've renamed the count column, they do not conflict when merging'''\n",
    "combined_table = pd.merge(all_rows_regardless_of_carbon, not_empty_grid_carbon, how='left', on='cloud-provider')\n",
    "combined_table = pd.merge(combined_table, not_empty_provider_carbon, how='left', on='cloud-provider')\n",
    "'''Use the function i wrote earlier to convert any floats to int and fill in any gaps with zero'''\n",
    "combined_table = cast_float_to_int_and_set_nan_to_zero(combined_table)\n",
    "'''display table - i'll add some styling later'''\n",
    "display(HTML('<span style=\"color: white;font-style:bold\"><br><h2>Comparing how many entries cloud-providers have in the dataset for grid and provider carbon intensity</h2></span>'))\n",
    "display(combined_table)\n"
   ],
   "id": "905e31caadde8f89",
   "outputs": [
    {
     "data": {
      "text/plain": [
       "<IPython.core.display.HTML object>"
      ],
      "text/html": [
       "<span style=\"color: white;font-style:bold\"><br><h2>Comparing how many entries cloud-providers have in the dataset for grid and provider carbon intensity</h2></span>"
      ]
     },
     "metadata": {},
     "output_type": "display_data"
    },
    {
     "data": {
      "text/plain": [
       "                     total rows  grid carbon intensity  \\\n",
       "cloud-provider                                           \n",
       "Google Cloud                238                    163   \n",
       "Microsoft Azure              70                     22   \n",
       "Amazon Web Services          70                     30   \n",
       "\n",
       "                     provider carbon intensity  \n",
       "cloud-provider                                  \n",
       "Google Cloud                               238  \n",
       "Microsoft Azure                              0  \n",
       "Amazon Web Services                          0  "
      ],
      "text/html": [
       "<div>\n",
       "<style scoped>\n",
       "    .dataframe tbody tr th:only-of-type {\n",
       "        vertical-align: middle;\n",
       "    }\n",
       "\n",
       "    .dataframe tbody tr th {\n",
       "        vertical-align: top;\n",
       "    }\n",
       "\n",
       "    .dataframe thead th {\n",
       "        text-align: right;\n",
       "    }\n",
       "</style>\n",
       "<table border=\"1\" class=\"dataframe\">\n",
       "  <thead>\n",
       "    <tr style=\"text-align: right;\">\n",
       "      <th></th>\n",
       "      <th>total rows</th>\n",
       "      <th>grid carbon intensity</th>\n",
       "      <th>provider carbon intensity</th>\n",
       "    </tr>\n",
       "    <tr>\n",
       "      <th>cloud-provider</th>\n",
       "      <th></th>\n",
       "      <th></th>\n",
       "      <th></th>\n",
       "    </tr>\n",
       "  </thead>\n",
       "  <tbody>\n",
       "    <tr>\n",
       "      <th>Google Cloud</th>\n",
       "      <td>238</td>\n",
       "      <td>163</td>\n",
       "      <td>238</td>\n",
       "    </tr>\n",
       "    <tr>\n",
       "      <th>Microsoft Azure</th>\n",
       "      <td>70</td>\n",
       "      <td>22</td>\n",
       "      <td>0</td>\n",
       "    </tr>\n",
       "    <tr>\n",
       "      <th>Amazon Web Services</th>\n",
       "      <td>70</td>\n",
       "      <td>30</td>\n",
       "      <td>0</td>\n",
       "    </tr>\n",
       "  </tbody>\n",
       "</table>\n",
       "</div>"
      ]
     },
     "metadata": {},
     "output_type": "display_data"
    }
   ],
   "execution_count": 157
  },
  {
   "metadata": {},
   "cell_type": "markdown",
   "source": [
    "Unfortunately we can see from above Amazon or Microsoft have provided no data about their carbon intensity, and only 31 - 42% of the data they have provided has details about the grid carbon intensity.\n",
    "\n",
    "Google Cloud is more complete, with 100% coverage for provider carbon intensity, but only 68% coverage for grid carbon intensity.\n",
    "\n",
    "Using data from Google alone is not ideal, but it does provide us some insight into the linear relationship between grid and carbon intensity."
   ],
   "id": "26345898b074bdc5"
  },
  {
   "metadata": {},
   "cell_type": "markdown",
   "source": [
    "## Provider Carbon Intensity by Region\n",
    "\n",
    "Accepting that our analysis may not be an accurate reflection of the CFE / CEE ratio for Azure and AWS, we an still use the data to make an attempt to identify correlation between regions and carbon intensity.\n",
    "\n",
    "First we select only the rows with data for both grid and provider;"
   ],
   "id": "2e621f9b11a45d3b"
  },
  {
   "metadata": {
    "ExecuteTime": {
     "end_time": "2025-07-11T16:21:44.828395Z",
     "start_time": "2025-07-11T16:21:44.825943Z"
    }
   },
   "cell_type": "code",
   "source": [
    "'''make a copy of only the rows that have data in both columns'''\n",
    "grid_and_provider_df = all_year_df[all_year_df['grid carbon intensity'].notna() & all_year_df['provider carbon intensity'].notna()].copy()\n",
    "'''check the number of rows in the filtered dataset'''\n",
    "grid_and_provider_df.shape[0]"
   ],
   "id": "10a1bc1f97568821",
   "outputs": [
    {
     "data": {
      "text/plain": [
       "163"
      ]
     },
     "execution_count": 158,
     "metadata": {},
     "output_type": "execute_result"
    }
   ],
   "execution_count": 158
  },
  {
   "metadata": {},
   "cell_type": "markdown",
   "source": [
    "### Check what regions we have\n",
    "\n"
   ],
   "id": "cbe4fcd16be1ce15"
  },
  {
   "metadata": {
    "ExecuteTime": {
     "end_time": "2025-07-11T16:21:44.870755Z",
     "start_time": "2025-07-11T16:21:44.863027Z"
    }
   },
   "cell_type": "code",
   "source": [
    "unique_locations = grid_and_provider_df[['cloud-region','cfe-region','em-zone-id','location']].sort_values(by=['cloud-region','cfe-region','em-zone-id']).drop_duplicates()\n",
    "'''Show a sample of the data'''\n",
    "display(HTML('<span style=\"color: white;font-style:bold\"><br><h2>Sample of unique locations</h2></span>'))\n",
    "display(unique_locations.sample(10))\n",
    "regional_counts = dict()\n",
    "for location_type in list(unique_locations.columns):\n",
    "    regional_counts[location_type] = unique_locations[location_type].value_counts().to_frame().shape[0]\n",
    "\n",
    "display(HTML('<span style=\"color: white;font-style:bold\"><br><h2>Tally of how many unique entries for each location type there are</h2></span>'))\n",
    "display(pd.DataFrame(pd.Series(regional_counts).to_frame().rename(columns={0:'unique entries'})))\n"
   ],
   "id": "ccff4f0f76f1f64d",
   "outputs": [
    {
     "data": {
      "text/plain": [
       "<IPython.core.display.HTML object>"
      ],
      "text/html": [
       "<span style=\"color: white;font-style:bold\"><br><h2>Sample of unique locations</h2></span>"
      ]
     },
     "metadata": {},
     "output_type": "display_data"
    },
    {
     "data": {
      "text/plain": [
       "             cloud-region       cfe-region   em-zone-id      location\n",
       "33               us-east5              PJM  US-MIDA-PJM      Columbus\n",
       "0           africa-south1     South Africa           ZA  Johannesburg\n",
       "6             asia-south1      Maharashtra        IN-WE        Mumbai\n",
       "3         asia-northeast1            Tokyo        JP-TK         Tokyo\n",
       "38               us-west4              NVE   US-NW-NEVP     Las Vegas\n",
       "273          europe-west2          Germany           DE        London\n",
       "12        europe-central2           Poland           PL        Warsaw\n",
       "10   australia-southeast1  New South Wales       AU-NSW        Sydney\n",
       "21           europe-west9           France           FR         Paris\n",
       "8         asia-southeast1        Singapore           SG     Singapore"
      ],
      "text/html": [
       "<div>\n",
       "<style scoped>\n",
       "    .dataframe tbody tr th:only-of-type {\n",
       "        vertical-align: middle;\n",
       "    }\n",
       "\n",
       "    .dataframe tbody tr th {\n",
       "        vertical-align: top;\n",
       "    }\n",
       "\n",
       "    .dataframe thead th {\n",
       "        text-align: right;\n",
       "    }\n",
       "</style>\n",
       "<table border=\"1\" class=\"dataframe\">\n",
       "  <thead>\n",
       "    <tr style=\"text-align: right;\">\n",
       "      <th></th>\n",
       "      <th>cloud-region</th>\n",
       "      <th>cfe-region</th>\n",
       "      <th>em-zone-id</th>\n",
       "      <th>location</th>\n",
       "    </tr>\n",
       "  </thead>\n",
       "  <tbody>\n",
       "    <tr>\n",
       "      <th>33</th>\n",
       "      <td>us-east5</td>\n",
       "      <td>PJM</td>\n",
       "      <td>US-MIDA-PJM</td>\n",
       "      <td>Columbus</td>\n",
       "    </tr>\n",
       "    <tr>\n",
       "      <th>0</th>\n",
       "      <td>africa-south1</td>\n",
       "      <td>South Africa</td>\n",
       "      <td>ZA</td>\n",
       "      <td>Johannesburg</td>\n",
       "    </tr>\n",
       "    <tr>\n",
       "      <th>6</th>\n",
       "      <td>asia-south1</td>\n",
       "      <td>Maharashtra</td>\n",
       "      <td>IN-WE</td>\n",
       "      <td>Mumbai</td>\n",
       "    </tr>\n",
       "    <tr>\n",
       "      <th>3</th>\n",
       "      <td>asia-northeast1</td>\n",
       "      <td>Tokyo</td>\n",
       "      <td>JP-TK</td>\n",
       "      <td>Tokyo</td>\n",
       "    </tr>\n",
       "    <tr>\n",
       "      <th>38</th>\n",
       "      <td>us-west4</td>\n",
       "      <td>NVE</td>\n",
       "      <td>US-NW-NEVP</td>\n",
       "      <td>Las Vegas</td>\n",
       "    </tr>\n",
       "    <tr>\n",
       "      <th>273</th>\n",
       "      <td>europe-west2</td>\n",
       "      <td>Germany</td>\n",
       "      <td>DE</td>\n",
       "      <td>London</td>\n",
       "    </tr>\n",
       "    <tr>\n",
       "      <th>12</th>\n",
       "      <td>europe-central2</td>\n",
       "      <td>Poland</td>\n",
       "      <td>PL</td>\n",
       "      <td>Warsaw</td>\n",
       "    </tr>\n",
       "    <tr>\n",
       "      <th>10</th>\n",
       "      <td>australia-southeast1</td>\n",
       "      <td>New South Wales</td>\n",
       "      <td>AU-NSW</td>\n",
       "      <td>Sydney</td>\n",
       "    </tr>\n",
       "    <tr>\n",
       "      <th>21</th>\n",
       "      <td>europe-west9</td>\n",
       "      <td>France</td>\n",
       "      <td>FR</td>\n",
       "      <td>Paris</td>\n",
       "    </tr>\n",
       "    <tr>\n",
       "      <th>8</th>\n",
       "      <td>asia-southeast1</td>\n",
       "      <td>Singapore</td>\n",
       "      <td>SG</td>\n",
       "      <td>Singapore</td>\n",
       "    </tr>\n",
       "  </tbody>\n",
       "</table>\n",
       "</div>"
      ]
     },
     "metadata": {},
     "output_type": "display_data"
    },
    {
     "data": {
      "text/plain": [
       "<IPython.core.display.HTML object>"
      ],
      "text/html": [
       "<span style=\"color: white;font-style:bold\"><br><h2>Tally of how many unique entries for each location type there are</h2></span>"
      ]
     },
     "metadata": {},
     "output_type": "display_data"
    },
    {
     "data": {
      "text/plain": [
       "              unique entries\n",
       "cloud-region              38\n",
       "cfe-region                36\n",
       "em-zone-id                36\n",
       "location                  41"
      ],
      "text/html": [
       "<div>\n",
       "<style scoped>\n",
       "    .dataframe tbody tr th:only-of-type {\n",
       "        vertical-align: middle;\n",
       "    }\n",
       "\n",
       "    .dataframe tbody tr th {\n",
       "        vertical-align: top;\n",
       "    }\n",
       "\n",
       "    .dataframe thead th {\n",
       "        text-align: right;\n",
       "    }\n",
       "</style>\n",
       "<table border=\"1\" class=\"dataframe\">\n",
       "  <thead>\n",
       "    <tr style=\"text-align: right;\">\n",
       "      <th></th>\n",
       "      <th>unique entries</th>\n",
       "    </tr>\n",
       "  </thead>\n",
       "  <tbody>\n",
       "    <tr>\n",
       "      <th>cloud-region</th>\n",
       "      <td>38</td>\n",
       "    </tr>\n",
       "    <tr>\n",
       "      <th>cfe-region</th>\n",
       "      <td>36</td>\n",
       "    </tr>\n",
       "    <tr>\n",
       "      <th>em-zone-id</th>\n",
       "      <td>36</td>\n",
       "    </tr>\n",
       "    <tr>\n",
       "      <th>location</th>\n",
       "      <td>41</td>\n",
       "    </tr>\n",
       "  </tbody>\n",
       "</table>\n",
       "</div>"
      ]
     },
     "metadata": {},
     "output_type": "display_data"
    }
   ],
   "execution_count": 159
  },
  {
   "metadata": {},
   "cell_type": "markdown",
   "source": [
    "Reviewing the above there doesn't seem to be much grouping around the location data - the expectation was that we'd see location be part of much smaller groups denoted by em-zone-id but that doesn't seem to be the case.\n",
    "\n",
    "Still we can make an attempt at showing a relationship between location and carbon intensity:\n",
    "\n",
    "## Relationship between Cloud Location and Carbon Intensity"
   ],
   "id": "78a45f40cec3a3fd"
  },
  {
   "metadata": {
    "ExecuteTime": {
     "end_time": "2025-07-11T16:21:44.932834Z",
     "start_time": "2025-07-11T16:21:44.913462Z"
    }
   },
   "cell_type": "code",
   "source": [
    "'''Attempt to group the locations by grid carbon intensity, by getting the average value : selecting cfe-region as it is the most readable of the two smaller location groups'''\n",
    "grid_grouped_df = grid_and_provider_df.groupby('cfe-region', as_index=False)['grid carbon intensity'].mean()\n",
    "grid_grouped_df = cast_float_to_int_and_set_nan_to_zero(grid_grouped_df)\n",
    "'''Now do the same for provider'''\n",
    "provider_grouped_df = grid_and_provider_df.groupby('cfe-region', as_index=False)['provider carbon intensity'].mean()\n",
    "provider_grouped_df = cast_float_to_int_and_set_nan_to_zero(provider_grouped_df)\n",
    "combined_table = pd.merge(grid_grouped_df, provider_grouped_df, how='left', on='cfe-region').sort_values(by=['grid carbon intensity'])\n",
    "display(combined_table.sample(5))\n",
    "combined_table.rename(columns={'provider carbon intensity':'provider','grid carbon intensity':'grid'}, inplace=True)\n",
    "combined_table = combined_table.melt(id_vars='cfe-region', value_vars=['grid', 'provider'], var_name='carbon intensity type', value_name='Co2g Kwh')\n",
    "\n",
    "line_graph = px.line(combined_table, x='cfe-region', y='Co2g Kwh', color='carbon intensity type', title='Cloud provider location vs grid carbon intensity')\n",
    "line_graph.show()\n"
   ],
   "id": "b3a5e42a47b3a905",
   "outputs": [
    {
     "data": {
      "text/plain": [
       "        cfe-region  grid carbon intensity  provider carbon intensity\n",
       "16             NVE                    493                        416\n",
       "25              SC                    629                        501\n",
       "6          Finland                    128                         95\n",
       "9    Great Britain                    214                        188\n",
       "3   Central Brazil                    122                         92"
      ],
      "text/html": [
       "<div>\n",
       "<style scoped>\n",
       "    .dataframe tbody tr th:only-of-type {\n",
       "        vertical-align: middle;\n",
       "    }\n",
       "\n",
       "    .dataframe tbody tr th {\n",
       "        vertical-align: top;\n",
       "    }\n",
       "\n",
       "    .dataframe thead th {\n",
       "        text-align: right;\n",
       "    }\n",
       "</style>\n",
       "<table border=\"1\" class=\"dataframe\">\n",
       "  <thead>\n",
       "    <tr style=\"text-align: right;\">\n",
       "      <th></th>\n",
       "      <th>cfe-region</th>\n",
       "      <th>grid carbon intensity</th>\n",
       "      <th>provider carbon intensity</th>\n",
       "    </tr>\n",
       "  </thead>\n",
       "  <tbody>\n",
       "    <tr>\n",
       "      <th>16</th>\n",
       "      <td>NVE</td>\n",
       "      <td>493</td>\n",
       "      <td>416</td>\n",
       "    </tr>\n",
       "    <tr>\n",
       "      <th>25</th>\n",
       "      <td>SC</td>\n",
       "      <td>629</td>\n",
       "      <td>501</td>\n",
       "    </tr>\n",
       "    <tr>\n",
       "      <th>6</th>\n",
       "      <td>Finland</td>\n",
       "      <td>128</td>\n",
       "      <td>95</td>\n",
       "    </tr>\n",
       "    <tr>\n",
       "      <th>9</th>\n",
       "      <td>Great Britain</td>\n",
       "      <td>214</td>\n",
       "      <td>188</td>\n",
       "    </tr>\n",
       "    <tr>\n",
       "      <th>3</th>\n",
       "      <td>Central Brazil</td>\n",
       "      <td>122</td>\n",
       "      <td>92</td>\n",
       "    </tr>\n",
       "  </tbody>\n",
       "</table>\n",
       "</div>"
      ]
     },
     "metadata": {},
     "output_type": "display_data"
    },
    {
     "data": {
      "application/vnd.plotly.v1+json": {
       "data": [
        {
         "hovertemplate": "carbon intensity type=grid<br>cfe-region=%{x}<br>Co2g Kwh=%{y}<extra></extra>",
         "legendgroup": "grid",
         "line": {
          "color": "#636efa",
          "dash": "solid"
         },
         "marker": {
          "symbol": "circle"
         },
         "mode": "lines",
         "name": "grid",
         "orientation": "v",
         "showlegend": true,
         "x": [
          "Quebec",
          "Ontario",
          "France",
          "BPA",
          "Switzerland",
          "Central Brazil",
          "Finland",
          "Spain",
          "Belgium",
          "Great Britain",
          "CAISO",
          "North Italy",
          "Chile",
          "Netherlands",
          "United Arab Emirates",
          "ERCOT",
          "Kansai",
          "Germany",
          "PJM",
          "Hong Kong",
          "South Korea",
          "Singapore",
          "NVE",
          "Uttar Pradesh",
          "Israel",
          "Taiwan",
          "MISO",
          "Tokyo",
          "Victoria",
          "SC",
          "New South Wales",
          "Indonesia",
          "PACE",
          "South Africa",
          "Maharashtra",
          "Poland"
         ],
         "xaxis": "x",
         "y": {
          "dtype": "i2",
          "bdata": "HABAAEQAYAB4AHoAgAC2AMIA1gAIAUgBTQFjAX0BlgGeAaQBqwGzAdkB6wHtARgCGQIaAhsCJgJEAnUCfgKMApgCvgLWAj0D"
         },
         "yaxis": "y",
         "type": "scatter"
        },
        {
         "hovertemplate": "carbon intensity type=provider<br>cfe-region=%{x}<br>Co2g Kwh=%{y}<extra></extra>",
         "legendgroup": "provider",
         "line": {
          "color": "#EF553B",
          "dash": "solid"
         },
         "marker": {
          "symbol": "circle"
         },
         "mode": "lines",
         "name": "provider",
         "orientation": "v",
         "showlegend": true,
         "x": [
          "Quebec",
          "Ontario",
          "France",
          "BPA",
          "Switzerland",
          "Central Brazil",
          "Finland",
          "Spain",
          "Belgium",
          "Great Britain",
          "CAISO",
          "North Italy",
          "Chile",
          "Netherlands",
          "United Arab Emirates",
          "ERCOT",
          "Kansai",
          "Germany",
          "PJM",
          "Hong Kong",
          "South Korea",
          "Singapore",
          "NVE",
          "Uttar Pradesh",
          "Israel",
          "Taiwan",
          "MISO",
          "Tokyo",
          "Victoria",
          "SC",
          "New South Wales",
          "Indonesia",
          "PACE",
          "South Africa",
          "Maharashtra",
          "Poland"
         ],
         "xaxis": "x",
         "y": {
          "dtype": "i2",
          "bdata": "CwAlADYAUwCYAFwAXwCJAIgAvADaAP4AiQBAAT8CPwGRATsBTAGXAbMBpAGgAW4C1QHoAbgB9QHTAfUBaQJeAiMChgKdApgC"
         },
         "yaxis": "y",
         "type": "scatter"
        }
       ],
       "layout": {
        "template": {
         "data": {
          "histogram2dcontour": [
           {
            "type": "histogram2dcontour",
            "colorbar": {
             "outlinewidth": 0,
             "ticks": ""
            },
            "colorscale": [
             [
              0.0,
              "#0d0887"
             ],
             [
              0.1111111111111111,
              "#46039f"
             ],
             [
              0.2222222222222222,
              "#7201a8"
             ],
             [
              0.3333333333333333,
              "#9c179e"
             ],
             [
              0.4444444444444444,
              "#bd3786"
             ],
             [
              0.5555555555555556,
              "#d8576b"
             ],
             [
              0.6666666666666666,
              "#ed7953"
             ],
             [
              0.7777777777777778,
              "#fb9f3a"
             ],
             [
              0.8888888888888888,
              "#fdca26"
             ],
             [
              1.0,
              "#f0f921"
             ]
            ]
           }
          ],
          "choropleth": [
           {
            "type": "choropleth",
            "colorbar": {
             "outlinewidth": 0,
             "ticks": ""
            }
           }
          ],
          "histogram2d": [
           {
            "type": "histogram2d",
            "colorbar": {
             "outlinewidth": 0,
             "ticks": ""
            },
            "colorscale": [
             [
              0.0,
              "#0d0887"
             ],
             [
              0.1111111111111111,
              "#46039f"
             ],
             [
              0.2222222222222222,
              "#7201a8"
             ],
             [
              0.3333333333333333,
              "#9c179e"
             ],
             [
              0.4444444444444444,
              "#bd3786"
             ],
             [
              0.5555555555555556,
              "#d8576b"
             ],
             [
              0.6666666666666666,
              "#ed7953"
             ],
             [
              0.7777777777777778,
              "#fb9f3a"
             ],
             [
              0.8888888888888888,
              "#fdca26"
             ],
             [
              1.0,
              "#f0f921"
             ]
            ]
           }
          ],
          "heatmap": [
           {
            "type": "heatmap",
            "colorbar": {
             "outlinewidth": 0,
             "ticks": ""
            },
            "colorscale": [
             [
              0.0,
              "#0d0887"
             ],
             [
              0.1111111111111111,
              "#46039f"
             ],
             [
              0.2222222222222222,
              "#7201a8"
             ],
             [
              0.3333333333333333,
              "#9c179e"
             ],
             [
              0.4444444444444444,
              "#bd3786"
             ],
             [
              0.5555555555555556,
              "#d8576b"
             ],
             [
              0.6666666666666666,
              "#ed7953"
             ],
             [
              0.7777777777777778,
              "#fb9f3a"
             ],
             [
              0.8888888888888888,
              "#fdca26"
             ],
             [
              1.0,
              "#f0f921"
             ]
            ]
           }
          ],
          "contourcarpet": [
           {
            "type": "contourcarpet",
            "colorbar": {
             "outlinewidth": 0,
             "ticks": ""
            }
           }
          ],
          "contour": [
           {
            "type": "contour",
            "colorbar": {
             "outlinewidth": 0,
             "ticks": ""
            },
            "colorscale": [
             [
              0.0,
              "#0d0887"
             ],
             [
              0.1111111111111111,
              "#46039f"
             ],
             [
              0.2222222222222222,
              "#7201a8"
             ],
             [
              0.3333333333333333,
              "#9c179e"
             ],
             [
              0.4444444444444444,
              "#bd3786"
             ],
             [
              0.5555555555555556,
              "#d8576b"
             ],
             [
              0.6666666666666666,
              "#ed7953"
             ],
             [
              0.7777777777777778,
              "#fb9f3a"
             ],
             [
              0.8888888888888888,
              "#fdca26"
             ],
             [
              1.0,
              "#f0f921"
             ]
            ]
           }
          ],
          "surface": [
           {
            "type": "surface",
            "colorbar": {
             "outlinewidth": 0,
             "ticks": ""
            },
            "colorscale": [
             [
              0.0,
              "#0d0887"
             ],
             [
              0.1111111111111111,
              "#46039f"
             ],
             [
              0.2222222222222222,
              "#7201a8"
             ],
             [
              0.3333333333333333,
              "#9c179e"
             ],
             [
              0.4444444444444444,
              "#bd3786"
             ],
             [
              0.5555555555555556,
              "#d8576b"
             ],
             [
              0.6666666666666666,
              "#ed7953"
             ],
             [
              0.7777777777777778,
              "#fb9f3a"
             ],
             [
              0.8888888888888888,
              "#fdca26"
             ],
             [
              1.0,
              "#f0f921"
             ]
            ]
           }
          ],
          "mesh3d": [
           {
            "type": "mesh3d",
            "colorbar": {
             "outlinewidth": 0,
             "ticks": ""
            }
           }
          ],
          "scatter": [
           {
            "marker": {
             "line": {
              "color": "#283442"
             }
            },
            "type": "scatter"
           }
          ],
          "parcoords": [
           {
            "type": "parcoords",
            "line": {
             "colorbar": {
              "outlinewidth": 0,
              "ticks": ""
             }
            }
           }
          ],
          "scatterpolargl": [
           {
            "type": "scatterpolargl",
            "marker": {
             "colorbar": {
              "outlinewidth": 0,
              "ticks": ""
             }
            }
           }
          ],
          "bar": [
           {
            "error_x": {
             "color": "#f2f5fa"
            },
            "error_y": {
             "color": "#f2f5fa"
            },
            "marker": {
             "line": {
              "color": "rgb(17,17,17)",
              "width": 0.5
             },
             "pattern": {
              "fillmode": "overlay",
              "size": 10,
              "solidity": 0.2
             }
            },
            "type": "bar"
           }
          ],
          "scattergeo": [
           {
            "type": "scattergeo",
            "marker": {
             "colorbar": {
              "outlinewidth": 0,
              "ticks": ""
             }
            }
           }
          ],
          "scatterpolar": [
           {
            "type": "scatterpolar",
            "marker": {
             "colorbar": {
              "outlinewidth": 0,
              "ticks": ""
             }
            }
           }
          ],
          "histogram": [
           {
            "marker": {
             "pattern": {
              "fillmode": "overlay",
              "size": 10,
              "solidity": 0.2
             }
            },
            "type": "histogram"
           }
          ],
          "scattergl": [
           {
            "marker": {
             "line": {
              "color": "#283442"
             }
            },
            "type": "scattergl"
           }
          ],
          "scatter3d": [
           {
            "type": "scatter3d",
            "line": {
             "colorbar": {
              "outlinewidth": 0,
              "ticks": ""
             }
            },
            "marker": {
             "colorbar": {
              "outlinewidth": 0,
              "ticks": ""
             }
            }
           }
          ],
          "scattermap": [
           {
            "type": "scattermap",
            "marker": {
             "colorbar": {
              "outlinewidth": 0,
              "ticks": ""
             }
            }
           }
          ],
          "scattermapbox": [
           {
            "type": "scattermapbox",
            "marker": {
             "colorbar": {
              "outlinewidth": 0,
              "ticks": ""
             }
            }
           }
          ],
          "scatterternary": [
           {
            "type": "scatterternary",
            "marker": {
             "colorbar": {
              "outlinewidth": 0,
              "ticks": ""
             }
            }
           }
          ],
          "scattercarpet": [
           {
            "type": "scattercarpet",
            "marker": {
             "colorbar": {
              "outlinewidth": 0,
              "ticks": ""
             }
            }
           }
          ],
          "carpet": [
           {
            "aaxis": {
             "endlinecolor": "#A2B1C6",
             "gridcolor": "#506784",
             "linecolor": "#506784",
             "minorgridcolor": "#506784",
             "startlinecolor": "#A2B1C6"
            },
            "baxis": {
             "endlinecolor": "#A2B1C6",
             "gridcolor": "#506784",
             "linecolor": "#506784",
             "minorgridcolor": "#506784",
             "startlinecolor": "#A2B1C6"
            },
            "type": "carpet"
           }
          ],
          "table": [
           {
            "cells": {
             "fill": {
              "color": "#506784"
             },
             "line": {
              "color": "rgb(17,17,17)"
             }
            },
            "header": {
             "fill": {
              "color": "#2a3f5f"
             },
             "line": {
              "color": "rgb(17,17,17)"
             }
            },
            "type": "table"
           }
          ],
          "barpolar": [
           {
            "marker": {
             "line": {
              "color": "rgb(17,17,17)",
              "width": 0.5
             },
             "pattern": {
              "fillmode": "overlay",
              "size": 10,
              "solidity": 0.2
             }
            },
            "type": "barpolar"
           }
          ],
          "pie": [
           {
            "automargin": true,
            "type": "pie"
           }
          ]
         },
         "layout": {
          "autotypenumbers": "strict",
          "colorway": [
           "#636efa",
           "#EF553B",
           "#00cc96",
           "#ab63fa",
           "#FFA15A",
           "#19d3f3",
           "#FF6692",
           "#B6E880",
           "#FF97FF",
           "#FECB52"
          ],
          "font": {
           "color": "#f2f5fa"
          },
          "hovermode": "closest",
          "hoverlabel": {
           "align": "left"
          },
          "paper_bgcolor": "rgb(17,17,17)",
          "plot_bgcolor": "rgb(17,17,17)",
          "polar": {
           "bgcolor": "rgb(17,17,17)",
           "angularaxis": {
            "gridcolor": "#506784",
            "linecolor": "#506784",
            "ticks": ""
           },
           "radialaxis": {
            "gridcolor": "#506784",
            "linecolor": "#506784",
            "ticks": ""
           }
          },
          "ternary": {
           "bgcolor": "rgb(17,17,17)",
           "aaxis": {
            "gridcolor": "#506784",
            "linecolor": "#506784",
            "ticks": ""
           },
           "baxis": {
            "gridcolor": "#506784",
            "linecolor": "#506784",
            "ticks": ""
           },
           "caxis": {
            "gridcolor": "#506784",
            "linecolor": "#506784",
            "ticks": ""
           }
          },
          "coloraxis": {
           "colorbar": {
            "outlinewidth": 0,
            "ticks": ""
           }
          },
          "colorscale": {
           "sequential": [
            [
             0.0,
             "#0d0887"
            ],
            [
             0.1111111111111111,
             "#46039f"
            ],
            [
             0.2222222222222222,
             "#7201a8"
            ],
            [
             0.3333333333333333,
             "#9c179e"
            ],
            [
             0.4444444444444444,
             "#bd3786"
            ],
            [
             0.5555555555555556,
             "#d8576b"
            ],
            [
             0.6666666666666666,
             "#ed7953"
            ],
            [
             0.7777777777777778,
             "#fb9f3a"
            ],
            [
             0.8888888888888888,
             "#fdca26"
            ],
            [
             1.0,
             "#f0f921"
            ]
           ],
           "sequentialminus": [
            [
             0.0,
             "#0d0887"
            ],
            [
             0.1111111111111111,
             "#46039f"
            ],
            [
             0.2222222222222222,
             "#7201a8"
            ],
            [
             0.3333333333333333,
             "#9c179e"
            ],
            [
             0.4444444444444444,
             "#bd3786"
            ],
            [
             0.5555555555555556,
             "#d8576b"
            ],
            [
             0.6666666666666666,
             "#ed7953"
            ],
            [
             0.7777777777777778,
             "#fb9f3a"
            ],
            [
             0.8888888888888888,
             "#fdca26"
            ],
            [
             1.0,
             "#f0f921"
            ]
           ],
           "diverging": [
            [
             0,
             "#8e0152"
            ],
            [
             0.1,
             "#c51b7d"
            ],
            [
             0.2,
             "#de77ae"
            ],
            [
             0.3,
             "#f1b6da"
            ],
            [
             0.4,
             "#fde0ef"
            ],
            [
             0.5,
             "#f7f7f7"
            ],
            [
             0.6,
             "#e6f5d0"
            ],
            [
             0.7,
             "#b8e186"
            ],
            [
             0.8,
             "#7fbc41"
            ],
            [
             0.9,
             "#4d9221"
            ],
            [
             1,
             "#276419"
            ]
           ]
          },
          "xaxis": {
           "gridcolor": "#283442",
           "linecolor": "#506784",
           "ticks": "",
           "title": {
            "standoff": 15
           },
           "zerolinecolor": "#283442",
           "automargin": true,
           "zerolinewidth": 2
          },
          "yaxis": {
           "gridcolor": "#283442",
           "linecolor": "#506784",
           "ticks": "",
           "title": {
            "standoff": 15
           },
           "zerolinecolor": "#283442",
           "automargin": true,
           "zerolinewidth": 2
          },
          "scene": {
           "xaxis": {
            "backgroundcolor": "rgb(17,17,17)",
            "gridcolor": "#506784",
            "linecolor": "#506784",
            "showbackground": true,
            "ticks": "",
            "zerolinecolor": "#C8D4E3",
            "gridwidth": 2
           },
           "yaxis": {
            "backgroundcolor": "rgb(17,17,17)",
            "gridcolor": "#506784",
            "linecolor": "#506784",
            "showbackground": true,
            "ticks": "",
            "zerolinecolor": "#C8D4E3",
            "gridwidth": 2
           },
           "zaxis": {
            "backgroundcolor": "rgb(17,17,17)",
            "gridcolor": "#506784",
            "linecolor": "#506784",
            "showbackground": true,
            "ticks": "",
            "zerolinecolor": "#C8D4E3",
            "gridwidth": 2
           }
          },
          "shapedefaults": {
           "line": {
            "color": "#f2f5fa"
           }
          },
          "annotationdefaults": {
           "arrowcolor": "#f2f5fa",
           "arrowhead": 0,
           "arrowwidth": 1
          },
          "geo": {
           "bgcolor": "rgb(17,17,17)",
           "landcolor": "rgb(17,17,17)",
           "subunitcolor": "#506784",
           "showland": true,
           "showlakes": true,
           "lakecolor": "rgb(17,17,17)"
          },
          "title": {
           "x": 0.05
          },
          "updatemenudefaults": {
           "bgcolor": "#506784",
           "borderwidth": 0
          },
          "sliderdefaults": {
           "bgcolor": "#C8D4E3",
           "borderwidth": 1,
           "bordercolor": "rgb(17,17,17)",
           "tickwidth": 0
          },
          "mapbox": {
           "style": "dark"
          }
         }
        },
        "xaxis": {
         "anchor": "y",
         "domain": [
          0.0,
          1.0
         ],
         "title": {
          "text": "cfe-region"
         }
        },
        "yaxis": {
         "anchor": "x",
         "domain": [
          0.0,
          1.0
         ],
         "title": {
          "text": "Co2g Kwh"
         }
        },
        "legend": {
         "title": {
          "text": "carbon intensity type"
         },
         "tracegroupgap": 0
        },
        "title": {
         "text": "Cloud provider location vs grid carbon intensity"
        }
       },
       "config": {
        "plotlyServerURL": "https://plot.ly"
       }
      }
     },
     "metadata": {},
     "output_type": "display_data"
    }
   ],
   "execution_count": 160
  },
  {
   "metadata": {},
   "cell_type": "markdown",
   "source": [
    "From the above graph we can see that Poland, Maharashtra and South Africa have the highest grid & provider carbon intensity values, with Quebec, Ontario and France having the lowest.\n",
    "\n",
    "It would seem that Canada would be a good place to locate Cloud Compute workloads, at least on GCP, to reduce the generation of Scope 3 emissions via non Carbon Free energy usage to power them.\n",
    "\n",
    "## Profiling Report Generator for reference"
   ],
   "id": "3c748eef39a58235"
  },
  {
   "metadata": {
    "ExecuteTime": {
     "end_time": "2025-07-11T16:21:44.961678Z",
     "start_time": "2025-07-11T16:21:44.959589Z"
    }
   },
   "cell_type": "code",
   "source": [
    "'''This section is for generating a Profiling report so we can have some insight into the data\n",
    "    For the moment it is commented out as we have a pre-generated version'''\n",
    "#%pip install ydata-profiling\n",
    "#from ydata_profiling import ProfileReport\n",
    "#profile = ProfileReport(df, title=\"Cloud Computing CFE 2019-2023_cleansed\")\n",
    "#profile.to_file(\"cloud_compute_cfe_2019-2013_cleansed.html\")"
   ],
   "id": "c2c7ae5bc8feaf37",
   "outputs": [
    {
     "data": {
      "text/plain": [
       "'This section is for generating a Profiling report so we can have some insight into the data\\n    For the moment it is commented out as we have a pre-generated version'"
      ]
     },
     "execution_count": 161,
     "metadata": {},
     "output_type": "execute_result"
    }
   ],
   "execution_count": 161
  }
 ],
 "metadata": {
  "kernelspec": {
   "display_name": "Python 3",
   "language": "python",
   "name": "python3"
  },
  "language_info": {
   "codemirror_mode": {
    "name": "ipython",
    "version": 2
   },
   "file_extension": ".py",
   "mimetype": "text/x-python",
   "name": "python",
   "nbconvert_exporter": "python",
   "pygments_lexer": "ipython2",
   "version": "2.7.6"
  }
 },
 "nbformat": 4,
 "nbformat_minor": 5
}
