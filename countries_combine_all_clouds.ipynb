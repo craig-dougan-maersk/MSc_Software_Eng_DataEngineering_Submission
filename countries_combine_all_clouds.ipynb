{
 "cells": [
  {
   "metadata": {
    "ExecuteTime": {
     "end_time": "2025-07-20T16:04:25.390791Z",
     "start_time": "2025-07-20T16:04:23.343636Z"
    }
   },
   "cell_type": "code",
   "source": [
    "'''Install pre-req modules'''\n",
    "!pip install lxml pandas rapidfuzz ipython plotly"
   ],
   "id": "64906b68635dd4de",
   "outputs": [
    {
     "name": "stdout",
     "output_type": "stream",
     "text": [
      "Requirement already satisfied: lxml in c:\\users\\craig\\pycharmprojects\\msc_software_eng_dataengineering_submission\\.venv\\lib\\site-packages (6.0.0)\n",
      "Requirement already satisfied: pandas in c:\\users\\craig\\pycharmprojects\\msc_software_eng_dataengineering_submission\\.venv\\lib\\site-packages (2.3.1)\n",
      "Requirement already satisfied: rapidfuzz in c:\\users\\craig\\pycharmprojects\\msc_software_eng_dataengineering_submission\\.venv\\lib\\site-packages (3.13.0)\n",
      "Requirement already satisfied: ipython in c:\\users\\craig\\pycharmprojects\\msc_software_eng_dataengineering_submission\\.venv\\lib\\site-packages (9.4.0)\n",
      "Requirement already satisfied: plotly in c:\\users\\craig\\pycharmprojects\\msc_software_eng_dataengineering_submission\\.venv\\lib\\site-packages (6.2.0)\n",
      "Requirement already satisfied: numpy>=1.26.0 in c:\\users\\craig\\pycharmprojects\\msc_software_eng_dataengineering_submission\\.venv\\lib\\site-packages (from pandas) (2.3.1)\n",
      "Requirement already satisfied: python-dateutil>=2.8.2 in c:\\users\\craig\\pycharmprojects\\msc_software_eng_dataengineering_submission\\.venv\\lib\\site-packages (from pandas) (2.9.0.post0)\n",
      "Requirement already satisfied: pytz>=2020.1 in c:\\users\\craig\\pycharmprojects\\msc_software_eng_dataengineering_submission\\.venv\\lib\\site-packages (from pandas) (2025.2)\n",
      "Requirement already satisfied: tzdata>=2022.7 in c:\\users\\craig\\pycharmprojects\\msc_software_eng_dataengineering_submission\\.venv\\lib\\site-packages (from pandas) (2025.2)\n",
      "Requirement already satisfied: colorama in c:\\users\\craig\\pycharmprojects\\msc_software_eng_dataengineering_submission\\.venv\\lib\\site-packages (from ipython) (0.4.6)\n",
      "Requirement already satisfied: decorator in c:\\users\\craig\\pycharmprojects\\msc_software_eng_dataengineering_submission\\.venv\\lib\\site-packages (from ipython) (5.2.1)\n",
      "Requirement already satisfied: ipython-pygments-lexers in c:\\users\\craig\\pycharmprojects\\msc_software_eng_dataengineering_submission\\.venv\\lib\\site-packages (from ipython) (1.1.1)\n",
      "Requirement already satisfied: jedi>=0.16 in c:\\users\\craig\\pycharmprojects\\msc_software_eng_dataengineering_submission\\.venv\\lib\\site-packages (from ipython) (0.19.2)\n",
      "Requirement already satisfied: matplotlib-inline in c:\\users\\craig\\pycharmprojects\\msc_software_eng_dataengineering_submission\\.venv\\lib\\site-packages (from ipython) (0.1.7)\n",
      "Requirement already satisfied: prompt_toolkit<3.1.0,>=3.0.41 in c:\\users\\craig\\pycharmprojects\\msc_software_eng_dataengineering_submission\\.venv\\lib\\site-packages (from ipython) (3.0.51)\n",
      "Requirement already satisfied: pygments>=2.4.0 in c:\\users\\craig\\pycharmprojects\\msc_software_eng_dataengineering_submission\\.venv\\lib\\site-packages (from ipython) (2.19.2)\n",
      "Requirement already satisfied: stack_data in c:\\users\\craig\\pycharmprojects\\msc_software_eng_dataengineering_submission\\.venv\\lib\\site-packages (from ipython) (0.6.3)\n",
      "Requirement already satisfied: traitlets>=5.13.0 in c:\\users\\craig\\pycharmprojects\\msc_software_eng_dataengineering_submission\\.venv\\lib\\site-packages (from ipython) (5.14.3)\n",
      "Requirement already satisfied: wcwidth in c:\\users\\craig\\pycharmprojects\\msc_software_eng_dataengineering_submission\\.venv\\lib\\site-packages (from prompt_toolkit<3.1.0,>=3.0.41->ipython) (0.2.13)\n",
      "Requirement already satisfied: narwhals>=1.15.1 in c:\\users\\craig\\pycharmprojects\\msc_software_eng_dataengineering_submission\\.venv\\lib\\site-packages (from plotly) (1.47.1)\n",
      "Requirement already satisfied: packaging in c:\\users\\craig\\pycharmprojects\\msc_software_eng_dataengineering_submission\\.venv\\lib\\site-packages (from plotly) (25.0)\n",
      "Requirement already satisfied: parso<0.9.0,>=0.8.4 in c:\\users\\craig\\pycharmprojects\\msc_software_eng_dataengineering_submission\\.venv\\lib\\site-packages (from jedi>=0.16->ipython) (0.8.4)\n",
      "Requirement already satisfied: six>=1.5 in c:\\users\\craig\\pycharmprojects\\msc_software_eng_dataengineering_submission\\.venv\\lib\\site-packages (from python-dateutil>=2.8.2->pandas) (1.17.0)\n",
      "Requirement already satisfied: executing>=1.2.0 in c:\\users\\craig\\pycharmprojects\\msc_software_eng_dataengineering_submission\\.venv\\lib\\site-packages (from stack_data->ipython) (2.2.0)\n",
      "Requirement already satisfied: asttokens>=2.1.0 in c:\\users\\craig\\pycharmprojects\\msc_software_eng_dataengineering_submission\\.venv\\lib\\site-packages (from stack_data->ipython) (3.0.0)\n",
      "Requirement already satisfied: pure-eval in c:\\users\\craig\\pycharmprojects\\msc_software_eng_dataengineering_submission\\.venv\\lib\\site-packages (from stack_data->ipython) (0.2.3)\n"
     ]
    }
   ],
   "execution_count": 5
  },
  {
   "metadata": {},
   "cell_type": "markdown",
   "source": "## Import Modules",
   "id": "cbadb374d46be276"
  },
  {
   "metadata": {
    "ExecuteTime": {
     "end_time": "2025-07-20T16:04:30.398443Z",
     "start_time": "2025-07-20T16:04:30.391219Z"
    }
   },
   "cell_type": "code",
   "source": [
    "import pandas as pd\n",
    "import plotly.express as px\n",
    "from rapidfuzz import process, fuzz\n",
    "from IPython.display import display, HTML"
   ],
   "id": "d84eec87373a76a8",
   "outputs": [],
   "execution_count": 6
  },
  {
   "metadata": {},
   "cell_type": "markdown",
   "source": [
    "## Custom Functions\n",
    "### Display Functions"
   ],
   "id": "24e6ec1e228bdbf1"
  },
  {
   "metadata": {
    "ExecuteTime": {
     "end_time": "2025-07-20T16:04:33.223337Z",
     "start_time": "2025-07-20T16:04:33.209751Z"
    }
   },
   "cell_type": "code",
   "source": [
    "def write(text,colour='black',style='normal',header=0):\n",
    "    htag=dict()\n",
    "    if header > 0:\n",
    "        htag['open'] = f\"<h{header}>\"\n",
    "        htag['close'] = f\"</h{header}>\"\n",
    "    else:\n",
    "        htag['open'] =  htag['close'] = \"\"\n",
    "    display(HTML(f'<span style=\"color: {colour};font-style:{style}\"><br>{htag['open']}{text}{htag['close']}</span>'))\n",
    "\n",
    "def visual_check_dataframe(input_df,dataset_name,rows=3,sample_only=False):\n",
    "    '''Run some visual checks on dataframe so we can see how it looks'''\n",
    "    write(f\"Starting Visual Check : {dataset_name}\",'green',header=4)\n",
    "    if not sample_only:\n",
    "        write(f'Check top {rows} row(s), followed by a sample of {rows} row(s) and then the bottom {rows} row(s)')\n",
    "        display(input_df.head(rows))\n",
    "    if sample_only: write(f'Checking random sample of {rows} rows')\n",
    "    display(input_df.sample(rows))\n",
    "    if not sample_only:\n",
    "        display(input_df.tail(rows))\n",
    "    write(f\"Ending Visual Check : {dataset_name}\",'red',style='italic',header=5)"
   ],
   "id": "b7ec8c98647fd217",
   "outputs": [],
   "execution_count": 7
  },
  {
   "metadata": {},
   "cell_type": "markdown",
   "source": [
    "### Data Import Functions\n",
    "#### Functions for importing supplementary Datasets providing additional geoographic information"
   ],
   "id": "3b45b41065987438"
  },
  {
   "metadata": {
    "ExecuteTime": {
     "end_time": "2025-07-20T16:04:36.708938Z",
     "start_time": "2025-07-20T16:04:36.699202Z"
    }
   },
   "cell_type": "code",
   "source": [
    "def get_us_state_abbreviation_dataset_from_web():\n",
    "    output_df = pd.read_html('https://en.wikipedia.org/wiki/List_of_states_and_territories_of_the_United_States')[1]\n",
    "    return output_df\n",
    "\n",
    "def get_tld_country_dataset():\n",
    "    '''Retrieve all TLD country data from Wikipedia'''\n",
    "    wiki_page = \"https://en.wikipedia.org/wiki/ISO_3166-1_alpha-2\"\n",
    "    output_df = pd.read_html(wiki_page)[4]\n",
    "    return output_df\n",
    "\n",
    "def get_m49_country_dataset():\n",
    "    #https://unstats.un.org/unsd/methodology/m49/overview/#\n",
    "    output_df = pd.read_csv('imported-datasets/UNSD — Methodology.csv', sep=';')\n",
    "    return output_df"
   ],
   "id": "cfb7f7250e25bbb6",
   "outputs": [],
   "execution_count": 8
  },
  {
   "metadata": {},
   "cell_type": "markdown",
   "source": "#### Functions for importing supplementary Datasets providing location detail for Cloud provider Datacentres",
   "id": "87df22137205058a"
  },
  {
   "metadata": {
    "ExecuteTime": {
     "end_time": "2025-07-20T16:04:39.832289Z",
     "start_time": "2025-07-20T16:04:39.824123Z"
    }
   },
   "cell_type": "code",
   "source": [
    "def get_aws_region_dataset():\n",
    "    output_df = pd.read_html('https://docs.aws.amazon.com/global-infrastructure/latest/regions/aws-regions.html')[0]\n",
    "    return output_df\n",
    "\n",
    "def azure_region_dataset():\n",
    "    output_df = pd.read_html(\"https://learn.microsoft.com/en-us/azure/reliability/regions-list\")\n",
    "    return output_df[1]\n",
    "\n",
    "def get_google_region_dataset():\n",
    "    output_df = pd.read_html('https://en.wikipedia.org/wiki/Google_data_centers')[1]\n",
    "    return output_df"
   ],
   "id": "fb3013417c172d2",
   "outputs": [],
   "execution_count": 9
  },
  {
   "metadata": {},
   "cell_type": "markdown",
   "source": [
    "### Data Cleansing/Sanitizing Functions\n",
    "#### Functions for cleansing of supplementary Datasets providing additional geographic information"
   ],
   "id": "e39e539ea861adc1"
  },
  {
   "metadata": {
    "ExecuteTime": {
     "end_time": "2025-07-20T17:00:24.650328Z",
     "start_time": "2025-07-20T17:00:24.638690Z"
    }
   },
   "cell_type": "code",
   "source": [
    "def clean_us_state_abbreviation_dataset(input_df):\n",
    "    output_df = input_df.copy()\n",
    "    '''Drop everything after first two columns'''\n",
    "    output_df.drop(columns=[output_df.columns[i] for i in range(2,len(output_df.columns))], inplace=True)\n",
    "    '''Set columns to something easier'''\n",
    "    output_df.columns=['County','County Code']\n",
    "    '''Some entries like Virginia have a [B] on the end due to weblinks from being imported from webpage'''\n",
    "    output_df['County'] = output_df['County'].str.replace(r'\\[[A-Z]+\\]$', '', regex=True)\n",
    "    return output_df\n",
    "\n",
    "def clean_tld_country_data(input_df):\n",
    "    output_df = input_df.copy()\n",
    "    columns_to_drop = ['Year','Notes']\n",
    "    columns_to_rename = {'Code': 'A2 Code', 'ccTLD':'tld'}\n",
    "    output_df.drop(columns=columns_to_drop, inplace=True)\n",
    "    output_df.rename(columns=columns_to_rename, inplace=True)\n",
    "    return output_df\n",
    "\n",
    "def clean_m49_country_data(input_df):\n",
    "    output_df = input_df.copy()\n",
    "    columns_to_drop = [\n",
    "        'Global Code',\n",
    "        'Global Name',\n",
    "        'Land Locked Developing Countries (LLDC)',\n",
    "        'Least Developed Countries (LDC)',\n",
    "        'Small Island Developing States (SIDS)',\n",
    "        'Intermediate Region Code',\n",
    "        'Intermediate Region Name',]\n",
    "    output_df.drop(columns=columns_to_drop,inplace=True)\n",
    "    return output_df\n",
    "\n"
   ],
   "id": "6cfbf94608eb6478",
   "outputs": [],
   "execution_count": 24
  },
  {
   "metadata": {},
   "cell_type": "markdown",
   "source": "#### Functions for cleansing of supplementary Datasets providing location detail for Cloud provider Datacentres",
   "id": "4e05e3c7bd285cb2"
  },
  {
   "metadata": {
    "ExecuteTime": {
     "end_time": "2025-07-20T21:47:18.903685Z",
     "start_time": "2025-07-20T21:47:18.886376Z"
    }
   },
   "cell_type": "code",
   "source": [
    "def clean_aws_region_dataset(input_df):\n",
    "    columns_to_rename = { 'Code': 'cloud-region' }\n",
    "    columns_to_drop = ['Opt-in status']\n",
    "    output_df = input_df.copy().rename(columns=columns_to_rename)\n",
    "    output_df.drop(columns=columns_to_drop,inplace=True)\n",
    "    return output_df\n",
    "\n",
    "def clean_azure_region_dataset(input_df):\n",
    "    columns_to_drop = ['Availability zone support','Paired region']\n",
    "    columns_to_rename = {'Region':'cloud-region'}\n",
    "    '''Drop columns we don't need'''\n",
    "    output_df = input_df.copy().drop(columns_to_drop, axis=1)\n",
    "    '''Set cloud region column name to match our master datasets\n",
    "       then remove all spaces from the entries, and convert to\n",
    "       lowercase, so the content matches too'''\n",
    "    output_df.rename(columns=columns_to_rename, inplace=True)\n",
    "    output_df['cloud-region'] = output_df.apply(\n",
    "        lambda row: row['cloud-region'].lower().replace(\" \", \"\"), axis=1)\n",
    "    output_df['Locality'] = output_df['country'] = output_df['Subdivision'] = \"\"\n",
    "    return output_df\n",
    "\n",
    "def clean_google_region_dataset(input_df,us_states_df=usa_states_df):\n",
    "    columns_to_drop = ['Geo','Timeline','Description','Products Location']\n",
    "    output_df = input_df.copy().drop(columns=columns_to_drop)\n",
    "\n",
    "    '''Some entries in Location have the reference number link from the webpage applied to\n",
    "   the end of the name - e.g. Germany[61].   Use a regex to remove this;\n",
    "   replace any substring that contains left & right square brackets, surrounding\n",
    "   one or more numbers'''\n",
    "    output_df['Location'] = output_df['Location'].str.replace(r'\\[\\d+\\]$', '', regex=True)\n",
    "\n",
    "    '''Extract the country from the end of the location cells'''\n",
    "    output_df['country'] = output_df.apply(lambda row: row['Location'].split(',')[-1], axis=1)\n",
    "\n",
    "    '''Remove rows where cloud location is null or a hyphen as there is no DC there'''\n",
    "    output_df = output_df[output_df['Cloud Location'].notnull()]\n",
    "    output_df = output_df[output_df['Cloud Location'] != \"-\"]\n",
    "\n",
    "    '''Extract the Cloud Region from Cloud Location'''\n",
    "    output_df['cloud-region'] = output_df.apply(\n",
    "        lambda row: row['Cloud Location'].split('(')[-1].split(')')[0], axis=1)\n",
    "\n",
    "    '''Extract Locality from Location'''\n",
    "    output_df['Locality'] = output_df.apply(\n",
    "        lambda row: row['Location'].split(',')[0], axis=1)\n",
    "\n",
    "    '''Extract subdivision code (county/province) from Locality'''\n",
    "    output_df['Subdivision Code'] = output_df.apply(\n",
    "        lambda row: row['Locality'].split('(')[-1].strip(')') if '(' in str(row['Locality']) else None, axis=1)\n",
    "\n",
    "    '''Extract subdivision name (county/province) from Location'''\n",
    "    output_df['Subdivision'] = output_df.apply(\n",
    "        lambda row: row['Location'].split(',')[1].strip() if str(row['Location']).count(',') >= 2 else None, axis=1)\n",
    "\n",
    "    '''Remove the subdivision code from locality now we have it in our own column\n",
    "       - use regex to find a space, then left bracket, followed by 2 instances of letters,\n",
    "       followed by a right bracket and the end of the string - then remove this'''\n",
    "    output_df['Locality'] = output_df['Locality'].str.replace(r' \\([A-Z]{2}\\)$', '', regex=True)\n",
    "\n",
    "    '''After creating new columns based on the values of others, we can now drop the\n",
    "       original source columns as we don't need them'''\n",
    "    output_df.drop(columns=['Location','Cloud Location'], inplace=True)\n",
    "\n",
    "    '''Match the Subdivision Code from the list of US state abbreviations'''\n",
    "    output_df = output_df.merge(\n",
    "        us_states_df,\n",
    "        left_on='Subdivision Code',\n",
    "        right_on='County Code',\n",
    "        how='left')\n",
    "\n",
    "    output_df['Subdivision'] = output_df['Subdivision'].combine_first(output_df['County'])\n",
    "\n",
    "    return output_df"
   ],
   "id": "9877caf8754cde26",
   "outputs": [],
   "execution_count": 84
  },
  {
   "metadata": {},
   "cell_type": "markdown",
   "source": [
    "### Data Merging Functions\n",
    "#### Merging Dataframes"
   ],
   "id": "31c74a7ebddc06ff"
  },
  {
   "metadata": {
    "ExecuteTime": {
     "end_time": "2025-07-20T21:20:32.700788Z",
     "start_time": "2025-07-20T21:20:32.689557Z"
    }
   },
   "cell_type": "code",
   "source": [
    "def merge_two_datasets(input_df1, input_df2, left,right,method='left'):\n",
    "    output_df = pd.merge(input_df1, input_df2, left_on=left, right_on=right, how=method)\n",
    "    output_df.fillna(0, inplace=True)\n",
    "    return output_df\n",
    "\n",
    "def merge_tld_and_m49_datasets(input_df_left, input_df_right):\n",
    "    output_df = merge_two_datasets(input_df_left, input_df_right, 'A2 Code', 'ISO-alpha2 Code')\n",
    "    output_df = output_df.astype(\n",
    "        {'M49 Code': int,\n",
    "         'Sub-region Code': int,\n",
    "         'Region Code': int})\n",
    "    return output_df\n",
    "\n",
    "def combine_cloud_region_details_with_location_info(\n",
    "        input_cloud_region_df,\n",
    "        left='Geography',\n",
    "        right='Country or Area',\n",
    "        input_locations_df = locations_df,\n",
    "):\n",
    "    return pd.merge(\n",
    "        input_cloud_region_df,\n",
    "        input_locations_df,\n",
    "        left_on=left,\n",
    "        right_on=right,\n",
    "        how='left')"
   ],
   "id": "a596d3c843add7b5",
   "outputs": [],
   "execution_count": 76
  },
  {
   "metadata": {},
   "cell_type": "markdown",
   "source": "#### Functions for cleansing of merged supplementary Datasets",
   "id": "438fa90e3ad61ee1"
  },
  {
   "metadata": {
    "ExecuteTime": {
     "end_time": "2025-07-20T22:48:25.529499Z",
     "start_time": "2025-07-20T22:48:25.514678Z"
    }
   },
   "cell_type": "code",
   "source": [
    "def cleanup_combined_tld_m49_dataset(input_df):\n",
    "    output_df = input_df.copy()\n",
    "    '''Rename the column with the country name to one easier to work with'''\n",
    "    output_df.rename(columns={'Country name (using title case)':'source-name'}, inplace=True)\n",
    "\n",
    "    '''Extract the shortened country name from the cell with title case included'''\n",
    "    output_df['short-name'] = output_df.apply(\n",
    "            lambda row: row['source-name'].split(',')[0].strip() if str(row['source-name']).count(',') >= 1 else row['source-name'], axis=1)\n",
    "    '''Reorder the string in the cell with the title case, so we get a long-form country name'''\n",
    "    output_df['long-name'] = output_df.apply(\n",
    "            lambda row: f\"{row['source-name'].split(',')[1].strip()} {row['source-name'].split(',')[0].strip()}\"  if str(row['source-name']).count(',') >= 1 else row['source-name'], axis=1)\n",
    "\n",
    "    '''Use conditional to find any rows that have ISO-Alpha2 set to 0'''\n",
    "    write(\"Assigning 'ISO-alpha2' to same value as 'A2 Code' for any entries that are set to 0\")\n",
    "    output_df.loc[\n",
    "        output_df['ISO-alpha2 Code'] == 0,\n",
    "        'ISO-alpha2 Code'\n",
    "        ] = output_df.loc[\n",
    "                output_df['ISO-alpha2 Code'] == 0,\n",
    "                'A2 Code'\n",
    "                ]\n",
    "    '''Drop redundant columns'''\n",
    "    output_df.drop(columns=['source-name','Country or Area','A2 Code'], inplace=True)\n",
    "    '''Re-order columns in dataframe so most important info is first'''\n",
    "    new_column_order = ['short-name', 'long-name','Sub-region Name','Region Name', 'tld', 'Sub-region Code','Region Code', 'M49 Code' ,'ISO-alpha2 Code', 'ISO-alpha3 Code']\n",
    "    output_df = output_df[new_column_order]\n",
    "\n",
    "    return output_df"
   ],
   "id": "eb05a0d9d7a357fb",
   "outputs": [],
   "execution_count": 104
  },
  {
   "metadata": {},
   "cell_type": "markdown",
   "source": "#### Functions for checking consistency",
   "id": "6ef58e15b5248626"
  },
  {
   "metadata": {
    "ExecuteTime": {
     "end_time": "2025-07-20T23:33:04.264417Z",
     "start_time": "2025-07-20T23:33:04.253230Z"
    }
   },
   "cell_type": "code",
   "source": [
    "def check_consistency_tld_m49_dataset_pre_cleanup(input_df):\n",
    "    '''Check that no entries are missing both the ISO-alpha2 and ISO-alpha3 codes as these comes from the m49 dataset'''\n",
    "\n",
    "    results = input_df[(input_df['ISO-alpha2 Code'].isnull()) & (input_df['ISO-alpha3 Code'].isnull())]\n",
    "    display(\"ISO-alpha2 and ISO-alpha3 codes that are null:\")\n",
    "    display(results)\n",
    "    results = input_df[(input_df['ISO-alpha2 Code'] == 0) & (input_df['ISO-alpha3 Code'] == 0)]\n",
    "    display(\"ISO-alpha2 & 3 Codes that are both set to zero:\")\n",
    "    display(results)\n",
    "    write(\"Taiwan is the only Country without an entry in the M49 - there are political reasons for this.  For now, this can be corrected by assigning the ISO-alpha2 Code to the A2 Code\")\n",
    "\n",
    "def check_consistency_tld_m49_dataset_post_cleanup(input_df):\n",
    "    results = input_df[(input_df['ISO-alpha2 Code'] == 0) & (input_df['ISO-alpha3 Code'] == 0)]\n",
    "    display(\"ISO-alpha2 & 3 Codes that are both set to zero:\")\n",
    "    display(results)\n",
    "    display(\"Check Taiwan specifically :\")\n",
    "    display(input_df[input_df['ISO-alpha2 Code'] == 'TW'])\n",
    "\n",
    "'''Look for any records that didnt merge correctly'''\n",
    "def identify_cloud_regions_with_incomplete_country_info(input_df,dataset_name):\n",
    "    '''create a list of any rows with null values for Country or Area'''\n",
    "    unmerged_cloud_regions = input_df[input_df['Country or Area'].isnull()]['cloud-region'].to_list()\n",
    "    '''Create a DataFrame collating details of the unmerged regions'''\n",
    "    unmerged_details_df = input_df[input_df['cloud-region'].isin(unmerged_cloud_regions)][['cloud-region', 'Geography','Country name (using title case)','Country or Area','tld','Region Code','Region Name']]\n",
    "    display(f\"Unmerged Cloud Regions for {dataset_name}:\")\n",
    "    display(unmerged_details_df)\n",
    "    return unmerged_details_df"
   ],
   "id": "d20d9b21deffb839",
   "outputs": [],
   "execution_count": 140
  },
  {
   "metadata": {},
   "cell_type": "markdown",
   "source": [
    "## Load Datasets\n",
    "We have a number of datasets to load in here, some containing the actual data we want, and some used for sanitizing our data or adding additional context\n",
    "\n",
    "### Supplementary Datasets\n",
    "\n",
    "* Top Level Domain (TLD) listing by Country, from wikipedia\n",
    "* M49 \"Standard country or area codes for statistical use\" dataset from the United Nations Statistics Division (UNSD)\n",
    "* American States abbreviation codes to name mapping from wikipedia\n",
    "* AWS Cloud Region names to location mapping from Amazons online documentation\n",
    "* Google cloud Region names to location mapping from wikipedia\n",
    "\n",
    "### Main Datasets"
   ],
   "id": "897aa8473200db9e"
  },
  {
   "metadata": {},
   "cell_type": "markdown",
   "source": "## Supplementary Datasets",
   "id": "f6cf32dece871d4d"
  },
  {
   "metadata": {},
   "cell_type": "markdown",
   "source": [
    "### USA States Abbreviation Code Dataset\n",
    "#### Load in Data"
   ],
   "id": "9220f0c940822fa8"
  },
  {
   "metadata": {
    "ExecuteTime": {
     "end_time": "2025-07-20T22:32:19.265606Z",
     "start_time": "2025-07-20T22:32:18.934242Z"
    }
   },
   "cell_type": "code",
   "source": [
    "usa_states_df = get_us_state_abbreviation_dataset_from_web()\n",
    "visual_check_dataframe(usa_states_df,\"USA State Code Dataset\", rows=1)"
   ],
   "id": "21e310d45d1948bc",
   "outputs": [
    {
     "data": {
      "text/plain": [
       "<IPython.core.display.HTML object>"
      ],
      "text/html": [
       "<span style=\"color: green;font-style:normal\"><br><h4>Starting Visual Check : USA State Code Dataset</h4></span>"
      ]
     },
     "metadata": {},
     "output_type": "display_data"
    },
    {
     "data": {
      "text/plain": [
       "<IPython.core.display.HTML object>"
      ],
      "text/html": [
       "<span style=\"color: black;font-style:normal\"><br>Check top 1 row(s), followed by a sample of 1 row(s) and then the bottom 1 row(s)</span>"
      ]
     },
     "metadata": {},
     "output_type": "display_data"
    },
    {
     "data": {
      "text/plain": [
       "  Flag, name and postal abbreviation[8]  \\\n",
       "  Flag, name and postal abbreviation[8]   \n",
       "0                               Alabama   \n",
       "\n",
       "                                               Cities              \\\n",
       "  Flag, name and postal abbreviation[8].1     Capital Largest[12]   \n",
       "0                                      AL  Montgomery  Huntsville   \n",
       "\n",
       "  Ratification or admission[A] Population (2020)[10] Total area[11]          \\\n",
       "  Ratification or admission[A] Population (2020)[10]            mi2     km2   \n",
       "0                 Dec 14, 1819               5024279          52420  135767   \n",
       "\n",
       "  Reps.  \n",
       "  Reps.  \n",
       "0     7  "
      ],
      "text/html": [
       "<div>\n",
       "<style scoped>\n",
       "    .dataframe tbody tr th:only-of-type {\n",
       "        vertical-align: middle;\n",
       "    }\n",
       "\n",
       "    .dataframe tbody tr th {\n",
       "        vertical-align: top;\n",
       "    }\n",
       "\n",
       "    .dataframe thead tr th {\n",
       "        text-align: left;\n",
       "    }\n",
       "</style>\n",
       "<table border=\"1\" class=\"dataframe\">\n",
       "  <thead>\n",
       "    <tr>\n",
       "      <th></th>\n",
       "      <th colspan=\"2\" halign=\"left\">Flag, name and postal abbreviation[8]</th>\n",
       "      <th colspan=\"2\" halign=\"left\">Cities</th>\n",
       "      <th>Ratification or admission[A]</th>\n",
       "      <th>Population (2020)[10]</th>\n",
       "      <th colspan=\"2\" halign=\"left\">Total area[11]</th>\n",
       "      <th>Reps.</th>\n",
       "    </tr>\n",
       "    <tr>\n",
       "      <th></th>\n",
       "      <th>Flag, name and postal abbreviation[8]</th>\n",
       "      <th>Flag, name and postal abbreviation[8].1</th>\n",
       "      <th>Capital</th>\n",
       "      <th>Largest[12]</th>\n",
       "      <th>Ratification or admission[A]</th>\n",
       "      <th>Population (2020)[10]</th>\n",
       "      <th>mi2</th>\n",
       "      <th>km2</th>\n",
       "      <th>Reps.</th>\n",
       "    </tr>\n",
       "  </thead>\n",
       "  <tbody>\n",
       "    <tr>\n",
       "      <th>0</th>\n",
       "      <td>Alabama</td>\n",
       "      <td>AL</td>\n",
       "      <td>Montgomery</td>\n",
       "      <td>Huntsville</td>\n",
       "      <td>Dec 14, 1819</td>\n",
       "      <td>5024279</td>\n",
       "      <td>52420</td>\n",
       "      <td>135767</td>\n",
       "      <td>7</td>\n",
       "    </tr>\n",
       "  </tbody>\n",
       "</table>\n",
       "</div>"
      ]
     },
     "metadata": {},
     "output_type": "display_data"
    },
    {
     "data": {
      "text/plain": [
       "   Flag, name and postal abbreviation[8]  \\\n",
       "   Flag, name and postal abbreviation[8]   \n",
       "22                             Minnesota   \n",
       "\n",
       "                                                Cities               \\\n",
       "   Flag, name and postal abbreviation[8].1     Capital  Largest[12]   \n",
       "22                                      MN  Saint Paul  Minneapolis   \n",
       "\n",
       "   Ratification or admission[A] Population (2020)[10] Total area[11]          \\\n",
       "   Ratification or admission[A] Population (2020)[10]            mi2     km2   \n",
       "22                 May 11, 1858               5706494          86936  225163   \n",
       "\n",
       "   Reps.  \n",
       "   Reps.  \n",
       "22     8  "
      ],
      "text/html": [
       "<div>\n",
       "<style scoped>\n",
       "    .dataframe tbody tr th:only-of-type {\n",
       "        vertical-align: middle;\n",
       "    }\n",
       "\n",
       "    .dataframe tbody tr th {\n",
       "        vertical-align: top;\n",
       "    }\n",
       "\n",
       "    .dataframe thead tr th {\n",
       "        text-align: left;\n",
       "    }\n",
       "</style>\n",
       "<table border=\"1\" class=\"dataframe\">\n",
       "  <thead>\n",
       "    <tr>\n",
       "      <th></th>\n",
       "      <th colspan=\"2\" halign=\"left\">Flag, name and postal abbreviation[8]</th>\n",
       "      <th colspan=\"2\" halign=\"left\">Cities</th>\n",
       "      <th>Ratification or admission[A]</th>\n",
       "      <th>Population (2020)[10]</th>\n",
       "      <th colspan=\"2\" halign=\"left\">Total area[11]</th>\n",
       "      <th>Reps.</th>\n",
       "    </tr>\n",
       "    <tr>\n",
       "      <th></th>\n",
       "      <th>Flag, name and postal abbreviation[8]</th>\n",
       "      <th>Flag, name and postal abbreviation[8].1</th>\n",
       "      <th>Capital</th>\n",
       "      <th>Largest[12]</th>\n",
       "      <th>Ratification or admission[A]</th>\n",
       "      <th>Population (2020)[10]</th>\n",
       "      <th>mi2</th>\n",
       "      <th>km2</th>\n",
       "      <th>Reps.</th>\n",
       "    </tr>\n",
       "  </thead>\n",
       "  <tbody>\n",
       "    <tr>\n",
       "      <th>22</th>\n",
       "      <td>Minnesota</td>\n",
       "      <td>MN</td>\n",
       "      <td>Saint Paul</td>\n",
       "      <td>Minneapolis</td>\n",
       "      <td>May 11, 1858</td>\n",
       "      <td>5706494</td>\n",
       "      <td>86936</td>\n",
       "      <td>225163</td>\n",
       "      <td>8</td>\n",
       "    </tr>\n",
       "  </tbody>\n",
       "</table>\n",
       "</div>"
      ]
     },
     "metadata": {},
     "output_type": "display_data"
    },
    {
     "data": {
      "text/plain": [
       "   Flag, name and postal abbreviation[8]  \\\n",
       "   Flag, name and postal abbreviation[8]   \n",
       "49                               Wyoming   \n",
       "\n",
       "                                              Cities              \\\n",
       "   Flag, name and postal abbreviation[8].1   Capital Largest[12]   \n",
       "49                                      WY  Cheyenne    Cheyenne   \n",
       "\n",
       "   Ratification or admission[A] Population (2020)[10] Total area[11]          \\\n",
       "   Ratification or admission[A] Population (2020)[10]            mi2     km2   \n",
       "49                 Jul 10, 1890                576851          97813  253335   \n",
       "\n",
       "   Reps.  \n",
       "   Reps.  \n",
       "49     1  "
      ],
      "text/html": [
       "<div>\n",
       "<style scoped>\n",
       "    .dataframe tbody tr th:only-of-type {\n",
       "        vertical-align: middle;\n",
       "    }\n",
       "\n",
       "    .dataframe tbody tr th {\n",
       "        vertical-align: top;\n",
       "    }\n",
       "\n",
       "    .dataframe thead tr th {\n",
       "        text-align: left;\n",
       "    }\n",
       "</style>\n",
       "<table border=\"1\" class=\"dataframe\">\n",
       "  <thead>\n",
       "    <tr>\n",
       "      <th></th>\n",
       "      <th colspan=\"2\" halign=\"left\">Flag, name and postal abbreviation[8]</th>\n",
       "      <th colspan=\"2\" halign=\"left\">Cities</th>\n",
       "      <th>Ratification or admission[A]</th>\n",
       "      <th>Population (2020)[10]</th>\n",
       "      <th colspan=\"2\" halign=\"left\">Total area[11]</th>\n",
       "      <th>Reps.</th>\n",
       "    </tr>\n",
       "    <tr>\n",
       "      <th></th>\n",
       "      <th>Flag, name and postal abbreviation[8]</th>\n",
       "      <th>Flag, name and postal abbreviation[8].1</th>\n",
       "      <th>Capital</th>\n",
       "      <th>Largest[12]</th>\n",
       "      <th>Ratification or admission[A]</th>\n",
       "      <th>Population (2020)[10]</th>\n",
       "      <th>mi2</th>\n",
       "      <th>km2</th>\n",
       "      <th>Reps.</th>\n",
       "    </tr>\n",
       "  </thead>\n",
       "  <tbody>\n",
       "    <tr>\n",
       "      <th>49</th>\n",
       "      <td>Wyoming</td>\n",
       "      <td>WY</td>\n",
       "      <td>Cheyenne</td>\n",
       "      <td>Cheyenne</td>\n",
       "      <td>Jul 10, 1890</td>\n",
       "      <td>576851</td>\n",
       "      <td>97813</td>\n",
       "      <td>253335</td>\n",
       "      <td>1</td>\n",
       "    </tr>\n",
       "  </tbody>\n",
       "</table>\n",
       "</div>"
      ]
     },
     "metadata": {},
     "output_type": "display_data"
    },
    {
     "data": {
      "text/plain": [
       "<IPython.core.display.HTML object>"
      ],
      "text/html": [
       "<span style=\"color: red;font-style:italic\"><br><h5>Ending Visual Check : USA State Code Dataset</h5></span>"
      ]
     },
     "metadata": {},
     "output_type": "display_data"
    }
   ],
   "execution_count": 96
  },
  {
   "metadata": {},
   "cell_type": "markdown",
   "source": "#### Pre-processing of USA State Code dataset",
   "id": "1a3d68ae2f6c1f97"
  },
  {
   "metadata": {
    "ExecuteTime": {
     "end_time": "2025-07-20T22:32:31.120463Z",
     "start_time": "2025-07-20T22:32:31.089406Z"
    }
   },
   "cell_type": "code",
   "source": [
    "usa_states_df = clean_us_state_abbreviation_dataset(usa_states_df)\n",
    "visual_check_dataframe(usa_states_df,\"USA State Code Dataset\", rows=1)"
   ],
   "id": "b2f690da608270c1",
   "outputs": [
    {
     "data": {
      "text/plain": [
       "<IPython.core.display.HTML object>"
      ],
      "text/html": [
       "<span style=\"color: green;font-style:normal\"><br><h4>Starting Visual Check : USA State Code Dataset</h4></span>"
      ]
     },
     "metadata": {},
     "output_type": "display_data"
    },
    {
     "data": {
      "text/plain": [
       "<IPython.core.display.HTML object>"
      ],
      "text/html": [
       "<span style=\"color: black;font-style:normal\"><br>Check top 1 row(s), followed by a sample of 1 row(s) and then the bottom 1 row(s)</span>"
      ]
     },
     "metadata": {},
     "output_type": "display_data"
    },
    {
     "data": {
      "text/plain": [
       "    County County Code\n",
       "0  Alabama          AL"
      ],
      "text/html": [
       "<div>\n",
       "<style scoped>\n",
       "    .dataframe tbody tr th:only-of-type {\n",
       "        vertical-align: middle;\n",
       "    }\n",
       "\n",
       "    .dataframe tbody tr th {\n",
       "        vertical-align: top;\n",
       "    }\n",
       "\n",
       "    .dataframe thead th {\n",
       "        text-align: right;\n",
       "    }\n",
       "</style>\n",
       "<table border=\"1\" class=\"dataframe\">\n",
       "  <thead>\n",
       "    <tr style=\"text-align: right;\">\n",
       "      <th></th>\n",
       "      <th>County</th>\n",
       "      <th>County Code</th>\n",
       "    </tr>\n",
       "  </thead>\n",
       "  <tbody>\n",
       "    <tr>\n",
       "      <th>0</th>\n",
       "      <td>Alabama</td>\n",
       "      <td>AL</td>\n",
       "    </tr>\n",
       "  </tbody>\n",
       "</table>\n",
       "</div>"
      ]
     },
     "metadata": {},
     "output_type": "display_data"
    },
    {
     "data": {
      "text/plain": [
       "     County County Code\n",
       "13  Indiana          IN"
      ],
      "text/html": [
       "<div>\n",
       "<style scoped>\n",
       "    .dataframe tbody tr th:only-of-type {\n",
       "        vertical-align: middle;\n",
       "    }\n",
       "\n",
       "    .dataframe tbody tr th {\n",
       "        vertical-align: top;\n",
       "    }\n",
       "\n",
       "    .dataframe thead th {\n",
       "        text-align: right;\n",
       "    }\n",
       "</style>\n",
       "<table border=\"1\" class=\"dataframe\">\n",
       "  <thead>\n",
       "    <tr style=\"text-align: right;\">\n",
       "      <th></th>\n",
       "      <th>County</th>\n",
       "      <th>County Code</th>\n",
       "    </tr>\n",
       "  </thead>\n",
       "  <tbody>\n",
       "    <tr>\n",
       "      <th>13</th>\n",
       "      <td>Indiana</td>\n",
       "      <td>IN</td>\n",
       "    </tr>\n",
       "  </tbody>\n",
       "</table>\n",
       "</div>"
      ]
     },
     "metadata": {},
     "output_type": "display_data"
    },
    {
     "data": {
      "text/plain": [
       "     County County Code\n",
       "49  Wyoming          WY"
      ],
      "text/html": [
       "<div>\n",
       "<style scoped>\n",
       "    .dataframe tbody tr th:only-of-type {\n",
       "        vertical-align: middle;\n",
       "    }\n",
       "\n",
       "    .dataframe tbody tr th {\n",
       "        vertical-align: top;\n",
       "    }\n",
       "\n",
       "    .dataframe thead th {\n",
       "        text-align: right;\n",
       "    }\n",
       "</style>\n",
       "<table border=\"1\" class=\"dataframe\">\n",
       "  <thead>\n",
       "    <tr style=\"text-align: right;\">\n",
       "      <th></th>\n",
       "      <th>County</th>\n",
       "      <th>County Code</th>\n",
       "    </tr>\n",
       "  </thead>\n",
       "  <tbody>\n",
       "    <tr>\n",
       "      <th>49</th>\n",
       "      <td>Wyoming</td>\n",
       "      <td>WY</td>\n",
       "    </tr>\n",
       "  </tbody>\n",
       "</table>\n",
       "</div>"
      ]
     },
     "metadata": {},
     "output_type": "display_data"
    },
    {
     "data": {
      "text/plain": [
       "<IPython.core.display.HTML object>"
      ],
      "text/html": [
       "<span style=\"color: red;font-style:italic\"><br><h5>Ending Visual Check : USA State Code Dataset</h5></span>"
      ]
     },
     "metadata": {},
     "output_type": "display_data"
    }
   ],
   "execution_count": 97
  },
  {
   "metadata": {},
   "cell_type": "markdown",
   "source": [
    "### TLD Dataset\n",
    "#### Load in Data"
   ],
   "id": "d27007aa09eb7b2e"
  },
  {
   "metadata": {
    "ExecuteTime": {
     "end_time": "2025-07-20T22:32:39.005792Z",
     "start_time": "2025-07-20T22:32:38.715002Z"
    }
   },
   "cell_type": "code",
   "source": [
    "tld_df = get_tld_country_dataset()\n",
    "visual_check_dataframe(tld_df,\"TLD pre-cleanup\", rows=1)"
   ],
   "id": "f36a040978e2e5c6",
   "outputs": [
    {
     "data": {
      "text/plain": [
       "<IPython.core.display.HTML object>"
      ],
      "text/html": [
       "<span style=\"color: green;font-style:normal\"><br><h4>Starting Visual Check : TLD pre-cleanup</h4></span>"
      ]
     },
     "metadata": {},
     "output_type": "display_data"
    },
    {
     "data": {
      "text/plain": [
       "<IPython.core.display.HTML object>"
      ],
      "text/html": [
       "<span style=\"color: black;font-style:normal\"><br>Check top 1 row(s), followed by a sample of 1 row(s) and then the bottom 1 row(s)</span>"
      ]
     },
     "metadata": {},
     "output_type": "display_data"
    },
    {
     "data": {
      "text/plain": [
       "  Code Country name (using title case)  Year ccTLD Notes\n",
       "0   AD                         Andorra  1974   .ad   NaN"
      ],
      "text/html": [
       "<div>\n",
       "<style scoped>\n",
       "    .dataframe tbody tr th:only-of-type {\n",
       "        vertical-align: middle;\n",
       "    }\n",
       "\n",
       "    .dataframe tbody tr th {\n",
       "        vertical-align: top;\n",
       "    }\n",
       "\n",
       "    .dataframe thead th {\n",
       "        text-align: right;\n",
       "    }\n",
       "</style>\n",
       "<table border=\"1\" class=\"dataframe\">\n",
       "  <thead>\n",
       "    <tr style=\"text-align: right;\">\n",
       "      <th></th>\n",
       "      <th>Code</th>\n",
       "      <th>Country name (using title case)</th>\n",
       "      <th>Year</th>\n",
       "      <th>ccTLD</th>\n",
       "      <th>Notes</th>\n",
       "    </tr>\n",
       "  </thead>\n",
       "  <tbody>\n",
       "    <tr>\n",
       "      <th>0</th>\n",
       "      <td>AD</td>\n",
       "      <td>Andorra</td>\n",
       "      <td>1974</td>\n",
       "      <td>.ad</td>\n",
       "      <td>NaN</td>\n",
       "    </tr>\n",
       "  </tbody>\n",
       "</table>\n",
       "</div>"
      ]
     },
     "metadata": {},
     "output_type": "display_data"
    },
    {
     "data": {
      "text/plain": [
       "   Code Country name (using title case)  Year ccTLD Notes\n",
       "44   CK                    Cook Islands  1974   .ck   NaN"
      ],
      "text/html": [
       "<div>\n",
       "<style scoped>\n",
       "    .dataframe tbody tr th:only-of-type {\n",
       "        vertical-align: middle;\n",
       "    }\n",
       "\n",
       "    .dataframe tbody tr th {\n",
       "        vertical-align: top;\n",
       "    }\n",
       "\n",
       "    .dataframe thead th {\n",
       "        text-align: right;\n",
       "    }\n",
       "</style>\n",
       "<table border=\"1\" class=\"dataframe\">\n",
       "  <thead>\n",
       "    <tr style=\"text-align: right;\">\n",
       "      <th></th>\n",
       "      <th>Code</th>\n",
       "      <th>Country name (using title case)</th>\n",
       "      <th>Year</th>\n",
       "      <th>ccTLD</th>\n",
       "      <th>Notes</th>\n",
       "    </tr>\n",
       "  </thead>\n",
       "  <tbody>\n",
       "    <tr>\n",
       "      <th>44</th>\n",
       "      <td>CK</td>\n",
       "      <td>Cook Islands</td>\n",
       "      <td>1974</td>\n",
       "      <td>.ck</td>\n",
       "      <td>NaN</td>\n",
       "    </tr>\n",
       "  </tbody>\n",
       "</table>\n",
       "</div>"
      ]
     },
     "metadata": {},
     "output_type": "display_data"
    },
    {
     "data": {
      "text/plain": [
       "    Code Country name (using title case)  Year ccTLD  \\\n",
       "248   ZW                        Zimbabwe  1980   .zw   \n",
       "\n",
       "                                        Notes  \n",
       "248  Name changed from Southern Rhodesia (RH)  "
      ],
      "text/html": [
       "<div>\n",
       "<style scoped>\n",
       "    .dataframe tbody tr th:only-of-type {\n",
       "        vertical-align: middle;\n",
       "    }\n",
       "\n",
       "    .dataframe tbody tr th {\n",
       "        vertical-align: top;\n",
       "    }\n",
       "\n",
       "    .dataframe thead th {\n",
       "        text-align: right;\n",
       "    }\n",
       "</style>\n",
       "<table border=\"1\" class=\"dataframe\">\n",
       "  <thead>\n",
       "    <tr style=\"text-align: right;\">\n",
       "      <th></th>\n",
       "      <th>Code</th>\n",
       "      <th>Country name (using title case)</th>\n",
       "      <th>Year</th>\n",
       "      <th>ccTLD</th>\n",
       "      <th>Notes</th>\n",
       "    </tr>\n",
       "  </thead>\n",
       "  <tbody>\n",
       "    <tr>\n",
       "      <th>248</th>\n",
       "      <td>ZW</td>\n",
       "      <td>Zimbabwe</td>\n",
       "      <td>1980</td>\n",
       "      <td>.zw</td>\n",
       "      <td>Name changed from Southern Rhodesia (RH)</td>\n",
       "    </tr>\n",
       "  </tbody>\n",
       "</table>\n",
       "</div>"
      ]
     },
     "metadata": {},
     "output_type": "display_data"
    },
    {
     "data": {
      "text/plain": [
       "<IPython.core.display.HTML object>"
      ],
      "text/html": [
       "<span style=\"color: red;font-style:italic\"><br><h5>Ending Visual Check : TLD pre-cleanup</h5></span>"
      ]
     },
     "metadata": {},
     "output_type": "display_data"
    }
   ],
   "execution_count": 98
  },
  {
   "metadata": {},
   "cell_type": "markdown",
   "source": "#### Pre-processing of TLD dataset",
   "id": "ac33f1a90c01aee0"
  },
  {
   "metadata": {
    "ExecuteTime": {
     "end_time": "2025-07-20T22:32:43.672001Z",
     "start_time": "2025-07-20T22:32:43.649169Z"
    }
   },
   "cell_type": "code",
   "source": [
    "tld_df = clean_tld_country_data(tld_df)\n",
    "write(\"Re-check TLD data once it's been cleaned\")\n",
    "visual_check_dataframe(tld_df, \"TLD post-cleanup\",rows=1,sample_only=True)\n"
   ],
   "id": "996dc6062a25dd86",
   "outputs": [
    {
     "data": {
      "text/plain": [
       "<IPython.core.display.HTML object>"
      ],
      "text/html": [
       "<span style=\"color: black;font-style:normal\"><br>Re-check TLD data once it's been cleaned</span>"
      ]
     },
     "metadata": {},
     "output_type": "display_data"
    },
    {
     "data": {
      "text/plain": [
       "<IPython.core.display.HTML object>"
      ],
      "text/html": [
       "<span style=\"color: green;font-style:normal\"><br><h4>Starting Visual Check : TLD post-cleanup</h4></span>"
      ]
     },
     "metadata": {},
     "output_type": "display_data"
    },
    {
     "data": {
      "text/plain": [
       "<IPython.core.display.HTML object>"
      ],
      "text/html": [
       "<span style=\"color: black;font-style:normal\"><br>Checking random sample of 1 rows</span>"
      ]
     },
     "metadata": {},
     "output_type": "display_data"
    },
    {
     "data": {
      "text/plain": [
       "    A2 Code Country name (using title case)  tld\n",
       "186      QA                           Qatar  .qa"
      ],
      "text/html": [
       "<div>\n",
       "<style scoped>\n",
       "    .dataframe tbody tr th:only-of-type {\n",
       "        vertical-align: middle;\n",
       "    }\n",
       "\n",
       "    .dataframe tbody tr th {\n",
       "        vertical-align: top;\n",
       "    }\n",
       "\n",
       "    .dataframe thead th {\n",
       "        text-align: right;\n",
       "    }\n",
       "</style>\n",
       "<table border=\"1\" class=\"dataframe\">\n",
       "  <thead>\n",
       "    <tr style=\"text-align: right;\">\n",
       "      <th></th>\n",
       "      <th>A2 Code</th>\n",
       "      <th>Country name (using title case)</th>\n",
       "      <th>tld</th>\n",
       "    </tr>\n",
       "  </thead>\n",
       "  <tbody>\n",
       "    <tr>\n",
       "      <th>186</th>\n",
       "      <td>QA</td>\n",
       "      <td>Qatar</td>\n",
       "      <td>.qa</td>\n",
       "    </tr>\n",
       "  </tbody>\n",
       "</table>\n",
       "</div>"
      ]
     },
     "metadata": {},
     "output_type": "display_data"
    },
    {
     "data": {
      "text/plain": [
       "<IPython.core.display.HTML object>"
      ],
      "text/html": [
       "<span style=\"color: red;font-style:italic\"><br><h5>Ending Visual Check : TLD post-cleanup</h5></span>"
      ]
     },
     "metadata": {},
     "output_type": "display_data"
    }
   ],
   "execution_count": 99
  },
  {
   "metadata": {},
   "cell_type": "markdown",
   "source": [
    "### M49 Dataset\n",
    "#### Load in Data"
   ],
   "id": "1b8f6f41f6762a0a"
  },
  {
   "metadata": {
    "ExecuteTime": {
     "end_time": "2025-07-20T22:33:03.175323Z",
     "start_time": "2025-07-20T22:33:03.127287Z"
    }
   },
   "cell_type": "code",
   "source": [
    "m49_df = get_m49_country_dataset()\n",
    "visual_check_dataframe(m49_df,dataset_name=\"M49 - pre-cleanup\", rows=1)"
   ],
   "id": "b9d74810bb3e8895",
   "outputs": [
    {
     "data": {
      "text/plain": [
       "<IPython.core.display.HTML object>"
      ],
      "text/html": [
       "<span style=\"color: green;font-style:normal\"><br><h4>Starting Visual Check : M49 - pre-cleanup</h4></span>"
      ]
     },
     "metadata": {},
     "output_type": "display_data"
    },
    {
     "data": {
      "text/plain": [
       "<IPython.core.display.HTML object>"
      ],
      "text/html": [
       "<span style=\"color: black;font-style:normal\"><br>Check top 1 row(s), followed by a sample of 1 row(s) and then the bottom 1 row(s)</span>"
      ]
     },
     "metadata": {},
     "output_type": "display_data"
    },
    {
     "data": {
      "text/plain": [
       "   Global Code Global Name  Region Code Region Name  Sub-region Code  \\\n",
       "0            1       World          2.0      Africa             15.0   \n",
       "\n",
       "   Sub-region Name  Intermediate Region Code Intermediate Region Name  \\\n",
       "0  Northern Africa                       NaN                      NaN   \n",
       "\n",
       "  Country or Area  M49 Code ISO-alpha2 Code ISO-alpha3 Code  \\\n",
       "0         Algeria        12              DZ             DZA   \n",
       "\n",
       "  Least Developed Countries (LDC) Land Locked Developing Countries (LLDC)  \\\n",
       "0                             NaN                                     NaN   \n",
       "\n",
       "  Small Island Developing States (SIDS)  \n",
       "0                                   NaN  "
      ],
      "text/html": [
       "<div>\n",
       "<style scoped>\n",
       "    .dataframe tbody tr th:only-of-type {\n",
       "        vertical-align: middle;\n",
       "    }\n",
       "\n",
       "    .dataframe tbody tr th {\n",
       "        vertical-align: top;\n",
       "    }\n",
       "\n",
       "    .dataframe thead th {\n",
       "        text-align: right;\n",
       "    }\n",
       "</style>\n",
       "<table border=\"1\" class=\"dataframe\">\n",
       "  <thead>\n",
       "    <tr style=\"text-align: right;\">\n",
       "      <th></th>\n",
       "      <th>Global Code</th>\n",
       "      <th>Global Name</th>\n",
       "      <th>Region Code</th>\n",
       "      <th>Region Name</th>\n",
       "      <th>Sub-region Code</th>\n",
       "      <th>Sub-region Name</th>\n",
       "      <th>Intermediate Region Code</th>\n",
       "      <th>Intermediate Region Name</th>\n",
       "      <th>Country or Area</th>\n",
       "      <th>M49 Code</th>\n",
       "      <th>ISO-alpha2 Code</th>\n",
       "      <th>ISO-alpha3 Code</th>\n",
       "      <th>Least Developed Countries (LDC)</th>\n",
       "      <th>Land Locked Developing Countries (LLDC)</th>\n",
       "      <th>Small Island Developing States (SIDS)</th>\n",
       "    </tr>\n",
       "  </thead>\n",
       "  <tbody>\n",
       "    <tr>\n",
       "      <th>0</th>\n",
       "      <td>1</td>\n",
       "      <td>World</td>\n",
       "      <td>2.0</td>\n",
       "      <td>Africa</td>\n",
       "      <td>15.0</td>\n",
       "      <td>Northern Africa</td>\n",
       "      <td>NaN</td>\n",
       "      <td>NaN</td>\n",
       "      <td>Algeria</td>\n",
       "      <td>12</td>\n",
       "      <td>DZ</td>\n",
       "      <td>DZA</td>\n",
       "      <td>NaN</td>\n",
       "      <td>NaN</td>\n",
       "      <td>NaN</td>\n",
       "    </tr>\n",
       "  </tbody>\n",
       "</table>\n",
       "</div>"
      ]
     },
     "metadata": {},
     "output_type": "display_data"
    },
    {
     "data": {
      "text/plain": [
       "     Global Code Global Name  Region Code Region Name  Sub-region Code  \\\n",
       "110            1       World         19.0    Americas            419.0   \n",
       "\n",
       "                     Sub-region Name  Intermediate Region Code  \\\n",
       "110  Latin America and the Caribbean                       5.0   \n",
       "\n",
       "    Intermediate Region Name Country or Area  M49 Code ISO-alpha2 Code  \\\n",
       "110            South America         Uruguay       858              UY   \n",
       "\n",
       "    ISO-alpha3 Code Least Developed Countries (LDC)  \\\n",
       "110             URY                             NaN   \n",
       "\n",
       "    Land Locked Developing Countries (LLDC)  \\\n",
       "110                                     NaN   \n",
       "\n",
       "    Small Island Developing States (SIDS)  \n",
       "110                                   NaN  "
      ],
      "text/html": [
       "<div>\n",
       "<style scoped>\n",
       "    .dataframe tbody tr th:only-of-type {\n",
       "        vertical-align: middle;\n",
       "    }\n",
       "\n",
       "    .dataframe tbody tr th {\n",
       "        vertical-align: top;\n",
       "    }\n",
       "\n",
       "    .dataframe thead th {\n",
       "        text-align: right;\n",
       "    }\n",
       "</style>\n",
       "<table border=\"1\" class=\"dataframe\">\n",
       "  <thead>\n",
       "    <tr style=\"text-align: right;\">\n",
       "      <th></th>\n",
       "      <th>Global Code</th>\n",
       "      <th>Global Name</th>\n",
       "      <th>Region Code</th>\n",
       "      <th>Region Name</th>\n",
       "      <th>Sub-region Code</th>\n",
       "      <th>Sub-region Name</th>\n",
       "      <th>Intermediate Region Code</th>\n",
       "      <th>Intermediate Region Name</th>\n",
       "      <th>Country or Area</th>\n",
       "      <th>M49 Code</th>\n",
       "      <th>ISO-alpha2 Code</th>\n",
       "      <th>ISO-alpha3 Code</th>\n",
       "      <th>Least Developed Countries (LDC)</th>\n",
       "      <th>Land Locked Developing Countries (LLDC)</th>\n",
       "      <th>Small Island Developing States (SIDS)</th>\n",
       "    </tr>\n",
       "  </thead>\n",
       "  <tbody>\n",
       "    <tr>\n",
       "      <th>110</th>\n",
       "      <td>1</td>\n",
       "      <td>World</td>\n",
       "      <td>19.0</td>\n",
       "      <td>Americas</td>\n",
       "      <td>419.0</td>\n",
       "      <td>Latin America and the Caribbean</td>\n",
       "      <td>5.0</td>\n",
       "      <td>South America</td>\n",
       "      <td>Uruguay</td>\n",
       "      <td>858</td>\n",
       "      <td>UY</td>\n",
       "      <td>URY</td>\n",
       "      <td>NaN</td>\n",
       "      <td>NaN</td>\n",
       "      <td>NaN</td>\n",
       "    </tr>\n",
       "  </tbody>\n",
       "</table>\n",
       "</div>"
      ]
     },
     "metadata": {},
     "output_type": "display_data"
    },
    {
     "data": {
      "text/plain": [
       "     Global Code Global Name  Region Code Region Name  Sub-region Code  \\\n",
       "247            1       World          9.0     Oceania             61.0   \n",
       "\n",
       "    Sub-region Name  Intermediate Region Code Intermediate Region Name  \\\n",
       "247       Polynesia                       NaN                      NaN   \n",
       "\n",
       "               Country or Area  M49 Code ISO-alpha2 Code ISO-alpha3 Code  \\\n",
       "247  Wallis and Futuna Islands       876              WF             WLF   \n",
       "\n",
       "    Least Developed Countries (LDC) Land Locked Developing Countries (LLDC)  \\\n",
       "247                             NaN                                     NaN   \n",
       "\n",
       "    Small Island Developing States (SIDS)  \n",
       "247                                   NaN  "
      ],
      "text/html": [
       "<div>\n",
       "<style scoped>\n",
       "    .dataframe tbody tr th:only-of-type {\n",
       "        vertical-align: middle;\n",
       "    }\n",
       "\n",
       "    .dataframe tbody tr th {\n",
       "        vertical-align: top;\n",
       "    }\n",
       "\n",
       "    .dataframe thead th {\n",
       "        text-align: right;\n",
       "    }\n",
       "</style>\n",
       "<table border=\"1\" class=\"dataframe\">\n",
       "  <thead>\n",
       "    <tr style=\"text-align: right;\">\n",
       "      <th></th>\n",
       "      <th>Global Code</th>\n",
       "      <th>Global Name</th>\n",
       "      <th>Region Code</th>\n",
       "      <th>Region Name</th>\n",
       "      <th>Sub-region Code</th>\n",
       "      <th>Sub-region Name</th>\n",
       "      <th>Intermediate Region Code</th>\n",
       "      <th>Intermediate Region Name</th>\n",
       "      <th>Country or Area</th>\n",
       "      <th>M49 Code</th>\n",
       "      <th>ISO-alpha2 Code</th>\n",
       "      <th>ISO-alpha3 Code</th>\n",
       "      <th>Least Developed Countries (LDC)</th>\n",
       "      <th>Land Locked Developing Countries (LLDC)</th>\n",
       "      <th>Small Island Developing States (SIDS)</th>\n",
       "    </tr>\n",
       "  </thead>\n",
       "  <tbody>\n",
       "    <tr>\n",
       "      <th>247</th>\n",
       "      <td>1</td>\n",
       "      <td>World</td>\n",
       "      <td>9.0</td>\n",
       "      <td>Oceania</td>\n",
       "      <td>61.0</td>\n",
       "      <td>Polynesia</td>\n",
       "      <td>NaN</td>\n",
       "      <td>NaN</td>\n",
       "      <td>Wallis and Futuna Islands</td>\n",
       "      <td>876</td>\n",
       "      <td>WF</td>\n",
       "      <td>WLF</td>\n",
       "      <td>NaN</td>\n",
       "      <td>NaN</td>\n",
       "      <td>NaN</td>\n",
       "    </tr>\n",
       "  </tbody>\n",
       "</table>\n",
       "</div>"
      ]
     },
     "metadata": {},
     "output_type": "display_data"
    },
    {
     "data": {
      "text/plain": [
       "<IPython.core.display.HTML object>"
      ],
      "text/html": [
       "<span style=\"color: red;font-style:italic\"><br><h5>Ending Visual Check : M49 - pre-cleanup</h5></span>"
      ]
     },
     "metadata": {},
     "output_type": "display_data"
    }
   ],
   "execution_count": 100
  },
  {
   "metadata": {},
   "cell_type": "markdown",
   "source": "#### Pre-processing of M49 Dataset",
   "id": "e38f5d22bf0ddffd"
  },
  {
   "metadata": {
    "ExecuteTime": {
     "end_time": "2025-07-20T22:33:11.811124Z",
     "start_time": "2025-07-20T22:33:11.790723Z"
    }
   },
   "cell_type": "code",
   "source": [
    "m49_df = clean_m49_country_data(m49_df)\n",
    "write(\"Re-check M49 data once it's been cleaned\")\n",
    "visual_check_dataframe(m49_df, dataset_name=\"M49 - post-cleanup\", rows=1, sample_only=True)"
   ],
   "id": "f57ca4aba86509da",
   "outputs": [
    {
     "data": {
      "text/plain": [
       "<IPython.core.display.HTML object>"
      ],
      "text/html": [
       "<span style=\"color: black;font-style:normal\"><br>Re-check M49 data once it's been cleaned</span>"
      ]
     },
     "metadata": {},
     "output_type": "display_data"
    },
    {
     "data": {
      "text/plain": [
       "<IPython.core.display.HTML object>"
      ],
      "text/html": [
       "<span style=\"color: green;font-style:normal\"><br><h4>Starting Visual Check : M49 - post-cleanup</h4></span>"
      ]
     },
     "metadata": {},
     "output_type": "display_data"
    },
    {
     "data": {
      "text/plain": [
       "<IPython.core.display.HTML object>"
      ],
      "text/html": [
       "<span style=\"color: black;font-style:normal\"><br>Checking random sample of 1 rows</span>"
      ]
     },
     "metadata": {},
     "output_type": "display_data"
    },
    {
     "data": {
      "text/plain": [
       "     Region Code Region Name  Sub-region Code Sub-region Name Country or Area  \\\n",
       "214        150.0      Europe            155.0  Western Europe   Liechtenstein   \n",
       "\n",
       "     M49 Code ISO-alpha2 Code ISO-alpha3 Code  \n",
       "214       438              LI             LIE  "
      ],
      "text/html": [
       "<div>\n",
       "<style scoped>\n",
       "    .dataframe tbody tr th:only-of-type {\n",
       "        vertical-align: middle;\n",
       "    }\n",
       "\n",
       "    .dataframe tbody tr th {\n",
       "        vertical-align: top;\n",
       "    }\n",
       "\n",
       "    .dataframe thead th {\n",
       "        text-align: right;\n",
       "    }\n",
       "</style>\n",
       "<table border=\"1\" class=\"dataframe\">\n",
       "  <thead>\n",
       "    <tr style=\"text-align: right;\">\n",
       "      <th></th>\n",
       "      <th>Region Code</th>\n",
       "      <th>Region Name</th>\n",
       "      <th>Sub-region Code</th>\n",
       "      <th>Sub-region Name</th>\n",
       "      <th>Country or Area</th>\n",
       "      <th>M49 Code</th>\n",
       "      <th>ISO-alpha2 Code</th>\n",
       "      <th>ISO-alpha3 Code</th>\n",
       "    </tr>\n",
       "  </thead>\n",
       "  <tbody>\n",
       "    <tr>\n",
       "      <th>214</th>\n",
       "      <td>150.0</td>\n",
       "      <td>Europe</td>\n",
       "      <td>155.0</td>\n",
       "      <td>Western Europe</td>\n",
       "      <td>Liechtenstein</td>\n",
       "      <td>438</td>\n",
       "      <td>LI</td>\n",
       "      <td>LIE</td>\n",
       "    </tr>\n",
       "  </tbody>\n",
       "</table>\n",
       "</div>"
      ]
     },
     "metadata": {},
     "output_type": "display_data"
    },
    {
     "data": {
      "text/plain": [
       "<IPython.core.display.HTML object>"
      ],
      "text/html": [
       "<span style=\"color: red;font-style:italic\"><br><h5>Ending Visual Check : M49 - post-cleanup</h5></span>"
      ]
     },
     "metadata": {},
     "output_type": "display_data"
    }
   ],
   "execution_count": 101
  },
  {
   "metadata": {},
   "cell_type": "markdown",
   "source": [
    "#### Combine TLD and M49 Location Datasets\n",
    "We have two supplementary datasets representing Geographic location that we will now combine\n",
    "##### Merge the TLD and M49 Location Datasets"
   ],
   "id": "28c99722f955a829"
  },
  {
   "metadata": {
    "ExecuteTime": {
     "end_time": "2025-07-20T23:28:59.456081Z",
     "start_time": "2025-07-20T23:28:59.410422Z"
    }
   },
   "cell_type": "code",
   "source": [
    "locations_df = merge_tld_and_m49_datasets(tld_df, m49_df)\n",
    "visual_check_dataframe(locations_df, \"Combined Locations Dataset\",rows=1)\n",
    "check_consistency_tld_m49_dataset_pre_cleanup(locations_df)"
   ],
   "id": "fd7ebbdfcf81366b",
   "outputs": [
    {
     "data": {
      "text/plain": [
       "<IPython.core.display.HTML object>"
      ],
      "text/html": [
       "<span style=\"color: green;font-style:normal\"><br><h4>Starting Visual Check : Combined Locations Dataset</h4></span>"
      ]
     },
     "metadata": {},
     "output_type": "display_data"
    },
    {
     "data": {
      "text/plain": [
       "<IPython.core.display.HTML object>"
      ],
      "text/html": [
       "<span style=\"color: black;font-style:normal\"><br>Check top 1 row(s), followed by a sample of 1 row(s) and then the bottom 1 row(s)</span>"
      ]
     },
     "metadata": {},
     "output_type": "display_data"
    },
    {
     "data": {
      "text/plain": [
       "  A2 Code Country name (using title case)  tld  Region Code Region Name  \\\n",
       "0      AD                         Andorra  .ad          150      Europe   \n",
       "\n",
       "   Sub-region Code  Sub-region Name Country or Area  M49 Code ISO-alpha2 Code  \\\n",
       "0               39  Southern Europe         Andorra        20              AD   \n",
       "\n",
       "  ISO-alpha3 Code  \n",
       "0             AND  "
      ],
      "text/html": [
       "<div>\n",
       "<style scoped>\n",
       "    .dataframe tbody tr th:only-of-type {\n",
       "        vertical-align: middle;\n",
       "    }\n",
       "\n",
       "    .dataframe tbody tr th {\n",
       "        vertical-align: top;\n",
       "    }\n",
       "\n",
       "    .dataframe thead th {\n",
       "        text-align: right;\n",
       "    }\n",
       "</style>\n",
       "<table border=\"1\" class=\"dataframe\">\n",
       "  <thead>\n",
       "    <tr style=\"text-align: right;\">\n",
       "      <th></th>\n",
       "      <th>A2 Code</th>\n",
       "      <th>Country name (using title case)</th>\n",
       "      <th>tld</th>\n",
       "      <th>Region Code</th>\n",
       "      <th>Region Name</th>\n",
       "      <th>Sub-region Code</th>\n",
       "      <th>Sub-region Name</th>\n",
       "      <th>Country or Area</th>\n",
       "      <th>M49 Code</th>\n",
       "      <th>ISO-alpha2 Code</th>\n",
       "      <th>ISO-alpha3 Code</th>\n",
       "    </tr>\n",
       "  </thead>\n",
       "  <tbody>\n",
       "    <tr>\n",
       "      <th>0</th>\n",
       "      <td>AD</td>\n",
       "      <td>Andorra</td>\n",
       "      <td>.ad</td>\n",
       "      <td>150</td>\n",
       "      <td>Europe</td>\n",
       "      <td>39</td>\n",
       "      <td>Southern Europe</td>\n",
       "      <td>Andorra</td>\n",
       "      <td>20</td>\n",
       "      <td>AD</td>\n",
       "      <td>AND</td>\n",
       "    </tr>\n",
       "  </tbody>\n",
       "</table>\n",
       "</div>"
      ]
     },
     "metadata": {},
     "output_type": "display_data"
    },
    {
     "data": {
      "text/plain": [
       "    A2 Code Country name (using title case)  tld  Region Code Region Name  \\\n",
       "203      SM                      San Marino  .sm          150      Europe   \n",
       "\n",
       "     Sub-region Code  Sub-region Name Country or Area  M49 Code  \\\n",
       "203               39  Southern Europe      San Marino       674   \n",
       "\n",
       "    ISO-alpha2 Code ISO-alpha3 Code  \n",
       "203              SM             SMR  "
      ],
      "text/html": [
       "<div>\n",
       "<style scoped>\n",
       "    .dataframe tbody tr th:only-of-type {\n",
       "        vertical-align: middle;\n",
       "    }\n",
       "\n",
       "    .dataframe tbody tr th {\n",
       "        vertical-align: top;\n",
       "    }\n",
       "\n",
       "    .dataframe thead th {\n",
       "        text-align: right;\n",
       "    }\n",
       "</style>\n",
       "<table border=\"1\" class=\"dataframe\">\n",
       "  <thead>\n",
       "    <tr style=\"text-align: right;\">\n",
       "      <th></th>\n",
       "      <th>A2 Code</th>\n",
       "      <th>Country name (using title case)</th>\n",
       "      <th>tld</th>\n",
       "      <th>Region Code</th>\n",
       "      <th>Region Name</th>\n",
       "      <th>Sub-region Code</th>\n",
       "      <th>Sub-region Name</th>\n",
       "      <th>Country or Area</th>\n",
       "      <th>M49 Code</th>\n",
       "      <th>ISO-alpha2 Code</th>\n",
       "      <th>ISO-alpha3 Code</th>\n",
       "    </tr>\n",
       "  </thead>\n",
       "  <tbody>\n",
       "    <tr>\n",
       "      <th>203</th>\n",
       "      <td>SM</td>\n",
       "      <td>San Marino</td>\n",
       "      <td>.sm</td>\n",
       "      <td>150</td>\n",
       "      <td>Europe</td>\n",
       "      <td>39</td>\n",
       "      <td>Southern Europe</td>\n",
       "      <td>San Marino</td>\n",
       "      <td>674</td>\n",
       "      <td>SM</td>\n",
       "      <td>SMR</td>\n",
       "    </tr>\n",
       "  </tbody>\n",
       "</table>\n",
       "</div>"
      ]
     },
     "metadata": {},
     "output_type": "display_data"
    },
    {
     "data": {
      "text/plain": [
       "    A2 Code Country name (using title case)  tld  Region Code Region Name  \\\n",
       "248      ZW                        Zimbabwe  .zw            2      Africa   \n",
       "\n",
       "     Sub-region Code     Sub-region Name Country or Area  M49 Code  \\\n",
       "248              202  Sub-Saharan Africa        Zimbabwe       716   \n",
       "\n",
       "    ISO-alpha2 Code ISO-alpha3 Code  \n",
       "248              ZW             ZWE  "
      ],
      "text/html": [
       "<div>\n",
       "<style scoped>\n",
       "    .dataframe tbody tr th:only-of-type {\n",
       "        vertical-align: middle;\n",
       "    }\n",
       "\n",
       "    .dataframe tbody tr th {\n",
       "        vertical-align: top;\n",
       "    }\n",
       "\n",
       "    .dataframe thead th {\n",
       "        text-align: right;\n",
       "    }\n",
       "</style>\n",
       "<table border=\"1\" class=\"dataframe\">\n",
       "  <thead>\n",
       "    <tr style=\"text-align: right;\">\n",
       "      <th></th>\n",
       "      <th>A2 Code</th>\n",
       "      <th>Country name (using title case)</th>\n",
       "      <th>tld</th>\n",
       "      <th>Region Code</th>\n",
       "      <th>Region Name</th>\n",
       "      <th>Sub-region Code</th>\n",
       "      <th>Sub-region Name</th>\n",
       "      <th>Country or Area</th>\n",
       "      <th>M49 Code</th>\n",
       "      <th>ISO-alpha2 Code</th>\n",
       "      <th>ISO-alpha3 Code</th>\n",
       "    </tr>\n",
       "  </thead>\n",
       "  <tbody>\n",
       "    <tr>\n",
       "      <th>248</th>\n",
       "      <td>ZW</td>\n",
       "      <td>Zimbabwe</td>\n",
       "      <td>.zw</td>\n",
       "      <td>2</td>\n",
       "      <td>Africa</td>\n",
       "      <td>202</td>\n",
       "      <td>Sub-Saharan Africa</td>\n",
       "      <td>Zimbabwe</td>\n",
       "      <td>716</td>\n",
       "      <td>ZW</td>\n",
       "      <td>ZWE</td>\n",
       "    </tr>\n",
       "  </tbody>\n",
       "</table>\n",
       "</div>"
      ]
     },
     "metadata": {},
     "output_type": "display_data"
    },
    {
     "data": {
      "text/plain": [
       "<IPython.core.display.HTML object>"
      ],
      "text/html": [
       "<span style=\"color: red;font-style:italic\"><br><h5>Ending Visual Check : Combined Locations Dataset</h5></span>"
      ]
     },
     "metadata": {},
     "output_type": "display_data"
    },
    {
     "data": {
      "text/plain": [
       "'ISO-alpha2 and ISO-alpha3 codes that are null:'"
      ]
     },
     "metadata": {},
     "output_type": "display_data"
    },
    {
     "data": {
      "text/plain": [
       "Empty DataFrame\n",
       "Columns: [A2 Code, Country name (using title case), tld, Region Code, Region Name, Sub-region Code, Sub-region Name, Country or Area, M49 Code, ISO-alpha2 Code, ISO-alpha3 Code]\n",
       "Index: []"
      ],
      "text/html": [
       "<div>\n",
       "<style scoped>\n",
       "    .dataframe tbody tr th:only-of-type {\n",
       "        vertical-align: middle;\n",
       "    }\n",
       "\n",
       "    .dataframe tbody tr th {\n",
       "        vertical-align: top;\n",
       "    }\n",
       "\n",
       "    .dataframe thead th {\n",
       "        text-align: right;\n",
       "    }\n",
       "</style>\n",
       "<table border=\"1\" class=\"dataframe\">\n",
       "  <thead>\n",
       "    <tr style=\"text-align: right;\">\n",
       "      <th></th>\n",
       "      <th>A2 Code</th>\n",
       "      <th>Country name (using title case)</th>\n",
       "      <th>tld</th>\n",
       "      <th>Region Code</th>\n",
       "      <th>Region Name</th>\n",
       "      <th>Sub-region Code</th>\n",
       "      <th>Sub-region Name</th>\n",
       "      <th>Country or Area</th>\n",
       "      <th>M49 Code</th>\n",
       "      <th>ISO-alpha2 Code</th>\n",
       "      <th>ISO-alpha3 Code</th>\n",
       "    </tr>\n",
       "  </thead>\n",
       "  <tbody>\n",
       "  </tbody>\n",
       "</table>\n",
       "</div>"
      ]
     },
     "metadata": {},
     "output_type": "display_data"
    },
    {
     "data": {
      "text/plain": [
       "'ISO-alpha2 & 3 Codes that are both set to zero:'"
      ]
     },
     "metadata": {},
     "output_type": "display_data"
    },
    {
     "data": {
      "text/plain": [
       "    A2 Code Country name (using title case)  tld  Region Code Region Name  \\\n",
       "227      TW       Taiwan, Province of China  .tw            0           0   \n",
       "\n",
       "     Sub-region Code Sub-region Name Country or Area  M49 Code  \\\n",
       "227                0               0               0         0   \n",
       "\n",
       "    ISO-alpha2 Code ISO-alpha3 Code  \n",
       "227               0               0  "
      ],
      "text/html": [
       "<div>\n",
       "<style scoped>\n",
       "    .dataframe tbody tr th:only-of-type {\n",
       "        vertical-align: middle;\n",
       "    }\n",
       "\n",
       "    .dataframe tbody tr th {\n",
       "        vertical-align: top;\n",
       "    }\n",
       "\n",
       "    .dataframe thead th {\n",
       "        text-align: right;\n",
       "    }\n",
       "</style>\n",
       "<table border=\"1\" class=\"dataframe\">\n",
       "  <thead>\n",
       "    <tr style=\"text-align: right;\">\n",
       "      <th></th>\n",
       "      <th>A2 Code</th>\n",
       "      <th>Country name (using title case)</th>\n",
       "      <th>tld</th>\n",
       "      <th>Region Code</th>\n",
       "      <th>Region Name</th>\n",
       "      <th>Sub-region Code</th>\n",
       "      <th>Sub-region Name</th>\n",
       "      <th>Country or Area</th>\n",
       "      <th>M49 Code</th>\n",
       "      <th>ISO-alpha2 Code</th>\n",
       "      <th>ISO-alpha3 Code</th>\n",
       "    </tr>\n",
       "  </thead>\n",
       "  <tbody>\n",
       "    <tr>\n",
       "      <th>227</th>\n",
       "      <td>TW</td>\n",
       "      <td>Taiwan, Province of China</td>\n",
       "      <td>.tw</td>\n",
       "      <td>0</td>\n",
       "      <td>0</td>\n",
       "      <td>0</td>\n",
       "      <td>0</td>\n",
       "      <td>0</td>\n",
       "      <td>0</td>\n",
       "      <td>0</td>\n",
       "      <td>0</td>\n",
       "    </tr>\n",
       "  </tbody>\n",
       "</table>\n",
       "</div>"
      ]
     },
     "metadata": {},
     "output_type": "display_data"
    },
    {
     "data": {
      "text/plain": [
       "<IPython.core.display.HTML object>"
      ],
      "text/html": [
       "<span style=\"color: black;font-style:normal\"><br>Taiwan is the only Country without an entry in the M49 - there are political reasons for this.  For now, this can be corrected by assigning the ISO-alpha2 Code to the A2 Code</span>"
      ]
     },
     "metadata": {},
     "output_type": "display_data"
    }
   ],
   "execution_count": 129
  },
  {
   "metadata": {},
   "cell_type": "markdown",
   "source": "##### Cleanup of Combined TLD & M49 Location Dataset",
   "id": "8d76514d9079c2ae"
  },
  {
   "metadata": {
    "ExecuteTime": {
     "end_time": "2025-07-20T23:29:12.056470Z",
     "start_time": "2025-07-20T23:29:12.015666Z"
    }
   },
   "cell_type": "code",
   "source": [
    "locations_df = cleanup_combined_tld_m49_dataset(locations_df)\n",
    "check_consistency_tld_m49_dataset_post_cleanup(locations_df)"
   ],
   "id": "4332a937c10047c9",
   "outputs": [
    {
     "data": {
      "text/plain": [
       "<IPython.core.display.HTML object>"
      ],
      "text/html": [
       "<span style=\"color: black;font-style:normal\"><br>Assigning 'ISO-alpha2' to same value as 'A2 Code' for any entries that are set to 0</span>"
      ]
     },
     "metadata": {},
     "output_type": "display_data"
    },
    {
     "data": {
      "text/plain": [
       "'ISO-alpha2 & 3 Codes that are both set to zero:'"
      ]
     },
     "metadata": {},
     "output_type": "display_data"
    },
    {
     "data": {
      "text/plain": [
       "Empty DataFrame\n",
       "Columns: [short-name, long-name, Sub-region Name, Region Name, tld, Sub-region Code, Region Code, M49 Code, ISO-alpha2 Code, ISO-alpha3 Code]\n",
       "Index: []"
      ],
      "text/html": [
       "<div>\n",
       "<style scoped>\n",
       "    .dataframe tbody tr th:only-of-type {\n",
       "        vertical-align: middle;\n",
       "    }\n",
       "\n",
       "    .dataframe tbody tr th {\n",
       "        vertical-align: top;\n",
       "    }\n",
       "\n",
       "    .dataframe thead th {\n",
       "        text-align: right;\n",
       "    }\n",
       "</style>\n",
       "<table border=\"1\" class=\"dataframe\">\n",
       "  <thead>\n",
       "    <tr style=\"text-align: right;\">\n",
       "      <th></th>\n",
       "      <th>short-name</th>\n",
       "      <th>long-name</th>\n",
       "      <th>Sub-region Name</th>\n",
       "      <th>Region Name</th>\n",
       "      <th>tld</th>\n",
       "      <th>Sub-region Code</th>\n",
       "      <th>Region Code</th>\n",
       "      <th>M49 Code</th>\n",
       "      <th>ISO-alpha2 Code</th>\n",
       "      <th>ISO-alpha3 Code</th>\n",
       "    </tr>\n",
       "  </thead>\n",
       "  <tbody>\n",
       "  </tbody>\n",
       "</table>\n",
       "</div>"
      ]
     },
     "metadata": {},
     "output_type": "display_data"
    },
    {
     "data": {
      "text/plain": [
       "'Check Taiwan specifically :'"
      ]
     },
     "metadata": {},
     "output_type": "display_data"
    },
    {
     "data": {
      "text/plain": [
       "    short-name                 long-name Sub-region Name Region Name  tld  \\\n",
       "227     Taiwan  Province of China Taiwan               0           0  .tw   \n",
       "\n",
       "     Sub-region Code  Region Code  M49 Code ISO-alpha2 Code ISO-alpha3 Code  \n",
       "227                0            0         0              TW               0  "
      ],
      "text/html": [
       "<div>\n",
       "<style scoped>\n",
       "    .dataframe tbody tr th:only-of-type {\n",
       "        vertical-align: middle;\n",
       "    }\n",
       "\n",
       "    .dataframe tbody tr th {\n",
       "        vertical-align: top;\n",
       "    }\n",
       "\n",
       "    .dataframe thead th {\n",
       "        text-align: right;\n",
       "    }\n",
       "</style>\n",
       "<table border=\"1\" class=\"dataframe\">\n",
       "  <thead>\n",
       "    <tr style=\"text-align: right;\">\n",
       "      <th></th>\n",
       "      <th>short-name</th>\n",
       "      <th>long-name</th>\n",
       "      <th>Sub-region Name</th>\n",
       "      <th>Region Name</th>\n",
       "      <th>tld</th>\n",
       "      <th>Sub-region Code</th>\n",
       "      <th>Region Code</th>\n",
       "      <th>M49 Code</th>\n",
       "      <th>ISO-alpha2 Code</th>\n",
       "      <th>ISO-alpha3 Code</th>\n",
       "    </tr>\n",
       "  </thead>\n",
       "  <tbody>\n",
       "    <tr>\n",
       "      <th>227</th>\n",
       "      <td>Taiwan</td>\n",
       "      <td>Province of China Taiwan</td>\n",
       "      <td>0</td>\n",
       "      <td>0</td>\n",
       "      <td>.tw</td>\n",
       "      <td>0</td>\n",
       "      <td>0</td>\n",
       "      <td>0</td>\n",
       "      <td>TW</td>\n",
       "      <td>0</td>\n",
       "    </tr>\n",
       "  </tbody>\n",
       "</table>\n",
       "</div>"
      ]
     },
     "metadata": {},
     "output_type": "display_data"
    }
   ],
   "execution_count": 130
  },
  {
   "metadata": {},
   "cell_type": "markdown",
   "source": [
    "### Azure Region Dataset\n",
    "#### Load Data"
   ],
   "id": "87750825125f3c17"
  },
  {
   "metadata": {
    "ExecuteTime": {
     "end_time": "2025-07-20T23:29:46.329547Z",
     "start_time": "2025-07-20T23:29:46.224326Z"
    }
   },
   "cell_type": "code",
   "source": [
    "azure_region_df = azure_region_dataset()\n",
    "visual_check_dataframe(azure_region_df, \"Azure Region Dataset - pre-cleanup\", rows=1)"
   ],
   "id": "f82358ccfc975853",
   "outputs": [
    {
     "data": {
      "text/plain": [
       "<IPython.core.display.HTML object>"
      ],
      "text/html": [
       "<span style=\"color: green;font-style:normal\"><br><h4>Starting Visual Check : Azure Region Dataset - pre-cleanup</h4></span>"
      ]
     },
     "metadata": {},
     "output_type": "display_data"
    },
    {
     "data": {
      "text/plain": [
       "<IPython.core.display.HTML object>"
      ],
      "text/html": [
       "<span style=\"color: black;font-style:normal\"><br>Check top 1 row(s), followed by a sample of 1 row(s) and then the bottom 1 row(s)</span>"
      ]
     },
     "metadata": {},
     "output_type": "display_data"
    },
    {
     "data": {
      "text/plain": [
       "              Region  Availability zone support        Paired region  \\\n",
       "0  Australia Central                        NaN  Australia Central 2   \n",
       "\n",
       "  Physical location  Geography  \n",
       "0          Canberra  Australia  "
      ],
      "text/html": [
       "<div>\n",
       "<style scoped>\n",
       "    .dataframe tbody tr th:only-of-type {\n",
       "        vertical-align: middle;\n",
       "    }\n",
       "\n",
       "    .dataframe tbody tr th {\n",
       "        vertical-align: top;\n",
       "    }\n",
       "\n",
       "    .dataframe thead th {\n",
       "        text-align: right;\n",
       "    }\n",
       "</style>\n",
       "<table border=\"1\" class=\"dataframe\">\n",
       "  <thead>\n",
       "    <tr style=\"text-align: right;\">\n",
       "      <th></th>\n",
       "      <th>Region</th>\n",
       "      <th>Availability zone support</th>\n",
       "      <th>Paired region</th>\n",
       "      <th>Physical location</th>\n",
       "      <th>Geography</th>\n",
       "    </tr>\n",
       "  </thead>\n",
       "  <tbody>\n",
       "    <tr>\n",
       "      <th>0</th>\n",
       "      <td>Australia Central</td>\n",
       "      <td>NaN</td>\n",
       "      <td>Australia Central 2</td>\n",
       "      <td>Canberra</td>\n",
       "      <td>Australia</td>\n",
       "    </tr>\n",
       "  </tbody>\n",
       "</table>\n",
       "</div>"
      ]
     },
     "metadata": {},
     "output_type": "display_data"
    },
    {
     "data": {
      "text/plain": [
       "               Region  Availability zone support Paired region  \\\n",
       "19  Indonesia Central                        NaN           NaN   \n",
       "\n",
       "   Physical location  Geography  \n",
       "19           Jakarta  Indonesia  "
      ],
      "text/html": [
       "<div>\n",
       "<style scoped>\n",
       "    .dataframe tbody tr th:only-of-type {\n",
       "        vertical-align: middle;\n",
       "    }\n",
       "\n",
       "    .dataframe tbody tr th {\n",
       "        vertical-align: top;\n",
       "    }\n",
       "\n",
       "    .dataframe thead th {\n",
       "        text-align: right;\n",
       "    }\n",
       "</style>\n",
       "<table border=\"1\" class=\"dataframe\">\n",
       "  <thead>\n",
       "    <tr style=\"text-align: right;\">\n",
       "      <th></th>\n",
       "      <th>Region</th>\n",
       "      <th>Availability zone support</th>\n",
       "      <th>Paired region</th>\n",
       "      <th>Physical location</th>\n",
       "      <th>Geography</th>\n",
       "    </tr>\n",
       "  </thead>\n",
       "  <tbody>\n",
       "    <tr>\n",
       "      <th>19</th>\n",
       "      <td>Indonesia Central</td>\n",
       "      <td>NaN</td>\n",
       "      <td>NaN</td>\n",
       "      <td>Jakarta</td>\n",
       "      <td>Indonesia</td>\n",
       "    </tr>\n",
       "  </tbody>\n",
       "</table>\n",
       "</div>"
      ]
     },
     "metadata": {},
     "output_type": "display_data"
    },
    {
     "data": {
      "text/plain": [
       "       Region  Availability zone support Paired region Physical location  \\\n",
       "53  West US 3                        NaN       East US           Phoenix   \n",
       "\n",
       "        Geography  \n",
       "53  United States  "
      ],
      "text/html": [
       "<div>\n",
       "<style scoped>\n",
       "    .dataframe tbody tr th:only-of-type {\n",
       "        vertical-align: middle;\n",
       "    }\n",
       "\n",
       "    .dataframe tbody tr th {\n",
       "        vertical-align: top;\n",
       "    }\n",
       "\n",
       "    .dataframe thead th {\n",
       "        text-align: right;\n",
       "    }\n",
       "</style>\n",
       "<table border=\"1\" class=\"dataframe\">\n",
       "  <thead>\n",
       "    <tr style=\"text-align: right;\">\n",
       "      <th></th>\n",
       "      <th>Region</th>\n",
       "      <th>Availability zone support</th>\n",
       "      <th>Paired region</th>\n",
       "      <th>Physical location</th>\n",
       "      <th>Geography</th>\n",
       "    </tr>\n",
       "  </thead>\n",
       "  <tbody>\n",
       "    <tr>\n",
       "      <th>53</th>\n",
       "      <td>West US 3</td>\n",
       "      <td>NaN</td>\n",
       "      <td>East US</td>\n",
       "      <td>Phoenix</td>\n",
       "      <td>United States</td>\n",
       "    </tr>\n",
       "  </tbody>\n",
       "</table>\n",
       "</div>"
      ]
     },
     "metadata": {},
     "output_type": "display_data"
    },
    {
     "data": {
      "text/plain": [
       "<IPython.core.display.HTML object>"
      ],
      "text/html": [
       "<span style=\"color: red;font-style:italic\"><br><h5>Ending Visual Check : Azure Region Dataset - pre-cleanup</h5></span>"
      ]
     },
     "metadata": {},
     "output_type": "display_data"
    }
   ],
   "execution_count": 133
  },
  {
   "metadata": {},
   "cell_type": "markdown",
   "source": "#### Pre-processing of Azure region dataset",
   "id": "65639474e404db0"
  },
  {
   "metadata": {
    "ExecuteTime": {
     "end_time": "2025-07-20T23:29:53.040389Z",
     "start_time": "2025-07-20T23:29:53.013822Z"
    }
   },
   "cell_type": "code",
   "source": [
    "azure_region_df = clean_azure_region_dataset(azure_region_df)\n",
    "visual_check_dataframe(azure_region_df, \"Azure Region Dataset - post cleanup\", sample_only=True)"
   ],
   "id": "4bd08a835b158364",
   "outputs": [
    {
     "data": {
      "text/plain": [
       "<IPython.core.display.HTML object>"
      ],
      "text/html": [
       "<span style=\"color: green;font-style:normal\"><br><h4>Starting Visual Check : Azure Region Dataset - post cleanup</h4></span>"
      ]
     },
     "metadata": {},
     "output_type": "display_data"
    },
    {
     "data": {
      "text/plain": [
       "<IPython.core.display.HTML object>"
      ],
      "text/html": [
       "<span style=\"color: black;font-style:normal\"><br>Checking random sample of 3 rows</span>"
      ]
     },
     "metadata": {},
     "output_type": "display_data"
    },
    {
     "data": {
      "text/plain": [
       "     cloud-region Physical location       Geography Locality country  \\\n",
       "47         ukwest           Cardiff  United Kingdom                    \n",
       "21     italynorth             Milan           Italy                    \n",
       "20  israelcentral            Israel          Israel                    \n",
       "\n",
       "   Subdivision  \n",
       "47              \n",
       "21              \n",
       "20              "
      ],
      "text/html": [
       "<div>\n",
       "<style scoped>\n",
       "    .dataframe tbody tr th:only-of-type {\n",
       "        vertical-align: middle;\n",
       "    }\n",
       "\n",
       "    .dataframe tbody tr th {\n",
       "        vertical-align: top;\n",
       "    }\n",
       "\n",
       "    .dataframe thead th {\n",
       "        text-align: right;\n",
       "    }\n",
       "</style>\n",
       "<table border=\"1\" class=\"dataframe\">\n",
       "  <thead>\n",
       "    <tr style=\"text-align: right;\">\n",
       "      <th></th>\n",
       "      <th>cloud-region</th>\n",
       "      <th>Physical location</th>\n",
       "      <th>Geography</th>\n",
       "      <th>Locality</th>\n",
       "      <th>country</th>\n",
       "      <th>Subdivision</th>\n",
       "    </tr>\n",
       "  </thead>\n",
       "  <tbody>\n",
       "    <tr>\n",
       "      <th>47</th>\n",
       "      <td>ukwest</td>\n",
       "      <td>Cardiff</td>\n",
       "      <td>United Kingdom</td>\n",
       "      <td></td>\n",
       "      <td></td>\n",
       "      <td></td>\n",
       "    </tr>\n",
       "    <tr>\n",
       "      <th>21</th>\n",
       "      <td>italynorth</td>\n",
       "      <td>Milan</td>\n",
       "      <td>Italy</td>\n",
       "      <td></td>\n",
       "      <td></td>\n",
       "      <td></td>\n",
       "    </tr>\n",
       "    <tr>\n",
       "      <th>20</th>\n",
       "      <td>israelcentral</td>\n",
       "      <td>Israel</td>\n",
       "      <td>Israel</td>\n",
       "      <td></td>\n",
       "      <td></td>\n",
       "      <td></td>\n",
       "    </tr>\n",
       "  </tbody>\n",
       "</table>\n",
       "</div>"
      ]
     },
     "metadata": {},
     "output_type": "display_data"
    },
    {
     "data": {
      "text/plain": [
       "<IPython.core.display.HTML object>"
      ],
      "text/html": [
       "<span style=\"color: red;font-style:italic\"><br><h5>Ending Visual Check : Azure Region Dataset - post cleanup</h5></span>"
      ]
     },
     "metadata": {},
     "output_type": "display_data"
    }
   ],
   "execution_count": 134
  },
  {
   "metadata": {},
   "cell_type": "markdown",
   "source": [
    "### Google Region Datasset\n",
    "#### Load Data"
   ],
   "id": "6aeaa299af559ca"
  },
  {
   "metadata": {
    "ExecuteTime": {
     "end_time": "2025-07-20T23:30:03.830552Z",
     "start_time": "2025-07-20T23:30:03.584711Z"
    }
   },
   "cell_type": "code",
   "source": [
    "google_region_df = get_google_region_dataset()\n",
    "visual_check_dataframe(azure_region_df, \"Google Region Dataset - pre-cleanup\", rows=1)"
   ],
   "id": "3ba8c1c54689bfcd",
   "outputs": [
    {
     "data": {
      "text/plain": [
       "<IPython.core.display.HTML object>"
      ],
      "text/html": [
       "<span style=\"color: green;font-style:normal\"><br><h4>Starting Visual Check : Google Region Dataset - pre-cleanup</h4></span>"
      ]
     },
     "metadata": {},
     "output_type": "display_data"
    },
    {
     "data": {
      "text/plain": [
       "<IPython.core.display.HTML object>"
      ],
      "text/html": [
       "<span style=\"color: black;font-style:normal\"><br>Check top 1 row(s), followed by a sample of 1 row(s) and then the bottom 1 row(s)</span>"
      ]
     },
     "metadata": {},
     "output_type": "display_data"
    },
    {
     "data": {
      "text/plain": [
       "       cloud-region Physical location  Geography Locality country Subdivision\n",
       "0  australiacentral          Canberra  Australia                             "
      ],
      "text/html": [
       "<div>\n",
       "<style scoped>\n",
       "    .dataframe tbody tr th:only-of-type {\n",
       "        vertical-align: middle;\n",
       "    }\n",
       "\n",
       "    .dataframe tbody tr th {\n",
       "        vertical-align: top;\n",
       "    }\n",
       "\n",
       "    .dataframe thead th {\n",
       "        text-align: right;\n",
       "    }\n",
       "</style>\n",
       "<table border=\"1\" class=\"dataframe\">\n",
       "  <thead>\n",
       "    <tr style=\"text-align: right;\">\n",
       "      <th></th>\n",
       "      <th>cloud-region</th>\n",
       "      <th>Physical location</th>\n",
       "      <th>Geography</th>\n",
       "      <th>Locality</th>\n",
       "      <th>country</th>\n",
       "      <th>Subdivision</th>\n",
       "    </tr>\n",
       "  </thead>\n",
       "  <tbody>\n",
       "    <tr>\n",
       "      <th>0</th>\n",
       "      <td>australiacentral</td>\n",
       "      <td>Canberra</td>\n",
       "      <td>Australia</td>\n",
       "      <td></td>\n",
       "      <td></td>\n",
       "      <td></td>\n",
       "    </tr>\n",
       "  </tbody>\n",
       "</table>\n",
       "</div>"
      ]
     },
     "metadata": {},
     "output_type": "display_data"
    },
    {
     "data": {
      "text/plain": [
       "    cloud-region Physical location Geography Locality country Subdivision\n",
       "17  germanynorth            Berlin   Germany                             "
      ],
      "text/html": [
       "<div>\n",
       "<style scoped>\n",
       "    .dataframe tbody tr th:only-of-type {\n",
       "        vertical-align: middle;\n",
       "    }\n",
       "\n",
       "    .dataframe tbody tr th {\n",
       "        vertical-align: top;\n",
       "    }\n",
       "\n",
       "    .dataframe thead th {\n",
       "        text-align: right;\n",
       "    }\n",
       "</style>\n",
       "<table border=\"1\" class=\"dataframe\">\n",
       "  <thead>\n",
       "    <tr style=\"text-align: right;\">\n",
       "      <th></th>\n",
       "      <th>cloud-region</th>\n",
       "      <th>Physical location</th>\n",
       "      <th>Geography</th>\n",
       "      <th>Locality</th>\n",
       "      <th>country</th>\n",
       "      <th>Subdivision</th>\n",
       "    </tr>\n",
       "  </thead>\n",
       "  <tbody>\n",
       "    <tr>\n",
       "      <th>17</th>\n",
       "      <td>germanynorth</td>\n",
       "      <td>Berlin</td>\n",
       "      <td>Germany</td>\n",
       "      <td></td>\n",
       "      <td></td>\n",
       "      <td></td>\n",
       "    </tr>\n",
       "  </tbody>\n",
       "</table>\n",
       "</div>"
      ]
     },
     "metadata": {},
     "output_type": "display_data"
    },
    {
     "data": {
      "text/plain": [
       "   cloud-region Physical location      Geography Locality country Subdivision\n",
       "53      westus3           Phoenix  United States                             "
      ],
      "text/html": [
       "<div>\n",
       "<style scoped>\n",
       "    .dataframe tbody tr th:only-of-type {\n",
       "        vertical-align: middle;\n",
       "    }\n",
       "\n",
       "    .dataframe tbody tr th {\n",
       "        vertical-align: top;\n",
       "    }\n",
       "\n",
       "    .dataframe thead th {\n",
       "        text-align: right;\n",
       "    }\n",
       "</style>\n",
       "<table border=\"1\" class=\"dataframe\">\n",
       "  <thead>\n",
       "    <tr style=\"text-align: right;\">\n",
       "      <th></th>\n",
       "      <th>cloud-region</th>\n",
       "      <th>Physical location</th>\n",
       "      <th>Geography</th>\n",
       "      <th>Locality</th>\n",
       "      <th>country</th>\n",
       "      <th>Subdivision</th>\n",
       "    </tr>\n",
       "  </thead>\n",
       "  <tbody>\n",
       "    <tr>\n",
       "      <th>53</th>\n",
       "      <td>westus3</td>\n",
       "      <td>Phoenix</td>\n",
       "      <td>United States</td>\n",
       "      <td></td>\n",
       "      <td></td>\n",
       "      <td></td>\n",
       "    </tr>\n",
       "  </tbody>\n",
       "</table>\n",
       "</div>"
      ]
     },
     "metadata": {},
     "output_type": "display_data"
    },
    {
     "data": {
      "text/plain": [
       "<IPython.core.display.HTML object>"
      ],
      "text/html": [
       "<span style=\"color: red;font-style:italic\"><br><h5>Ending Visual Check : Google Region Dataset - pre-cleanup</h5></span>"
      ]
     },
     "metadata": {},
     "output_type": "display_data"
    }
   ],
   "execution_count": 135
  },
  {
   "metadata": {},
   "cell_type": "markdown",
   "source": "#### Pre-processing of Google region dataset",
   "id": "a66172486ef1bef1"
  },
  {
   "metadata": {
    "ExecuteTime": {
     "end_time": "2025-07-20T23:30:09.058483Z",
     "start_time": "2025-07-20T23:30:09.019455Z"
    }
   },
   "cell_type": "code",
   "source": [
    "google_region_df = clean_google_region_dataset(google_region_df)\n",
    "visual_check_dataframe(google_region_df,\"Google Region Dataset - post cleanup\", sample_only=True)"
   ],
   "id": "b6f769676b6fb697",
   "outputs": [
    {
     "data": {
      "text/plain": [
       "<IPython.core.display.HTML object>"
      ],
      "text/html": [
       "<span style=\"color: green;font-style:normal\"><br><h4>Starting Visual Check : Google Region Dataset - post cleanup</h4></span>"
      ]
     },
     "metadata": {},
     "output_type": "display_data"
    },
    {
     "data": {
      "text/plain": [
       "<IPython.core.display.HTML object>"
      ],
      "text/html": [
       "<span style=\"color: black;font-style:normal\"><br>Checking random sample of 3 rows</span>"
      ]
     },
     "metadata": {},
     "output_type": "display_data"
    },
    {
     "data": {
      "text/plain": [
       "        Continent country cloud-region    Locality Subdivision Code  \\\n",
       "34  North America     USA     us-west1  The Dalles               OR   \n",
       "15  North America     USA     us-east4    Leesburg               VA   \n",
       "11  North America     USA     us-west4   Henderson               NV   \n",
       "\n",
       "   Subdivision    County County Code  \n",
       "34      Oregon    Oregon          OR  \n",
       "15    Virginia  Virginia          VA  \n",
       "11      Nevada    Nevada          NV  "
      ],
      "text/html": [
       "<div>\n",
       "<style scoped>\n",
       "    .dataframe tbody tr th:only-of-type {\n",
       "        vertical-align: middle;\n",
       "    }\n",
       "\n",
       "    .dataframe tbody tr th {\n",
       "        vertical-align: top;\n",
       "    }\n",
       "\n",
       "    .dataframe thead th {\n",
       "        text-align: right;\n",
       "    }\n",
       "</style>\n",
       "<table border=\"1\" class=\"dataframe\">\n",
       "  <thead>\n",
       "    <tr style=\"text-align: right;\">\n",
       "      <th></th>\n",
       "      <th>Continent</th>\n",
       "      <th>country</th>\n",
       "      <th>cloud-region</th>\n",
       "      <th>Locality</th>\n",
       "      <th>Subdivision Code</th>\n",
       "      <th>Subdivision</th>\n",
       "      <th>County</th>\n",
       "      <th>County Code</th>\n",
       "    </tr>\n",
       "  </thead>\n",
       "  <tbody>\n",
       "    <tr>\n",
       "      <th>34</th>\n",
       "      <td>North America</td>\n",
       "      <td>USA</td>\n",
       "      <td>us-west1</td>\n",
       "      <td>The Dalles</td>\n",
       "      <td>OR</td>\n",
       "      <td>Oregon</td>\n",
       "      <td>Oregon</td>\n",
       "      <td>OR</td>\n",
       "    </tr>\n",
       "    <tr>\n",
       "      <th>15</th>\n",
       "      <td>North America</td>\n",
       "      <td>USA</td>\n",
       "      <td>us-east4</td>\n",
       "      <td>Leesburg</td>\n",
       "      <td>VA</td>\n",
       "      <td>Virginia</td>\n",
       "      <td>Virginia</td>\n",
       "      <td>VA</td>\n",
       "    </tr>\n",
       "    <tr>\n",
       "      <th>11</th>\n",
       "      <td>North America</td>\n",
       "      <td>USA</td>\n",
       "      <td>us-west4</td>\n",
       "      <td>Henderson</td>\n",
       "      <td>NV</td>\n",
       "      <td>Nevada</td>\n",
       "      <td>Nevada</td>\n",
       "      <td>NV</td>\n",
       "    </tr>\n",
       "  </tbody>\n",
       "</table>\n",
       "</div>"
      ]
     },
     "metadata": {},
     "output_type": "display_data"
    },
    {
     "data": {
      "text/plain": [
       "<IPython.core.display.HTML object>"
      ],
      "text/html": [
       "<span style=\"color: red;font-style:italic\"><br><h5>Ending Visual Check : Google Region Dataset - post cleanup</h5></span>"
      ]
     },
     "metadata": {},
     "output_type": "display_data"
    }
   ],
   "execution_count": 136
  },
  {
   "metadata": {},
   "cell_type": "markdown",
   "source": [
    "### AWS Region Dataset\n",
    "#### Load Data"
   ],
   "id": "38d10946f60b7d95"
  },
  {
   "metadata": {
    "ExecuteTime": {
     "end_time": "2025-07-20T23:30:16.430510Z",
     "start_time": "2025-07-20T23:30:15.666744Z"
    }
   },
   "cell_type": "code",
   "source": [
    "aws_region_df = get_aws_region_dataset()\n",
    "visual_check_dataframe(aws_region_df,\"AWS Region Dataset - pre-cleanup\", rows=1)"
   ],
   "id": "3ef38f26d12b0acd",
   "outputs": [
    {
     "data": {
      "text/plain": [
       "<IPython.core.display.HTML object>"
      ],
      "text/html": [
       "<span style=\"color: green;font-style:normal\"><br><h4>Starting Visual Check : AWS Region Dataset - pre-cleanup</h4></span>"
      ]
     },
     "metadata": {},
     "output_type": "display_data"
    },
    {
     "data": {
      "text/plain": [
       "<IPython.core.display.HTML object>"
      ],
      "text/html": [
       "<span style=\"color: black;font-style:normal\"><br>Check top 1 row(s), followed by a sample of 1 row(s) and then the bottom 1 row(s)</span>"
      ]
     },
     "metadata": {},
     "output_type": "display_data"
    },
    {
     "data": {
      "text/plain": [
       "        Code                   Name AZs                 Geography  \\\n",
       "0  us-east-1  US East (N. Virginia)   6  United States of America   \n",
       "\n",
       "  Opt-in status  \n",
       "0  Not required  "
      ],
      "text/html": [
       "<div>\n",
       "<style scoped>\n",
       "    .dataframe tbody tr th:only-of-type {\n",
       "        vertical-align: middle;\n",
       "    }\n",
       "\n",
       "    .dataframe tbody tr th {\n",
       "        vertical-align: top;\n",
       "    }\n",
       "\n",
       "    .dataframe thead th {\n",
       "        text-align: right;\n",
       "    }\n",
       "</style>\n",
       "<table border=\"1\" class=\"dataframe\">\n",
       "  <thead>\n",
       "    <tr style=\"text-align: right;\">\n",
       "      <th></th>\n",
       "      <th>Code</th>\n",
       "      <th>Name</th>\n",
       "      <th>AZs</th>\n",
       "      <th>Geography</th>\n",
       "      <th>Opt-in status</th>\n",
       "    </tr>\n",
       "  </thead>\n",
       "  <tbody>\n",
       "    <tr>\n",
       "      <th>0</th>\n",
       "      <td>us-east-1</td>\n",
       "      <td>US East (N. Virginia)</td>\n",
       "      <td>6</td>\n",
       "      <td>United States of America</td>\n",
       "      <td>Not required</td>\n",
       "    </tr>\n",
       "  </tbody>\n",
       "</table>\n",
       "</div>"
      ]
     },
     "metadata": {},
     "output_type": "display_data"
    },
    {
     "data": {
      "text/plain": [
       "             Code                    Name AZs  Geography Opt-in status\n",
       "7  ap-southeast-3  Asia Pacific (Jakarta)   3  Indonesia      Required"
      ],
      "text/html": [
       "<div>\n",
       "<style scoped>\n",
       "    .dataframe tbody tr th:only-of-type {\n",
       "        vertical-align: middle;\n",
       "    }\n",
       "\n",
       "    .dataframe tbody tr th {\n",
       "        vertical-align: top;\n",
       "    }\n",
       "\n",
       "    .dataframe thead th {\n",
       "        text-align: right;\n",
       "    }\n",
       "</style>\n",
       "<table border=\"1\" class=\"dataframe\">\n",
       "  <thead>\n",
       "    <tr style=\"text-align: right;\">\n",
       "      <th></th>\n",
       "      <th>Code</th>\n",
       "      <th>Name</th>\n",
       "      <th>AZs</th>\n",
       "      <th>Geography</th>\n",
       "      <th>Opt-in status</th>\n",
       "    </tr>\n",
       "  </thead>\n",
       "  <tbody>\n",
       "    <tr>\n",
       "      <th>7</th>\n",
       "      <td>ap-southeast-3</td>\n",
       "      <td>Asia Pacific (Jakarta)</td>\n",
       "      <td>3</td>\n",
       "      <td>Indonesia</td>\n",
       "      <td>Required</td>\n",
       "    </tr>\n",
       "  </tbody>\n",
       "</table>\n",
       "</div>"
      ]
     },
     "metadata": {},
     "output_type": "display_data"
    },
    {
     "data": {
      "text/plain": [
       "         Code                       Name AZs Geography Opt-in status\n",
       "32  sa-east-1  South America (São Paulo)   3    Brazil  Not required"
      ],
      "text/html": [
       "<div>\n",
       "<style scoped>\n",
       "    .dataframe tbody tr th:only-of-type {\n",
       "        vertical-align: middle;\n",
       "    }\n",
       "\n",
       "    .dataframe tbody tr th {\n",
       "        vertical-align: top;\n",
       "    }\n",
       "\n",
       "    .dataframe thead th {\n",
       "        text-align: right;\n",
       "    }\n",
       "</style>\n",
       "<table border=\"1\" class=\"dataframe\">\n",
       "  <thead>\n",
       "    <tr style=\"text-align: right;\">\n",
       "      <th></th>\n",
       "      <th>Code</th>\n",
       "      <th>Name</th>\n",
       "      <th>AZs</th>\n",
       "      <th>Geography</th>\n",
       "      <th>Opt-in status</th>\n",
       "    </tr>\n",
       "  </thead>\n",
       "  <tbody>\n",
       "    <tr>\n",
       "      <th>32</th>\n",
       "      <td>sa-east-1</td>\n",
       "      <td>South America (São Paulo)</td>\n",
       "      <td>3</td>\n",
       "      <td>Brazil</td>\n",
       "      <td>Not required</td>\n",
       "    </tr>\n",
       "  </tbody>\n",
       "</table>\n",
       "</div>"
      ]
     },
     "metadata": {},
     "output_type": "display_data"
    },
    {
     "data": {
      "text/plain": [
       "<IPython.core.display.HTML object>"
      ],
      "text/html": [
       "<span style=\"color: red;font-style:italic\"><br><h5>Ending Visual Check : AWS Region Dataset - pre-cleanup</h5></span>"
      ]
     },
     "metadata": {},
     "output_type": "display_data"
    }
   ],
   "execution_count": 137
  },
  {
   "metadata": {},
   "cell_type": "markdown",
   "source": "#### Pre-processing of AWS region dataset",
   "id": "a1d8fef75f4ae7ae"
  },
  {
   "metadata": {
    "ExecuteTime": {
     "end_time": "2025-07-20T23:30:30.950770Z",
     "start_time": "2025-07-20T23:30:30.919048Z"
    }
   },
   "cell_type": "code",
   "source": [
    "aws_region_df = clean_aws_region_dataset(aws_region_df)\n",
    "write(\"Re-check AWS Region data once it's been cleaned\")\n",
    "visual_check_dataframe(aws_region_df, \"AWS Region Dataset : post-cleanup\",sample_only=True)"
   ],
   "id": "40e07488dec2363b",
   "outputs": [
    {
     "data": {
      "text/plain": [
       "<IPython.core.display.HTML object>"
      ],
      "text/html": [
       "<span style=\"color: black;font-style:normal\"><br>Re-check AWS Region data once it's been cleaned</span>"
      ]
     },
     "metadata": {},
     "output_type": "display_data"
    },
    {
     "data": {
      "text/plain": [
       "<IPython.core.display.HTML object>"
      ],
      "text/html": [
       "<span style=\"color: green;font-style:normal\"><br><h4>Starting Visual Check : AWS Region Dataset : post-cleanup</h4></span>"
      ]
     },
     "metadata": {},
     "output_type": "display_data"
    },
    {
     "data": {
      "text/plain": [
       "<IPython.core.display.HTML object>"
      ],
      "text/html": [
       "<span style=\"color: black;font-style:normal\"><br>Checking random sample of 3 rows</span>"
      ]
     },
     "metadata": {},
     "output_type": "display_data"
    },
    {
     "data": {
      "text/plain": [
       "      cloud-region                      Name AZs  Geography\n",
       "19       ca-west-1     Canada West (Calgary)   3     Canada\n",
       "25      eu-south-2            Europe (Spain)   3      Spain\n",
       "9   ap-southeast-4  Asia Pacific (Melbourne)   3  Australia"
      ],
      "text/html": [
       "<div>\n",
       "<style scoped>\n",
       "    .dataframe tbody tr th:only-of-type {\n",
       "        vertical-align: middle;\n",
       "    }\n",
       "\n",
       "    .dataframe tbody tr th {\n",
       "        vertical-align: top;\n",
       "    }\n",
       "\n",
       "    .dataframe thead th {\n",
       "        text-align: right;\n",
       "    }\n",
       "</style>\n",
       "<table border=\"1\" class=\"dataframe\">\n",
       "  <thead>\n",
       "    <tr style=\"text-align: right;\">\n",
       "      <th></th>\n",
       "      <th>cloud-region</th>\n",
       "      <th>Name</th>\n",
       "      <th>AZs</th>\n",
       "      <th>Geography</th>\n",
       "    </tr>\n",
       "  </thead>\n",
       "  <tbody>\n",
       "    <tr>\n",
       "      <th>19</th>\n",
       "      <td>ca-west-1</td>\n",
       "      <td>Canada West (Calgary)</td>\n",
       "      <td>3</td>\n",
       "      <td>Canada</td>\n",
       "    </tr>\n",
       "    <tr>\n",
       "      <th>25</th>\n",
       "      <td>eu-south-2</td>\n",
       "      <td>Europe (Spain)</td>\n",
       "      <td>3</td>\n",
       "      <td>Spain</td>\n",
       "    </tr>\n",
       "    <tr>\n",
       "      <th>9</th>\n",
       "      <td>ap-southeast-4</td>\n",
       "      <td>Asia Pacific (Melbourne)</td>\n",
       "      <td>3</td>\n",
       "      <td>Australia</td>\n",
       "    </tr>\n",
       "  </tbody>\n",
       "</table>\n",
       "</div>"
      ]
     },
     "metadata": {},
     "output_type": "display_data"
    },
    {
     "data": {
      "text/plain": [
       "<IPython.core.display.HTML object>"
      ],
      "text/html": [
       "<span style=\"color: red;font-style:italic\"><br><h5>Ending Visual Check : AWS Region Dataset : post-cleanup</h5></span>"
      ]
     },
     "metadata": {},
     "output_type": "display_data"
    }
   ],
   "execution_count": 138
  },
  {
   "metadata": {},
   "cell_type": "markdown",
   "source": [
    "#### Combine AWS region dataframe with locations dataframe\n",
    "The AWS region dataframe doesn't have full details of where the cloud dc is based.  So, we will combine it with the more comprehensive list compiled earlier\n",
    "##### Merge Data"
   ],
   "id": "1cc836f0f7a64c17"
  },
  {
   "metadata": {
    "ExecuteTime": {
     "end_time": "2025-07-20T23:33:18.909466Z",
     "start_time": "2025-07-20T23:33:18.854966Z"
    }
   },
   "cell_type": "code",
   "source": [
    "aws_combined_df = combine_cloud_region_details_with_location_info(aws_region_df)\n",
    "visual_check_dataframe(aws_combined_df,\"AWS Regions combined with location\",rows=1)\n",
    "'''Report AWS regions missing or incomplete country info'''\n",
    "unmerged_aws_cloud_regions = identify_cloud_regions_with_incomplete_country_info(aws_combined_df,\"AWS region combined with location dataset\")\n"
   ],
   "id": "66190e316d422b0c",
   "outputs": [
    {
     "data": {
      "text/plain": [
       "<IPython.core.display.HTML object>"
      ],
      "text/html": [
       "<span style=\"color: green;font-style:normal\"><br><h4>Starting Visual Check : AWS Regions combined with location</h4></span>"
      ]
     },
     "metadata": {},
     "output_type": "display_data"
    },
    {
     "data": {
      "text/plain": [
       "<IPython.core.display.HTML object>"
      ],
      "text/html": [
       "<span style=\"color: black;font-style:normal\"><br>Check top 1 row(s), followed by a sample of 1 row(s) and then the bottom 1 row(s)</span>"
      ]
     },
     "metadata": {},
     "output_type": "display_data"
    },
    {
     "data": {
      "text/plain": [
       "  cloud-region                   Name AZs                 Geography A2 Code  \\\n",
       "0    us-east-1  US East (N. Virginia)   6  United States of America      US   \n",
       "\n",
       "  Country name (using title case)  tld  Region Code Region Name  \\\n",
       "0        United States of America  .us         19.0    Americas   \n",
       "\n",
       "   Sub-region Code   Sub-region Name           Country or Area  M49 Code  \\\n",
       "0             21.0  Northern America  United States of America     840.0   \n",
       "\n",
       "  ISO-alpha2 Code ISO-alpha3 Code  \n",
       "0              US             USA  "
      ],
      "text/html": [
       "<div>\n",
       "<style scoped>\n",
       "    .dataframe tbody tr th:only-of-type {\n",
       "        vertical-align: middle;\n",
       "    }\n",
       "\n",
       "    .dataframe tbody tr th {\n",
       "        vertical-align: top;\n",
       "    }\n",
       "\n",
       "    .dataframe thead th {\n",
       "        text-align: right;\n",
       "    }\n",
       "</style>\n",
       "<table border=\"1\" class=\"dataframe\">\n",
       "  <thead>\n",
       "    <tr style=\"text-align: right;\">\n",
       "      <th></th>\n",
       "      <th>cloud-region</th>\n",
       "      <th>Name</th>\n",
       "      <th>AZs</th>\n",
       "      <th>Geography</th>\n",
       "      <th>A2 Code</th>\n",
       "      <th>Country name (using title case)</th>\n",
       "      <th>tld</th>\n",
       "      <th>Region Code</th>\n",
       "      <th>Region Name</th>\n",
       "      <th>Sub-region Code</th>\n",
       "      <th>Sub-region Name</th>\n",
       "      <th>Country or Area</th>\n",
       "      <th>M49 Code</th>\n",
       "      <th>ISO-alpha2 Code</th>\n",
       "      <th>ISO-alpha3 Code</th>\n",
       "    </tr>\n",
       "  </thead>\n",
       "  <tbody>\n",
       "    <tr>\n",
       "      <th>0</th>\n",
       "      <td>us-east-1</td>\n",
       "      <td>US East (N. Virginia)</td>\n",
       "      <td>6</td>\n",
       "      <td>United States of America</td>\n",
       "      <td>US</td>\n",
       "      <td>United States of America</td>\n",
       "      <td>.us</td>\n",
       "      <td>19.0</td>\n",
       "      <td>Americas</td>\n",
       "      <td>21.0</td>\n",
       "      <td>Northern America</td>\n",
       "      <td>United States of America</td>\n",
       "      <td>840.0</td>\n",
       "      <td>US</td>\n",
       "      <td>USA</td>\n",
       "    </tr>\n",
       "  </tbody>\n",
       "</table>\n",
       "</div>"
      ]
     },
     "metadata": {},
     "output_type": "display_data"
    },
    {
     "data": {
      "text/plain": [
       "  cloud-region            Name AZs                 Geography A2 Code  \\\n",
       "1    us-east-2  US East (Ohio)   3  United States of America      US   \n",
       "\n",
       "  Country name (using title case)  tld  Region Code Region Name  \\\n",
       "1        United States of America  .us         19.0    Americas   \n",
       "\n",
       "   Sub-region Code   Sub-region Name           Country or Area  M49 Code  \\\n",
       "1             21.0  Northern America  United States of America     840.0   \n",
       "\n",
       "  ISO-alpha2 Code ISO-alpha3 Code  \n",
       "1              US             USA  "
      ],
      "text/html": [
       "<div>\n",
       "<style scoped>\n",
       "    .dataframe tbody tr th:only-of-type {\n",
       "        vertical-align: middle;\n",
       "    }\n",
       "\n",
       "    .dataframe tbody tr th {\n",
       "        vertical-align: top;\n",
       "    }\n",
       "\n",
       "    .dataframe thead th {\n",
       "        text-align: right;\n",
       "    }\n",
       "</style>\n",
       "<table border=\"1\" class=\"dataframe\">\n",
       "  <thead>\n",
       "    <tr style=\"text-align: right;\">\n",
       "      <th></th>\n",
       "      <th>cloud-region</th>\n",
       "      <th>Name</th>\n",
       "      <th>AZs</th>\n",
       "      <th>Geography</th>\n",
       "      <th>A2 Code</th>\n",
       "      <th>Country name (using title case)</th>\n",
       "      <th>tld</th>\n",
       "      <th>Region Code</th>\n",
       "      <th>Region Name</th>\n",
       "      <th>Sub-region Code</th>\n",
       "      <th>Sub-region Name</th>\n",
       "      <th>Country or Area</th>\n",
       "      <th>M49 Code</th>\n",
       "      <th>ISO-alpha2 Code</th>\n",
       "      <th>ISO-alpha3 Code</th>\n",
       "    </tr>\n",
       "  </thead>\n",
       "  <tbody>\n",
       "    <tr>\n",
       "      <th>1</th>\n",
       "      <td>us-east-2</td>\n",
       "      <td>US East (Ohio)</td>\n",
       "      <td>3</td>\n",
       "      <td>United States of America</td>\n",
       "      <td>US</td>\n",
       "      <td>United States of America</td>\n",
       "      <td>.us</td>\n",
       "      <td>19.0</td>\n",
       "      <td>Americas</td>\n",
       "      <td>21.0</td>\n",
       "      <td>Northern America</td>\n",
       "      <td>United States of America</td>\n",
       "      <td>840.0</td>\n",
       "      <td>US</td>\n",
       "      <td>USA</td>\n",
       "    </tr>\n",
       "  </tbody>\n",
       "</table>\n",
       "</div>"
      ]
     },
     "metadata": {},
     "output_type": "display_data"
    },
    {
     "data": {
      "text/plain": [
       "   cloud-region                       Name AZs Geography A2 Code  \\\n",
       "32    sa-east-1  South America (São Paulo)   3    Brazil      BR   \n",
       "\n",
       "   Country name (using title case)  tld  Region Code Region Name  \\\n",
       "32                          Brazil  .br         19.0    Americas   \n",
       "\n",
       "    Sub-region Code                  Sub-region Name Country or Area  \\\n",
       "32            419.0  Latin America and the Caribbean          Brazil   \n",
       "\n",
       "    M49 Code ISO-alpha2 Code ISO-alpha3 Code  \n",
       "32      76.0              BR             BRA  "
      ],
      "text/html": [
       "<div>\n",
       "<style scoped>\n",
       "    .dataframe tbody tr th:only-of-type {\n",
       "        vertical-align: middle;\n",
       "    }\n",
       "\n",
       "    .dataframe tbody tr th {\n",
       "        vertical-align: top;\n",
       "    }\n",
       "\n",
       "    .dataframe thead th {\n",
       "        text-align: right;\n",
       "    }\n",
       "</style>\n",
       "<table border=\"1\" class=\"dataframe\">\n",
       "  <thead>\n",
       "    <tr style=\"text-align: right;\">\n",
       "      <th></th>\n",
       "      <th>cloud-region</th>\n",
       "      <th>Name</th>\n",
       "      <th>AZs</th>\n",
       "      <th>Geography</th>\n",
       "      <th>A2 Code</th>\n",
       "      <th>Country name (using title case)</th>\n",
       "      <th>tld</th>\n",
       "      <th>Region Code</th>\n",
       "      <th>Region Name</th>\n",
       "      <th>Sub-region Code</th>\n",
       "      <th>Sub-region Name</th>\n",
       "      <th>Country or Area</th>\n",
       "      <th>M49 Code</th>\n",
       "      <th>ISO-alpha2 Code</th>\n",
       "      <th>ISO-alpha3 Code</th>\n",
       "    </tr>\n",
       "  </thead>\n",
       "  <tbody>\n",
       "    <tr>\n",
       "      <th>32</th>\n",
       "      <td>sa-east-1</td>\n",
       "      <td>South America (São Paulo)</td>\n",
       "      <td>3</td>\n",
       "      <td>Brazil</td>\n",
       "      <td>BR</td>\n",
       "      <td>Brazil</td>\n",
       "      <td>.br</td>\n",
       "      <td>19.0</td>\n",
       "      <td>Americas</td>\n",
       "      <td>419.0</td>\n",
       "      <td>Latin America and the Caribbean</td>\n",
       "      <td>Brazil</td>\n",
       "      <td>76.0</td>\n",
       "      <td>BR</td>\n",
       "      <td>BRA</td>\n",
       "    </tr>\n",
       "  </tbody>\n",
       "</table>\n",
       "</div>"
      ]
     },
     "metadata": {},
     "output_type": "display_data"
    },
    {
     "data": {
      "text/plain": [
       "<IPython.core.display.HTML object>"
      ],
      "text/html": [
       "<span style=\"color: red;font-style:italic\"><br><h5>Ending Visual Check : AWS Regions combined with location</h5></span>"
      ]
     },
     "metadata": {},
     "output_type": "display_data"
    },
    {
     "data": {
      "text/plain": [
       "'Unmerged Cloud Regions for AWS region combined with location dataset:'"
      ]
     },
     "metadata": {},
     "output_type": "display_data"
    },
    {
     "data": {
      "text/plain": [
       "      cloud-region       Geography Country name (using title case)  \\\n",
       "5        ap-east-1       Hong Kong                             NaN   \n",
       "12  ap-northeast-2     South Korea                             NaN   \n",
       "15       ap-east-2          Taiwan                             NaN   \n",
       "22       eu-west-2  United Kingdom                             NaN   \n",
       "\n",
       "   Country or Area  tld  Region Code Region Name  \n",
       "5              NaN  NaN          NaN         NaN  \n",
       "12             NaN  NaN          NaN         NaN  \n",
       "15             NaN  NaN          NaN         NaN  \n",
       "22             NaN  NaN          NaN         NaN  "
      ],
      "text/html": [
       "<div>\n",
       "<style scoped>\n",
       "    .dataframe tbody tr th:only-of-type {\n",
       "        vertical-align: middle;\n",
       "    }\n",
       "\n",
       "    .dataframe tbody tr th {\n",
       "        vertical-align: top;\n",
       "    }\n",
       "\n",
       "    .dataframe thead th {\n",
       "        text-align: right;\n",
       "    }\n",
       "</style>\n",
       "<table border=\"1\" class=\"dataframe\">\n",
       "  <thead>\n",
       "    <tr style=\"text-align: right;\">\n",
       "      <th></th>\n",
       "      <th>cloud-region</th>\n",
       "      <th>Geography</th>\n",
       "      <th>Country name (using title case)</th>\n",
       "      <th>Country or Area</th>\n",
       "      <th>tld</th>\n",
       "      <th>Region Code</th>\n",
       "      <th>Region Name</th>\n",
       "    </tr>\n",
       "  </thead>\n",
       "  <tbody>\n",
       "    <tr>\n",
       "      <th>5</th>\n",
       "      <td>ap-east-1</td>\n",
       "      <td>Hong Kong</td>\n",
       "      <td>NaN</td>\n",
       "      <td>NaN</td>\n",
       "      <td>NaN</td>\n",
       "      <td>NaN</td>\n",
       "      <td>NaN</td>\n",
       "    </tr>\n",
       "    <tr>\n",
       "      <th>12</th>\n",
       "      <td>ap-northeast-2</td>\n",
       "      <td>South Korea</td>\n",
       "      <td>NaN</td>\n",
       "      <td>NaN</td>\n",
       "      <td>NaN</td>\n",
       "      <td>NaN</td>\n",
       "      <td>NaN</td>\n",
       "    </tr>\n",
       "    <tr>\n",
       "      <th>15</th>\n",
       "      <td>ap-east-2</td>\n",
       "      <td>Taiwan</td>\n",
       "      <td>NaN</td>\n",
       "      <td>NaN</td>\n",
       "      <td>NaN</td>\n",
       "      <td>NaN</td>\n",
       "      <td>NaN</td>\n",
       "    </tr>\n",
       "    <tr>\n",
       "      <th>22</th>\n",
       "      <td>eu-west-2</td>\n",
       "      <td>United Kingdom</td>\n",
       "      <td>NaN</td>\n",
       "      <td>NaN</td>\n",
       "      <td>NaN</td>\n",
       "      <td>NaN</td>\n",
       "      <td>NaN</td>\n",
       "    </tr>\n",
       "  </tbody>\n",
       "</table>\n",
       "</div>"
      ]
     },
     "metadata": {},
     "output_type": "display_data"
    }
   ],
   "execution_count": 141
  },
  {
   "metadata": {},
   "cell_type": "markdown",
   "source": [
    "#### Resolve unmmerged records for combined AWS region & locations dataset\n",
    "Get a list of all country-or-area names from the locations dataset"
   ],
   "id": "360a6ee1dbd9ca2f"
  },
  {
   "metadata": {
    "ExecuteTime": {
     "end_time": "2025-07-20T23:34:11.645021Z",
     "start_time": "2025-07-20T23:34:11.632853Z"
    }
   },
   "cell_type": "code",
   "source": [
    "country_list = locations_df['short-name'].tolist()\n",
    "country_list"
   ],
   "id": "695c1717752b3e2",
   "outputs": [
    {
     "data": {
      "text/plain": [
       "['Andorra',\n",
       " 'United Arab Emirates',\n",
       " 'Afghanistan',\n",
       " 'Antigua and Barbuda',\n",
       " 'Anguilla',\n",
       " 'Albania',\n",
       " 'Armenia',\n",
       " 'Angola',\n",
       " 'Antarctica',\n",
       " 'Argentina',\n",
       " 'American Samoa',\n",
       " 'Austria',\n",
       " 'Australia',\n",
       " 'Aruba',\n",
       " 'Åland Islands',\n",
       " 'Azerbaijan',\n",
       " 'Bosnia and Herzegovina',\n",
       " 'Barbados',\n",
       " 'Bangladesh',\n",
       " 'Belgium',\n",
       " 'Burkina Faso',\n",
       " 'Bulgaria',\n",
       " 'Bahrain',\n",
       " 'Burundi',\n",
       " 'Benin',\n",
       " 'Saint Barthélemy',\n",
       " 'Bermuda',\n",
       " 'Brunei Darussalam',\n",
       " 'Bolivia',\n",
       " 'Bonaire',\n",
       " 'Brazil',\n",
       " 'Bahamas',\n",
       " 'Bhutan',\n",
       " 'Bouvet Island',\n",
       " 'Botswana',\n",
       " 'Belarus',\n",
       " 'Belize',\n",
       " 'Canada',\n",
       " 'Cocos (Keeling) Islands',\n",
       " 'Congo',\n",
       " 'Central African Republic',\n",
       " 'Congo',\n",
       " 'Switzerland',\n",
       " \"Côte d'Ivoire\",\n",
       " 'Cook Islands',\n",
       " 'Chile',\n",
       " 'Cameroon',\n",
       " 'China',\n",
       " 'Colombia',\n",
       " 'Costa Rica',\n",
       " 'Cuba',\n",
       " 'Cabo Verde',\n",
       " 'Curaçao',\n",
       " 'Christmas Island',\n",
       " 'Cyprus',\n",
       " 'Czechia',\n",
       " 'Germany',\n",
       " 'Djibouti',\n",
       " 'Denmark',\n",
       " 'Dominica',\n",
       " 'Dominican Republic',\n",
       " 'Algeria',\n",
       " 'Ecuador',\n",
       " 'Estonia',\n",
       " 'Egypt',\n",
       " 'Western Sahara',\n",
       " 'Eritrea',\n",
       " 'Spain',\n",
       " 'Ethiopia',\n",
       " 'Finland',\n",
       " 'Fiji',\n",
       " 'Falkland Islands (Malvinas)',\n",
       " 'Micronesia',\n",
       " 'Faroe Islands',\n",
       " 'France',\n",
       " 'Gabon',\n",
       " 'United Kingdom of Great Britain and Northern Ireland',\n",
       " 'Grenada',\n",
       " 'Georgia',\n",
       " 'French Guiana',\n",
       " 'Guernsey',\n",
       " 'Ghana',\n",
       " 'Gibraltar',\n",
       " 'Greenland',\n",
       " 'Gambia',\n",
       " 'Guinea',\n",
       " 'Guadeloupe',\n",
       " 'Equatorial Guinea',\n",
       " 'Greece',\n",
       " 'South Georgia and the South Sandwich Islands',\n",
       " 'Guatemala',\n",
       " 'Guam',\n",
       " 'Guinea-Bissau',\n",
       " 'Guyana',\n",
       " 'Hong Kong',\n",
       " 'Heard Island and McDonald Islands',\n",
       " 'Honduras',\n",
       " 'Croatia',\n",
       " 'Haiti',\n",
       " 'Hungary',\n",
       " 'Indonesia',\n",
       " 'Ireland',\n",
       " 'Israel',\n",
       " 'Isle of Man',\n",
       " 'India',\n",
       " 'British Indian Ocean Territory',\n",
       " 'Iraq',\n",
       " 'Iran',\n",
       " 'Iceland',\n",
       " 'Italy',\n",
       " 'Jersey',\n",
       " 'Jamaica',\n",
       " 'Jordan',\n",
       " 'Japan',\n",
       " 'Kenya',\n",
       " 'Kyrgyzstan',\n",
       " 'Cambodia',\n",
       " 'Kiribati',\n",
       " 'Comoros',\n",
       " 'Saint Kitts and Nevis',\n",
       " 'Korea',\n",
       " 'Korea',\n",
       " 'Kuwait',\n",
       " 'Cayman Islands',\n",
       " 'Kazakhstan',\n",
       " \"Lao People's Democratic Republic\",\n",
       " 'Lebanon',\n",
       " 'Saint Lucia',\n",
       " 'Liechtenstein',\n",
       " 'Sri Lanka',\n",
       " 'Liberia',\n",
       " 'Lesotho',\n",
       " 'Lithuania',\n",
       " 'Luxembourg',\n",
       " 'Latvia',\n",
       " 'Libya',\n",
       " 'Morocco',\n",
       " 'Monaco',\n",
       " 'Moldova',\n",
       " 'Montenegro',\n",
       " 'Saint Martin (French part)',\n",
       " 'Madagascar',\n",
       " 'Marshall Islands',\n",
       " 'North Macedonia',\n",
       " 'Mali',\n",
       " 'Myanmar',\n",
       " 'Mongolia',\n",
       " 'Macao',\n",
       " 'Northern Mariana Islands',\n",
       " 'Martinique',\n",
       " 'Mauritania',\n",
       " 'Montserrat',\n",
       " 'Malta',\n",
       " 'Mauritius',\n",
       " 'Maldives',\n",
       " 'Malawi',\n",
       " 'Mexico',\n",
       " 'Malaysia',\n",
       " 'Mozambique',\n",
       " 'Namibia',\n",
       " 'New Caledonia',\n",
       " 'Niger',\n",
       " 'Norfolk Island',\n",
       " 'Nigeria',\n",
       " 'Nicaragua',\n",
       " 'Netherlands',\n",
       " 'Norway',\n",
       " 'Nepal',\n",
       " 'Nauru',\n",
       " 'Niue',\n",
       " 'New Zealand',\n",
       " 'Oman',\n",
       " 'Panama',\n",
       " 'Peru',\n",
       " 'French Polynesia',\n",
       " 'Papua New Guinea',\n",
       " 'Philippines',\n",
       " 'Pakistan',\n",
       " 'Poland',\n",
       " 'Saint Pierre and Miquelon',\n",
       " 'Pitcairn',\n",
       " 'Puerto Rico',\n",
       " 'Palestine',\n",
       " 'Portugal',\n",
       " 'Palau',\n",
       " 'Paraguay',\n",
       " 'Qatar',\n",
       " 'Réunion',\n",
       " 'Romania',\n",
       " 'Serbia',\n",
       " 'Russian Federation',\n",
       " 'Rwanda',\n",
       " 'Saudi Arabia',\n",
       " 'Solomon Islands',\n",
       " 'Seychelles',\n",
       " 'Sudan',\n",
       " 'Sweden',\n",
       " 'Singapore',\n",
       " 'Saint Helena',\n",
       " 'Slovenia',\n",
       " 'Svalbard and Jan Mayen',\n",
       " 'Slovakia',\n",
       " 'Sierra Leone',\n",
       " 'San Marino',\n",
       " 'Senegal',\n",
       " 'Somalia',\n",
       " 'Suriname',\n",
       " 'South Sudan',\n",
       " 'Sao Tome and Principe',\n",
       " 'El Salvador',\n",
       " 'Sint Maarten (Dutch part)',\n",
       " 'Syrian Arab Republic',\n",
       " 'Eswatini',\n",
       " 'Turks and Caicos Islands',\n",
       " 'Chad',\n",
       " 'French Southern Territories',\n",
       " 'Togo',\n",
       " 'Thailand',\n",
       " 'Tajikistan',\n",
       " 'Tokelau',\n",
       " 'Timor-Leste',\n",
       " 'Turkmenistan',\n",
       " 'Tunisia',\n",
       " 'Tonga',\n",
       " 'Türkiye',\n",
       " 'Trinidad and Tobago',\n",
       " 'Tuvalu',\n",
       " 'Taiwan',\n",
       " 'Tanzania',\n",
       " 'Ukraine',\n",
       " 'Uganda',\n",
       " 'United States Minor Outlying Islands',\n",
       " 'United States of America',\n",
       " 'Uruguay',\n",
       " 'Uzbekistan',\n",
       " 'Holy See',\n",
       " 'Saint Vincent and the Grenadines',\n",
       " 'Venezuela',\n",
       " 'Virgin Islands (British)',\n",
       " 'Virgin Islands (U.S.)',\n",
       " 'Viet Nam',\n",
       " 'Vanuatu',\n",
       " 'Wallis and Futuna',\n",
       " 'Samoa',\n",
       " 'Yemen',\n",
       " 'Mayotte',\n",
       " 'South Africa',\n",
       " 'Zambia',\n",
       " 'Zimbabwe']"
      ]
     },
     "execution_count": 142,
     "metadata": {},
     "output_type": "execute_result"
    }
   ],
   "execution_count": 142
  },
  {
   "metadata": {},
   "cell_type": "markdown",
   "source": "Try and do a fuzzy filter to match the country names",
   "id": "ccfb0d0293843934"
  },
  {
   "metadata": {
    "ExecuteTime": {
     "end_time": "2025-07-19T18:22:42.045391Z",
     "start_time": "2025-07-19T18:22:40.086821Z"
    }
   },
   "cell_type": "code",
   "source": [
    "\n",
    "\n",
    "def do_fuzzy_match_on_countries(\n",
    "        match_input_df,\n",
    "        match_on='Geography',\n",
    "        country_list=country_or_area_list):\n",
    "    fuzzy_df = match_input_df.copy()\n",
    "    fuzzy_df[['fuzzy_country_match','fuzzy_similarity','fuzzy_index']]= fuzzy_df[match_on].apply(lambda x: process.extractOne(x, country_list, scorer=fuzz.partial_ratio)).apply(pd.Series)\n",
    "    '''drop the fuzzy index column as this is only the place the name was in the list of counties we searched through'''\n",
    "    fuzzy_df.drop(columns=['fuzzy_index'], inplace=True)\n",
    "    return fuzzy_df\n",
    "\n",
    "def get_possible_country_matches(input_value,country_list=country_or_area_list):\n",
    "    '''take in a string and return a list of possible matches\n",
    "       each possible match is returned as a tuple, containing the match string,\n",
    "       the similarity score and the index from the list'''\n",
    "    possible_country_matches = process.extract(input_value, country_list, scorer=fuzz.partial_ratio)\n",
    "    '''iterate through our list of tuples to form a dictionary, with each matched string\n",
    "       as the key, and the similarity score as the value'''\n",
    "    my_dict = {matched_string: similarity for matched_string, similarity, _ in possible_country_matches\n",
    "            }\n",
    "    return pd.Series(my_dict).to_frame().rename(columns={0:'similarity'})\n",
    "\n",
    "def run_fuzzy_search_against_previously_unmerged_rows(input_df, unmerged_region_list):\n",
    "    fuzzy_search_df = do_fuzzy_match_on_countries(input_df)\n",
    "    '''Check the rows where we had failed to merge previously to see how it looks now'''\n",
    "    fuzzy_search_filtered_df = fuzzy_search_df[fuzzy_search_df['cloud-region'].isin(unmerged_region_list)][[\"cloud-region\",\"Geography\",\"fuzzy_country_match\",'fuzzy_similarity']]\n",
    "    possible_matches = dict()\n",
    "    for _, df_row in fuzzy_search_filtered_df.iterrows():\n",
    "        cloud_region = str(df_row['cloud-region'])\n",
    "        geography = str(df_row['Geography'])\n",
    "\n",
    "        possible_matches[geography] = get_possible_country_matches(geography)\n",
    "    return {\n",
    "        'top_matches' : fuzzy_search_filtered_df,\n",
    "        'possible_matches' : possible_matches\n",
    "    }\n",
    "\n",
    "\n",
    "results = run_fuzzy_search_against_previously_unmerged_rows(aws_combined_df, unmerged_aws_cloud_regions['list'])\n",
    "\n",
    "'''Display results of match'''\n",
    "display(results['top_matches'])\n",
    "\n"
   ],
   "id": "73f4f4b33282037b",
   "outputs": [
    {
     "name": "stdout",
     "output_type": "stream",
     "text": [
      "Requirement already satisfied: rapidfuzz in c:\\users\\craig\\pycharmprojects\\msc_software_eng_dataengineering_submission\\.venv\\lib\\site-packages (3.13.0)\n"
     ]
    },
    {
     "data": {
      "text/plain": [
       "      Cloud Region       Geography  \\\n",
       "5        ap-east-1       Hong Kong   \n",
       "12  ap-northeast-2     South Korea   \n",
       "15       ap-east-2          Taiwan   \n",
       "22       eu-west-2  United Kingdom   \n",
       "\n",
       "                                  fuzzy_country_match  fuzzy_similarity  \n",
       "5      China, Hong Kong Special Administrative Region        100.000000  \n",
       "12       South Georgia and the South Sandwich Islands         76.190476  \n",
       "15                          Taiwan, Province of China        100.000000  \n",
       "22  United Kingdom of Great Britain and Northern I...        100.000000  "
      ],
      "text/html": [
       "<div>\n",
       "<style scoped>\n",
       "    .dataframe tbody tr th:only-of-type {\n",
       "        vertical-align: middle;\n",
       "    }\n",
       "\n",
       "    .dataframe tbody tr th {\n",
       "        vertical-align: top;\n",
       "    }\n",
       "\n",
       "    .dataframe thead th {\n",
       "        text-align: right;\n",
       "    }\n",
       "</style>\n",
       "<table border=\"1\" class=\"dataframe\">\n",
       "  <thead>\n",
       "    <tr style=\"text-align: right;\">\n",
       "      <th></th>\n",
       "      <th>Cloud Region</th>\n",
       "      <th>Geography</th>\n",
       "      <th>fuzzy_country_match</th>\n",
       "      <th>fuzzy_similarity</th>\n",
       "    </tr>\n",
       "  </thead>\n",
       "  <tbody>\n",
       "    <tr>\n",
       "      <th>5</th>\n",
       "      <td>ap-east-1</td>\n",
       "      <td>Hong Kong</td>\n",
       "      <td>China, Hong Kong Special Administrative Region</td>\n",
       "      <td>100.000000</td>\n",
       "    </tr>\n",
       "    <tr>\n",
       "      <th>12</th>\n",
       "      <td>ap-northeast-2</td>\n",
       "      <td>South Korea</td>\n",
       "      <td>South Georgia and the South Sandwich Islands</td>\n",
       "      <td>76.190476</td>\n",
       "    </tr>\n",
       "    <tr>\n",
       "      <th>15</th>\n",
       "      <td>ap-east-2</td>\n",
       "      <td>Taiwan</td>\n",
       "      <td>Taiwan, Province of China</td>\n",
       "      <td>100.000000</td>\n",
       "    </tr>\n",
       "    <tr>\n",
       "      <th>22</th>\n",
       "      <td>eu-west-2</td>\n",
       "      <td>United Kingdom</td>\n",
       "      <td>United Kingdom of Great Britain and Northern I...</td>\n",
       "      <td>100.000000</td>\n",
       "    </tr>\n",
       "  </tbody>\n",
       "</table>\n",
       "</div>"
      ]
     },
     "metadata": {},
     "output_type": "display_data"
    }
   ],
   "execution_count": 37
  },
  {
   "metadata": {},
   "cell_type": "markdown",
   "source": [
    "The matches above all look ok, except for South Korea, which we can see only matched with a similarity of 76%.\n",
    "Lets see if there are other possibilities;"
   ],
   "id": "28e2b99e5d0751ae"
  },
  {
   "metadata": {
    "ExecuteTime": {
     "end_time": "2025-07-19T18:22:50.414993Z",
     "start_time": "2025-07-19T18:22:50.397167Z"
    }
   },
   "cell_type": "code",
   "source": [
    "\n",
    "display(results['possible_matches']['South Korea'])"
   ],
   "id": "ee7d7277bd615e94",
   "outputs": [
    {
     "data": {
      "text/plain": [
       "                                              similarity\n",
       "South Georgia and the South Sandwich Islands   76.190476\n",
       "Democratic People's Republic of Korea          73.684211\n",
       "Republic of Korea                              73.684211\n",
       "South Sudan                                    70.588235\n",
       "South Africa                                   70.588235"
      ],
      "text/html": [
       "<div>\n",
       "<style scoped>\n",
       "    .dataframe tbody tr th:only-of-type {\n",
       "        vertical-align: middle;\n",
       "    }\n",
       "\n",
       "    .dataframe tbody tr th {\n",
       "        vertical-align: top;\n",
       "    }\n",
       "\n",
       "    .dataframe thead th {\n",
       "        text-align: right;\n",
       "    }\n",
       "</style>\n",
       "<table border=\"1\" class=\"dataframe\">\n",
       "  <thead>\n",
       "    <tr style=\"text-align: right;\">\n",
       "      <th></th>\n",
       "      <th>similarity</th>\n",
       "    </tr>\n",
       "  </thead>\n",
       "  <tbody>\n",
       "    <tr>\n",
       "      <th>South Georgia and the South Sandwich Islands</th>\n",
       "      <td>76.190476</td>\n",
       "    </tr>\n",
       "    <tr>\n",
       "      <th>Democratic People's Republic of Korea</th>\n",
       "      <td>73.684211</td>\n",
       "    </tr>\n",
       "    <tr>\n",
       "      <th>Republic of Korea</th>\n",
       "      <td>73.684211</td>\n",
       "    </tr>\n",
       "    <tr>\n",
       "      <th>South Sudan</th>\n",
       "      <td>70.588235</td>\n",
       "    </tr>\n",
       "    <tr>\n",
       "      <th>South Africa</th>\n",
       "      <td>70.588235</td>\n",
       "    </tr>\n",
       "  </tbody>\n",
       "</table>\n",
       "</div>"
      ]
     },
     "metadata": {},
     "output_type": "display_data"
    }
   ],
   "execution_count": 38
  }
 ],
 "metadata": {
  "kernelspec": {
   "display_name": "Python 3",
   "language": "python",
   "name": "python3"
  },
  "language_info": {
   "codemirror_mode": {
    "name": "ipython",
    "version": 2
   },
   "file_extension": ".py",
   "mimetype": "text/x-python",
   "name": "python",
   "nbconvert_exporter": "python",
   "pygments_lexer": "ipython2",
   "version": "2.7.6"
  }
 },
 "nbformat": 4,
 "nbformat_minor": 5
}
