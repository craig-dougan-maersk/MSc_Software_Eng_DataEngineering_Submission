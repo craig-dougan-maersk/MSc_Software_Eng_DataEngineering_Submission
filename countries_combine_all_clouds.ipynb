{
 "cells": [
  {
   "cell_type": "code",
   "execution_count": 1,
   "id": "64906b68635dd4de",
   "metadata": {},
   "outputs": [
    {
     "name": "stdout",
     "output_type": "stream",
     "text": [
      "Requirement already satisfied: lxml in c:\\users\\craig\\pycharmprojects\\msc_software_eng_dataengineering_submission\\.venv\\lib\\site-packages (6.0.0)\n",
      "Requirement already satisfied: pandas in c:\\users\\craig\\pycharmprojects\\msc_software_eng_dataengineering_submission\\.venv\\lib\\site-packages (2.3.1)\n",
      "Requirement already satisfied: rapidfuzz in c:\\users\\craig\\pycharmprojects\\msc_software_eng_dataengineering_submission\\.venv\\lib\\site-packages (3.13.0)\n",
      "Requirement already satisfied: ipython in c:\\users\\craig\\pycharmprojects\\msc_software_eng_dataengineering_submission\\.venv\\lib\\site-packages (9.4.0)\n",
      "Requirement already satisfied: plotly in c:\\users\\craig\\pycharmprojects\\msc_software_eng_dataengineering_submission\\.venv\\lib\\site-packages (6.2.0)\n",
      "Requirement already satisfied: numpy>=1.26.0 in c:\\users\\craig\\pycharmprojects\\msc_software_eng_dataengineering_submission\\.venv\\lib\\site-packages (from pandas) (2.3.1)\n",
      "Requirement already satisfied: python-dateutil>=2.8.2 in c:\\users\\craig\\pycharmprojects\\msc_software_eng_dataengineering_submission\\.venv\\lib\\site-packages (from pandas) (2.9.0.post0)\n",
      "Requirement already satisfied: pytz>=2020.1 in c:\\users\\craig\\pycharmprojects\\msc_software_eng_dataengineering_submission\\.venv\\lib\\site-packages (from pandas) (2025.2)\n",
      "Requirement already satisfied: tzdata>=2022.7 in c:\\users\\craig\\pycharmprojects\\msc_software_eng_dataengineering_submission\\.venv\\lib\\site-packages (from pandas) (2025.2)\n",
      "Requirement already satisfied: colorama in c:\\users\\craig\\pycharmprojects\\msc_software_eng_dataengineering_submission\\.venv\\lib\\site-packages (from ipython) (0.4.6)\n",
      "Requirement already satisfied: decorator in c:\\users\\craig\\pycharmprojects\\msc_software_eng_dataengineering_submission\\.venv\\lib\\site-packages (from ipython) (5.2.1)\n",
      "Requirement already satisfied: ipython-pygments-lexers in c:\\users\\craig\\pycharmprojects\\msc_software_eng_dataengineering_submission\\.venv\\lib\\site-packages (from ipython) (1.1.1)\n",
      "Requirement already satisfied: jedi>=0.16 in c:\\users\\craig\\pycharmprojects\\msc_software_eng_dataengineering_submission\\.venv\\lib\\site-packages (from ipython) (0.19.2)\n",
      "Requirement already satisfied: matplotlib-inline in c:\\users\\craig\\pycharmprojects\\msc_software_eng_dataengineering_submission\\.venv\\lib\\site-packages (from ipython) (0.1.7)\n",
      "Requirement already satisfied: prompt_toolkit<3.1.0,>=3.0.41 in c:\\users\\craig\\pycharmprojects\\msc_software_eng_dataengineering_submission\\.venv\\lib\\site-packages (from ipython) (3.0.51)\n",
      "Requirement already satisfied: pygments>=2.4.0 in c:\\users\\craig\\pycharmprojects\\msc_software_eng_dataengineering_submission\\.venv\\lib\\site-packages (from ipython) (2.19.2)\n",
      "Requirement already satisfied: stack_data in c:\\users\\craig\\pycharmprojects\\msc_software_eng_dataengineering_submission\\.venv\\lib\\site-packages (from ipython) (0.6.3)\n",
      "Requirement already satisfied: traitlets>=5.13.0 in c:\\users\\craig\\pycharmprojects\\msc_software_eng_dataengineering_submission\\.venv\\lib\\site-packages (from ipython) (5.14.3)\n",
      "Requirement already satisfied: wcwidth in c:\\users\\craig\\pycharmprojects\\msc_software_eng_dataengineering_submission\\.venv\\lib\\site-packages (from prompt_toolkit<3.1.0,>=3.0.41->ipython) (0.2.13)\n",
      "Requirement already satisfied: narwhals>=1.15.1 in c:\\users\\craig\\pycharmprojects\\msc_software_eng_dataengineering_submission\\.venv\\lib\\site-packages (from plotly) (1.47.1)\n",
      "Requirement already satisfied: packaging in c:\\users\\craig\\pycharmprojects\\msc_software_eng_dataengineering_submission\\.venv\\lib\\site-packages (from plotly) (25.0)\n",
      "Requirement already satisfied: parso<0.9.0,>=0.8.4 in c:\\users\\craig\\pycharmprojects\\msc_software_eng_dataengineering_submission\\.venv\\lib\\site-packages (from jedi>=0.16->ipython) (0.8.4)\n",
      "Requirement already satisfied: six>=1.5 in c:\\users\\craig\\pycharmprojects\\msc_software_eng_dataengineering_submission\\.venv\\lib\\site-packages (from python-dateutil>=2.8.2->pandas) (1.17.0)\n",
      "Requirement already satisfied: executing>=1.2.0 in c:\\users\\craig\\pycharmprojects\\msc_software_eng_dataengineering_submission\\.venv\\lib\\site-packages (from stack_data->ipython) (2.2.0)\n",
      "Requirement already satisfied: asttokens>=2.1.0 in c:\\users\\craig\\pycharmprojects\\msc_software_eng_dataengineering_submission\\.venv\\lib\\site-packages (from stack_data->ipython) (3.0.0)\n",
      "Requirement already satisfied: pure-eval in c:\\users\\craig\\pycharmprojects\\msc_software_eng_dataengineering_submission\\.venv\\lib\\site-packages (from stack_data->ipython) (0.2.3)\n"
     ]
    }
   ],
   "source": [
    "'''Install pre-req modules'''\n",
    "!pip install lxml pandas rapidfuzz ipython plotly"
   ]
  },
  {
   "cell_type": "markdown",
   "id": "cbadb374d46be276",
   "metadata": {},
   "source": [
    "## Import Modules"
   ]
  },
  {
   "cell_type": "code",
   "execution_count": 2,
   "id": "d84eec87373a76a8",
   "metadata": {
    "ExecuteTime": {
     "end_time": "2025-07-21T21:44:11.250828Z",
     "start_time": "2025-07-21T21:44:10.081769Z"
    }
   },
   "outputs": [],
   "source": [
    "import pandas as pd\n",
    "import plotly.express as px\n",
    "from rapidfuzz import process, fuzz\n",
    "from IPython.display import display, HTML"
   ]
  },
  {
   "cell_type": "markdown",
   "id": "b5e8f6feafa34706",
   "metadata": {},
   "source": [
    "## Custom Functions\n",
    "### Helper / Utility Functions"
   ]
  },
  {
   "cell_type": "code",
   "execution_count": 3,
   "id": "c89caad2352dda84",
   "metadata": {
    "ExecuteTime": {
     "end_time": "2025-07-21T22:10:55.485561Z",
     "start_time": "2025-07-21T22:10:55.465595Z"
    }
   },
   "outputs": [],
   "source": [
    "def write(text,colour='black',style='normal',header=0):\n",
    "    htag=dict()\n",
    "    if header > 0:\n",
    "        htag['open'] = f\"<h{header}>\"\n",
    "        htag['close'] = f\"</h{header}>\"\n",
    "    else:\n",
    "        htag['open'] =  htag['close'] = \"\"\n",
    "    display(HTML(f'<span style=\"color: {colour};font-style:{style}\"><br>{htag['open']}{text}{htag['close']}</span>'))\n",
    "\n",
    "def check_if_variable_is_defined_globally(variable_name):\n",
    "    if variable_name in globals():\n",
    "        return True\n",
    "    return False\n"
   ]
  },
  {
   "cell_type": "markdown",
   "id": "24e6ec1e228bdbf1",
   "metadata": {},
   "source": [
    "### Validation Functions"
   ]
  },
  {
   "cell_type": "code",
   "execution_count": 4,
   "id": "b7ec8c98647fd217",
   "metadata": {
    "ExecuteTime": {
     "end_time": "2025-07-21T22:11:04.191036Z",
     "start_time": "2025-07-21T22:11:04.182390Z"
    }
   },
   "outputs": [],
   "source": [
    "def visual_check_dataframe(input_df,dataset_name,rows=3,sample_only=False):\n",
    "    '''Run some visual checks on dataframe so we can see how it looks'''\n",
    "    write(f\"Starting Visual Check : {dataset_name}\",'green',header=4)\n",
    "    if not sample_only:\n",
    "        write(f'Check top {rows} row(s), followed by a sample of {rows} row(s) and then the bottom {rows} row(s)')\n",
    "        display(input_df.head(rows))\n",
    "    if sample_only: write(f'Checking random sample of {rows} rows')\n",
    "    display(input_df.sample(rows))\n",
    "    if not sample_only:\n",
    "        display(input_df.tail(rows))\n",
    "    write(f\"Ending Visual Check : {dataset_name}\",'red',style='italic',header=5)"
   ]
  },
  {
   "cell_type": "markdown",
   "id": "3b45b41065987438",
   "metadata": {},
   "source": [
    "### Data Import Functions\n",
    "#### Functions for importing supplementary Datasets providing additional geoographic information"
   ]
  },
  {
   "cell_type": "code",
   "execution_count": 5,
   "id": "cfb7f7250e25bbb6",
   "metadata": {
    "ExecuteTime": {
     "end_time": "2025-07-21T21:45:04.409980Z",
     "start_time": "2025-07-21T21:45:04.398647Z"
    }
   },
   "outputs": [],
   "source": [
    "def get_us_state_abbreviation_dataset_from_web():\n",
    "    output_df = pd.read_html('https://en.wikipedia.org/wiki/List_of_states_and_territories_of_the_United_States')[1]\n",
    "    return output_df\n",
    "\n",
    "def get_tld_country_dataset():\n",
    "    '''Retrieve all TLD country data from Wikipedia'''\n",
    "    wiki_page = \"https://en.wikipedia.org/wiki/ISO_3166-1_alpha-2\"\n",
    "    output_df = pd.read_html(wiki_page)[4]\n",
    "    return output_df\n",
    "\n",
    "def get_m49_country_dataset():\n",
    "    #https://unstats.un.org/unsd/methodology/m49/overview/#\n",
    "    output_df = pd.read_csv('imported-datasets/UNSD — Methodology.csv', sep=';')\n",
    "    return output_df"
   ]
  },
  {
   "cell_type": "markdown",
   "id": "87df22137205058a",
   "metadata": {},
   "source": [
    "#### Functions for importing supplementary Datasets providing location detail for Cloud provider Datacentres"
   ]
  },
  {
   "cell_type": "code",
   "execution_count": 6,
   "id": "fb3013417c172d2",
   "metadata": {
    "ExecuteTime": {
     "end_time": "2025-07-21T21:45:11.416150Z",
     "start_time": "2025-07-21T21:45:11.405958Z"
    }
   },
   "outputs": [],
   "source": [
    "def get_aws_region_dataset():\n",
    "    output_df = pd.read_html('https://docs.aws.amazon.com/global-infrastructure/latest/regions/aws-regions.html')[0]\n",
    "    return output_df\n",
    "\n",
    "def azure_region_dataset():\n",
    "    output_df = pd.read_html(\"https://learn.microsoft.com/en-us/azure/reliability/regions-list\")\n",
    "    return output_df[1]\n",
    "\n",
    "def get_google_region_dataset():\n",
    "    output_df = pd.read_html('https://en.wikipedia.org/wiki/Google_data_centers')[1]\n",
    "    return output_df"
   ]
  },
  {
   "cell_type": "markdown",
   "id": "e39e539ea861adc1",
   "metadata": {},
   "source": [
    "### Data Cleansing/Sanitizing Functions\n",
    "#### Functions for cleansing of supplementary Datasets providing additional geographic information"
   ]
  },
  {
   "cell_type": "code",
   "execution_count": 7,
   "id": "6cfbf94608eb6478",
   "metadata": {
    "ExecuteTime": {
     "end_time": "2025-07-21T21:45:23.471627Z",
     "start_time": "2025-07-21T21:45:23.461035Z"
    }
   },
   "outputs": [],
   "source": [
    "def clean_us_state_abbreviation_dataset(input_df):\n",
    "    output_df = input_df.copy()\n",
    "    '''Drop everything after first two columns'''\n",
    "    output_df.drop(columns=[output_df.columns[i] for i in range(2,len(output_df.columns))], inplace=True)\n",
    "    '''Set columns to something easier'''\n",
    "    output_df.columns=['County','County Code']\n",
    "    '''Some entries like Virginia have a [B] on the end due to weblinks from being imported from webpage'''\n",
    "    output_df['County'] = output_df['County'].str.replace(r'\\[[A-Z]+\\]$', '', regex=True)\n",
    "    return output_df\n",
    "\n",
    "def clean_tld_country_data(input_df):\n",
    "    output_df = input_df.copy()\n",
    "    columns_to_drop = ['Year','Notes']\n",
    "    columns_to_rename = {'Code': 'A2 Code', 'ccTLD':'tld'}\n",
    "    output_df.drop(columns=columns_to_drop, inplace=True)\n",
    "    output_df.rename(columns=columns_to_rename, inplace=True)\n",
    "    return output_df\n",
    "\n",
    "def clean_m49_country_data(input_df):\n",
    "    output_df = input_df.copy()\n",
    "    columns_to_drop = [\n",
    "        'Global Code',\n",
    "        'Global Name',\n",
    "        'Land Locked Developing Countries (LLDC)',\n",
    "        'Least Developed Countries (LDC)',\n",
    "        'Small Island Developing States (SIDS)',\n",
    "        'Intermediate Region Code',\n",
    "        'Intermediate Region Name',]\n",
    "    output_df.drop(columns=columns_to_drop,inplace=True)\n",
    "    return output_df\n",
    "\n"
   ]
  },
  {
   "cell_type": "markdown",
   "id": "4e05e3c7bd285cb2",
   "metadata": {},
   "source": [
    "#### Functions for cleansing of supplementary Datasets providing location detail for Cloud provider Datacentres"
   ]
  },
  {
   "cell_type": "code",
   "execution_count": 8,
   "id": "9877caf8754cde26",
   "metadata": {
    "ExecuteTime": {
     "end_time": "2025-07-21T21:45:24.020609Z",
     "start_time": "2025-07-21T21:45:23.518001Z"
    }
   },
   "outputs": [],
   "source": [
    "def clean_aws_region_dataset(input_df):\n",
    "    columns_to_rename = { 'Code': 'cloud-region' }\n",
    "    columns_to_drop = ['Opt-in status']\n",
    "    output_df = input_df.copy().rename(columns=columns_to_rename)\n",
    "    output_df.drop(columns=columns_to_drop,inplace=True)\n",
    "    return output_df\n",
    "\n",
    "def clean_azure_region_dataset(input_df):\n",
    "    columns_to_drop = ['Availability zone support','Paired region']\n",
    "    columns_to_rename = {'Region':'cloud-region'}\n",
    "    '''Drop columns we don't need'''\n",
    "    output_df = input_df.copy().drop(columns_to_drop, axis=1)\n",
    "    '''Set cloud region column name to match our master datasets\n",
    "       then remove all spaces from the entries, and convert to\n",
    "       lowercase, so the content matches too'''\n",
    "    output_df.rename(columns=columns_to_rename, inplace=True)\n",
    "    output_df['cloud-region'] = output_df.apply(\n",
    "        lambda row: row['cloud-region'].lower().replace(\" \", \"\"), axis=1)\n",
    "    output_df['Locality'] = output_df['country'] = output_df['Subdivision'] = \"\"\n",
    "    return output_df\n",
    "\n",
    "def clean_google_region_dataset(input_df,us_states_df=None):\n",
    "    '''If us_states_df is set to None, try to assign it a copy of\n",
    "       the usa_states_df variable if it exists globally'''\n",
    "    if us_states_df is None:\n",
    "        if check_if_variable_is_defined_globally(\"usa_states_df\"):\n",
    "            us_states_df=usa_states_df.copy()\n",
    "        \n",
    "    columns_to_drop = ['Geo','Timeline','Description','Products Location']\n",
    "    output_df = input_df.copy().drop(columns=columns_to_drop)\n",
    "\n",
    "    '''Some entries in Location have the reference number link from the webpage applied to\n",
    "   the end of the name - e.g. Germany[61].   Use a regex to remove this;\n",
    "   replace any substring that contains left & right square brackets, surrounding\n",
    "   one or more numbers'''\n",
    "    output_df['Location'] = output_df['Location'].str.replace(r'\\[\\d+\\]$', '', regex=True)\n",
    "\n",
    "    '''Extract the country from the end of the location cells'''\n",
    "    output_df['country'] = output_df.apply(lambda row: row['Location'].split(',')[-1], axis=1)\n",
    "\n",
    "    '''Remove rows where cloud location is null or a hyphen as there is no DC there'''\n",
    "    output_df = output_df[output_df['Cloud Location'].notnull()]\n",
    "    output_df = output_df[output_df['Cloud Location'] != \"-\"]\n",
    "\n",
    "    '''Extract the Cloud Region from Cloud Location'''\n",
    "    output_df['cloud-region'] = output_df.apply(\n",
    "        lambda row: row['Cloud Location'].split('(')[-1].split(')')[0], axis=1)\n",
    "\n",
    "    '''Extract Locality from Location'''\n",
    "    output_df['Locality'] = output_df.apply(\n",
    "        lambda row: row['Location'].split(',')[0], axis=1)\n",
    "\n",
    "    '''Extract subdivision code (county/province) from Locality'''\n",
    "    output_df['Subdivision Code'] = output_df.apply(\n",
    "        lambda row: row['Locality'].split('(')[-1].strip(')') if '(' in str(row['Locality']) else None, axis=1)\n",
    "\n",
    "    '''Extract subdivision name (county/province) from Location'''\n",
    "    output_df['Subdivision'] = output_df.apply(\n",
    "        lambda row: row['Location'].split(',')[1].strip() if str(row['Location']).count(',') >= 2 else None, axis=1)\n",
    "\n",
    "    '''Remove the subdivision code from locality now we have it in our own column\n",
    "       - use regex to find a space, then left bracket, followed by 2 instances of letters,\n",
    "       followed by a right bracket and the end of the string - then remove this'''\n",
    "    output_df['Locality'] = output_df['Locality'].str.replace(r' \\([A-Z]{2}\\)$', '', regex=True)\n",
    "\n",
    "    '''After creating new columns based on the values of others, we can now drop the\n",
    "       original source columns as we don't need them'''\n",
    "    output_df.drop(columns=['Location','Cloud Location'], inplace=True)\n",
    "\n",
    "    '''Match the Subdivision Code from the list of US state abbreviations'''\n",
    "    if us_states_df is not None:\n",
    "        output_df = output_df.merge(\n",
    "            us_states_df,\n",
    "            left_on='Subdivision Code',\n",
    "            right_on='County Code',\n",
    "            how='left')\n",
    "        \n",
    "        '''use county column to fill in gaps in subdivision.  combine_first won't overwrite any existing values in subdivision'''\n",
    "        output_df['Subdivision'] = output_df['Subdivision'].combine_first(output_df['County'])\n",
    "        output_df.drop(columns=['County','County Code'],inplace=True)\n",
    "        output_df[['Subdivision','Subdivision Code']] = output_df[['Subdivision','Subdivision Code']].fillna('None')\n",
    "\n",
    "    return output_df"
   ]
  },
  {
   "cell_type": "markdown",
   "id": "31c74a7ebddc06ff",
   "metadata": {},
   "source": [
    "### Data Merging Functions\n",
    "#### Merging Dataframes"
   ]
  },
  {
   "cell_type": "code",
   "execution_count": 9,
   "id": "a596d3c843add7b5",
   "metadata": {},
   "outputs": [],
   "source": [
    "def merge_two_datasets(input_df1, input_df2, left,right,method='left'):\n",
    "    output_df = pd.merge(input_df1, input_df2, left_on=left, right_on=right, how=method)\n",
    "    output_df.fillna(0, inplace=True)\n",
    "    return output_df\n",
    "\n",
    "def merge_tld_and_m49_datasets(input_df_left, input_df_right):\n",
    "    output_df = merge_two_datasets(input_df_left, input_df_right, 'A2 Code', 'ISO-alpha2 Code')\n",
    "    output_df = output_df.astype(\n",
    "        {'M49 Code': int,\n",
    "         'Sub-region Code': int,\n",
    "         'Region Code': int})\n",
    "    return output_df\n",
    "\n",
    "def combine_cloud_region_details_with_location_info(\n",
    "        input_cloud_region_df,\n",
    "        left='Geography',\n",
    "        right='short-name',\n",
    "        input_locations_df = None,\n",
    "):\n",
    "    if not input_locations_df:\n",
    "        if check_if_variable_is_defined_globally(\"locations_df\"):\n",
    "            input_locations_df=locations_df.copy()\n",
    "        else:\n",
    "            return None\n",
    "   \n",
    "    return pd.merge(\n",
    "        input_cloud_region_df,\n",
    "        input_locations_df,\n",
    "        left_on=left,\n",
    "        right_on=right,\n",
    "        how='left')"
   ]
  },
  {
   "cell_type": "markdown",
   "id": "438fa90e3ad61ee1",
   "metadata": {},
   "source": [
    "#### Functions for cleansing of merged supplementary location related Datasets"
   ]
  },
  {
   "cell_type": "code",
   "execution_count": 10,
   "id": "eb05a0d9d7a357fb",
   "metadata": {},
   "outputs": [],
   "source": [
    "def cleanup_combined_tld_m49_dataset(input_df):\n",
    "    output_df = input_df.copy()\n",
    "    '''Rename the column with the country name to one easier to work with'''\n",
    "    output_df.rename(columns={'Country name (using title case)':'source-name'}, inplace=True)\n",
    "\n",
    "    '''Extract the shortened country name from the cell with title case included'''\n",
    "    output_df['short-name'] = \\\n",
    "        output_df.apply(\n",
    "            lambda row: (\n",
    "                row['source-name'].split(',')[0].strip()\n",
    "                if str(row['source-name']).count(',') >= 1\n",
    "                else row['source-name'].split(' of ')[0].strip()\n",
    "                if ' of ' in str(row['source-name'])\n",
    "                else row['source-name']),\n",
    "            axis=1)\n",
    "    '''Reorder the string in the cell with the title case, so we get a long-form country name'''\n",
    "    output_df['long-name'] = \\\n",
    "        output_df.apply(\n",
    "            lambda row: (\n",
    "                f\"{row['source-name'].split(',')[1].strip()} {row['source-name'].split(',')[0].strip()}\"\n",
    "                if str(row['source-name']).count(',') >= 1\n",
    "                else row['source-name']),\n",
    "            axis=1)\n",
    "\n",
    "    '''Use conditional to find any rows that have ISO-Alpha2 set to 0'''\n",
    "    write(\"Assigning 'ISO-alpha2' to same value as 'A2 Code' for any entries that are set to 0\")\n",
    "    output_df.loc[\n",
    "        output_df['ISO-alpha2 Code'] == 0,\n",
    "        'ISO-alpha2 Code'\n",
    "        ] = output_df.loc[\n",
    "                output_df['ISO-alpha2 Code'] == 0,\n",
    "                'A2 Code'\n",
    "                ]\n",
    "    '''Drop redundant columns'''\n",
    "    output_df.drop(columns=['source-name','Country or Area','A2 Code'], inplace=True)\n",
    "    '''Re-order columns in dataframe so most important info is first'''\n",
    "    new_column_order = ['short-name', 'long-name','Sub-region Name','Region Name', 'tld', 'Sub-region Code','Region Code', 'M49 Code' ,'ISO-alpha2 Code', 'ISO-alpha3 Code']\n",
    "    output_df = output_df[new_column_order]\n",
    "\n",
    "    return output_df\n",
    "\n",
    "def manually_fix_location_short_names(input_df):\n",
    "    '''Do some manual correction of the short-names'''\n",
    "    output_df = input_df.copy()\n",
    "    output_df.loc[output_df['ISO-alpha2 Code'] == 'CD', 'short-name'] = 'DR Congo'\n",
    "    output_df.loc[output_df['ISO-alpha2 Code'] == 'KP', 'short-name'] = 'North Korea'\n",
    "    output_df.loc[output_df['ISO-alpha2 Code'] == 'KR', 'short-name'] = 'South Korea'\n",
    "    return output_df"
   ]
  },
  {
   "cell_type": "markdown",
   "id": "6ef58e15b5248626",
   "metadata": {},
   "source": [
    "#### Functions for checking consistency of supplementary location related datasets"
   ]
  },
  {
   "cell_type": "code",
   "execution_count": 11,
   "id": "d20d9b21deffb839",
   "metadata": {},
   "outputs": [],
   "source": [
    "def check_consistency_tld_m49_dataset_pre_cleanup(input_df):\n",
    "    '''Check that no entries are missing both the ISO-alpha2 and ISO-alpha3 codes as these comes from the m49 dataset'''\n",
    "\n",
    "    results = input_df[(input_df['ISO-alpha2 Code'].isnull()) & (input_df['ISO-alpha3 Code'].isnull())]\n",
    "    write(\"ISO-alpha2 and ISO-alpha3 codes that are null:\")\n",
    "    display(results)\n",
    "    results = input_df[(input_df['ISO-alpha2 Code'] == 0) & (input_df['ISO-alpha3 Code'] == 0)]\n",
    "    write(\"ISO-alpha2 & 3 Codes that are both set to zero:\")\n",
    "    display(results)\n",
    "    write(\"Taiwan is the only Country without an entry in the M49 - there are political reasons for this.  For now, this can be corrected by assigning the ISO-alpha2 Code to the A2 Code\")\n",
    "\n",
    "def check_consistency_tld_m49_dataset_post_cleanup(input_df):\n",
    "    results = input_df[(input_df['ISO-alpha2 Code'] == 0) & (input_df['ISO-alpha3 Code'] == 0)]\n",
    "    write(\"ISO-alpha2 & 3 Codes that are both set to zero:\")\n",
    "    display(results)\n",
    "    write(\"Check Taiwan specifically :\")\n",
    "    display(input_df[input_df['ISO-alpha2 Code'] == 'TW'])\n",
    "    write(\"Look for duplicate short country names :\")\n",
    "    input_df['short-name'].value_counts().to_frame()\n",
    "\n",
    "\n",
    "'''Look for any records that didnt merge correctly'''\n",
    "def identify_cloud_regions_with_incomplete_country_info(input_df,dataset_name):\n",
    "    '''create a list of any rows with null values for short-name'''\n",
    "    unmerged_cloud_regions = input_df[input_df['short-name'].isnull()]['cloud-region'].to_list()\n",
    "    '''Create a DataFrame collating details of the unmerged regions'''\n",
    "    unmerged_details_df = input_df[input_df['cloud-region'].isin(unmerged_cloud_regions)][['cloud-region', 'Geography','short-name','long-name','tld','Region Code','Region Name']]\n",
    "    display(f\"Unmerged Cloud Regions for {dataset_name}:\")\n",
    "    display(unmerged_details_df)\n",
    "    return unmerged_details_df\n",
    "\n",
    "def look_for_duplicate_locations(input_df):\n",
    "    output_df = input_df.copy()\n",
    "    count_df = output_df['short-name'].value_counts().to_frame()\n",
    "    count_df = count_df[count_df['count'] >= 2]\n",
    "    write(\"Duplicate Short Names:\")\n",
    "    display(count_df)\n",
    "    write(\"Full rows with duplicates\")\n",
    "    output_df = output_df[output_df['short-name'].duplicated(keep=False)]\n",
    "    display(output_df)\n",
    "\n",
    "def show_potential_matches_for_countries(input_df=None,column_name='Geography'):\n",
    "    if input_df is not None:\n",
    "        country_list = input_df[column_name].drop_duplicates().to_list()\n",
    "\n",
    "        for country_name in country_list:\n",
    "            write(f\"Potential matches for : {country_name}\",header=3,colour=\"blue\")\n",
    "            display(results['possible_matches'][country_name])\n"
   ]
  },
  {
   "cell_type": "markdown",
   "id": "3f4a9c0e-ceab-443d-abb5-584ee3ec9108",
   "metadata": {},
   "source": "#### Functions for doing fuzzy search on unmerged country names, when merging cloud-region and location datasets"
  },
  {
   "cell_type": "code",
   "execution_count": 12,
   "id": "d78a4158-fe08-4a56-9354-adb038773209",
   "metadata": {},
   "outputs": [],
   "source": [
    "def do_fuzzy_match_on_countries(\n",
    "        match_input_df,\n",
    "        match_on='Geography',\n",
    "        country_list=None):\n",
    "    if country_list is None:\n",
    "        return None\n",
    "    fuzzy_df = match_input_df.copy()\n",
    "    fuzzy_df[['fuzzy_country_match','fuzzy_similarity','fuzzy_index']]= fuzzy_df[match_on].apply(lambda x: process.extractOne(x, country_list, scorer=fuzz.partial_ratio)).apply(pd.Series)\n",
    "    '''drop the fuzzy index column as this is only the place the name was in the list of counties we searched through'''\n",
    "    fuzzy_df.drop(columns=['fuzzy_index'], inplace=True)\n",
    "    return fuzzy_df\n",
    "\n",
    "def get_possible_country_matches(input_value,country_list=None):\n",
    "    if country_list is None:\n",
    "        return None\n",
    "    '''take in a string and return a list of possible matches\n",
    "       each possible match is returned as a tuple, containing the match string,\n",
    "       the similarity score and the index from the list'''\n",
    "    possible_country_matches = process.extract(input_value, country_list, scorer=fuzz.partial_ratio)\n",
    "    '''iterate through our list of tuples to form a dictionary, with each matched string\n",
    "       as the key, and the similarity score as the value'''\n",
    "    my_dict = {matched_string: similarity for matched_string, similarity, _ in possible_country_matches\n",
    "            }\n",
    "    return pd.Series(my_dict).to_frame().rename(columns={0:'similarity'})\n",
    "\n",
    "def run_fuzzy_search_against_previously_unmerged_rows(input_df, unmerged_regions, match_on='Geography', country_list=None):\n",
    "    if country_list is None:\n",
    "        return None\n",
    "    fuzzy_search_df = do_fuzzy_match_on_countries(\n",
    "        match_input_df=input_df,\n",
    "        country_list=country_list)\n",
    "    unmerged_region_list = unmerged_regions['cloud-region'].tolist()\n",
    "    '''Check the rows where we had failed to merge previously to see how it looks now'''\n",
    "    fuzzy_search_filtered_df = fuzzy_search_df[fuzzy_search_df['cloud-region'].isin(unmerged_region_list)][[\"cloud-region\",\"Geography\",\"fuzzy_country_match\",'fuzzy_similarity']]\n",
    "    possible_matches = dict()\n",
    "    for _, df_row in fuzzy_search_filtered_df.iterrows():\n",
    "        cloud_region = str(df_row['cloud-region'])\n",
    "        geography = str(df_row['Geography'])\n",
    "\n",
    "        possible_matches[geography] = get_possible_country_matches(geography,country_list)\n",
    "    return {\n",
    "        'top_matches' : fuzzy_search_filtered_df,\n",
    "        'possible_matches' : possible_matches\n",
    "    }"
   ]
  },
  {
   "cell_type": "markdown",
   "id": "897aa8473200db9e",
   "metadata": {},
   "source": [
    "## Load Datasets\n",
    "We have a number of datasets to load in here, some containing the actual data we want, and some used for sanitizing our data or adding additional context\n",
    "\n",
    "### Supplementary Datasets\n",
    "\n",
    "* Top Level Domain (TLD) listing by Country, from wikipedia\n",
    "* M49 \"Standard country or area codes for statistical use\" dataset from the United Nations Statistics Division (UNSD)\n",
    "* American States abbreviation codes to name mapping from wikipedia\n",
    "* AWS Cloud Region names to location mapping from Amazons online documentation\n",
    "* Google cloud Region names to location mapping from wikipedia\n",
    "\n",
    "### Main Datasets"
   ]
  },
  {
   "cell_type": "markdown",
   "id": "f6cf32dece871d4d",
   "metadata": {},
   "source": [
    "## Supplementary Datasets"
   ]
  },
  {
   "cell_type": "markdown",
   "id": "9220f0c940822fa8",
   "metadata": {},
   "source": [
    "### USA States Abbreviation Code Dataset\n",
    "#### Load in Data"
   ]
  },
  {
   "cell_type": "code",
   "execution_count": 13,
   "id": "21e310d45d1948bc",
   "metadata": {},
   "outputs": [
    {
     "data": {
      "text/html": [
       "<span style=\"color: green;font-style:normal\"><br><h4>Starting Visual Check : USA State Code Dataset</h4></span>"
      ],
      "text/plain": [
       "<IPython.core.display.HTML object>"
      ]
     },
     "metadata": {},
     "output_type": "display_data"
    },
    {
     "data": {
      "text/html": [
       "<span style=\"color: black;font-style:normal\"><br>Check top 1 row(s), followed by a sample of 1 row(s) and then the bottom 1 row(s)</span>"
      ],
      "text/plain": [
       "<IPython.core.display.HTML object>"
      ]
     },
     "metadata": {},
     "output_type": "display_data"
    },
    {
     "data": {
      "text/html": [
       "<div>\n",
       "<style scoped>\n",
       "    .dataframe tbody tr th:only-of-type {\n",
       "        vertical-align: middle;\n",
       "    }\n",
       "\n",
       "    .dataframe tbody tr th {\n",
       "        vertical-align: top;\n",
       "    }\n",
       "\n",
       "    .dataframe thead tr th {\n",
       "        text-align: left;\n",
       "    }\n",
       "</style>\n",
       "<table border=\"1\" class=\"dataframe\">\n",
       "  <thead>\n",
       "    <tr>\n",
       "      <th></th>\n",
       "      <th colspan=\"2\" halign=\"left\">Flag, name and postal abbreviation[8]</th>\n",
       "      <th colspan=\"2\" halign=\"left\">Cities</th>\n",
       "      <th>Ratification or admission[A]</th>\n",
       "      <th>Population (2020)[10]</th>\n",
       "      <th colspan=\"2\" halign=\"left\">Total area[11]</th>\n",
       "      <th>Reps.</th>\n",
       "    </tr>\n",
       "    <tr>\n",
       "      <th></th>\n",
       "      <th>Flag, name and postal abbreviation[8]</th>\n",
       "      <th>Flag, name and postal abbreviation[8].1</th>\n",
       "      <th>Capital</th>\n",
       "      <th>Largest[12]</th>\n",
       "      <th>Ratification or admission[A]</th>\n",
       "      <th>Population (2020)[10]</th>\n",
       "      <th>mi2</th>\n",
       "      <th>km2</th>\n",
       "      <th>Reps.</th>\n",
       "    </tr>\n",
       "  </thead>\n",
       "  <tbody>\n",
       "    <tr>\n",
       "      <th>0</th>\n",
       "      <td>Alabama</td>\n",
       "      <td>AL</td>\n",
       "      <td>Montgomery</td>\n",
       "      <td>Huntsville</td>\n",
       "      <td>Dec 14, 1819</td>\n",
       "      <td>5024279</td>\n",
       "      <td>52420</td>\n",
       "      <td>135767</td>\n",
       "      <td>7</td>\n",
       "    </tr>\n",
       "  </tbody>\n",
       "</table>\n",
       "</div>"
      ],
      "text/plain": [
       "  Flag, name and postal abbreviation[8]  \\\n",
       "  Flag, name and postal abbreviation[8]   \n",
       "0                               Alabama   \n",
       "\n",
       "                                               Cities              \\\n",
       "  Flag, name and postal abbreviation[8].1     Capital Largest[12]   \n",
       "0                                      AL  Montgomery  Huntsville   \n",
       "\n",
       "  Ratification or admission[A] Population (2020)[10] Total area[11]          \\\n",
       "  Ratification or admission[A] Population (2020)[10]            mi2     km2   \n",
       "0                 Dec 14, 1819               5024279          52420  135767   \n",
       "\n",
       "  Reps.  \n",
       "  Reps.  \n",
       "0     7  "
      ]
     },
     "metadata": {},
     "output_type": "display_data"
    },
    {
     "data": {
      "text/html": [
       "<div>\n",
       "<style scoped>\n",
       "    .dataframe tbody tr th:only-of-type {\n",
       "        vertical-align: middle;\n",
       "    }\n",
       "\n",
       "    .dataframe tbody tr th {\n",
       "        vertical-align: top;\n",
       "    }\n",
       "\n",
       "    .dataframe thead tr th {\n",
       "        text-align: left;\n",
       "    }\n",
       "</style>\n",
       "<table border=\"1\" class=\"dataframe\">\n",
       "  <thead>\n",
       "    <tr>\n",
       "      <th></th>\n",
       "      <th colspan=\"2\" halign=\"left\">Flag, name and postal abbreviation[8]</th>\n",
       "      <th colspan=\"2\" halign=\"left\">Cities</th>\n",
       "      <th>Ratification or admission[A]</th>\n",
       "      <th>Population (2020)[10]</th>\n",
       "      <th colspan=\"2\" halign=\"left\">Total area[11]</th>\n",
       "      <th>Reps.</th>\n",
       "    </tr>\n",
       "    <tr>\n",
       "      <th></th>\n",
       "      <th>Flag, name and postal abbreviation[8]</th>\n",
       "      <th>Flag, name and postal abbreviation[8].1</th>\n",
       "      <th>Capital</th>\n",
       "      <th>Largest[12]</th>\n",
       "      <th>Ratification or admission[A]</th>\n",
       "      <th>Population (2020)[10]</th>\n",
       "      <th>mi2</th>\n",
       "      <th>km2</th>\n",
       "      <th>Reps.</th>\n",
       "    </tr>\n",
       "  </thead>\n",
       "  <tbody>\n",
       "    <tr>\n",
       "      <th>42</th>\n",
       "      <td>Texas</td>\n",
       "      <td>TX</td>\n",
       "      <td>Austin</td>\n",
       "      <td>Houston</td>\n",
       "      <td>Dec 29, 1845</td>\n",
       "      <td>29145505</td>\n",
       "      <td>268596</td>\n",
       "      <td>695662</td>\n",
       "      <td>38</td>\n",
       "    </tr>\n",
       "  </tbody>\n",
       "</table>\n",
       "</div>"
      ],
      "text/plain": [
       "   Flag, name and postal abbreviation[8]  \\\n",
       "   Flag, name and postal abbreviation[8]   \n",
       "42                                 Texas   \n",
       "\n",
       "                                            Cities              \\\n",
       "   Flag, name and postal abbreviation[8].1 Capital Largest[12]   \n",
       "42                                      TX  Austin     Houston   \n",
       "\n",
       "   Ratification or admission[A] Population (2020)[10] Total area[11]          \\\n",
       "   Ratification or admission[A] Population (2020)[10]            mi2     km2   \n",
       "42                 Dec 29, 1845              29145505         268596  695662   \n",
       "\n",
       "   Reps.  \n",
       "   Reps.  \n",
       "42    38  "
      ]
     },
     "metadata": {},
     "output_type": "display_data"
    },
    {
     "data": {
      "text/html": [
       "<div>\n",
       "<style scoped>\n",
       "    .dataframe tbody tr th:only-of-type {\n",
       "        vertical-align: middle;\n",
       "    }\n",
       "\n",
       "    .dataframe tbody tr th {\n",
       "        vertical-align: top;\n",
       "    }\n",
       "\n",
       "    .dataframe thead tr th {\n",
       "        text-align: left;\n",
       "    }\n",
       "</style>\n",
       "<table border=\"1\" class=\"dataframe\">\n",
       "  <thead>\n",
       "    <tr>\n",
       "      <th></th>\n",
       "      <th colspan=\"2\" halign=\"left\">Flag, name and postal abbreviation[8]</th>\n",
       "      <th colspan=\"2\" halign=\"left\">Cities</th>\n",
       "      <th>Ratification or admission[A]</th>\n",
       "      <th>Population (2020)[10]</th>\n",
       "      <th colspan=\"2\" halign=\"left\">Total area[11]</th>\n",
       "      <th>Reps.</th>\n",
       "    </tr>\n",
       "    <tr>\n",
       "      <th></th>\n",
       "      <th>Flag, name and postal abbreviation[8]</th>\n",
       "      <th>Flag, name and postal abbreviation[8].1</th>\n",
       "      <th>Capital</th>\n",
       "      <th>Largest[12]</th>\n",
       "      <th>Ratification or admission[A]</th>\n",
       "      <th>Population (2020)[10]</th>\n",
       "      <th>mi2</th>\n",
       "      <th>km2</th>\n",
       "      <th>Reps.</th>\n",
       "    </tr>\n",
       "  </thead>\n",
       "  <tbody>\n",
       "    <tr>\n",
       "      <th>49</th>\n",
       "      <td>Wyoming</td>\n",
       "      <td>WY</td>\n",
       "      <td>Cheyenne</td>\n",
       "      <td>Cheyenne</td>\n",
       "      <td>Jul 10, 1890</td>\n",
       "      <td>576851</td>\n",
       "      <td>97813</td>\n",
       "      <td>253335</td>\n",
       "      <td>1</td>\n",
       "    </tr>\n",
       "  </tbody>\n",
       "</table>\n",
       "</div>"
      ],
      "text/plain": [
       "   Flag, name and postal abbreviation[8]  \\\n",
       "   Flag, name and postal abbreviation[8]   \n",
       "49                               Wyoming   \n",
       "\n",
       "                                              Cities              \\\n",
       "   Flag, name and postal abbreviation[8].1   Capital Largest[12]   \n",
       "49                                      WY  Cheyenne    Cheyenne   \n",
       "\n",
       "   Ratification or admission[A] Population (2020)[10] Total area[11]          \\\n",
       "   Ratification or admission[A] Population (2020)[10]            mi2     km2   \n",
       "49                 Jul 10, 1890                576851          97813  253335   \n",
       "\n",
       "   Reps.  \n",
       "   Reps.  \n",
       "49     1  "
      ]
     },
     "metadata": {},
     "output_type": "display_data"
    },
    {
     "data": {
      "text/html": [
       "<span style=\"color: red;font-style:italic\"><br><h5>Ending Visual Check : USA State Code Dataset</h5></span>"
      ],
      "text/plain": [
       "<IPython.core.display.HTML object>"
      ]
     },
     "metadata": {},
     "output_type": "display_data"
    }
   ],
   "source": [
    "usa_states_df = get_us_state_abbreviation_dataset_from_web()\n",
    "visual_check_dataframe(usa_states_df,\"USA State Code Dataset\", rows=1)"
   ]
  },
  {
   "cell_type": "markdown",
   "id": "1a3d68ae2f6c1f97",
   "metadata": {},
   "source": [
    "#### Pre-processing of USA State Code dataset"
   ]
  },
  {
   "cell_type": "code",
   "execution_count": 14,
   "id": "b2f690da608270c1",
   "metadata": {},
   "outputs": [
    {
     "data": {
      "text/html": [
       "<span style=\"color: green;font-style:normal\"><br><h4>Starting Visual Check : USA State Code Dataset</h4></span>"
      ],
      "text/plain": [
       "<IPython.core.display.HTML object>"
      ]
     },
     "metadata": {},
     "output_type": "display_data"
    },
    {
     "data": {
      "text/html": [
       "<span style=\"color: black;font-style:normal\"><br>Check top 1 row(s), followed by a sample of 1 row(s) and then the bottom 1 row(s)</span>"
      ],
      "text/plain": [
       "<IPython.core.display.HTML object>"
      ]
     },
     "metadata": {},
     "output_type": "display_data"
    },
    {
     "data": {
      "text/html": [
       "<div>\n",
       "<style scoped>\n",
       "    .dataframe tbody tr th:only-of-type {\n",
       "        vertical-align: middle;\n",
       "    }\n",
       "\n",
       "    .dataframe tbody tr th {\n",
       "        vertical-align: top;\n",
       "    }\n",
       "\n",
       "    .dataframe thead th {\n",
       "        text-align: right;\n",
       "    }\n",
       "</style>\n",
       "<table border=\"1\" class=\"dataframe\">\n",
       "  <thead>\n",
       "    <tr style=\"text-align: right;\">\n",
       "      <th></th>\n",
       "      <th>County</th>\n",
       "      <th>County Code</th>\n",
       "    </tr>\n",
       "  </thead>\n",
       "  <tbody>\n",
       "    <tr>\n",
       "      <th>0</th>\n",
       "      <td>Alabama</td>\n",
       "      <td>AL</td>\n",
       "    </tr>\n",
       "  </tbody>\n",
       "</table>\n",
       "</div>"
      ],
      "text/plain": [
       "    County County Code\n",
       "0  Alabama          AL"
      ]
     },
     "metadata": {},
     "output_type": "display_data"
    },
    {
     "data": {
      "text/html": [
       "<div>\n",
       "<style scoped>\n",
       "    .dataframe tbody tr th:only-of-type {\n",
       "        vertical-align: middle;\n",
       "    }\n",
       "\n",
       "    .dataframe tbody tr th {\n",
       "        vertical-align: top;\n",
       "    }\n",
       "\n",
       "    .dataframe thead th {\n",
       "        text-align: right;\n",
       "    }\n",
       "</style>\n",
       "<table border=\"1\" class=\"dataframe\">\n",
       "  <thead>\n",
       "    <tr style=\"text-align: right;\">\n",
       "      <th></th>\n",
       "      <th>County</th>\n",
       "      <th>County Code</th>\n",
       "    </tr>\n",
       "  </thead>\n",
       "  <tbody>\n",
       "    <tr>\n",
       "      <th>33</th>\n",
       "      <td>North Dakota</td>\n",
       "      <td>ND</td>\n",
       "    </tr>\n",
       "  </tbody>\n",
       "</table>\n",
       "</div>"
      ],
      "text/plain": [
       "          County County Code\n",
       "33  North Dakota          ND"
      ]
     },
     "metadata": {},
     "output_type": "display_data"
    },
    {
     "data": {
      "text/html": [
       "<div>\n",
       "<style scoped>\n",
       "    .dataframe tbody tr th:only-of-type {\n",
       "        vertical-align: middle;\n",
       "    }\n",
       "\n",
       "    .dataframe tbody tr th {\n",
       "        vertical-align: top;\n",
       "    }\n",
       "\n",
       "    .dataframe thead th {\n",
       "        text-align: right;\n",
       "    }\n",
       "</style>\n",
       "<table border=\"1\" class=\"dataframe\">\n",
       "  <thead>\n",
       "    <tr style=\"text-align: right;\">\n",
       "      <th></th>\n",
       "      <th>County</th>\n",
       "      <th>County Code</th>\n",
       "    </tr>\n",
       "  </thead>\n",
       "  <tbody>\n",
       "    <tr>\n",
       "      <th>49</th>\n",
       "      <td>Wyoming</td>\n",
       "      <td>WY</td>\n",
       "    </tr>\n",
       "  </tbody>\n",
       "</table>\n",
       "</div>"
      ],
      "text/plain": [
       "     County County Code\n",
       "49  Wyoming          WY"
      ]
     },
     "metadata": {},
     "output_type": "display_data"
    },
    {
     "data": {
      "text/html": [
       "<span style=\"color: red;font-style:italic\"><br><h5>Ending Visual Check : USA State Code Dataset</h5></span>"
      ],
      "text/plain": [
       "<IPython.core.display.HTML object>"
      ]
     },
     "metadata": {},
     "output_type": "display_data"
    }
   ],
   "source": [
    "usa_states_df = clean_us_state_abbreviation_dataset(usa_states_df)\n",
    "visual_check_dataframe(usa_states_df,\"USA State Code Dataset\", rows=1)"
   ]
  },
  {
   "cell_type": "markdown",
   "id": "d27007aa09eb7b2e",
   "metadata": {},
   "source": [
    "### TLD Dataset\n",
    "#### Load in Data"
   ]
  },
  {
   "cell_type": "code",
   "execution_count": 15,
   "id": "f36a040978e2e5c6",
   "metadata": {},
   "outputs": [
    {
     "data": {
      "text/html": [
       "<span style=\"color: green;font-style:normal\"><br><h4>Starting Visual Check : TLD pre-cleanup</h4></span>"
      ],
      "text/plain": [
       "<IPython.core.display.HTML object>"
      ]
     },
     "metadata": {},
     "output_type": "display_data"
    },
    {
     "data": {
      "text/html": [
       "<span style=\"color: black;font-style:normal\"><br>Check top 1 row(s), followed by a sample of 1 row(s) and then the bottom 1 row(s)</span>"
      ],
      "text/plain": [
       "<IPython.core.display.HTML object>"
      ]
     },
     "metadata": {},
     "output_type": "display_data"
    },
    {
     "data": {
      "text/html": [
       "<div>\n",
       "<style scoped>\n",
       "    .dataframe tbody tr th:only-of-type {\n",
       "        vertical-align: middle;\n",
       "    }\n",
       "\n",
       "    .dataframe tbody tr th {\n",
       "        vertical-align: top;\n",
       "    }\n",
       "\n",
       "    .dataframe thead th {\n",
       "        text-align: right;\n",
       "    }\n",
       "</style>\n",
       "<table border=\"1\" class=\"dataframe\">\n",
       "  <thead>\n",
       "    <tr style=\"text-align: right;\">\n",
       "      <th></th>\n",
       "      <th>Code</th>\n",
       "      <th>Country name (using title case)</th>\n",
       "      <th>Year</th>\n",
       "      <th>ccTLD</th>\n",
       "      <th>Notes</th>\n",
       "    </tr>\n",
       "  </thead>\n",
       "  <tbody>\n",
       "    <tr>\n",
       "      <th>0</th>\n",
       "      <td>AD</td>\n",
       "      <td>Andorra</td>\n",
       "      <td>1974</td>\n",
       "      <td>.ad</td>\n",
       "      <td>NaN</td>\n",
       "    </tr>\n",
       "  </tbody>\n",
       "</table>\n",
       "</div>"
      ],
      "text/plain": [
       "  Code Country name (using title case)  Year ccTLD Notes\n",
       "0   AD                         Andorra  1974   .ad   NaN"
      ]
     },
     "metadata": {},
     "output_type": "display_data"
    },
    {
     "data": {
      "text/html": [
       "<div>\n",
       "<style scoped>\n",
       "    .dataframe tbody tr th:only-of-type {\n",
       "        vertical-align: middle;\n",
       "    }\n",
       "\n",
       "    .dataframe tbody tr th {\n",
       "        vertical-align: top;\n",
       "    }\n",
       "\n",
       "    .dataframe thead th {\n",
       "        text-align: right;\n",
       "    }\n",
       "</style>\n",
       "<table border=\"1\" class=\"dataframe\">\n",
       "  <thead>\n",
       "    <tr style=\"text-align: right;\">\n",
       "      <th></th>\n",
       "      <th>Code</th>\n",
       "      <th>Country name (using title case)</th>\n",
       "      <th>Year</th>\n",
       "      <th>ccTLD</th>\n",
       "      <th>Notes</th>\n",
       "    </tr>\n",
       "  </thead>\n",
       "  <tbody>\n",
       "    <tr>\n",
       "      <th>152</th>\n",
       "      <td>MT</td>\n",
       "      <td>Malta</td>\n",
       "      <td>1974</td>\n",
       "      <td>.mt</td>\n",
       "      <td>NaN</td>\n",
       "    </tr>\n",
       "  </tbody>\n",
       "</table>\n",
       "</div>"
      ],
      "text/plain": [
       "    Code Country name (using title case)  Year ccTLD Notes\n",
       "152   MT                           Malta  1974   .mt   NaN"
      ]
     },
     "metadata": {},
     "output_type": "display_data"
    },
    {
     "data": {
      "text/html": [
       "<div>\n",
       "<style scoped>\n",
       "    .dataframe tbody tr th:only-of-type {\n",
       "        vertical-align: middle;\n",
       "    }\n",
       "\n",
       "    .dataframe tbody tr th {\n",
       "        vertical-align: top;\n",
       "    }\n",
       "\n",
       "    .dataframe thead th {\n",
       "        text-align: right;\n",
       "    }\n",
       "</style>\n",
       "<table border=\"1\" class=\"dataframe\">\n",
       "  <thead>\n",
       "    <tr style=\"text-align: right;\">\n",
       "      <th></th>\n",
       "      <th>Code</th>\n",
       "      <th>Country name (using title case)</th>\n",
       "      <th>Year</th>\n",
       "      <th>ccTLD</th>\n",
       "      <th>Notes</th>\n",
       "    </tr>\n",
       "  </thead>\n",
       "  <tbody>\n",
       "    <tr>\n",
       "      <th>248</th>\n",
       "      <td>ZW</td>\n",
       "      <td>Zimbabwe</td>\n",
       "      <td>1980</td>\n",
       "      <td>.zw</td>\n",
       "      <td>Name changed from Southern Rhodesia (RH)</td>\n",
       "    </tr>\n",
       "  </tbody>\n",
       "</table>\n",
       "</div>"
      ],
      "text/plain": [
       "    Code Country name (using title case)  Year ccTLD  \\\n",
       "248   ZW                        Zimbabwe  1980   .zw   \n",
       "\n",
       "                                        Notes  \n",
       "248  Name changed from Southern Rhodesia (RH)  "
      ]
     },
     "metadata": {},
     "output_type": "display_data"
    },
    {
     "data": {
      "text/html": [
       "<span style=\"color: red;font-style:italic\"><br><h5>Ending Visual Check : TLD pre-cleanup</h5></span>"
      ],
      "text/plain": [
       "<IPython.core.display.HTML object>"
      ]
     },
     "metadata": {},
     "output_type": "display_data"
    }
   ],
   "source": [
    "tld_df = get_tld_country_dataset()\n",
    "visual_check_dataframe(tld_df,\"TLD pre-cleanup\", rows=1)"
   ]
  },
  {
   "cell_type": "markdown",
   "id": "ac33f1a90c01aee0",
   "metadata": {},
   "source": [
    "#### Pre-processing of TLD dataset"
   ]
  },
  {
   "cell_type": "code",
   "execution_count": 16,
   "id": "996dc6062a25dd86",
   "metadata": {},
   "outputs": [
    {
     "data": {
      "text/html": [
       "<span style=\"color: black;font-style:normal\"><br>Re-check TLD data once it's been cleaned</span>"
      ],
      "text/plain": [
       "<IPython.core.display.HTML object>"
      ]
     },
     "metadata": {},
     "output_type": "display_data"
    },
    {
     "data": {
      "text/html": [
       "<span style=\"color: green;font-style:normal\"><br><h4>Starting Visual Check : TLD post-cleanup</h4></span>"
      ],
      "text/plain": [
       "<IPython.core.display.HTML object>"
      ]
     },
     "metadata": {},
     "output_type": "display_data"
    },
    {
     "data": {
      "text/html": [
       "<span style=\"color: black;font-style:normal\"><br>Checking random sample of 1 rows</span>"
      ],
      "text/plain": [
       "<IPython.core.display.HTML object>"
      ]
     },
     "metadata": {},
     "output_type": "display_data"
    },
    {
     "data": {
      "text/html": [
       "<div>\n",
       "<style scoped>\n",
       "    .dataframe tbody tr th:only-of-type {\n",
       "        vertical-align: middle;\n",
       "    }\n",
       "\n",
       "    .dataframe tbody tr th {\n",
       "        vertical-align: top;\n",
       "    }\n",
       "\n",
       "    .dataframe thead th {\n",
       "        text-align: right;\n",
       "    }\n",
       "</style>\n",
       "<table border=\"1\" class=\"dataframe\">\n",
       "  <thead>\n",
       "    <tr style=\"text-align: right;\">\n",
       "      <th></th>\n",
       "      <th>A2 Code</th>\n",
       "      <th>Country name (using title case)</th>\n",
       "      <th>tld</th>\n",
       "    </tr>\n",
       "  </thead>\n",
       "  <tbody>\n",
       "    <tr>\n",
       "      <th>189</th>\n",
       "      <td>RS</td>\n",
       "      <td>Serbia</td>\n",
       "      <td>.rs</td>\n",
       "    </tr>\n",
       "  </tbody>\n",
       "</table>\n",
       "</div>"
      ],
      "text/plain": [
       "    A2 Code Country name (using title case)  tld\n",
       "189      RS                          Serbia  .rs"
      ]
     },
     "metadata": {},
     "output_type": "display_data"
    },
    {
     "data": {
      "text/html": [
       "<span style=\"color: red;font-style:italic\"><br><h5>Ending Visual Check : TLD post-cleanup</h5></span>"
      ],
      "text/plain": [
       "<IPython.core.display.HTML object>"
      ]
     },
     "metadata": {},
     "output_type": "display_data"
    }
   ],
   "source": [
    "tld_df = clean_tld_country_data(tld_df)\n",
    "write(\"Re-check TLD data once it's been cleaned\")\n",
    "visual_check_dataframe(tld_df, \"TLD post-cleanup\",rows=1,sample_only=True)\n"
   ]
  },
  {
   "cell_type": "markdown",
   "id": "1b8f6f41f6762a0a",
   "metadata": {},
   "source": [
    "### M49 Dataset\n",
    "#### Load in Data"
   ]
  },
  {
   "cell_type": "code",
   "execution_count": 17,
   "id": "b9d74810bb3e8895",
   "metadata": {},
   "outputs": [
    {
     "data": {
      "text/html": [
       "<span style=\"color: green;font-style:normal\"><br><h4>Starting Visual Check : M49 - pre-cleanup</h4></span>"
      ],
      "text/plain": [
       "<IPython.core.display.HTML object>"
      ]
     },
     "metadata": {},
     "output_type": "display_data"
    },
    {
     "data": {
      "text/html": [
       "<span style=\"color: black;font-style:normal\"><br>Check top 1 row(s), followed by a sample of 1 row(s) and then the bottom 1 row(s)</span>"
      ],
      "text/plain": [
       "<IPython.core.display.HTML object>"
      ]
     },
     "metadata": {},
     "output_type": "display_data"
    },
    {
     "data": {
      "text/html": [
       "<div>\n",
       "<style scoped>\n",
       "    .dataframe tbody tr th:only-of-type {\n",
       "        vertical-align: middle;\n",
       "    }\n",
       "\n",
       "    .dataframe tbody tr th {\n",
       "        vertical-align: top;\n",
       "    }\n",
       "\n",
       "    .dataframe thead th {\n",
       "        text-align: right;\n",
       "    }\n",
       "</style>\n",
       "<table border=\"1\" class=\"dataframe\">\n",
       "  <thead>\n",
       "    <tr style=\"text-align: right;\">\n",
       "      <th></th>\n",
       "      <th>Global Code</th>\n",
       "      <th>Global Name</th>\n",
       "      <th>Region Code</th>\n",
       "      <th>Region Name</th>\n",
       "      <th>Sub-region Code</th>\n",
       "      <th>Sub-region Name</th>\n",
       "      <th>Intermediate Region Code</th>\n",
       "      <th>Intermediate Region Name</th>\n",
       "      <th>Country or Area</th>\n",
       "      <th>M49 Code</th>\n",
       "      <th>ISO-alpha2 Code</th>\n",
       "      <th>ISO-alpha3 Code</th>\n",
       "      <th>Least Developed Countries (LDC)</th>\n",
       "      <th>Land Locked Developing Countries (LLDC)</th>\n",
       "      <th>Small Island Developing States (SIDS)</th>\n",
       "    </tr>\n",
       "  </thead>\n",
       "  <tbody>\n",
       "    <tr>\n",
       "      <th>0</th>\n",
       "      <td>1</td>\n",
       "      <td>World</td>\n",
       "      <td>2.0</td>\n",
       "      <td>Africa</td>\n",
       "      <td>15.0</td>\n",
       "      <td>Northern Africa</td>\n",
       "      <td>NaN</td>\n",
       "      <td>NaN</td>\n",
       "      <td>Algeria</td>\n",
       "      <td>12</td>\n",
       "      <td>DZ</td>\n",
       "      <td>DZA</td>\n",
       "      <td>NaN</td>\n",
       "      <td>NaN</td>\n",
       "      <td>NaN</td>\n",
       "    </tr>\n",
       "  </tbody>\n",
       "</table>\n",
       "</div>"
      ],
      "text/plain": [
       "   Global Code Global Name  Region Code Region Name  Sub-region Code  \\\n",
       "0            1       World          2.0      Africa             15.0   \n",
       "\n",
       "   Sub-region Name  Intermediate Region Code Intermediate Region Name  \\\n",
       "0  Northern Africa                       NaN                      NaN   \n",
       "\n",
       "  Country or Area  M49 Code ISO-alpha2 Code ISO-alpha3 Code  \\\n",
       "0         Algeria        12              DZ             DZA   \n",
       "\n",
       "  Least Developed Countries (LDC) Land Locked Developing Countries (LLDC)  \\\n",
       "0                             NaN                                     NaN   \n",
       "\n",
       "  Small Island Developing States (SIDS)  \n",
       "0                                   NaN  "
      ]
     },
     "metadata": {},
     "output_type": "display_data"
    },
    {
     "data": {
      "text/html": [
       "<div>\n",
       "<style scoped>\n",
       "    .dataframe tbody tr th:only-of-type {\n",
       "        vertical-align: middle;\n",
       "    }\n",
       "\n",
       "    .dataframe tbody tr th {\n",
       "        vertical-align: top;\n",
       "    }\n",
       "\n",
       "    .dataframe thead th {\n",
       "        text-align: right;\n",
       "    }\n",
       "</style>\n",
       "<table border=\"1\" class=\"dataframe\">\n",
       "  <thead>\n",
       "    <tr style=\"text-align: right;\">\n",
       "      <th></th>\n",
       "      <th>Global Code</th>\n",
       "      <th>Global Name</th>\n",
       "      <th>Region Code</th>\n",
       "      <th>Region Name</th>\n",
       "      <th>Sub-region Code</th>\n",
       "      <th>Sub-region Name</th>\n",
       "      <th>Intermediate Region Code</th>\n",
       "      <th>Intermediate Region Name</th>\n",
       "      <th>Country or Area</th>\n",
       "      <th>M49 Code</th>\n",
       "      <th>ISO-alpha2 Code</th>\n",
       "      <th>ISO-alpha3 Code</th>\n",
       "      <th>Least Developed Countries (LDC)</th>\n",
       "      <th>Land Locked Developing Countries (LLDC)</th>\n",
       "      <th>Small Island Developing States (SIDS)</th>\n",
       "    </tr>\n",
       "  </thead>\n",
       "  <tbody>\n",
       "    <tr>\n",
       "      <th>189</th>\n",
       "      <td>1</td>\n",
       "      <td>World</td>\n",
       "      <td>150.0</td>\n",
       "      <td>Europe</td>\n",
       "      <td>154.0</td>\n",
       "      <td>Northern Europe</td>\n",
       "      <td>NaN</td>\n",
       "      <td>NaN</td>\n",
       "      <td>Lithuania</td>\n",
       "      <td>440</td>\n",
       "      <td>LT</td>\n",
       "      <td>LTU</td>\n",
       "      <td>NaN</td>\n",
       "      <td>NaN</td>\n",
       "      <td>NaN</td>\n",
       "    </tr>\n",
       "  </tbody>\n",
       "</table>\n",
       "</div>"
      ],
      "text/plain": [
       "     Global Code Global Name  Region Code Region Name  Sub-region Code  \\\n",
       "189            1       World        150.0      Europe            154.0   \n",
       "\n",
       "     Sub-region Name  Intermediate Region Code Intermediate Region Name  \\\n",
       "189  Northern Europe                       NaN                      NaN   \n",
       "\n",
       "    Country or Area  M49 Code ISO-alpha2 Code ISO-alpha3 Code  \\\n",
       "189       Lithuania       440              LT             LTU   \n",
       "\n",
       "    Least Developed Countries (LDC) Land Locked Developing Countries (LLDC)  \\\n",
       "189                             NaN                                     NaN   \n",
       "\n",
       "    Small Island Developing States (SIDS)  \n",
       "189                                   NaN  "
      ]
     },
     "metadata": {},
     "output_type": "display_data"
    },
    {
     "data": {
      "text/html": [
       "<div>\n",
       "<style scoped>\n",
       "    .dataframe tbody tr th:only-of-type {\n",
       "        vertical-align: middle;\n",
       "    }\n",
       "\n",
       "    .dataframe tbody tr th {\n",
       "        vertical-align: top;\n",
       "    }\n",
       "\n",
       "    .dataframe thead th {\n",
       "        text-align: right;\n",
       "    }\n",
       "</style>\n",
       "<table border=\"1\" class=\"dataframe\">\n",
       "  <thead>\n",
       "    <tr style=\"text-align: right;\">\n",
       "      <th></th>\n",
       "      <th>Global Code</th>\n",
       "      <th>Global Name</th>\n",
       "      <th>Region Code</th>\n",
       "      <th>Region Name</th>\n",
       "      <th>Sub-region Code</th>\n",
       "      <th>Sub-region Name</th>\n",
       "      <th>Intermediate Region Code</th>\n",
       "      <th>Intermediate Region Name</th>\n",
       "      <th>Country or Area</th>\n",
       "      <th>M49 Code</th>\n",
       "      <th>ISO-alpha2 Code</th>\n",
       "      <th>ISO-alpha3 Code</th>\n",
       "      <th>Least Developed Countries (LDC)</th>\n",
       "      <th>Land Locked Developing Countries (LLDC)</th>\n",
       "      <th>Small Island Developing States (SIDS)</th>\n",
       "    </tr>\n",
       "  </thead>\n",
       "  <tbody>\n",
       "    <tr>\n",
       "      <th>247</th>\n",
       "      <td>1</td>\n",
       "      <td>World</td>\n",
       "      <td>9.0</td>\n",
       "      <td>Oceania</td>\n",
       "      <td>61.0</td>\n",
       "      <td>Polynesia</td>\n",
       "      <td>NaN</td>\n",
       "      <td>NaN</td>\n",
       "      <td>Wallis and Futuna Islands</td>\n",
       "      <td>876</td>\n",
       "      <td>WF</td>\n",
       "      <td>WLF</td>\n",
       "      <td>NaN</td>\n",
       "      <td>NaN</td>\n",
       "      <td>NaN</td>\n",
       "    </tr>\n",
       "  </tbody>\n",
       "</table>\n",
       "</div>"
      ],
      "text/plain": [
       "     Global Code Global Name  Region Code Region Name  Sub-region Code  \\\n",
       "247            1       World          9.0     Oceania             61.0   \n",
       "\n",
       "    Sub-region Name  Intermediate Region Code Intermediate Region Name  \\\n",
       "247       Polynesia                       NaN                      NaN   \n",
       "\n",
       "               Country or Area  M49 Code ISO-alpha2 Code ISO-alpha3 Code  \\\n",
       "247  Wallis and Futuna Islands       876              WF             WLF   \n",
       "\n",
       "    Least Developed Countries (LDC) Land Locked Developing Countries (LLDC)  \\\n",
       "247                             NaN                                     NaN   \n",
       "\n",
       "    Small Island Developing States (SIDS)  \n",
       "247                                   NaN  "
      ]
     },
     "metadata": {},
     "output_type": "display_data"
    },
    {
     "data": {
      "text/html": [
       "<span style=\"color: red;font-style:italic\"><br><h5>Ending Visual Check : M49 - pre-cleanup</h5></span>"
      ],
      "text/plain": [
       "<IPython.core.display.HTML object>"
      ]
     },
     "metadata": {},
     "output_type": "display_data"
    }
   ],
   "source": [
    "m49_df = get_m49_country_dataset()\n",
    "visual_check_dataframe(m49_df,dataset_name=\"M49 - pre-cleanup\", rows=1)"
   ]
  },
  {
   "cell_type": "markdown",
   "id": "e38f5d22bf0ddffd",
   "metadata": {},
   "source": [
    "#### Pre-processing of M49 Dataset"
   ]
  },
  {
   "cell_type": "code",
   "execution_count": 18,
   "id": "f57ca4aba86509da",
   "metadata": {},
   "outputs": [
    {
     "data": {
      "text/html": [
       "<span style=\"color: black;font-style:normal\"><br>Re-check M49 data once it's been cleaned</span>"
      ],
      "text/plain": [
       "<IPython.core.display.HTML object>"
      ]
     },
     "metadata": {},
     "output_type": "display_data"
    },
    {
     "data": {
      "text/html": [
       "<span style=\"color: green;font-style:normal\"><br><h4>Starting Visual Check : M49 - post-cleanup</h4></span>"
      ],
      "text/plain": [
       "<IPython.core.display.HTML object>"
      ]
     },
     "metadata": {},
     "output_type": "display_data"
    },
    {
     "data": {
      "text/html": [
       "<span style=\"color: black;font-style:normal\"><br>Checking random sample of 1 rows</span>"
      ],
      "text/plain": [
       "<IPython.core.display.HTML object>"
      ]
     },
     "metadata": {},
     "output_type": "display_data"
    },
    {
     "data": {
      "text/html": [
       "<div>\n",
       "<style scoped>\n",
       "    .dataframe tbody tr th:only-of-type {\n",
       "        vertical-align: middle;\n",
       "    }\n",
       "\n",
       "    .dataframe tbody tr th {\n",
       "        vertical-align: top;\n",
       "    }\n",
       "\n",
       "    .dataframe thead th {\n",
       "        text-align: right;\n",
       "    }\n",
       "</style>\n",
       "<table border=\"1\" class=\"dataframe\">\n",
       "  <thead>\n",
       "    <tr style=\"text-align: right;\">\n",
       "      <th></th>\n",
       "      <th>Region Code</th>\n",
       "      <th>Region Name</th>\n",
       "      <th>Sub-region Code</th>\n",
       "      <th>Sub-region Name</th>\n",
       "      <th>Country or Area</th>\n",
       "      <th>M49 Code</th>\n",
       "      <th>ISO-alpha2 Code</th>\n",
       "      <th>ISO-alpha3 Code</th>\n",
       "    </tr>\n",
       "  </thead>\n",
       "  <tbody>\n",
       "    <tr>\n",
       "      <th>128</th>\n",
       "      <td>142.0</td>\n",
       "      <td>Asia</td>\n",
       "      <td>30.0</td>\n",
       "      <td>Eastern Asia</td>\n",
       "      <td>Mongolia</td>\n",
       "      <td>496</td>\n",
       "      <td>MN</td>\n",
       "      <td>MNG</td>\n",
       "    </tr>\n",
       "  </tbody>\n",
       "</table>\n",
       "</div>"
      ],
      "text/plain": [
       "     Region Code Region Name  Sub-region Code Sub-region Name Country or Area  \\\n",
       "128        142.0        Asia             30.0    Eastern Asia        Mongolia   \n",
       "\n",
       "     M49 Code ISO-alpha2 Code ISO-alpha3 Code  \n",
       "128       496              MN             MNG  "
      ]
     },
     "metadata": {},
     "output_type": "display_data"
    },
    {
     "data": {
      "text/html": [
       "<span style=\"color: red;font-style:italic\"><br><h5>Ending Visual Check : M49 - post-cleanup</h5></span>"
      ],
      "text/plain": [
       "<IPython.core.display.HTML object>"
      ]
     },
     "metadata": {},
     "output_type": "display_data"
    }
   ],
   "source": [
    "m49_df = clean_m49_country_data(m49_df)\n",
    "write(\"Re-check M49 data once it's been cleaned\")\n",
    "visual_check_dataframe(m49_df, dataset_name=\"M49 - post-cleanup\", rows=1, sample_only=True)"
   ]
  },
  {
   "cell_type": "markdown",
   "id": "28c99722f955a829",
   "metadata": {},
   "source": [
    "#### Combine TLD and M49 Location Datasets\n",
    "We have two supplementary datasets representing Geographic location that we will now combine\n",
    "##### Merge the TLD and M49 Location Datasets"
   ]
  },
  {
   "cell_type": "code",
   "execution_count": 19,
   "id": "fd7ebbdfcf81366b",
   "metadata": {},
   "outputs": [
    {
     "data": {
      "text/html": [
       "<span style=\"color: green;font-style:normal\"><br><h4>Starting Visual Check : Combined Locations Dataset</h4></span>"
      ],
      "text/plain": [
       "<IPython.core.display.HTML object>"
      ]
     },
     "metadata": {},
     "output_type": "display_data"
    },
    {
     "data": {
      "text/html": [
       "<span style=\"color: black;font-style:normal\"><br>Check top 1 row(s), followed by a sample of 1 row(s) and then the bottom 1 row(s)</span>"
      ],
      "text/plain": [
       "<IPython.core.display.HTML object>"
      ]
     },
     "metadata": {},
     "output_type": "display_data"
    },
    {
     "data": {
      "text/html": [
       "<div>\n",
       "<style scoped>\n",
       "    .dataframe tbody tr th:only-of-type {\n",
       "        vertical-align: middle;\n",
       "    }\n",
       "\n",
       "    .dataframe tbody tr th {\n",
       "        vertical-align: top;\n",
       "    }\n",
       "\n",
       "    .dataframe thead th {\n",
       "        text-align: right;\n",
       "    }\n",
       "</style>\n",
       "<table border=\"1\" class=\"dataframe\">\n",
       "  <thead>\n",
       "    <tr style=\"text-align: right;\">\n",
       "      <th></th>\n",
       "      <th>A2 Code</th>\n",
       "      <th>Country name (using title case)</th>\n",
       "      <th>tld</th>\n",
       "      <th>Region Code</th>\n",
       "      <th>Region Name</th>\n",
       "      <th>Sub-region Code</th>\n",
       "      <th>Sub-region Name</th>\n",
       "      <th>Country or Area</th>\n",
       "      <th>M49 Code</th>\n",
       "      <th>ISO-alpha2 Code</th>\n",
       "      <th>ISO-alpha3 Code</th>\n",
       "    </tr>\n",
       "  </thead>\n",
       "  <tbody>\n",
       "    <tr>\n",
       "      <th>0</th>\n",
       "      <td>AD</td>\n",
       "      <td>Andorra</td>\n",
       "      <td>.ad</td>\n",
       "      <td>150</td>\n",
       "      <td>Europe</td>\n",
       "      <td>39</td>\n",
       "      <td>Southern Europe</td>\n",
       "      <td>Andorra</td>\n",
       "      <td>20</td>\n",
       "      <td>AD</td>\n",
       "      <td>AND</td>\n",
       "    </tr>\n",
       "  </tbody>\n",
       "</table>\n",
       "</div>"
      ],
      "text/plain": [
       "  A2 Code Country name (using title case)  tld  Region Code Region Name  \\\n",
       "0      AD                         Andorra  .ad          150      Europe   \n",
       "\n",
       "   Sub-region Code  Sub-region Name Country or Area  M49 Code ISO-alpha2 Code  \\\n",
       "0               39  Southern Europe         Andorra        20              AD   \n",
       "\n",
       "  ISO-alpha3 Code  \n",
       "0             AND  "
      ]
     },
     "metadata": {},
     "output_type": "display_data"
    },
    {
     "data": {
      "text/html": [
       "<div>\n",
       "<style scoped>\n",
       "    .dataframe tbody tr th:only-of-type {\n",
       "        vertical-align: middle;\n",
       "    }\n",
       "\n",
       "    .dataframe tbody tr th {\n",
       "        vertical-align: top;\n",
       "    }\n",
       "\n",
       "    .dataframe thead th {\n",
       "        text-align: right;\n",
       "    }\n",
       "</style>\n",
       "<table border=\"1\" class=\"dataframe\">\n",
       "  <thead>\n",
       "    <tr style=\"text-align: right;\">\n",
       "      <th></th>\n",
       "      <th>A2 Code</th>\n",
       "      <th>Country name (using title case)</th>\n",
       "      <th>tld</th>\n",
       "      <th>Region Code</th>\n",
       "      <th>Region Name</th>\n",
       "      <th>Sub-region Code</th>\n",
       "      <th>Sub-region Name</th>\n",
       "      <th>Country or Area</th>\n",
       "      <th>M49 Code</th>\n",
       "      <th>ISO-alpha2 Code</th>\n",
       "      <th>ISO-alpha3 Code</th>\n",
       "    </tr>\n",
       "  </thead>\n",
       "  <tbody>\n",
       "    <tr>\n",
       "      <th>168</th>\n",
       "      <td>NR</td>\n",
       "      <td>Nauru</td>\n",
       "      <td>.nr</td>\n",
       "      <td>9</td>\n",
       "      <td>Oceania</td>\n",
       "      <td>57</td>\n",
       "      <td>Micronesia</td>\n",
       "      <td>Nauru</td>\n",
       "      <td>520</td>\n",
       "      <td>NR</td>\n",
       "      <td>NRU</td>\n",
       "    </tr>\n",
       "  </tbody>\n",
       "</table>\n",
       "</div>"
      ],
      "text/plain": [
       "    A2 Code Country name (using title case)  tld  Region Code Region Name  \\\n",
       "168      NR                           Nauru  .nr            9     Oceania   \n",
       "\n",
       "     Sub-region Code Sub-region Name Country or Area  M49 Code  \\\n",
       "168               57      Micronesia           Nauru       520   \n",
       "\n",
       "    ISO-alpha2 Code ISO-alpha3 Code  \n",
       "168              NR             NRU  "
      ]
     },
     "metadata": {},
     "output_type": "display_data"
    },
    {
     "data": {
      "text/html": [
       "<div>\n",
       "<style scoped>\n",
       "    .dataframe tbody tr th:only-of-type {\n",
       "        vertical-align: middle;\n",
       "    }\n",
       "\n",
       "    .dataframe tbody tr th {\n",
       "        vertical-align: top;\n",
       "    }\n",
       "\n",
       "    .dataframe thead th {\n",
       "        text-align: right;\n",
       "    }\n",
       "</style>\n",
       "<table border=\"1\" class=\"dataframe\">\n",
       "  <thead>\n",
       "    <tr style=\"text-align: right;\">\n",
       "      <th></th>\n",
       "      <th>A2 Code</th>\n",
       "      <th>Country name (using title case)</th>\n",
       "      <th>tld</th>\n",
       "      <th>Region Code</th>\n",
       "      <th>Region Name</th>\n",
       "      <th>Sub-region Code</th>\n",
       "      <th>Sub-region Name</th>\n",
       "      <th>Country or Area</th>\n",
       "      <th>M49 Code</th>\n",
       "      <th>ISO-alpha2 Code</th>\n",
       "      <th>ISO-alpha3 Code</th>\n",
       "    </tr>\n",
       "  </thead>\n",
       "  <tbody>\n",
       "    <tr>\n",
       "      <th>248</th>\n",
       "      <td>ZW</td>\n",
       "      <td>Zimbabwe</td>\n",
       "      <td>.zw</td>\n",
       "      <td>2</td>\n",
       "      <td>Africa</td>\n",
       "      <td>202</td>\n",
       "      <td>Sub-Saharan Africa</td>\n",
       "      <td>Zimbabwe</td>\n",
       "      <td>716</td>\n",
       "      <td>ZW</td>\n",
       "      <td>ZWE</td>\n",
       "    </tr>\n",
       "  </tbody>\n",
       "</table>\n",
       "</div>"
      ],
      "text/plain": [
       "    A2 Code Country name (using title case)  tld  Region Code Region Name  \\\n",
       "248      ZW                        Zimbabwe  .zw            2      Africa   \n",
       "\n",
       "     Sub-region Code     Sub-region Name Country or Area  M49 Code  \\\n",
       "248              202  Sub-Saharan Africa        Zimbabwe       716   \n",
       "\n",
       "    ISO-alpha2 Code ISO-alpha3 Code  \n",
       "248              ZW             ZWE  "
      ]
     },
     "metadata": {},
     "output_type": "display_data"
    },
    {
     "data": {
      "text/html": [
       "<span style=\"color: red;font-style:italic\"><br><h5>Ending Visual Check : Combined Locations Dataset</h5></span>"
      ],
      "text/plain": [
       "<IPython.core.display.HTML object>"
      ]
     },
     "metadata": {},
     "output_type": "display_data"
    },
    {
     "data": {
      "text/html": [
       "<span style=\"color: black;font-style:normal\"><br>ISO-alpha2 and ISO-alpha3 codes that are null:</span>"
      ],
      "text/plain": [
       "<IPython.core.display.HTML object>"
      ]
     },
     "metadata": {},
     "output_type": "display_data"
    },
    {
     "data": {
      "text/html": [
       "<div>\n",
       "<style scoped>\n",
       "    .dataframe tbody tr th:only-of-type {\n",
       "        vertical-align: middle;\n",
       "    }\n",
       "\n",
       "    .dataframe tbody tr th {\n",
       "        vertical-align: top;\n",
       "    }\n",
       "\n",
       "    .dataframe thead th {\n",
       "        text-align: right;\n",
       "    }\n",
       "</style>\n",
       "<table border=\"1\" class=\"dataframe\">\n",
       "  <thead>\n",
       "    <tr style=\"text-align: right;\">\n",
       "      <th></th>\n",
       "      <th>A2 Code</th>\n",
       "      <th>Country name (using title case)</th>\n",
       "      <th>tld</th>\n",
       "      <th>Region Code</th>\n",
       "      <th>Region Name</th>\n",
       "      <th>Sub-region Code</th>\n",
       "      <th>Sub-region Name</th>\n",
       "      <th>Country or Area</th>\n",
       "      <th>M49 Code</th>\n",
       "      <th>ISO-alpha2 Code</th>\n",
       "      <th>ISO-alpha3 Code</th>\n",
       "    </tr>\n",
       "  </thead>\n",
       "  <tbody>\n",
       "  </tbody>\n",
       "</table>\n",
       "</div>"
      ],
      "text/plain": [
       "Empty DataFrame\n",
       "Columns: [A2 Code, Country name (using title case), tld, Region Code, Region Name, Sub-region Code, Sub-region Name, Country or Area, M49 Code, ISO-alpha2 Code, ISO-alpha3 Code]\n",
       "Index: []"
      ]
     },
     "metadata": {},
     "output_type": "display_data"
    },
    {
     "data": {
      "text/html": [
       "<span style=\"color: black;font-style:normal\"><br>ISO-alpha2 & 3 Codes that are both set to zero:</span>"
      ],
      "text/plain": [
       "<IPython.core.display.HTML object>"
      ]
     },
     "metadata": {},
     "output_type": "display_data"
    },
    {
     "data": {
      "text/html": [
       "<div>\n",
       "<style scoped>\n",
       "    .dataframe tbody tr th:only-of-type {\n",
       "        vertical-align: middle;\n",
       "    }\n",
       "\n",
       "    .dataframe tbody tr th {\n",
       "        vertical-align: top;\n",
       "    }\n",
       "\n",
       "    .dataframe thead th {\n",
       "        text-align: right;\n",
       "    }\n",
       "</style>\n",
       "<table border=\"1\" class=\"dataframe\">\n",
       "  <thead>\n",
       "    <tr style=\"text-align: right;\">\n",
       "      <th></th>\n",
       "      <th>A2 Code</th>\n",
       "      <th>Country name (using title case)</th>\n",
       "      <th>tld</th>\n",
       "      <th>Region Code</th>\n",
       "      <th>Region Name</th>\n",
       "      <th>Sub-region Code</th>\n",
       "      <th>Sub-region Name</th>\n",
       "      <th>Country or Area</th>\n",
       "      <th>M49 Code</th>\n",
       "      <th>ISO-alpha2 Code</th>\n",
       "      <th>ISO-alpha3 Code</th>\n",
       "    </tr>\n",
       "  </thead>\n",
       "  <tbody>\n",
       "    <tr>\n",
       "      <th>227</th>\n",
       "      <td>TW</td>\n",
       "      <td>Taiwan, Province of China</td>\n",
       "      <td>.tw</td>\n",
       "      <td>0</td>\n",
       "      <td>0</td>\n",
       "      <td>0</td>\n",
       "      <td>0</td>\n",
       "      <td>0</td>\n",
       "      <td>0</td>\n",
       "      <td>0</td>\n",
       "      <td>0</td>\n",
       "    </tr>\n",
       "  </tbody>\n",
       "</table>\n",
       "</div>"
      ],
      "text/plain": [
       "    A2 Code Country name (using title case)  tld  Region Code Region Name  \\\n",
       "227      TW       Taiwan, Province of China  .tw            0           0   \n",
       "\n",
       "     Sub-region Code Sub-region Name Country or Area  M49 Code  \\\n",
       "227                0               0               0         0   \n",
       "\n",
       "    ISO-alpha2 Code ISO-alpha3 Code  \n",
       "227               0               0  "
      ]
     },
     "metadata": {},
     "output_type": "display_data"
    },
    {
     "data": {
      "text/html": [
       "<span style=\"color: black;font-style:normal\"><br>Taiwan is the only Country without an entry in the M49 - there are political reasons for this.  For now, this can be corrected by assigning the ISO-alpha2 Code to the A2 Code</span>"
      ],
      "text/plain": [
       "<IPython.core.display.HTML object>"
      ]
     },
     "metadata": {},
     "output_type": "display_data"
    }
   ],
   "source": [
    "locations_df = merge_tld_and_m49_datasets(tld_df, m49_df)\n",
    "visual_check_dataframe(locations_df, \"Combined Locations Dataset\",rows=1)\n",
    "check_consistency_tld_m49_dataset_pre_cleanup(locations_df)"
   ]
  },
  {
   "cell_type": "markdown",
   "id": "8d76514d9079c2ae",
   "metadata": {},
   "source": [
    "##### Cleanup of Combined TLD & M49 Location Dataset"
   ]
  },
  {
   "cell_type": "code",
   "execution_count": 20,
   "id": "4332a937c10047c9",
   "metadata": {},
   "outputs": [
    {
     "data": {
      "text/html": [
       "<span style=\"color: black;font-style:normal\"><br>Assigning 'ISO-alpha2' to same value as 'A2 Code' for any entries that are set to 0</span>"
      ],
      "text/plain": [
       "<IPython.core.display.HTML object>"
      ]
     },
     "metadata": {},
     "output_type": "display_data"
    },
    {
     "data": {
      "text/html": [
       "<span style=\"color: black;font-style:normal\"><br>ISO-alpha2 & 3 Codes that are both set to zero:</span>"
      ],
      "text/plain": [
       "<IPython.core.display.HTML object>"
      ]
     },
     "metadata": {},
     "output_type": "display_data"
    },
    {
     "data": {
      "text/html": [
       "<div>\n",
       "<style scoped>\n",
       "    .dataframe tbody tr th:only-of-type {\n",
       "        vertical-align: middle;\n",
       "    }\n",
       "\n",
       "    .dataframe tbody tr th {\n",
       "        vertical-align: top;\n",
       "    }\n",
       "\n",
       "    .dataframe thead th {\n",
       "        text-align: right;\n",
       "    }\n",
       "</style>\n",
       "<table border=\"1\" class=\"dataframe\">\n",
       "  <thead>\n",
       "    <tr style=\"text-align: right;\">\n",
       "      <th></th>\n",
       "      <th>short-name</th>\n",
       "      <th>long-name</th>\n",
       "      <th>Sub-region Name</th>\n",
       "      <th>Region Name</th>\n",
       "      <th>tld</th>\n",
       "      <th>Sub-region Code</th>\n",
       "      <th>Region Code</th>\n",
       "      <th>M49 Code</th>\n",
       "      <th>ISO-alpha2 Code</th>\n",
       "      <th>ISO-alpha3 Code</th>\n",
       "    </tr>\n",
       "  </thead>\n",
       "  <tbody>\n",
       "  </tbody>\n",
       "</table>\n",
       "</div>"
      ],
      "text/plain": [
       "Empty DataFrame\n",
       "Columns: [short-name, long-name, Sub-region Name, Region Name, tld, Sub-region Code, Region Code, M49 Code, ISO-alpha2 Code, ISO-alpha3 Code]\n",
       "Index: []"
      ]
     },
     "metadata": {},
     "output_type": "display_data"
    },
    {
     "data": {
      "text/html": [
       "<span style=\"color: black;font-style:normal\"><br>Check Taiwan specifically :</span>"
      ],
      "text/plain": [
       "<IPython.core.display.HTML object>"
      ]
     },
     "metadata": {},
     "output_type": "display_data"
    },
    {
     "data": {
      "text/html": [
       "<div>\n",
       "<style scoped>\n",
       "    .dataframe tbody tr th:only-of-type {\n",
       "        vertical-align: middle;\n",
       "    }\n",
       "\n",
       "    .dataframe tbody tr th {\n",
       "        vertical-align: top;\n",
       "    }\n",
       "\n",
       "    .dataframe thead th {\n",
       "        text-align: right;\n",
       "    }\n",
       "</style>\n",
       "<table border=\"1\" class=\"dataframe\">\n",
       "  <thead>\n",
       "    <tr style=\"text-align: right;\">\n",
       "      <th></th>\n",
       "      <th>short-name</th>\n",
       "      <th>long-name</th>\n",
       "      <th>Sub-region Name</th>\n",
       "      <th>Region Name</th>\n",
       "      <th>tld</th>\n",
       "      <th>Sub-region Code</th>\n",
       "      <th>Region Code</th>\n",
       "      <th>M49 Code</th>\n",
       "      <th>ISO-alpha2 Code</th>\n",
       "      <th>ISO-alpha3 Code</th>\n",
       "    </tr>\n",
       "  </thead>\n",
       "  <tbody>\n",
       "    <tr>\n",
       "      <th>227</th>\n",
       "      <td>Taiwan</td>\n",
       "      <td>Province of China Taiwan</td>\n",
       "      <td>0</td>\n",
       "      <td>0</td>\n",
       "      <td>.tw</td>\n",
       "      <td>0</td>\n",
       "      <td>0</td>\n",
       "      <td>0</td>\n",
       "      <td>TW</td>\n",
       "      <td>0</td>\n",
       "    </tr>\n",
       "  </tbody>\n",
       "</table>\n",
       "</div>"
      ],
      "text/plain": [
       "    short-name                 long-name Sub-region Name Region Name  tld  \\\n",
       "227     Taiwan  Province of China Taiwan               0           0  .tw   \n",
       "\n",
       "     Sub-region Code  Region Code  M49 Code ISO-alpha2 Code ISO-alpha3 Code  \n",
       "227                0            0         0              TW               0  "
      ]
     },
     "metadata": {},
     "output_type": "display_data"
    },
    {
     "data": {
      "text/html": [
       "<span style=\"color: black;font-style:normal\"><br>Look for duplicate short country names :</span>"
      ],
      "text/plain": [
       "<IPython.core.display.HTML object>"
      ]
     },
     "metadata": {},
     "output_type": "display_data"
    }
   ],
   "source": [
    "locations_df = cleanup_combined_tld_m49_dataset(locations_df)\n",
    "check_consistency_tld_m49_dataset_post_cleanup(locations_df)"
   ]
  },
  {
   "cell_type": "code",
   "execution_count": 21,
   "id": "d3f2934c6d28db4d",
   "metadata": {},
   "outputs": [
    {
     "data": {
      "text/html": [
       "<span style=\"color: blue;font-style:normal\"><br><h4>Identifying duplicate rows:</h4></span>"
      ],
      "text/plain": [
       "<IPython.core.display.HTML object>"
      ]
     },
     "metadata": {},
     "output_type": "display_data"
    },
    {
     "data": {
      "text/html": [
       "<span style=\"color: black;font-style:normal\"><br>Duplicate Short Names:</span>"
      ],
      "text/plain": [
       "<IPython.core.display.HTML object>"
      ]
     },
     "metadata": {},
     "output_type": "display_data"
    },
    {
     "data": {
      "text/html": [
       "<div>\n",
       "<style scoped>\n",
       "    .dataframe tbody tr th:only-of-type {\n",
       "        vertical-align: middle;\n",
       "    }\n",
       "\n",
       "    .dataframe tbody tr th {\n",
       "        vertical-align: top;\n",
       "    }\n",
       "\n",
       "    .dataframe thead th {\n",
       "        text-align: right;\n",
       "    }\n",
       "</style>\n",
       "<table border=\"1\" class=\"dataframe\">\n",
       "  <thead>\n",
       "    <tr style=\"text-align: right;\">\n",
       "      <th></th>\n",
       "      <th>count</th>\n",
       "    </tr>\n",
       "    <tr>\n",
       "      <th>short-name</th>\n",
       "      <th></th>\n",
       "    </tr>\n",
       "  </thead>\n",
       "  <tbody>\n",
       "    <tr>\n",
       "      <th>Congo</th>\n",
       "      <td>2</td>\n",
       "    </tr>\n",
       "    <tr>\n",
       "      <th>Korea</th>\n",
       "      <td>2</td>\n",
       "    </tr>\n",
       "  </tbody>\n",
       "</table>\n",
       "</div>"
      ],
      "text/plain": [
       "            count\n",
       "short-name       \n",
       "Congo           2\n",
       "Korea           2"
      ]
     },
     "metadata": {},
     "output_type": "display_data"
    },
    {
     "data": {
      "text/html": [
       "<span style=\"color: black;font-style:normal\"><br>Full rows with duplicates</span>"
      ],
      "text/plain": [
       "<IPython.core.display.HTML object>"
      ]
     },
     "metadata": {},
     "output_type": "display_data"
    },
    {
     "data": {
      "text/html": [
       "<div>\n",
       "<style scoped>\n",
       "    .dataframe tbody tr th:only-of-type {\n",
       "        vertical-align: middle;\n",
       "    }\n",
       "\n",
       "    .dataframe tbody tr th {\n",
       "        vertical-align: top;\n",
       "    }\n",
       "\n",
       "    .dataframe thead th {\n",
       "        text-align: right;\n",
       "    }\n",
       "</style>\n",
       "<table border=\"1\" class=\"dataframe\">\n",
       "  <thead>\n",
       "    <tr style=\"text-align: right;\">\n",
       "      <th></th>\n",
       "      <th>short-name</th>\n",
       "      <th>long-name</th>\n",
       "      <th>Sub-region Name</th>\n",
       "      <th>Region Name</th>\n",
       "      <th>tld</th>\n",
       "      <th>Sub-region Code</th>\n",
       "      <th>Region Code</th>\n",
       "      <th>M49 Code</th>\n",
       "      <th>ISO-alpha2 Code</th>\n",
       "      <th>ISO-alpha3 Code</th>\n",
       "    </tr>\n",
       "  </thead>\n",
       "  <tbody>\n",
       "    <tr>\n",
       "      <th>39</th>\n",
       "      <td>Congo</td>\n",
       "      <td>Democratic Republic of the Congo</td>\n",
       "      <td>Sub-Saharan Africa</td>\n",
       "      <td>Africa</td>\n",
       "      <td>.cd</td>\n",
       "      <td>202</td>\n",
       "      <td>2</td>\n",
       "      <td>180</td>\n",
       "      <td>CD</td>\n",
       "      <td>COD</td>\n",
       "    </tr>\n",
       "    <tr>\n",
       "      <th>41</th>\n",
       "      <td>Congo</td>\n",
       "      <td>Congo</td>\n",
       "      <td>Sub-Saharan Africa</td>\n",
       "      <td>Africa</td>\n",
       "      <td>.cg</td>\n",
       "      <td>202</td>\n",
       "      <td>2</td>\n",
       "      <td>178</td>\n",
       "      <td>CG</td>\n",
       "      <td>COG</td>\n",
       "    </tr>\n",
       "    <tr>\n",
       "      <th>120</th>\n",
       "      <td>Korea</td>\n",
       "      <td>Democratic People's Republic of Korea</td>\n",
       "      <td>Eastern Asia</td>\n",
       "      <td>Asia</td>\n",
       "      <td>.kp</td>\n",
       "      <td>30</td>\n",
       "      <td>142</td>\n",
       "      <td>408</td>\n",
       "      <td>KP</td>\n",
       "      <td>PRK</td>\n",
       "    </tr>\n",
       "    <tr>\n",
       "      <th>121</th>\n",
       "      <td>Korea</td>\n",
       "      <td>Republic of Korea</td>\n",
       "      <td>Eastern Asia</td>\n",
       "      <td>Asia</td>\n",
       "      <td>.kr</td>\n",
       "      <td>30</td>\n",
       "      <td>142</td>\n",
       "      <td>410</td>\n",
       "      <td>KR</td>\n",
       "      <td>KOR</td>\n",
       "    </tr>\n",
       "  </tbody>\n",
       "</table>\n",
       "</div>"
      ],
      "text/plain": [
       "    short-name                              long-name     Sub-region Name  \\\n",
       "39       Congo       Democratic Republic of the Congo  Sub-Saharan Africa   \n",
       "41       Congo                                  Congo  Sub-Saharan Africa   \n",
       "120      Korea  Democratic People's Republic of Korea        Eastern Asia   \n",
       "121      Korea                      Republic of Korea        Eastern Asia   \n",
       "\n",
       "    Region Name  tld  Sub-region Code  Region Code  M49 Code ISO-alpha2 Code  \\\n",
       "39       Africa  .cd              202            2       180              CD   \n",
       "41       Africa  .cg              202            2       178              CG   \n",
       "120        Asia  .kp               30          142       408              KP   \n",
       "121        Asia  .kr               30          142       410              KR   \n",
       "\n",
       "    ISO-alpha3 Code  \n",
       "39              COD  \n",
       "41              COG  \n",
       "120             PRK  \n",
       "121             KOR  "
      ]
     },
     "metadata": {},
     "output_type": "display_data"
    },
    {
     "data": {
      "text/html": [
       "<span style=\"color: red;font-style:normal\"><br><h5>Manually correcting duplicates ...</h5></span>"
      ],
      "text/plain": [
       "<IPython.core.display.HTML object>"
      ]
     },
     "metadata": {},
     "output_type": "display_data"
    },
    {
     "data": {
      "text/html": [
       "<span style=\"color: red;font-style:normal\"><br><h5>... completed</h5></span>"
      ],
      "text/plain": [
       "<IPython.core.display.HTML object>"
      ]
     },
     "metadata": {},
     "output_type": "display_data"
    },
    {
     "data": {
      "text/html": [
       "<span style=\"color: blue;font-style:normal\"><br><h4>Confirming there are no longer duplicate rows:</h4></span>"
      ],
      "text/plain": [
       "<IPython.core.display.HTML object>"
      ]
     },
     "metadata": {},
     "output_type": "display_data"
    },
    {
     "data": {
      "text/html": [
       "<span style=\"color: black;font-style:normal\"><br>Duplicate Short Names:</span>"
      ],
      "text/plain": [
       "<IPython.core.display.HTML object>"
      ]
     },
     "metadata": {},
     "output_type": "display_data"
    },
    {
     "data": {
      "text/html": [
       "<div>\n",
       "<style scoped>\n",
       "    .dataframe tbody tr th:only-of-type {\n",
       "        vertical-align: middle;\n",
       "    }\n",
       "\n",
       "    .dataframe tbody tr th {\n",
       "        vertical-align: top;\n",
       "    }\n",
       "\n",
       "    .dataframe thead th {\n",
       "        text-align: right;\n",
       "    }\n",
       "</style>\n",
       "<table border=\"1\" class=\"dataframe\">\n",
       "  <thead>\n",
       "    <tr style=\"text-align: right;\">\n",
       "      <th></th>\n",
       "      <th>count</th>\n",
       "    </tr>\n",
       "    <tr>\n",
       "      <th>short-name</th>\n",
       "      <th></th>\n",
       "    </tr>\n",
       "  </thead>\n",
       "  <tbody>\n",
       "  </tbody>\n",
       "</table>\n",
       "</div>"
      ],
      "text/plain": [
       "Empty DataFrame\n",
       "Columns: [count]\n",
       "Index: []"
      ]
     },
     "metadata": {},
     "output_type": "display_data"
    },
    {
     "data": {
      "text/html": [
       "<span style=\"color: black;font-style:normal\"><br>Full rows with duplicates</span>"
      ],
      "text/plain": [
       "<IPython.core.display.HTML object>"
      ]
     },
     "metadata": {},
     "output_type": "display_data"
    },
    {
     "data": {
      "text/html": [
       "<div>\n",
       "<style scoped>\n",
       "    .dataframe tbody tr th:only-of-type {\n",
       "        vertical-align: middle;\n",
       "    }\n",
       "\n",
       "    .dataframe tbody tr th {\n",
       "        vertical-align: top;\n",
       "    }\n",
       "\n",
       "    .dataframe thead th {\n",
       "        text-align: right;\n",
       "    }\n",
       "</style>\n",
       "<table border=\"1\" class=\"dataframe\">\n",
       "  <thead>\n",
       "    <tr style=\"text-align: right;\">\n",
       "      <th></th>\n",
       "      <th>short-name</th>\n",
       "      <th>long-name</th>\n",
       "      <th>Sub-region Name</th>\n",
       "      <th>Region Name</th>\n",
       "      <th>tld</th>\n",
       "      <th>Sub-region Code</th>\n",
       "      <th>Region Code</th>\n",
       "      <th>M49 Code</th>\n",
       "      <th>ISO-alpha2 Code</th>\n",
       "      <th>ISO-alpha3 Code</th>\n",
       "    </tr>\n",
       "  </thead>\n",
       "  <tbody>\n",
       "  </tbody>\n",
       "</table>\n",
       "</div>"
      ],
      "text/plain": [
       "Empty DataFrame\n",
       "Columns: [short-name, long-name, Sub-region Name, Region Name, tld, Sub-region Code, Region Code, M49 Code, ISO-alpha2 Code, ISO-alpha3 Code]\n",
       "Index: []"
      ]
     },
     "metadata": {},
     "output_type": "display_data"
    }
   ],
   "source": [
    "write(\"Identifying duplicate rows:\",header=4,colour=\"blue\")\n",
    "look_for_duplicate_locations(locations_df)\n",
    "\n",
    "write(\"Manually correcting duplicates ...\",header=5,colour=\"red\")\n",
    "'''Do some manual correction of the short-names'''\n",
    "locations_df = manually_fix_location_short_names(locations_df)\n",
    "write(\"... completed\",header=5,colour=\"red\")\n",
    "write(\"Confirming there are no longer duplicate rows:\",header=4,colour=\"blue\")\n",
    "'''Look for duplicates again'''\n",
    "look_for_duplicate_locations(locations_df)\n"
   ]
  },
  {
   "cell_type": "markdown",
   "id": "87750825125f3c17",
   "metadata": {},
   "source": [
    "### Azure Region Dataset\n",
    "#### Load Data"
   ]
  },
  {
   "cell_type": "code",
   "execution_count": 22,
   "id": "f82358ccfc975853",
   "metadata": {},
   "outputs": [
    {
     "data": {
      "text/html": [
       "<span style=\"color: green;font-style:normal\"><br><h4>Starting Visual Check : Azure Region Dataset - pre-cleanup</h4></span>"
      ],
      "text/plain": [
       "<IPython.core.display.HTML object>"
      ]
     },
     "metadata": {},
     "output_type": "display_data"
    },
    {
     "data": {
      "text/html": [
       "<span style=\"color: black;font-style:normal\"><br>Check top 1 row(s), followed by a sample of 1 row(s) and then the bottom 1 row(s)</span>"
      ],
      "text/plain": [
       "<IPython.core.display.HTML object>"
      ]
     },
     "metadata": {},
     "output_type": "display_data"
    },
    {
     "data": {
      "text/html": [
       "<div>\n",
       "<style scoped>\n",
       "    .dataframe tbody tr th:only-of-type {\n",
       "        vertical-align: middle;\n",
       "    }\n",
       "\n",
       "    .dataframe tbody tr th {\n",
       "        vertical-align: top;\n",
       "    }\n",
       "\n",
       "    .dataframe thead th {\n",
       "        text-align: right;\n",
       "    }\n",
       "</style>\n",
       "<table border=\"1\" class=\"dataframe\">\n",
       "  <thead>\n",
       "    <tr style=\"text-align: right;\">\n",
       "      <th></th>\n",
       "      <th>Region</th>\n",
       "      <th>Availability zone support</th>\n",
       "      <th>Paired region</th>\n",
       "      <th>Physical location</th>\n",
       "      <th>Geography</th>\n",
       "    </tr>\n",
       "  </thead>\n",
       "  <tbody>\n",
       "    <tr>\n",
       "      <th>0</th>\n",
       "      <td>Australia Central</td>\n",
       "      <td>NaN</td>\n",
       "      <td>Australia Central 2</td>\n",
       "      <td>Canberra</td>\n",
       "      <td>Australia</td>\n",
       "    </tr>\n",
       "  </tbody>\n",
       "</table>\n",
       "</div>"
      ],
      "text/plain": [
       "              Region  Availability zone support        Paired region  \\\n",
       "0  Australia Central                        NaN  Australia Central 2   \n",
       "\n",
       "  Physical location  Geography  \n",
       "0          Canberra  Australia  "
      ]
     },
     "metadata": {},
     "output_type": "display_data"
    },
    {
     "data": {
      "text/html": [
       "<div>\n",
       "<style scoped>\n",
       "    .dataframe tbody tr th:only-of-type {\n",
       "        vertical-align: middle;\n",
       "    }\n",
       "\n",
       "    .dataframe tbody tr th {\n",
       "        vertical-align: top;\n",
       "    }\n",
       "\n",
       "    .dataframe thead th {\n",
       "        text-align: right;\n",
       "    }\n",
       "</style>\n",
       "<table border=\"1\" class=\"dataframe\">\n",
       "  <thead>\n",
       "    <tr style=\"text-align: right;\">\n",
       "      <th></th>\n",
       "      <th>Region</th>\n",
       "      <th>Availability zone support</th>\n",
       "      <th>Paired region</th>\n",
       "      <th>Physical location</th>\n",
       "      <th>Geography</th>\n",
       "    </tr>\n",
       "  </thead>\n",
       "  <tbody>\n",
       "    <tr>\n",
       "      <th>28</th>\n",
       "      <td>New Zealand North</td>\n",
       "      <td>NaN</td>\n",
       "      <td>NaN</td>\n",
       "      <td>Auckland</td>\n",
       "      <td>New Zealand</td>\n",
       "    </tr>\n",
       "  </tbody>\n",
       "</table>\n",
       "</div>"
      ],
      "text/plain": [
       "               Region  Availability zone support Paired region  \\\n",
       "28  New Zealand North                        NaN           NaN   \n",
       "\n",
       "   Physical location    Geography  \n",
       "28          Auckland  New Zealand  "
      ]
     },
     "metadata": {},
     "output_type": "display_data"
    },
    {
     "data": {
      "text/html": [
       "<div>\n",
       "<style scoped>\n",
       "    .dataframe tbody tr th:only-of-type {\n",
       "        vertical-align: middle;\n",
       "    }\n",
       "\n",
       "    .dataframe tbody tr th {\n",
       "        vertical-align: top;\n",
       "    }\n",
       "\n",
       "    .dataframe thead th {\n",
       "        text-align: right;\n",
       "    }\n",
       "</style>\n",
       "<table border=\"1\" class=\"dataframe\">\n",
       "  <thead>\n",
       "    <tr style=\"text-align: right;\">\n",
       "      <th></th>\n",
       "      <th>Region</th>\n",
       "      <th>Availability zone support</th>\n",
       "      <th>Paired region</th>\n",
       "      <th>Physical location</th>\n",
       "      <th>Geography</th>\n",
       "    </tr>\n",
       "  </thead>\n",
       "  <tbody>\n",
       "    <tr>\n",
       "      <th>53</th>\n",
       "      <td>West US 3</td>\n",
       "      <td>NaN</td>\n",
       "      <td>East US</td>\n",
       "      <td>Phoenix</td>\n",
       "      <td>United States</td>\n",
       "    </tr>\n",
       "  </tbody>\n",
       "</table>\n",
       "</div>"
      ],
      "text/plain": [
       "       Region  Availability zone support Paired region Physical location  \\\n",
       "53  West US 3                        NaN       East US           Phoenix   \n",
       "\n",
       "        Geography  \n",
       "53  United States  "
      ]
     },
     "metadata": {},
     "output_type": "display_data"
    },
    {
     "data": {
      "text/html": [
       "<span style=\"color: red;font-style:italic\"><br><h5>Ending Visual Check : Azure Region Dataset - pre-cleanup</h5></span>"
      ],
      "text/plain": [
       "<IPython.core.display.HTML object>"
      ]
     },
     "metadata": {},
     "output_type": "display_data"
    }
   ],
   "source": [
    "azure_region_df = azure_region_dataset()\n",
    "visual_check_dataframe(azure_region_df, \"Azure Region Dataset - pre-cleanup\", rows=1)"
   ]
  },
  {
   "cell_type": "markdown",
   "id": "65639474e404db0",
   "metadata": {},
   "source": [
    "#### Pre-processing of Azure region dataset"
   ]
  },
  {
   "cell_type": "code",
   "execution_count": 23,
   "id": "4bd08a835b158364",
   "metadata": {},
   "outputs": [
    {
     "data": {
      "text/html": [
       "<span style=\"color: green;font-style:normal\"><br><h4>Starting Visual Check : Azure Region Dataset - post cleanup</h4></span>"
      ],
      "text/plain": [
       "<IPython.core.display.HTML object>"
      ]
     },
     "metadata": {},
     "output_type": "display_data"
    },
    {
     "data": {
      "text/html": [
       "<span style=\"color: black;font-style:normal\"><br>Checking random sample of 3 rows</span>"
      ],
      "text/plain": [
       "<IPython.core.display.HTML object>"
      ]
     },
     "metadata": {},
     "output_type": "display_data"
    },
    {
     "data": {
      "text/html": [
       "<div>\n",
       "<style scoped>\n",
       "    .dataframe tbody tr th:only-of-type {\n",
       "        vertical-align: middle;\n",
       "    }\n",
       "\n",
       "    .dataframe tbody tr th {\n",
       "        vertical-align: top;\n",
       "    }\n",
       "\n",
       "    .dataframe thead th {\n",
       "        text-align: right;\n",
       "    }\n",
       "</style>\n",
       "<table border=\"1\" class=\"dataframe\">\n",
       "  <thead>\n",
       "    <tr style=\"text-align: right;\">\n",
       "      <th></th>\n",
       "      <th>cloud-region</th>\n",
       "      <th>Physical location</th>\n",
       "      <th>Geography</th>\n",
       "      <th>Locality</th>\n",
       "      <th>country</th>\n",
       "      <th>Subdivision</th>\n",
       "    </tr>\n",
       "  </thead>\n",
       "  <tbody>\n",
       "    <tr>\n",
       "      <th>53</th>\n",
       "      <td>westus3</td>\n",
       "      <td>Phoenix</td>\n",
       "      <td>United States</td>\n",
       "      <td></td>\n",
       "      <td></td>\n",
       "      <td></td>\n",
       "    </tr>\n",
       "    <tr>\n",
       "      <th>5</th>\n",
       "      <td>brazilsouth</td>\n",
       "      <td>Sao Paulo State</td>\n",
       "      <td>Brazil</td>\n",
       "      <td></td>\n",
       "      <td></td>\n",
       "      <td></td>\n",
       "    </tr>\n",
       "    <tr>\n",
       "      <th>34</th>\n",
       "      <td>qatarcentral</td>\n",
       "      <td>Doha</td>\n",
       "      <td>Qatar</td>\n",
       "      <td></td>\n",
       "      <td></td>\n",
       "      <td></td>\n",
       "    </tr>\n",
       "  </tbody>\n",
       "</table>\n",
       "</div>"
      ],
      "text/plain": [
       "    cloud-region Physical location      Geography Locality country Subdivision\n",
       "53       westus3           Phoenix  United States                             \n",
       "5    brazilsouth   Sao Paulo State         Brazil                             \n",
       "34  qatarcentral              Doha          Qatar                             "
      ]
     },
     "metadata": {},
     "output_type": "display_data"
    },
    {
     "data": {
      "text/html": [
       "<span style=\"color: red;font-style:italic\"><br><h5>Ending Visual Check : Azure Region Dataset - post cleanup</h5></span>"
      ],
      "text/plain": [
       "<IPython.core.display.HTML object>"
      ]
     },
     "metadata": {},
     "output_type": "display_data"
    }
   ],
   "source": [
    "azure_region_df = clean_azure_region_dataset(azure_region_df)\n",
    "visual_check_dataframe(azure_region_df, \"Azure Region Dataset - post cleanup\", sample_only=True)"
   ]
  },
  {
   "cell_type": "markdown",
   "id": "6aeaa299af559ca",
   "metadata": {},
   "source": [
    "### Google Region Datasset\n",
    "#### Load Data"
   ]
  },
  {
   "cell_type": "code",
   "execution_count": 24,
   "id": "3ba8c1c54689bfcd",
   "metadata": {},
   "outputs": [
    {
     "data": {
      "text/html": [
       "<span style=\"color: green;font-style:normal\"><br><h4>Starting Visual Check : Google Region Dataset - pre-cleanup</h4></span>"
      ],
      "text/plain": [
       "<IPython.core.display.HTML object>"
      ]
     },
     "metadata": {},
     "output_type": "display_data"
    },
    {
     "data": {
      "text/html": [
       "<span style=\"color: black;font-style:normal\"><br>Check top 1 row(s), followed by a sample of 1 row(s) and then the bottom 1 row(s)</span>"
      ],
      "text/plain": [
       "<IPython.core.display.HTML object>"
      ]
     },
     "metadata": {},
     "output_type": "display_data"
    },
    {
     "data": {
      "text/html": [
       "<div>\n",
       "<style scoped>\n",
       "    .dataframe tbody tr th:only-of-type {\n",
       "        vertical-align: middle;\n",
       "    }\n",
       "\n",
       "    .dataframe tbody tr th {\n",
       "        vertical-align: top;\n",
       "    }\n",
       "\n",
       "    .dataframe thead th {\n",
       "        text-align: right;\n",
       "    }\n",
       "</style>\n",
       "<table border=\"1\" class=\"dataframe\">\n",
       "  <thead>\n",
       "    <tr style=\"text-align: right;\">\n",
       "      <th></th>\n",
       "      <th>cloud-region</th>\n",
       "      <th>Physical location</th>\n",
       "      <th>Geography</th>\n",
       "      <th>Locality</th>\n",
       "      <th>country</th>\n",
       "      <th>Subdivision</th>\n",
       "    </tr>\n",
       "  </thead>\n",
       "  <tbody>\n",
       "    <tr>\n",
       "      <th>0</th>\n",
       "      <td>australiacentral</td>\n",
       "      <td>Canberra</td>\n",
       "      <td>Australia</td>\n",
       "      <td></td>\n",
       "      <td></td>\n",
       "      <td></td>\n",
       "    </tr>\n",
       "  </tbody>\n",
       "</table>\n",
       "</div>"
      ],
      "text/plain": [
       "       cloud-region Physical location  Geography Locality country Subdivision\n",
       "0  australiacentral          Canberra  Australia                             "
      ]
     },
     "metadata": {},
     "output_type": "display_data"
    },
    {
     "data": {
      "text/html": [
       "<div>\n",
       "<style scoped>\n",
       "    .dataframe tbody tr th:only-of-type {\n",
       "        vertical-align: middle;\n",
       "    }\n",
       "\n",
       "    .dataframe tbody tr th {\n",
       "        vertical-align: top;\n",
       "    }\n",
       "\n",
       "    .dataframe thead th {\n",
       "        text-align: right;\n",
       "    }\n",
       "</style>\n",
       "<table border=\"1\" class=\"dataframe\">\n",
       "  <thead>\n",
       "    <tr style=\"text-align: right;\">\n",
       "      <th></th>\n",
       "      <th>cloud-region</th>\n",
       "      <th>Physical location</th>\n",
       "      <th>Geography</th>\n",
       "      <th>Locality</th>\n",
       "      <th>country</th>\n",
       "      <th>Subdivision</th>\n",
       "    </tr>\n",
       "  </thead>\n",
       "  <tbody>\n",
       "    <tr>\n",
       "      <th>53</th>\n",
       "      <td>westus3</td>\n",
       "      <td>Phoenix</td>\n",
       "      <td>United States</td>\n",
       "      <td></td>\n",
       "      <td></td>\n",
       "      <td></td>\n",
       "    </tr>\n",
       "  </tbody>\n",
       "</table>\n",
       "</div>"
      ],
      "text/plain": [
       "   cloud-region Physical location      Geography Locality country Subdivision\n",
       "53      westus3           Phoenix  United States                             "
      ]
     },
     "metadata": {},
     "output_type": "display_data"
    },
    {
     "data": {
      "text/html": [
       "<div>\n",
       "<style scoped>\n",
       "    .dataframe tbody tr th:only-of-type {\n",
       "        vertical-align: middle;\n",
       "    }\n",
       "\n",
       "    .dataframe tbody tr th {\n",
       "        vertical-align: top;\n",
       "    }\n",
       "\n",
       "    .dataframe thead th {\n",
       "        text-align: right;\n",
       "    }\n",
       "</style>\n",
       "<table border=\"1\" class=\"dataframe\">\n",
       "  <thead>\n",
       "    <tr style=\"text-align: right;\">\n",
       "      <th></th>\n",
       "      <th>cloud-region</th>\n",
       "      <th>Physical location</th>\n",
       "      <th>Geography</th>\n",
       "      <th>Locality</th>\n",
       "      <th>country</th>\n",
       "      <th>Subdivision</th>\n",
       "    </tr>\n",
       "  </thead>\n",
       "  <tbody>\n",
       "    <tr>\n",
       "      <th>53</th>\n",
       "      <td>westus3</td>\n",
       "      <td>Phoenix</td>\n",
       "      <td>United States</td>\n",
       "      <td></td>\n",
       "      <td></td>\n",
       "      <td></td>\n",
       "    </tr>\n",
       "  </tbody>\n",
       "</table>\n",
       "</div>"
      ],
      "text/plain": [
       "   cloud-region Physical location      Geography Locality country Subdivision\n",
       "53      westus3           Phoenix  United States                             "
      ]
     },
     "metadata": {},
     "output_type": "display_data"
    },
    {
     "data": {
      "text/html": [
       "<span style=\"color: red;font-style:italic\"><br><h5>Ending Visual Check : Google Region Dataset - pre-cleanup</h5></span>"
      ],
      "text/plain": [
       "<IPython.core.display.HTML object>"
      ]
     },
     "metadata": {},
     "output_type": "display_data"
    }
   ],
   "source": [
    "google_region_df = get_google_region_dataset()\n",
    "visual_check_dataframe(azure_region_df, \"Google Region Dataset - pre-cleanup\", rows=1)"
   ]
  },
  {
   "cell_type": "markdown",
   "id": "a66172486ef1bef1",
   "metadata": {},
   "source": [
    "#### Pre-processing of Google region dataset"
   ]
  },
  {
   "cell_type": "code",
   "execution_count": 25,
   "id": "b6f769676b6fb697",
   "metadata": {},
   "outputs": [
    {
     "data": {
      "text/html": [
       "<span style=\"color: green;font-style:normal\"><br><h4>Starting Visual Check : Google Region Dataset - post cleanup</h4></span>"
      ],
      "text/plain": [
       "<IPython.core.display.HTML object>"
      ]
     },
     "metadata": {},
     "output_type": "display_data"
    },
    {
     "data": {
      "text/html": [
       "<span style=\"color: black;font-style:normal\"><br>Checking random sample of 5 rows</span>"
      ],
      "text/plain": [
       "<IPython.core.display.HTML object>"
      ]
     },
     "metadata": {},
     "output_type": "display_data"
    },
    {
     "data": {
      "text/html": [
       "<div>\n",
       "<style scoped>\n",
       "    .dataframe tbody tr th:only-of-type {\n",
       "        vertical-align: middle;\n",
       "    }\n",
       "\n",
       "    .dataframe tbody tr th {\n",
       "        vertical-align: top;\n",
       "    }\n",
       "\n",
       "    .dataframe thead th {\n",
       "        text-align: right;\n",
       "    }\n",
       "</style>\n",
       "<table border=\"1\" class=\"dataframe\">\n",
       "  <thead>\n",
       "    <tr style=\"text-align: right;\">\n",
       "      <th></th>\n",
       "      <th>Continent</th>\n",
       "      <th>country</th>\n",
       "      <th>cloud-region</th>\n",
       "      <th>Locality</th>\n",
       "      <th>Subdivision Code</th>\n",
       "      <th>Subdivision</th>\n",
       "    </tr>\n",
       "  </thead>\n",
       "  <tbody>\n",
       "    <tr>\n",
       "      <th>44</th>\n",
       "      <td>Asia</td>\n",
       "      <td>Taiwan</td>\n",
       "      <td>asia-east1</td>\n",
       "      <td>Yunlin County</td>\n",
       "      <td>None</td>\n",
       "      <td>None</td>\n",
       "    </tr>\n",
       "    <tr>\n",
       "      <th>41</th>\n",
       "      <td>Europe</td>\n",
       "      <td>Germany</td>\n",
       "      <td>europe-west10</td>\n",
       "      <td>Berlin</td>\n",
       "      <td>None</td>\n",
       "      <td>None</td>\n",
       "    </tr>\n",
       "    <tr>\n",
       "      <th>19</th>\n",
       "      <td>Europe</td>\n",
       "      <td>Spain</td>\n",
       "      <td>europe-southwest1</td>\n",
       "      <td>Madrid</td>\n",
       "      <td>None</td>\n",
       "      <td>None</td>\n",
       "    </tr>\n",
       "    <tr>\n",
       "      <th>12</th>\n",
       "      <td>Asia</td>\n",
       "      <td>Hong Kong</td>\n",
       "      <td>asia-east2</td>\n",
       "      <td>Hong Kong</td>\n",
       "      <td>None</td>\n",
       "      <td>None</td>\n",
       "    </tr>\n",
       "    <tr>\n",
       "      <th>1</th>\n",
       "      <td>South America</td>\n",
       "      <td>Chile</td>\n",
       "      <td>southamerica-west1</td>\n",
       "      <td>Cerrillos</td>\n",
       "      <td>None</td>\n",
       "      <td>Santiago</td>\n",
       "    </tr>\n",
       "  </tbody>\n",
       "</table>\n",
       "</div>"
      ],
      "text/plain": [
       "        Continent     country        cloud-region       Locality  \\\n",
       "44           Asia      Taiwan          asia-east1  Yunlin County   \n",
       "41         Europe     Germany       europe-west10         Berlin   \n",
       "19         Europe       Spain   europe-southwest1         Madrid   \n",
       "12           Asia   Hong Kong          asia-east2      Hong Kong   \n",
       "1   South America       Chile  southamerica-west1      Cerrillos   \n",
       "\n",
       "   Subdivision Code Subdivision  \n",
       "44             None        None  \n",
       "41             None        None  \n",
       "19             None        None  \n",
       "12             None        None  \n",
       "1              None    Santiago  "
      ]
     },
     "metadata": {},
     "output_type": "display_data"
    },
    {
     "data": {
      "text/html": [
       "<span style=\"color: red;font-style:italic\"><br><h5>Ending Visual Check : Google Region Dataset - post cleanup</h5></span>"
      ],
      "text/plain": [
       "<IPython.core.display.HTML object>"
      ]
     },
     "metadata": {},
     "output_type": "display_data"
    }
   ],
   "source": [
    "google_region_df = clean_google_region_dataset(google_region_df)\n",
    "visual_check_dataframe(google_region_df,\"Google Region Dataset - post cleanup\", rows=5,sample_only=True)"
   ]
  },
  {
   "cell_type": "markdown",
   "id": "38d10946f60b7d95",
   "metadata": {},
   "source": [
    "### AWS Region Dataset\n",
    "#### Load Data"
   ]
  },
  {
   "cell_type": "code",
   "execution_count": 26,
   "id": "3ef38f26d12b0acd",
   "metadata": {},
   "outputs": [
    {
     "data": {
      "text/html": [
       "<span style=\"color: green;font-style:normal\"><br><h4>Starting Visual Check : AWS Region Dataset - pre-cleanup</h4></span>"
      ],
      "text/plain": [
       "<IPython.core.display.HTML object>"
      ]
     },
     "metadata": {},
     "output_type": "display_data"
    },
    {
     "data": {
      "text/html": [
       "<span style=\"color: black;font-style:normal\"><br>Check top 1 row(s), followed by a sample of 1 row(s) and then the bottom 1 row(s)</span>"
      ],
      "text/plain": [
       "<IPython.core.display.HTML object>"
      ]
     },
     "metadata": {},
     "output_type": "display_data"
    },
    {
     "data": {
      "text/html": [
       "<div>\n",
       "<style scoped>\n",
       "    .dataframe tbody tr th:only-of-type {\n",
       "        vertical-align: middle;\n",
       "    }\n",
       "\n",
       "    .dataframe tbody tr th {\n",
       "        vertical-align: top;\n",
       "    }\n",
       "\n",
       "    .dataframe thead th {\n",
       "        text-align: right;\n",
       "    }\n",
       "</style>\n",
       "<table border=\"1\" class=\"dataframe\">\n",
       "  <thead>\n",
       "    <tr style=\"text-align: right;\">\n",
       "      <th></th>\n",
       "      <th>Code</th>\n",
       "      <th>Name</th>\n",
       "      <th>AZs</th>\n",
       "      <th>Geography</th>\n",
       "      <th>Opt-in status</th>\n",
       "    </tr>\n",
       "  </thead>\n",
       "  <tbody>\n",
       "    <tr>\n",
       "      <th>0</th>\n",
       "      <td>us-east-1</td>\n",
       "      <td>US East (N. Virginia)</td>\n",
       "      <td>6</td>\n",
       "      <td>United States of America</td>\n",
       "      <td>Not required</td>\n",
       "    </tr>\n",
       "  </tbody>\n",
       "</table>\n",
       "</div>"
      ],
      "text/plain": [
       "        Code                   Name AZs                 Geography  \\\n",
       "0  us-east-1  US East (N. Virginia)   6  United States of America   \n",
       "\n",
       "  Opt-in status  \n",
       "0  Not required  "
      ]
     },
     "metadata": {},
     "output_type": "display_data"
    },
    {
     "data": {
      "text/html": [
       "<div>\n",
       "<style scoped>\n",
       "    .dataframe tbody tr th:only-of-type {\n",
       "        vertical-align: middle;\n",
       "    }\n",
       "\n",
       "    .dataframe tbody tr th {\n",
       "        vertical-align: top;\n",
       "    }\n",
       "\n",
       "    .dataframe thead th {\n",
       "        text-align: right;\n",
       "    }\n",
       "</style>\n",
       "<table border=\"1\" class=\"dataframe\">\n",
       "  <thead>\n",
       "    <tr style=\"text-align: right;\">\n",
       "      <th></th>\n",
       "      <th>Code</th>\n",
       "      <th>Name</th>\n",
       "      <th>AZs</th>\n",
       "      <th>Geography</th>\n",
       "      <th>Opt-in status</th>\n",
       "    </tr>\n",
       "  </thead>\n",
       "  <tbody>\n",
       "    <tr>\n",
       "      <th>11</th>\n",
       "      <td>ap-northeast-3</td>\n",
       "      <td>Asia Pacific (Osaka)</td>\n",
       "      <td>3</td>\n",
       "      <td>Japan</td>\n",
       "      <td>Not required</td>\n",
       "    </tr>\n",
       "  </tbody>\n",
       "</table>\n",
       "</div>"
      ],
      "text/plain": [
       "              Code                  Name AZs Geography Opt-in status\n",
       "11  ap-northeast-3  Asia Pacific (Osaka)   3     Japan  Not required"
      ]
     },
     "metadata": {},
     "output_type": "display_data"
    },
    {
     "data": {
      "text/html": [
       "<div>\n",
       "<style scoped>\n",
       "    .dataframe tbody tr th:only-of-type {\n",
       "        vertical-align: middle;\n",
       "    }\n",
       "\n",
       "    .dataframe tbody tr th {\n",
       "        vertical-align: top;\n",
       "    }\n",
       "\n",
       "    .dataframe thead th {\n",
       "        text-align: right;\n",
       "    }\n",
       "</style>\n",
       "<table border=\"1\" class=\"dataframe\">\n",
       "  <thead>\n",
       "    <tr style=\"text-align: right;\">\n",
       "      <th></th>\n",
       "      <th>Code</th>\n",
       "      <th>Name</th>\n",
       "      <th>AZs</th>\n",
       "      <th>Geography</th>\n",
       "      <th>Opt-in status</th>\n",
       "    </tr>\n",
       "  </thead>\n",
       "  <tbody>\n",
       "    <tr>\n",
       "      <th>32</th>\n",
       "      <td>sa-east-1</td>\n",
       "      <td>South America (São Paulo)</td>\n",
       "      <td>3</td>\n",
       "      <td>Brazil</td>\n",
       "      <td>Not required</td>\n",
       "    </tr>\n",
       "  </tbody>\n",
       "</table>\n",
       "</div>"
      ],
      "text/plain": [
       "         Code                       Name AZs Geography Opt-in status\n",
       "32  sa-east-1  South America (São Paulo)   3    Brazil  Not required"
      ]
     },
     "metadata": {},
     "output_type": "display_data"
    },
    {
     "data": {
      "text/html": [
       "<span style=\"color: red;font-style:italic\"><br><h5>Ending Visual Check : AWS Region Dataset - pre-cleanup</h5></span>"
      ],
      "text/plain": [
       "<IPython.core.display.HTML object>"
      ]
     },
     "metadata": {},
     "output_type": "display_data"
    }
   ],
   "source": [
    "aws_region_df = get_aws_region_dataset()\n",
    "visual_check_dataframe(aws_region_df,\"AWS Region Dataset - pre-cleanup\", rows=1)"
   ]
  },
  {
   "cell_type": "markdown",
   "id": "a1d8fef75f4ae7ae",
   "metadata": {},
   "source": [
    "#### Pre-processing of AWS region dataset"
   ]
  },
  {
   "cell_type": "code",
   "execution_count": 27,
   "id": "40e07488dec2363b",
   "metadata": {},
   "outputs": [
    {
     "data": {
      "text/html": [
       "<span style=\"color: black;font-style:normal\"><br>Re-check AWS Region data once it's been cleaned</span>"
      ],
      "text/plain": [
       "<IPython.core.display.HTML object>"
      ]
     },
     "metadata": {},
     "output_type": "display_data"
    },
    {
     "data": {
      "text/html": [
       "<span style=\"color: green;font-style:normal\"><br><h4>Starting Visual Check : AWS Region Dataset : post-cleanup</h4></span>"
      ],
      "text/plain": [
       "<IPython.core.display.HTML object>"
      ]
     },
     "metadata": {},
     "output_type": "display_data"
    },
    {
     "data": {
      "text/html": [
       "<span style=\"color: black;font-style:normal\"><br>Checking random sample of 5 rows</span>"
      ],
      "text/plain": [
       "<IPython.core.display.HTML object>"
      ]
     },
     "metadata": {},
     "output_type": "display_data"
    },
    {
     "data": {
      "text/html": [
       "<div>\n",
       "<style scoped>\n",
       "    .dataframe tbody tr th:only-of-type {\n",
       "        vertical-align: middle;\n",
       "    }\n",
       "\n",
       "    .dataframe tbody tr th {\n",
       "        vertical-align: top;\n",
       "    }\n",
       "\n",
       "    .dataframe thead th {\n",
       "        text-align: right;\n",
       "    }\n",
       "</style>\n",
       "<table border=\"1\" class=\"dataframe\">\n",
       "  <thead>\n",
       "    <tr style=\"text-align: right;\">\n",
       "      <th></th>\n",
       "      <th>cloud-region</th>\n",
       "      <th>Name</th>\n",
       "      <th>AZs</th>\n",
       "      <th>Geography</th>\n",
       "    </tr>\n",
       "  </thead>\n",
       "  <tbody>\n",
       "    <tr>\n",
       "      <th>2</th>\n",
       "      <td>us-west-1</td>\n",
       "      <td>US West (N. California)</td>\n",
       "      <td>3 †</td>\n",
       "      <td>United States of America</td>\n",
       "    </tr>\n",
       "    <tr>\n",
       "      <th>20</th>\n",
       "      <td>eu-central-1</td>\n",
       "      <td>Europe (Frankfurt)</td>\n",
       "      <td>3</td>\n",
       "      <td>Germany</td>\n",
       "    </tr>\n",
       "    <tr>\n",
       "      <th>24</th>\n",
       "      <td>eu-west-3</td>\n",
       "      <td>Europe (Paris)</td>\n",
       "      <td>3</td>\n",
       "      <td>France</td>\n",
       "    </tr>\n",
       "    <tr>\n",
       "      <th>6</th>\n",
       "      <td>ap-south-2</td>\n",
       "      <td>Asia Pacific (Hyderabad)</td>\n",
       "      <td>3</td>\n",
       "      <td>India</td>\n",
       "    </tr>\n",
       "    <tr>\n",
       "      <th>15</th>\n",
       "      <td>ap-east-2</td>\n",
       "      <td>Asia Pacific (Taipei)</td>\n",
       "      <td>3</td>\n",
       "      <td>Taiwan</td>\n",
       "    </tr>\n",
       "  </tbody>\n",
       "</table>\n",
       "</div>"
      ],
      "text/plain": [
       "    cloud-region                      Name  AZs                 Geography\n",
       "2      us-west-1   US West (N. California)  3 †  United States of America\n",
       "20  eu-central-1        Europe (Frankfurt)    3                   Germany\n",
       "24     eu-west-3            Europe (Paris)    3                    France\n",
       "6     ap-south-2  Asia Pacific (Hyderabad)    3                     India\n",
       "15     ap-east-2     Asia Pacific (Taipei)    3                    Taiwan"
      ]
     },
     "metadata": {},
     "output_type": "display_data"
    },
    {
     "data": {
      "text/html": [
       "<span style=\"color: red;font-style:italic\"><br><h5>Ending Visual Check : AWS Region Dataset : post-cleanup</h5></span>"
      ],
      "text/plain": [
       "<IPython.core.display.HTML object>"
      ]
     },
     "metadata": {},
     "output_type": "display_data"
    }
   ],
   "source": [
    "aws_region_df = clean_aws_region_dataset(aws_region_df)\n",
    "write(\"Re-check AWS Region data once it's been cleaned\")\n",
    "visual_check_dataframe(aws_region_df, \"AWS Region Dataset : post-cleanup\",rows=5,sample_only=True)"
   ]
  },
  {
   "cell_type": "markdown",
   "id": "1cc836f0f7a64c17",
   "metadata": {},
   "source": [
    "#### Combine AWS region dataframe with locations dataframe\n",
    "The AWS region dataframe doesn't have full details of where the cloud dc is based.  So, we will combine it with the more comprehensive list compiled earlier\n",
    "##### Merge Data"
   ]
  },
  {
   "cell_type": "code",
   "execution_count": 28,
   "id": "66190e316d422b0c",
   "metadata": {},
   "outputs": [
    {
     "data": {
      "text/html": [
       "<span style=\"color: green;font-style:normal\"><br><h4>Starting Visual Check : AWS Regions combined with location</h4></span>"
      ],
      "text/plain": [
       "<IPython.core.display.HTML object>"
      ]
     },
     "metadata": {},
     "output_type": "display_data"
    },
    {
     "data": {
      "text/html": [
       "<span style=\"color: black;font-style:normal\"><br>Check top 5 row(s), followed by a sample of 5 row(s) and then the bottom 5 row(s)</span>"
      ],
      "text/plain": [
       "<IPython.core.display.HTML object>"
      ]
     },
     "metadata": {},
     "output_type": "display_data"
    },
    {
     "data": {
      "text/html": [
       "<div>\n",
       "<style scoped>\n",
       "    .dataframe tbody tr th:only-of-type {\n",
       "        vertical-align: middle;\n",
       "    }\n",
       "\n",
       "    .dataframe tbody tr th {\n",
       "        vertical-align: top;\n",
       "    }\n",
       "\n",
       "    .dataframe thead th {\n",
       "        text-align: right;\n",
       "    }\n",
       "</style>\n",
       "<table border=\"1\" class=\"dataframe\">\n",
       "  <thead>\n",
       "    <tr style=\"text-align: right;\">\n",
       "      <th></th>\n",
       "      <th>cloud-region</th>\n",
       "      <th>Name</th>\n",
       "      <th>AZs</th>\n",
       "      <th>Geography</th>\n",
       "      <th>short-name</th>\n",
       "      <th>long-name</th>\n",
       "      <th>Sub-region Name</th>\n",
       "      <th>Region Name</th>\n",
       "      <th>tld</th>\n",
       "      <th>Sub-region Code</th>\n",
       "      <th>Region Code</th>\n",
       "      <th>M49 Code</th>\n",
       "      <th>ISO-alpha2 Code</th>\n",
       "      <th>ISO-alpha3 Code</th>\n",
       "    </tr>\n",
       "  </thead>\n",
       "  <tbody>\n",
       "    <tr>\n",
       "      <th>0</th>\n",
       "      <td>us-east-1</td>\n",
       "      <td>US East (N. Virginia)</td>\n",
       "      <td>6</td>\n",
       "      <td>United States of America</td>\n",
       "      <td>NaN</td>\n",
       "      <td>NaN</td>\n",
       "      <td>NaN</td>\n",
       "      <td>NaN</td>\n",
       "      <td>NaN</td>\n",
       "      <td>NaN</td>\n",
       "      <td>NaN</td>\n",
       "      <td>NaN</td>\n",
       "      <td>NaN</td>\n",
       "      <td>NaN</td>\n",
       "    </tr>\n",
       "    <tr>\n",
       "      <th>1</th>\n",
       "      <td>us-east-2</td>\n",
       "      <td>US East (Ohio)</td>\n",
       "      <td>3</td>\n",
       "      <td>United States of America</td>\n",
       "      <td>NaN</td>\n",
       "      <td>NaN</td>\n",
       "      <td>NaN</td>\n",
       "      <td>NaN</td>\n",
       "      <td>NaN</td>\n",
       "      <td>NaN</td>\n",
       "      <td>NaN</td>\n",
       "      <td>NaN</td>\n",
       "      <td>NaN</td>\n",
       "      <td>NaN</td>\n",
       "    </tr>\n",
       "    <tr>\n",
       "      <th>2</th>\n",
       "      <td>us-west-1</td>\n",
       "      <td>US West (N. California)</td>\n",
       "      <td>3 †</td>\n",
       "      <td>United States of America</td>\n",
       "      <td>NaN</td>\n",
       "      <td>NaN</td>\n",
       "      <td>NaN</td>\n",
       "      <td>NaN</td>\n",
       "      <td>NaN</td>\n",
       "      <td>NaN</td>\n",
       "      <td>NaN</td>\n",
       "      <td>NaN</td>\n",
       "      <td>NaN</td>\n",
       "      <td>NaN</td>\n",
       "    </tr>\n",
       "    <tr>\n",
       "      <th>3</th>\n",
       "      <td>us-west-2</td>\n",
       "      <td>US West (Oregon)</td>\n",
       "      <td>4</td>\n",
       "      <td>United States of America</td>\n",
       "      <td>NaN</td>\n",
       "      <td>NaN</td>\n",
       "      <td>NaN</td>\n",
       "      <td>NaN</td>\n",
       "      <td>NaN</td>\n",
       "      <td>NaN</td>\n",
       "      <td>NaN</td>\n",
       "      <td>NaN</td>\n",
       "      <td>NaN</td>\n",
       "      <td>NaN</td>\n",
       "    </tr>\n",
       "    <tr>\n",
       "      <th>4</th>\n",
       "      <td>af-south-1</td>\n",
       "      <td>Africa (Cape Town)</td>\n",
       "      <td>3</td>\n",
       "      <td>South Africa</td>\n",
       "      <td>South Africa</td>\n",
       "      <td>South Africa</td>\n",
       "      <td>Sub-Saharan Africa</td>\n",
       "      <td>Africa</td>\n",
       "      <td>.za</td>\n",
       "      <td>202.0</td>\n",
       "      <td>2.0</td>\n",
       "      <td>710.0</td>\n",
       "      <td>ZA</td>\n",
       "      <td>ZAF</td>\n",
       "    </tr>\n",
       "  </tbody>\n",
       "</table>\n",
       "</div>"
      ],
      "text/plain": [
       "  cloud-region                     Name  AZs                 Geography  \\\n",
       "0    us-east-1    US East (N. Virginia)    6  United States of America   \n",
       "1    us-east-2           US East (Ohio)    3  United States of America   \n",
       "2    us-west-1  US West (N. California)  3 †  United States of America   \n",
       "3    us-west-2         US West (Oregon)    4  United States of America   \n",
       "4   af-south-1       Africa (Cape Town)    3              South Africa   \n",
       "\n",
       "     short-name     long-name     Sub-region Name Region Name  tld  \\\n",
       "0           NaN           NaN                 NaN         NaN  NaN   \n",
       "1           NaN           NaN                 NaN         NaN  NaN   \n",
       "2           NaN           NaN                 NaN         NaN  NaN   \n",
       "3           NaN           NaN                 NaN         NaN  NaN   \n",
       "4  South Africa  South Africa  Sub-Saharan Africa      Africa  .za   \n",
       "\n",
       "   Sub-region Code  Region Code  M49 Code ISO-alpha2 Code ISO-alpha3 Code  \n",
       "0              NaN          NaN       NaN             NaN             NaN  \n",
       "1              NaN          NaN       NaN             NaN             NaN  \n",
       "2              NaN          NaN       NaN             NaN             NaN  \n",
       "3              NaN          NaN       NaN             NaN             NaN  \n",
       "4            202.0          2.0     710.0              ZA             ZAF  "
      ]
     },
     "metadata": {},
     "output_type": "display_data"
    },
    {
     "data": {
      "text/html": [
       "<div>\n",
       "<style scoped>\n",
       "    .dataframe tbody tr th:only-of-type {\n",
       "        vertical-align: middle;\n",
       "    }\n",
       "\n",
       "    .dataframe tbody tr th {\n",
       "        vertical-align: top;\n",
       "    }\n",
       "\n",
       "    .dataframe thead th {\n",
       "        text-align: right;\n",
       "    }\n",
       "</style>\n",
       "<table border=\"1\" class=\"dataframe\">\n",
       "  <thead>\n",
       "    <tr style=\"text-align: right;\">\n",
       "      <th></th>\n",
       "      <th>cloud-region</th>\n",
       "      <th>Name</th>\n",
       "      <th>AZs</th>\n",
       "      <th>Geography</th>\n",
       "      <th>short-name</th>\n",
       "      <th>long-name</th>\n",
       "      <th>Sub-region Name</th>\n",
       "      <th>Region Name</th>\n",
       "      <th>tld</th>\n",
       "      <th>Sub-region Code</th>\n",
       "      <th>Region Code</th>\n",
       "      <th>M49 Code</th>\n",
       "      <th>ISO-alpha2 Code</th>\n",
       "      <th>ISO-alpha3 Code</th>\n",
       "    </tr>\n",
       "  </thead>\n",
       "  <tbody>\n",
       "    <tr>\n",
       "      <th>17</th>\n",
       "      <td>ap-northeast-1</td>\n",
       "      <td>Asia Pacific (Tokyo)</td>\n",
       "      <td>4</td>\n",
       "      <td>Japan</td>\n",
       "      <td>Japan</td>\n",
       "      <td>Japan</td>\n",
       "      <td>Eastern Asia</td>\n",
       "      <td>Asia</td>\n",
       "      <td>.jp</td>\n",
       "      <td>30.0</td>\n",
       "      <td>142.0</td>\n",
       "      <td>392.0</td>\n",
       "      <td>JP</td>\n",
       "      <td>JPN</td>\n",
       "    </tr>\n",
       "    <tr>\n",
       "      <th>22</th>\n",
       "      <td>eu-west-2</td>\n",
       "      <td>Europe (London)</td>\n",
       "      <td>3</td>\n",
       "      <td>United Kingdom</td>\n",
       "      <td>United Kingdom</td>\n",
       "      <td>United Kingdom of Great Britain and Northern I...</td>\n",
       "      <td>Northern Europe</td>\n",
       "      <td>Europe</td>\n",
       "      <td>.gb (.uk)</td>\n",
       "      <td>154.0</td>\n",
       "      <td>150.0</td>\n",
       "      <td>826.0</td>\n",
       "      <td>GB</td>\n",
       "      <td>GBR</td>\n",
       "    </tr>\n",
       "    <tr>\n",
       "      <th>8</th>\n",
       "      <td>ap-southeast-5</td>\n",
       "      <td>Asia Pacific (Malaysia)</td>\n",
       "      <td>3</td>\n",
       "      <td>Malaysia</td>\n",
       "      <td>Malaysia</td>\n",
       "      <td>Malaysia</td>\n",
       "      <td>South-eastern Asia</td>\n",
       "      <td>Asia</td>\n",
       "      <td>.my</td>\n",
       "      <td>35.0</td>\n",
       "      <td>142.0</td>\n",
       "      <td>458.0</td>\n",
       "      <td>MY</td>\n",
       "      <td>MYS</td>\n",
       "    </tr>\n",
       "    <tr>\n",
       "      <th>14</th>\n",
       "      <td>ap-southeast-2</td>\n",
       "      <td>Asia Pacific (Sydney)</td>\n",
       "      <td>3</td>\n",
       "      <td>Australia</td>\n",
       "      <td>Australia</td>\n",
       "      <td>Australia</td>\n",
       "      <td>Australia and New Zealand</td>\n",
       "      <td>Oceania</td>\n",
       "      <td>.au</td>\n",
       "      <td>53.0</td>\n",
       "      <td>9.0</td>\n",
       "      <td>36.0</td>\n",
       "      <td>AU</td>\n",
       "      <td>AUS</td>\n",
       "    </tr>\n",
       "    <tr>\n",
       "      <th>31</th>\n",
       "      <td>me-central-1</td>\n",
       "      <td>Middle East (UAE)</td>\n",
       "      <td>3</td>\n",
       "      <td>United Arab Emirates</td>\n",
       "      <td>United Arab Emirates</td>\n",
       "      <td>United Arab Emirates</td>\n",
       "      <td>Western Asia</td>\n",
       "      <td>Asia</td>\n",
       "      <td>.ae</td>\n",
       "      <td>145.0</td>\n",
       "      <td>142.0</td>\n",
       "      <td>784.0</td>\n",
       "      <td>AE</td>\n",
       "      <td>ARE</td>\n",
       "    </tr>\n",
       "  </tbody>\n",
       "</table>\n",
       "</div>"
      ],
      "text/plain": [
       "      cloud-region                     Name AZs             Geography  \\\n",
       "17  ap-northeast-1     Asia Pacific (Tokyo)   4                 Japan   \n",
       "22       eu-west-2          Europe (London)   3        United Kingdom   \n",
       "8   ap-southeast-5  Asia Pacific (Malaysia)   3              Malaysia   \n",
       "14  ap-southeast-2    Asia Pacific (Sydney)   3             Australia   \n",
       "31    me-central-1        Middle East (UAE)   3  United Arab Emirates   \n",
       "\n",
       "              short-name                                          long-name  \\\n",
       "17                 Japan                                              Japan   \n",
       "22        United Kingdom  United Kingdom of Great Britain and Northern I...   \n",
       "8               Malaysia                                           Malaysia   \n",
       "14             Australia                                          Australia   \n",
       "31  United Arab Emirates                               United Arab Emirates   \n",
       "\n",
       "              Sub-region Name Region Name        tld  Sub-region Code  \\\n",
       "17               Eastern Asia        Asia        .jp             30.0   \n",
       "22            Northern Europe      Europe  .gb (.uk)            154.0   \n",
       "8          South-eastern Asia        Asia        .my             35.0   \n",
       "14  Australia and New Zealand     Oceania        .au             53.0   \n",
       "31               Western Asia        Asia        .ae            145.0   \n",
       "\n",
       "    Region Code  M49 Code ISO-alpha2 Code ISO-alpha3 Code  \n",
       "17        142.0     392.0              JP             JPN  \n",
       "22        150.0     826.0              GB             GBR  \n",
       "8         142.0     458.0              MY             MYS  \n",
       "14          9.0      36.0              AU             AUS  \n",
       "31        142.0     784.0              AE             ARE  "
      ]
     },
     "metadata": {},
     "output_type": "display_data"
    },
    {
     "data": {
      "text/html": [
       "<div>\n",
       "<style scoped>\n",
       "    .dataframe tbody tr th:only-of-type {\n",
       "        vertical-align: middle;\n",
       "    }\n",
       "\n",
       "    .dataframe tbody tr th {\n",
       "        vertical-align: top;\n",
       "    }\n",
       "\n",
       "    .dataframe thead th {\n",
       "        text-align: right;\n",
       "    }\n",
       "</style>\n",
       "<table border=\"1\" class=\"dataframe\">\n",
       "  <thead>\n",
       "    <tr style=\"text-align: right;\">\n",
       "      <th></th>\n",
       "      <th>cloud-region</th>\n",
       "      <th>Name</th>\n",
       "      <th>AZs</th>\n",
       "      <th>Geography</th>\n",
       "      <th>short-name</th>\n",
       "      <th>long-name</th>\n",
       "      <th>Sub-region Name</th>\n",
       "      <th>Region Name</th>\n",
       "      <th>tld</th>\n",
       "      <th>Sub-region Code</th>\n",
       "      <th>Region Code</th>\n",
       "      <th>M49 Code</th>\n",
       "      <th>ISO-alpha2 Code</th>\n",
       "      <th>ISO-alpha3 Code</th>\n",
       "    </tr>\n",
       "  </thead>\n",
       "  <tbody>\n",
       "    <tr>\n",
       "      <th>28</th>\n",
       "      <td>il-central-1</td>\n",
       "      <td>Israel (Tel Aviv)</td>\n",
       "      <td>3</td>\n",
       "      <td>Israel</td>\n",
       "      <td>Israel</td>\n",
       "      <td>Israel</td>\n",
       "      <td>Western Asia</td>\n",
       "      <td>Asia</td>\n",
       "      <td>.il</td>\n",
       "      <td>145.0</td>\n",
       "      <td>142.0</td>\n",
       "      <td>376.0</td>\n",
       "      <td>IL</td>\n",
       "      <td>ISR</td>\n",
       "    </tr>\n",
       "    <tr>\n",
       "      <th>29</th>\n",
       "      <td>mx-central-1</td>\n",
       "      <td>Mexico (Central)</td>\n",
       "      <td>3</td>\n",
       "      <td>Mexico</td>\n",
       "      <td>Mexico</td>\n",
       "      <td>Mexico</td>\n",
       "      <td>Latin America and the Caribbean</td>\n",
       "      <td>Americas</td>\n",
       "      <td>.mx</td>\n",
       "      <td>419.0</td>\n",
       "      <td>19.0</td>\n",
       "      <td>484.0</td>\n",
       "      <td>MX</td>\n",
       "      <td>MEX</td>\n",
       "    </tr>\n",
       "    <tr>\n",
       "      <th>30</th>\n",
       "      <td>me-south-1</td>\n",
       "      <td>Middle East (Bahrain)</td>\n",
       "      <td>3</td>\n",
       "      <td>Bahrain</td>\n",
       "      <td>Bahrain</td>\n",
       "      <td>Bahrain</td>\n",
       "      <td>Western Asia</td>\n",
       "      <td>Asia</td>\n",
       "      <td>.bh</td>\n",
       "      <td>145.0</td>\n",
       "      <td>142.0</td>\n",
       "      <td>48.0</td>\n",
       "      <td>BH</td>\n",
       "      <td>BHR</td>\n",
       "    </tr>\n",
       "    <tr>\n",
       "      <th>31</th>\n",
       "      <td>me-central-1</td>\n",
       "      <td>Middle East (UAE)</td>\n",
       "      <td>3</td>\n",
       "      <td>United Arab Emirates</td>\n",
       "      <td>United Arab Emirates</td>\n",
       "      <td>United Arab Emirates</td>\n",
       "      <td>Western Asia</td>\n",
       "      <td>Asia</td>\n",
       "      <td>.ae</td>\n",
       "      <td>145.0</td>\n",
       "      <td>142.0</td>\n",
       "      <td>784.0</td>\n",
       "      <td>AE</td>\n",
       "      <td>ARE</td>\n",
       "    </tr>\n",
       "    <tr>\n",
       "      <th>32</th>\n",
       "      <td>sa-east-1</td>\n",
       "      <td>South America (São Paulo)</td>\n",
       "      <td>3</td>\n",
       "      <td>Brazil</td>\n",
       "      <td>Brazil</td>\n",
       "      <td>Brazil</td>\n",
       "      <td>Latin America and the Caribbean</td>\n",
       "      <td>Americas</td>\n",
       "      <td>.br</td>\n",
       "      <td>419.0</td>\n",
       "      <td>19.0</td>\n",
       "      <td>76.0</td>\n",
       "      <td>BR</td>\n",
       "      <td>BRA</td>\n",
       "    </tr>\n",
       "  </tbody>\n",
       "</table>\n",
       "</div>"
      ],
      "text/plain": [
       "    cloud-region                       Name AZs             Geography  \\\n",
       "28  il-central-1          Israel (Tel Aviv)   3                Israel   \n",
       "29  mx-central-1           Mexico (Central)   3                Mexico   \n",
       "30    me-south-1      Middle East (Bahrain)   3               Bahrain   \n",
       "31  me-central-1          Middle East (UAE)   3  United Arab Emirates   \n",
       "32     sa-east-1  South America (São Paulo)   3                Brazil   \n",
       "\n",
       "              short-name             long-name  \\\n",
       "28                Israel                Israel   \n",
       "29                Mexico                Mexico   \n",
       "30               Bahrain               Bahrain   \n",
       "31  United Arab Emirates  United Arab Emirates   \n",
       "32                Brazil                Brazil   \n",
       "\n",
       "                    Sub-region Name Region Name  tld  Sub-region Code  \\\n",
       "28                     Western Asia        Asia  .il            145.0   \n",
       "29  Latin America and the Caribbean    Americas  .mx            419.0   \n",
       "30                     Western Asia        Asia  .bh            145.0   \n",
       "31                     Western Asia        Asia  .ae            145.0   \n",
       "32  Latin America and the Caribbean    Americas  .br            419.0   \n",
       "\n",
       "    Region Code  M49 Code ISO-alpha2 Code ISO-alpha3 Code  \n",
       "28        142.0     376.0              IL             ISR  \n",
       "29         19.0     484.0              MX             MEX  \n",
       "30        142.0      48.0              BH             BHR  \n",
       "31        142.0     784.0              AE             ARE  \n",
       "32         19.0      76.0              BR             BRA  "
      ]
     },
     "metadata": {},
     "output_type": "display_data"
    },
    {
     "data": {
      "text/html": [
       "<span style=\"color: red;font-style:italic\"><br><h5>Ending Visual Check : AWS Regions combined with location</h5></span>"
      ],
      "text/plain": [
       "<IPython.core.display.HTML object>"
      ]
     },
     "metadata": {},
     "output_type": "display_data"
    },
    {
     "data": {
      "text/plain": [
       "'Unmerged Cloud Regions for AWS region combined with location dataset:'"
      ]
     },
     "metadata": {},
     "output_type": "display_data"
    },
    {
     "data": {
      "text/html": [
       "<div>\n",
       "<style scoped>\n",
       "    .dataframe tbody tr th:only-of-type {\n",
       "        vertical-align: middle;\n",
       "    }\n",
       "\n",
       "    .dataframe tbody tr th {\n",
       "        vertical-align: top;\n",
       "    }\n",
       "\n",
       "    .dataframe thead th {\n",
       "        text-align: right;\n",
       "    }\n",
       "</style>\n",
       "<table border=\"1\" class=\"dataframe\">\n",
       "  <thead>\n",
       "    <tr style=\"text-align: right;\">\n",
       "      <th></th>\n",
       "      <th>cloud-region</th>\n",
       "      <th>Geography</th>\n",
       "      <th>short-name</th>\n",
       "      <th>long-name</th>\n",
       "      <th>tld</th>\n",
       "      <th>Region Code</th>\n",
       "      <th>Region Name</th>\n",
       "    </tr>\n",
       "  </thead>\n",
       "  <tbody>\n",
       "    <tr>\n",
       "      <th>0</th>\n",
       "      <td>us-east-1</td>\n",
       "      <td>United States of America</td>\n",
       "      <td>NaN</td>\n",
       "      <td>NaN</td>\n",
       "      <td>NaN</td>\n",
       "      <td>NaN</td>\n",
       "      <td>NaN</td>\n",
       "    </tr>\n",
       "    <tr>\n",
       "      <th>1</th>\n",
       "      <td>us-east-2</td>\n",
       "      <td>United States of America</td>\n",
       "      <td>NaN</td>\n",
       "      <td>NaN</td>\n",
       "      <td>NaN</td>\n",
       "      <td>NaN</td>\n",
       "      <td>NaN</td>\n",
       "    </tr>\n",
       "    <tr>\n",
       "      <th>2</th>\n",
       "      <td>us-west-1</td>\n",
       "      <td>United States of America</td>\n",
       "      <td>NaN</td>\n",
       "      <td>NaN</td>\n",
       "      <td>NaN</td>\n",
       "      <td>NaN</td>\n",
       "      <td>NaN</td>\n",
       "    </tr>\n",
       "    <tr>\n",
       "      <th>3</th>\n",
       "      <td>us-west-2</td>\n",
       "      <td>United States of America</td>\n",
       "      <td>NaN</td>\n",
       "      <td>NaN</td>\n",
       "      <td>NaN</td>\n",
       "      <td>NaN</td>\n",
       "      <td>NaN</td>\n",
       "    </tr>\n",
       "  </tbody>\n",
       "</table>\n",
       "</div>"
      ],
      "text/plain": [
       "  cloud-region                 Geography short-name long-name  tld  \\\n",
       "0    us-east-1  United States of America        NaN       NaN  NaN   \n",
       "1    us-east-2  United States of America        NaN       NaN  NaN   \n",
       "2    us-west-1  United States of America        NaN       NaN  NaN   \n",
       "3    us-west-2  United States of America        NaN       NaN  NaN   \n",
       "\n",
       "   Region Code Region Name  \n",
       "0          NaN         NaN  \n",
       "1          NaN         NaN  \n",
       "2          NaN         NaN  \n",
       "3          NaN         NaN  "
      ]
     },
     "metadata": {},
     "output_type": "display_data"
    }
   ],
   "source": [
    "aws_combined_df = combine_cloud_region_details_with_location_info(aws_region_df)\n",
    "visual_check_dataframe(aws_combined_df,\"AWS Regions combined with location\",rows=5)\n",
    "'''Report AWS regions missing or incomplete country info'''\n",
    "unmerged_aws_cloud_regions = identify_cloud_regions_with_incomplete_country_info(aws_combined_df,\"AWS region combined with location dataset\")\n"
   ]
  },
  {
   "cell_type": "markdown",
   "id": "360a6ee1dbd9ca2f",
   "metadata": {},
   "source": [
    "#### Resolve unmmerged records for combined AWS region & locations dataset\n",
    "Get a list of all country-or-area names from the locations dataset"
   ]
  },
  {
   "cell_type": "code",
   "execution_count": 29,
   "id": "695c1717752b3e2",
   "metadata": {},
   "outputs": [
    {
     "data": {
      "text/html": [
       "<span style=\"color: blue;font-style:normal\"><br><h4>CHecking first 5 entries of the country list</h4></span>"
      ],
      "text/plain": [
       "<IPython.core.display.HTML object>"
      ]
     },
     "metadata": {},
     "output_type": "display_data"
    },
    {
     "data": {
      "text/plain": [
       "['Andorra',\n",
       " 'United Arab Emirates',\n",
       " 'Afghanistan',\n",
       " 'Antigua and Barbuda',\n",
       " 'Anguilla']"
      ]
     },
     "execution_count": 29,
     "metadata": {},
     "output_type": "execute_result"
    }
   ],
   "source": [
    "country_list = locations_df['short-name'].tolist()\n",
    "write(\"CHecking first 5 entries of the country list\",header=4,colour=\"blue\")\n",
    "country_list[0:5]"
   ]
  },
  {
   "cell_type": "markdown",
   "id": "ccfb0d0293843934",
   "metadata": {},
   "source": [
    "Try and do a fuzzy filter to match the country names"
   ]
  },
  {
   "cell_type": "code",
   "execution_count": 30,
   "id": "73f4f4b33282037b",
   "metadata": {},
   "outputs": [
    {
     "data": {
      "text/html": [
       "<div>\n",
       "<style scoped>\n",
       "    .dataframe tbody tr th:only-of-type {\n",
       "        vertical-align: middle;\n",
       "    }\n",
       "\n",
       "    .dataframe tbody tr th {\n",
       "        vertical-align: top;\n",
       "    }\n",
       "\n",
       "    .dataframe thead th {\n",
       "        text-align: right;\n",
       "    }\n",
       "</style>\n",
       "<table border=\"1\" class=\"dataframe\">\n",
       "  <thead>\n",
       "    <tr style=\"text-align: right;\">\n",
       "      <th></th>\n",
       "      <th>cloud-region</th>\n",
       "      <th>Geography</th>\n",
       "      <th>fuzzy_country_match</th>\n",
       "      <th>fuzzy_similarity</th>\n",
       "    </tr>\n",
       "  </thead>\n",
       "  <tbody>\n",
       "    <tr>\n",
       "      <th>0</th>\n",
       "      <td>us-east-1</td>\n",
       "      <td>United States of America</td>\n",
       "      <td>United States</td>\n",
       "      <td>100.0</td>\n",
       "    </tr>\n",
       "    <tr>\n",
       "      <th>1</th>\n",
       "      <td>us-east-2</td>\n",
       "      <td>United States of America</td>\n",
       "      <td>United States</td>\n",
       "      <td>100.0</td>\n",
       "    </tr>\n",
       "    <tr>\n",
       "      <th>2</th>\n",
       "      <td>us-west-1</td>\n",
       "      <td>United States of America</td>\n",
       "      <td>United States</td>\n",
       "      <td>100.0</td>\n",
       "    </tr>\n",
       "    <tr>\n",
       "      <th>3</th>\n",
       "      <td>us-west-2</td>\n",
       "      <td>United States of America</td>\n",
       "      <td>United States</td>\n",
       "      <td>100.0</td>\n",
       "    </tr>\n",
       "  </tbody>\n",
       "</table>\n",
       "</div>"
      ],
      "text/plain": [
       "  cloud-region                 Geography fuzzy_country_match  fuzzy_similarity\n",
       "0    us-east-1  United States of America       United States             100.0\n",
       "1    us-east-2  United States of America       United States             100.0\n",
       "2    us-west-1  United States of America       United States             100.0\n",
       "3    us-west-2  United States of America       United States             100.0"
      ]
     },
     "metadata": {},
     "output_type": "display_data"
    }
   ],
   "source": [
    "results = run_fuzzy_search_against_previously_unmerged_rows(\n",
    "    input_df=aws_combined_df,\n",
    "    unmerged_regions=unmerged_aws_cloud_regions,\n",
    "    match_on='Geography',\n",
    "    country_list=country_list)\n",
    "\n",
    "'''Display results of match'''\n",
    "display(results['top_matches'])"
   ]
  },
  {
   "cell_type": "markdown",
   "id": "28e2b99e5d0751ae",
   "metadata": {},
   "source": [
    "The matches above all look ok, with 100% similarity.\n",
    "We can be sure if we look at other potential matches;"
   ]
  },
  {
   "cell_type": "code",
   "execution_count": 31,
   "id": "ee7d7277bd615e94",
   "metadata": {},
   "outputs": [
    {
     "data": {
      "text/html": [
       "<span style=\"color: blue;font-style:normal\"><br><h3>Potential matches for : United States of America</h3></span>"
      ],
      "text/plain": [
       "<IPython.core.display.HTML object>"
      ]
     },
     "metadata": {},
     "output_type": "display_data"
    },
    {
     "data": {
      "text/html": [
       "<div>\n",
       "<style scoped>\n",
       "    .dataframe tbody tr th:only-of-type {\n",
       "        vertical-align: middle;\n",
       "    }\n",
       "\n",
       "    .dataframe tbody tr th {\n",
       "        vertical-align: top;\n",
       "    }\n",
       "\n",
       "    .dataframe thead th {\n",
       "        text-align: right;\n",
       "    }\n",
       "</style>\n",
       "<table border=\"1\" class=\"dataframe\">\n",
       "  <thead>\n",
       "    <tr style=\"text-align: right;\">\n",
       "      <th></th>\n",
       "      <th>similarity</th>\n",
       "    </tr>\n",
       "  </thead>\n",
       "  <tbody>\n",
       "    <tr>\n",
       "      <th>United States</th>\n",
       "      <td>100.000000</td>\n",
       "    </tr>\n",
       "    <tr>\n",
       "      <th>United States Minor Outlying Islands</th>\n",
       "      <td>75.000000</td>\n",
       "    </tr>\n",
       "    <tr>\n",
       "      <th>Serbia</th>\n",
       "      <td>72.727273</td>\n",
       "    </tr>\n",
       "    <tr>\n",
       "      <th>Armenia</th>\n",
       "      <td>71.428571</td>\n",
       "    </tr>\n",
       "    <tr>\n",
       "      <th>Algeria</th>\n",
       "      <td>71.428571</td>\n",
       "    </tr>\n",
       "  </tbody>\n",
       "</table>\n",
       "</div>"
      ],
      "text/plain": [
       "                                      similarity\n",
       "United States                         100.000000\n",
       "United States Minor Outlying Islands   75.000000\n",
       "Serbia                                 72.727273\n",
       "Armenia                                71.428571\n",
       "Algeria                                71.428571"
      ]
     },
     "metadata": {},
     "output_type": "display_data"
    }
   ],
   "source": [
    "show_potential_matches_for_countries(unmerged_aws_cloud_regions)"
   ]
  },
  {
   "cell_type": "markdown",
   "id": "447b3cab-1259-4791-b122-7262adf269b5",
   "metadata": {},
   "source": [
    "Above we can see that while the 2nd-5th choices do somewhat match, if only by a few letter, the most accurate country selection by far is the first one"
   ]
  },
  {
   "cell_type": "code",
   "execution_count": null,
   "id": "63c37a34-7548-4b37-87f1-6fac9c68a052",
   "metadata": {},
   "outputs": [],
   "source": []
  }
 ],
 "metadata": {
  "kernelspec": {
   "display_name": "Python 3 (ipykernel)",
   "language": "python",
   "name": "python3"
  },
  "language_info": {
   "codemirror_mode": {
    "name": "ipython",
    "version": 3
   },
   "file_extension": ".py",
   "mimetype": "text/x-python",
   "name": "python",
   "nbconvert_exporter": "python",
   "pygments_lexer": "ipython3",
   "version": "3.12.7"
  }
 },
 "nbformat": 4,
 "nbformat_minor": 5
}
