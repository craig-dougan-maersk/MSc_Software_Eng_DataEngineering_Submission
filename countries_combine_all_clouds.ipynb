{
 "cells": [
  {
   "metadata": {
    "ExecuteTime": {
     "end_time": "2025-07-20T16:04:25.390791Z",
     "start_time": "2025-07-20T16:04:23.343636Z"
    }
   },
   "cell_type": "code",
   "source": [
    "'''Install pre-req modules'''\n",
    "!pip install lxml pandas rapidfuzz ipython plotly"
   ],
   "id": "64906b68635dd4de",
   "outputs": [
    {
     "name": "stdout",
     "output_type": "stream",
     "text": [
      "Requirement already satisfied: lxml in c:\\users\\craig\\pycharmprojects\\msc_software_eng_dataengineering_submission\\.venv\\lib\\site-packages (6.0.0)\n",
      "Requirement already satisfied: pandas in c:\\users\\craig\\pycharmprojects\\msc_software_eng_dataengineering_submission\\.venv\\lib\\site-packages (2.3.1)\n",
      "Requirement already satisfied: rapidfuzz in c:\\users\\craig\\pycharmprojects\\msc_software_eng_dataengineering_submission\\.venv\\lib\\site-packages (3.13.0)\n",
      "Requirement already satisfied: ipython in c:\\users\\craig\\pycharmprojects\\msc_software_eng_dataengineering_submission\\.venv\\lib\\site-packages (9.4.0)\n",
      "Requirement already satisfied: plotly in c:\\users\\craig\\pycharmprojects\\msc_software_eng_dataengineering_submission\\.venv\\lib\\site-packages (6.2.0)\n",
      "Requirement already satisfied: numpy>=1.26.0 in c:\\users\\craig\\pycharmprojects\\msc_software_eng_dataengineering_submission\\.venv\\lib\\site-packages (from pandas) (2.3.1)\n",
      "Requirement already satisfied: python-dateutil>=2.8.2 in c:\\users\\craig\\pycharmprojects\\msc_software_eng_dataengineering_submission\\.venv\\lib\\site-packages (from pandas) (2.9.0.post0)\n",
      "Requirement already satisfied: pytz>=2020.1 in c:\\users\\craig\\pycharmprojects\\msc_software_eng_dataengineering_submission\\.venv\\lib\\site-packages (from pandas) (2025.2)\n",
      "Requirement already satisfied: tzdata>=2022.7 in c:\\users\\craig\\pycharmprojects\\msc_software_eng_dataengineering_submission\\.venv\\lib\\site-packages (from pandas) (2025.2)\n",
      "Requirement already satisfied: colorama in c:\\users\\craig\\pycharmprojects\\msc_software_eng_dataengineering_submission\\.venv\\lib\\site-packages (from ipython) (0.4.6)\n",
      "Requirement already satisfied: decorator in c:\\users\\craig\\pycharmprojects\\msc_software_eng_dataengineering_submission\\.venv\\lib\\site-packages (from ipython) (5.2.1)\n",
      "Requirement already satisfied: ipython-pygments-lexers in c:\\users\\craig\\pycharmprojects\\msc_software_eng_dataengineering_submission\\.venv\\lib\\site-packages (from ipython) (1.1.1)\n",
      "Requirement already satisfied: jedi>=0.16 in c:\\users\\craig\\pycharmprojects\\msc_software_eng_dataengineering_submission\\.venv\\lib\\site-packages (from ipython) (0.19.2)\n",
      "Requirement already satisfied: matplotlib-inline in c:\\users\\craig\\pycharmprojects\\msc_software_eng_dataengineering_submission\\.venv\\lib\\site-packages (from ipython) (0.1.7)\n",
      "Requirement already satisfied: prompt_toolkit<3.1.0,>=3.0.41 in c:\\users\\craig\\pycharmprojects\\msc_software_eng_dataengineering_submission\\.venv\\lib\\site-packages (from ipython) (3.0.51)\n",
      "Requirement already satisfied: pygments>=2.4.0 in c:\\users\\craig\\pycharmprojects\\msc_software_eng_dataengineering_submission\\.venv\\lib\\site-packages (from ipython) (2.19.2)\n",
      "Requirement already satisfied: stack_data in c:\\users\\craig\\pycharmprojects\\msc_software_eng_dataengineering_submission\\.venv\\lib\\site-packages (from ipython) (0.6.3)\n",
      "Requirement already satisfied: traitlets>=5.13.0 in c:\\users\\craig\\pycharmprojects\\msc_software_eng_dataengineering_submission\\.venv\\lib\\site-packages (from ipython) (5.14.3)\n",
      "Requirement already satisfied: wcwidth in c:\\users\\craig\\pycharmprojects\\msc_software_eng_dataengineering_submission\\.venv\\lib\\site-packages (from prompt_toolkit<3.1.0,>=3.0.41->ipython) (0.2.13)\n",
      "Requirement already satisfied: narwhals>=1.15.1 in c:\\users\\craig\\pycharmprojects\\msc_software_eng_dataengineering_submission\\.venv\\lib\\site-packages (from plotly) (1.47.1)\n",
      "Requirement already satisfied: packaging in c:\\users\\craig\\pycharmprojects\\msc_software_eng_dataengineering_submission\\.venv\\lib\\site-packages (from plotly) (25.0)\n",
      "Requirement already satisfied: parso<0.9.0,>=0.8.4 in c:\\users\\craig\\pycharmprojects\\msc_software_eng_dataengineering_submission\\.venv\\lib\\site-packages (from jedi>=0.16->ipython) (0.8.4)\n",
      "Requirement already satisfied: six>=1.5 in c:\\users\\craig\\pycharmprojects\\msc_software_eng_dataengineering_submission\\.venv\\lib\\site-packages (from python-dateutil>=2.8.2->pandas) (1.17.0)\n",
      "Requirement already satisfied: executing>=1.2.0 in c:\\users\\craig\\pycharmprojects\\msc_software_eng_dataengineering_submission\\.venv\\lib\\site-packages (from stack_data->ipython) (2.2.0)\n",
      "Requirement already satisfied: asttokens>=2.1.0 in c:\\users\\craig\\pycharmprojects\\msc_software_eng_dataengineering_submission\\.venv\\lib\\site-packages (from stack_data->ipython) (3.0.0)\n",
      "Requirement already satisfied: pure-eval in c:\\users\\craig\\pycharmprojects\\msc_software_eng_dataengineering_submission\\.venv\\lib\\site-packages (from stack_data->ipython) (0.2.3)\n"
     ]
    }
   ],
   "execution_count": 5
  },
  {
   "metadata": {},
   "cell_type": "markdown",
   "source": "## Import Modules",
   "id": "cbadb374d46be276"
  },
  {
   "metadata": {
    "ExecuteTime": {
     "end_time": "2025-07-20T16:04:30.398443Z",
     "start_time": "2025-07-20T16:04:30.391219Z"
    }
   },
   "cell_type": "code",
   "source": [
    "import pandas as pd\n",
    "import plotly.express as px\n",
    "from rapidfuzz import process, fuzz\n",
    "from IPython.display import display, HTML"
   ],
   "id": "d84eec87373a76a8",
   "outputs": [],
   "execution_count": 6
  },
  {
   "metadata": {},
   "cell_type": "markdown",
   "source": [
    "## Custom Functions\n",
    "### Display Functions"
   ],
   "id": "24e6ec1e228bdbf1"
  },
  {
   "metadata": {
    "ExecuteTime": {
     "end_time": "2025-07-20T16:04:33.223337Z",
     "start_time": "2025-07-20T16:04:33.209751Z"
    }
   },
   "cell_type": "code",
   "source": [
    "def write(text,colour='black',style='normal',header=0):\n",
    "    htag=dict()\n",
    "    if header > 0:\n",
    "        htag['open'] = f\"<h{header}>\"\n",
    "        htag['close'] = f\"</h{header}>\"\n",
    "    else:\n",
    "        htag['open'] =  htag['close'] = \"\"\n",
    "    display(HTML(f'<span style=\"color: {colour};font-style:{style}\"><br>{htag['open']}{text}{htag['close']}</span>'))\n",
    "\n",
    "def visual_check_dataframe(input_df,dataset_name,rows=3,sample_only=False):\n",
    "    '''Run some visual checks on dataframe so we can see how it looks'''\n",
    "    write(f\"Starting Visual Check : {dataset_name}\",'green',header=4)\n",
    "    if not sample_only:\n",
    "        write(f'Check top {rows} row(s), followed by a sample of {rows} row(s) and then the bottom {rows} row(s)')\n",
    "        display(input_df.head(rows))\n",
    "    if sample_only: write(f'Checking random sample of {rows} rows')\n",
    "    display(input_df.sample(rows))\n",
    "    if not sample_only:\n",
    "        display(input_df.tail(rows))\n",
    "    write(f\"Ending Visual Check : {dataset_name}\",'red',style='italic',header=5)"
   ],
   "id": "b7ec8c98647fd217",
   "outputs": [],
   "execution_count": 7
  },
  {
   "metadata": {},
   "cell_type": "markdown",
   "source": [
    "### Data Import Functions\n",
    "#### Functions for importing supplementary Datasets providing additional geoographic information"
   ],
   "id": "3b45b41065987438"
  },
  {
   "metadata": {
    "ExecuteTime": {
     "end_time": "2025-07-20T16:04:36.708938Z",
     "start_time": "2025-07-20T16:04:36.699202Z"
    }
   },
   "cell_type": "code",
   "source": [
    "def get_us_state_abbreviation_dataset_from_web():\n",
    "    output_df = pd.read_html('https://en.wikipedia.org/wiki/List_of_states_and_territories_of_the_United_States')[1]\n",
    "    return output_df\n",
    "\n",
    "def get_tld_country_dataset():\n",
    "    '''Retrieve all TLD country data from Wikipedia'''\n",
    "    wiki_page = \"https://en.wikipedia.org/wiki/ISO_3166-1_alpha-2\"\n",
    "    output_df = pd.read_html(wiki_page)[4]\n",
    "    return output_df\n",
    "\n",
    "def get_m49_country_dataset():\n",
    "    #https://unstats.un.org/unsd/methodology/m49/overview/#\n",
    "    output_df = pd.read_csv('imported-datasets/UNSD — Methodology.csv', sep=';')\n",
    "    return output_df"
   ],
   "id": "cfb7f7250e25bbb6",
   "outputs": [],
   "execution_count": 8
  },
  {
   "metadata": {},
   "cell_type": "markdown",
   "source": "#### Functions for importing supplementary Datasets providing location detail for Cloud provider Datacentres",
   "id": "87df22137205058a"
  },
  {
   "metadata": {
    "ExecuteTime": {
     "end_time": "2025-07-20T16:04:39.832289Z",
     "start_time": "2025-07-20T16:04:39.824123Z"
    }
   },
   "cell_type": "code",
   "source": [
    "def get_aws_region_dataset():\n",
    "    output_df = pd.read_html('https://docs.aws.amazon.com/global-infrastructure/latest/regions/aws-regions.html')[0]\n",
    "    return output_df\n",
    "\n",
    "def azure_region_dataset():\n",
    "    output_df = pd.read_html(\"https://learn.microsoft.com/en-us/azure/reliability/regions-list\")\n",
    "    return output_df[1]\n",
    "\n",
    "def get_google_region_dataset():\n",
    "    output_df = pd.read_html('https://en.wikipedia.org/wiki/Google_data_centers')[1]\n",
    "    return output_df"
   ],
   "id": "fb3013417c172d2",
   "outputs": [],
   "execution_count": 9
  },
  {
   "metadata": {},
   "cell_type": "markdown",
   "source": [
    "### Data Cleansing/Sanitizing Functions\n",
    "#### Functions for cleansing of supplementary Datasets providing additional geographic information"
   ],
   "id": "e39e539ea861adc1"
  },
  {
   "metadata": {
    "ExecuteTime": {
     "end_time": "2025-07-20T17:00:24.650328Z",
     "start_time": "2025-07-20T17:00:24.638690Z"
    }
   },
   "cell_type": "code",
   "source": [
    "def clean_us_state_abbreviation_dataset(input_df):\n",
    "    output_df = input_df.copy()\n",
    "    '''Drop everything after first two columns'''\n",
    "    output_df.drop(columns=[output_df.columns[i] for i in range(2,len(output_df.columns))], inplace=True)\n",
    "    '''Set columns to something easier'''\n",
    "    output_df.columns=['County','County Code']\n",
    "    '''Some entries like Virginia have a [B] on the end due to weblinks from being imported from webpage'''\n",
    "    output_df['County'] = output_df['County'].str.replace(r'\\[[A-Z]+\\]$', '', regex=True)\n",
    "    return output_df\n",
    "\n",
    "def clean_tld_country_data(input_df):\n",
    "    output_df = input_df.copy()\n",
    "    columns_to_drop = ['Year','Notes']\n",
    "    columns_to_rename = {'Code': 'A2 Code', 'ccTLD':'tld'}\n",
    "    output_df.drop(columns=columns_to_drop, inplace=True)\n",
    "    output_df.rename(columns=columns_to_rename, inplace=True)\n",
    "    return output_df\n",
    "\n",
    "def clean_m49_country_data(input_df):\n",
    "    output_df = input_df.copy()\n",
    "    columns_to_drop = [\n",
    "        'Global Code',\n",
    "        'Global Name',\n",
    "        'Land Locked Developing Countries (LLDC)',\n",
    "        'Least Developed Countries (LDC)',\n",
    "        'Small Island Developing States (SIDS)',\n",
    "        'Intermediate Region Code',\n",
    "        'Intermediate Region Name',]\n",
    "    output_df.drop(columns=columns_to_drop,inplace=True)\n",
    "    return output_df\n",
    "\n"
   ],
   "id": "6cfbf94608eb6478",
   "outputs": [],
   "execution_count": 24
  },
  {
   "metadata": {},
   "cell_type": "markdown",
   "source": "#### Functions for cleansing of supplementary Datasets providing location detail for Cloud provider Datacentres",
   "id": "4e05e3c7bd285cb2"
  },
  {
   "metadata": {
    "ExecuteTime": {
     "end_time": "2025-07-20T16:04:49.623267Z",
     "start_time": "2025-07-20T16:04:49.603387Z"
    }
   },
   "cell_type": "code",
   "source": [
    "def clean_aws_region_dataset(input_df):\n",
    "    columns_to_rename = { 'Code': 'Cloud Region' }\n",
    "    output_df = input_df.copy().rename(columns=columns_to_rename)\n",
    "    return output_df\n",
    "\n",
    "def clean_azure_region_dataset(input_df):\n",
    "    columns_to_drop = ['Availability zone support','Paired region']\n",
    "    columns_to_rename = {'Region':'cloud-region'}\n",
    "    '''Drop columns we don't need'''\n",
    "    output_df = input_df.copy().drop(columns_to_drop, axis=1)\n",
    "    '''Set cloud region column name to match our master datasets\n",
    "       then remove all spaces from the entries, and convert to\n",
    "       lowercase, so the content matches too'''\n",
    "    output_df.rename(columns=columns_to_rename, inplace=True)\n",
    "    output_df['cloud-region'] = output_df.apply(\n",
    "        lambda row: row['cloud-region'].lower().replace(\" \", \"\"), axis=1)\n",
    "    output_df['Locality'] = output_df['country'] = output_df['Subdivision'] = \"\"\n",
    "    return output_df\n",
    "\n",
    "def clean_google_region_dataset(input_df,us_states_df):\n",
    "    columns_to_drop = ['Geo','Timeline','Description','Products Location']\n",
    "    output_df = input_df.copy().drop(columns=columns_to_drop)\n",
    "\n",
    "    '''Some entries in Location have the reference number link from the webpage applied to\n",
    "   the end of the name - e.g. Germany[61].   Use a regex to remove this;\n",
    "   replace any substring that contains left & right square brackets, surrounding\n",
    "   one or more numbers'''\n",
    "    output_df['Location'] = output_df['Location'].str.replace(r'\\[\\d+\\]$', '', regex=True)\n",
    "\n",
    "    '''Extract the country from the end of the location cells'''\n",
    "    output_df['country'] = output_df.apply(lambda row: row['Location'].split(',')[-1], axis=1)\n",
    "\n",
    "    '''Remove rows where cloud location is null or a hyphen as there is no DC there'''\n",
    "    output_df = output_df[output_df['Cloud Location'].notnull()]\n",
    "    output_df = output_df[output_df['Cloud Location'] != \"-\"]\n",
    "\n",
    "    '''Extract the Cloud Region from Cloud Location'''\n",
    "    output_df['Cloud Region'] = output_df.apply(\n",
    "        lambda row: row['Cloud Location'].split('(')[-1].split(')')[0], axis=1)\n",
    "\n",
    "    '''Extract Locality from Location'''\n",
    "    output_df['Locality'] = output_df.apply(\n",
    "        lambda row: row['Location'].split(',')[0], axis=1)\n",
    "\n",
    "    '''Extract subdivision code (county/province) from Locality'''\n",
    "    output_df['Subdivision Code'] = output_df.apply(\n",
    "        lambda row: row['Locality'].split('(')[-1].strip(')') if '(' in str(row['Locality']) else None, axis=1)\n",
    "\n",
    "    '''Extract subdivision name (county/province) from Location'''\n",
    "    output_df['Subdivision'] = output_df.apply(\n",
    "        lambda row: row['Location'].split(',')[1].strip() if str(row['Location']).count(',') >= 2 else None, axis=1)\n",
    "\n",
    "    '''Remove the subdivision code from locality now we have it in our own column\n",
    "       - use regex to find a space, then left bracket, followed by 2 instances of letters,\n",
    "       followed by a right bracket and the end of the string - then remove this'''\n",
    "    output_df['Locality'] = output_df['Locality'].str.replace(r' \\([A-Z]{2}\\)$', '', regex=True)\n",
    "\n",
    "    '''After creating new columns based on the values of others, we can now drop the\n",
    "       original source columns as we don't need them'''\n",
    "    output_df.drop(columns=['Location','Cloud Location'], inplace=True)\n",
    "\n",
    "    '''Match the Subdivision Code from the list of US state abbreviations'''\n",
    "    output_df = output_df.merge(\n",
    "        us_states_df,\n",
    "        left_on='Subdivision Code',\n",
    "        right_on='County Code',\n",
    "        how='left')\n",
    "\n",
    "    output_df['Subdivision'] = output_df['Subdivision'].combine_first(output_df['County'])\n",
    "\n",
    "    return output_df"
   ],
   "id": "9877caf8754cde26",
   "outputs": [],
   "execution_count": 11
  },
  {
   "metadata": {},
   "cell_type": "markdown",
   "source": [
    "### Data Merging Functions\n",
    "#### Merging Dataframes"
   ],
   "id": "31c74a7ebddc06ff"
  },
  {
   "metadata": {
    "ExecuteTime": {
     "end_time": "2025-07-20T16:04:57.313079Z",
     "start_time": "2025-07-20T16:04:57.296039Z"
    }
   },
   "cell_type": "code",
   "source": [
    "def merge_two_datasets(input_df1, input_df2, left,right,method='left'):\n",
    "    output_df = pd.merge(input_df1, input_df2, left_on=left, right_on=right, how=method)\n",
    "    output_df.fillna(0, inplace=True)\n",
    "    return output_df\n",
    "\n",
    "def merge_tld_and_m49_datasets(input_df_left, input_df_right):\n",
    "    output_df = merge_two_datasets(input_df_left, input_df_right, 'A2 Code', 'ISO-alpha2 Code')\n",
    "    output_df = output_df.astype(\n",
    "        {'M49 Code': int,\n",
    "         'Sub-region Code': int,\n",
    "         'Region Code': int})\n",
    "    return output_df"
   ],
   "id": "a596d3c843add7b5",
   "outputs": [],
   "execution_count": 12
  },
  {
   "metadata": {},
   "cell_type": "markdown",
   "source": "#### Functions for cleansing of merged supplementary Datasets",
   "id": "438fa90e3ad61ee1"
  },
  {
   "metadata": {
    "ExecuteTime": {
     "end_time": "2025-07-20T16:05:01.703007Z",
     "start_time": "2025-07-20T16:05:01.694940Z"
    }
   },
   "cell_type": "code",
   "source": [
    "def cleanup_combined_tld_m49_dataset(input_df):\n",
    "    output_df = input_df.copy()\n",
    "    '''Check that every entry has a 'Country or Area' entry as this comes from the m49 dataset'''\n",
    "    display(print(\"Country or area that is null:\"))\n",
    "    display(output_df[output_df['Country or Area'].isnull()])\n",
    "    display(\"Country or area that is set to zero:\")\n",
    "    display(output_df[output_df['Country or Area'] == 0])\n",
    "    display(\"Country or Area cell which is set to int type;\")\n",
    "    display(output_df[\n",
    "        output_df['Country or Area'].apply(lambda x: isinstance(x, int))\n",
    "    ])\n",
    "    write(\"Taiwan is the only Country without an entry in the M49 - there are political reasons for this.  For now, we will correct this by assigning the Country name to the Country and Area name\")\n",
    "\n",
    "    '''Use conditional to find any rows that have Country or Area set to 0'''\n",
    "\n",
    "    output_df.loc[\n",
    "        output_df['Country or Area'] == 0,\n",
    "        'Country or Area'\n",
    "        ] = output_df.loc[\n",
    "                output_df['Country or Area'] == 0,\n",
    "                'Country name (using title case)'\n",
    "                ]\n",
    "    display(\"Country or area that is set to zero:\")\n",
    "    display(output_df[output_df['Country or Area'] == 0])\n",
    "    display(\"Check Taiwan specifically :\")\n",
    "    display(output_df[output_df['A2 Code'] == 'TW'])"
   ],
   "id": "eb05a0d9d7a357fb",
   "outputs": [],
   "execution_count": 13
  },
  {
   "metadata": {},
   "cell_type": "markdown",
   "source": [
    "## Load Datasets\n",
    "We have a number of datasets to load in here, some containing the actual data we want, and some used for sanitizing our data or adding additional context\n",
    "\n",
    "### Supplementary Datasets\n",
    "\n",
    "* Top Level Domain (TLD) listing by Country, from wikipedia\n",
    "* M49 \"Standard country or area codes for statistical use\" dataset from the United Nations Statistics Division (UNSD)\n",
    "* American States abbreviation codes to name mapping from wikipedia\n",
    "* AWS Cloud Region names to location mapping from Amazons online documentation\n",
    "* Google cloud Region names to location mapping from wikipedia\n",
    "\n",
    "### Main Datasets"
   ],
   "id": "897aa8473200db9e"
  },
  {
   "cell_type": "code",
   "id": "923ded83bdaa8828",
   "metadata": {
    "ExecuteTime": {
     "end_time": "2025-07-20T11:31:35.605719Z",
     "start_time": "2025-07-20T11:31:34.281980Z"
    }
   },
   "source": [
    "\n",
    "aws_region_df = get_aws_region_dataset()\n",
    "\n",
    "azure_df = azure_region_dataset()\n",
    "azure_df = clean_azure_region_dataset(azure_df)\n",
    "google_region_df = get_google_region_dataset()\n",
    "google_region_df = clean_google_region_dataset(google_region_df,usa_states_df)"
   ],
   "outputs": [],
   "execution_count": 62
  },
  {
   "metadata": {},
   "cell_type": "markdown",
   "source": "## Supplementary Datasets",
   "id": "f6cf32dece871d4d"
  },
  {
   "metadata": {},
   "cell_type": "markdown",
   "source": [
    "### USA States Abbreviation Code Dataset\n",
    "#### Load in Data"
   ],
   "id": "9220f0c940822fa8"
  },
  {
   "metadata": {
    "ExecuteTime": {
     "end_time": "2025-07-20T16:23:27.463137Z",
     "start_time": "2025-07-20T16:23:27.204098Z"
    }
   },
   "cell_type": "code",
   "source": [
    "usa_states_df = get_us_state_abbreviation_dataset_from_web()\n",
    "visual_check_dataframe(usa_states_df,\"USA State Code Dataset\", rows=1)"
   ],
   "id": "21e310d45d1948bc",
   "outputs": [
    {
     "data": {
      "text/plain": [
       "<IPython.core.display.HTML object>"
      ],
      "text/html": [
       "<span style=\"color: green;font-style:normal\"><br><h4>Starting Visual Check : USA State Code Dataset</h4></span>"
      ]
     },
     "metadata": {},
     "output_type": "display_data"
    },
    {
     "data": {
      "text/plain": [
       "<IPython.core.display.HTML object>"
      ],
      "text/html": [
       "<span style=\"color: black;font-style:normal\"><br>Check top 1 row(s), followed by a sample of 1 row(s) and then the bottom 1 row(s)</span>"
      ]
     },
     "metadata": {},
     "output_type": "display_data"
    },
    {
     "data": {
      "text/plain": [
       "  Flag, name and postal abbreviation[8]  \\\n",
       "  Flag, name and postal abbreviation[8]   \n",
       "0                               Alabama   \n",
       "\n",
       "                                               Cities              \\\n",
       "  Flag, name and postal abbreviation[8].1     Capital Largest[12]   \n",
       "0                                      AL  Montgomery  Huntsville   \n",
       "\n",
       "  Ratification or admission[A] Population (2020)[10] Total area[11]          \\\n",
       "  Ratification or admission[A] Population (2020)[10]            mi2     km2   \n",
       "0                 Dec 14, 1819               5024279          52420  135767   \n",
       "\n",
       "  Reps.  \n",
       "  Reps.  \n",
       "0     7  "
      ],
      "text/html": [
       "<div>\n",
       "<style scoped>\n",
       "    .dataframe tbody tr th:only-of-type {\n",
       "        vertical-align: middle;\n",
       "    }\n",
       "\n",
       "    .dataframe tbody tr th {\n",
       "        vertical-align: top;\n",
       "    }\n",
       "\n",
       "    .dataframe thead tr th {\n",
       "        text-align: left;\n",
       "    }\n",
       "</style>\n",
       "<table border=\"1\" class=\"dataframe\">\n",
       "  <thead>\n",
       "    <tr>\n",
       "      <th></th>\n",
       "      <th colspan=\"2\" halign=\"left\">Flag, name and postal abbreviation[8]</th>\n",
       "      <th colspan=\"2\" halign=\"left\">Cities</th>\n",
       "      <th>Ratification or admission[A]</th>\n",
       "      <th>Population (2020)[10]</th>\n",
       "      <th colspan=\"2\" halign=\"left\">Total area[11]</th>\n",
       "      <th>Reps.</th>\n",
       "    </tr>\n",
       "    <tr>\n",
       "      <th></th>\n",
       "      <th>Flag, name and postal abbreviation[8]</th>\n",
       "      <th>Flag, name and postal abbreviation[8].1</th>\n",
       "      <th>Capital</th>\n",
       "      <th>Largest[12]</th>\n",
       "      <th>Ratification or admission[A]</th>\n",
       "      <th>Population (2020)[10]</th>\n",
       "      <th>mi2</th>\n",
       "      <th>km2</th>\n",
       "      <th>Reps.</th>\n",
       "    </tr>\n",
       "  </thead>\n",
       "  <tbody>\n",
       "    <tr>\n",
       "      <th>0</th>\n",
       "      <td>Alabama</td>\n",
       "      <td>AL</td>\n",
       "      <td>Montgomery</td>\n",
       "      <td>Huntsville</td>\n",
       "      <td>Dec 14, 1819</td>\n",
       "      <td>5024279</td>\n",
       "      <td>52420</td>\n",
       "      <td>135767</td>\n",
       "      <td>7</td>\n",
       "    </tr>\n",
       "  </tbody>\n",
       "</table>\n",
       "</div>"
      ]
     },
     "metadata": {},
     "output_type": "display_data"
    },
    {
     "data": {
      "text/plain": [
       "   Flag, name and postal abbreviation[8]  \\\n",
       "   Flag, name and postal abbreviation[8]   \n",
       "29                            New Jersey   \n",
       "\n",
       "                                             Cities              \\\n",
       "   Flag, name and postal abbreviation[8].1  Capital Largest[12]   \n",
       "29                                      NJ  Trenton      Newark   \n",
       "\n",
       "   Ratification or admission[A] Population (2020)[10] Total area[11]         \\\n",
       "   Ratification or admission[A] Population (2020)[10]            mi2    km2   \n",
       "29                 Dec 18, 1787               9288994           8723  22591   \n",
       "\n",
       "   Reps.  \n",
       "   Reps.  \n",
       "29    12  "
      ],
      "text/html": [
       "<div>\n",
       "<style scoped>\n",
       "    .dataframe tbody tr th:only-of-type {\n",
       "        vertical-align: middle;\n",
       "    }\n",
       "\n",
       "    .dataframe tbody tr th {\n",
       "        vertical-align: top;\n",
       "    }\n",
       "\n",
       "    .dataframe thead tr th {\n",
       "        text-align: left;\n",
       "    }\n",
       "</style>\n",
       "<table border=\"1\" class=\"dataframe\">\n",
       "  <thead>\n",
       "    <tr>\n",
       "      <th></th>\n",
       "      <th colspan=\"2\" halign=\"left\">Flag, name and postal abbreviation[8]</th>\n",
       "      <th colspan=\"2\" halign=\"left\">Cities</th>\n",
       "      <th>Ratification or admission[A]</th>\n",
       "      <th>Population (2020)[10]</th>\n",
       "      <th colspan=\"2\" halign=\"left\">Total area[11]</th>\n",
       "      <th>Reps.</th>\n",
       "    </tr>\n",
       "    <tr>\n",
       "      <th></th>\n",
       "      <th>Flag, name and postal abbreviation[8]</th>\n",
       "      <th>Flag, name and postal abbreviation[8].1</th>\n",
       "      <th>Capital</th>\n",
       "      <th>Largest[12]</th>\n",
       "      <th>Ratification or admission[A]</th>\n",
       "      <th>Population (2020)[10]</th>\n",
       "      <th>mi2</th>\n",
       "      <th>km2</th>\n",
       "      <th>Reps.</th>\n",
       "    </tr>\n",
       "  </thead>\n",
       "  <tbody>\n",
       "    <tr>\n",
       "      <th>29</th>\n",
       "      <td>New Jersey</td>\n",
       "      <td>NJ</td>\n",
       "      <td>Trenton</td>\n",
       "      <td>Newark</td>\n",
       "      <td>Dec 18, 1787</td>\n",
       "      <td>9288994</td>\n",
       "      <td>8723</td>\n",
       "      <td>22591</td>\n",
       "      <td>12</td>\n",
       "    </tr>\n",
       "  </tbody>\n",
       "</table>\n",
       "</div>"
      ]
     },
     "metadata": {},
     "output_type": "display_data"
    },
    {
     "data": {
      "text/plain": [
       "   Flag, name and postal abbreviation[8]  \\\n",
       "   Flag, name and postal abbreviation[8]   \n",
       "49                               Wyoming   \n",
       "\n",
       "                                              Cities              \\\n",
       "   Flag, name and postal abbreviation[8].1   Capital Largest[12]   \n",
       "49                                      WY  Cheyenne    Cheyenne   \n",
       "\n",
       "   Ratification or admission[A] Population (2020)[10] Total area[11]          \\\n",
       "   Ratification or admission[A] Population (2020)[10]            mi2     km2   \n",
       "49                 Jul 10, 1890                576851          97813  253335   \n",
       "\n",
       "   Reps.  \n",
       "   Reps.  \n",
       "49     1  "
      ],
      "text/html": [
       "<div>\n",
       "<style scoped>\n",
       "    .dataframe tbody tr th:only-of-type {\n",
       "        vertical-align: middle;\n",
       "    }\n",
       "\n",
       "    .dataframe tbody tr th {\n",
       "        vertical-align: top;\n",
       "    }\n",
       "\n",
       "    .dataframe thead tr th {\n",
       "        text-align: left;\n",
       "    }\n",
       "</style>\n",
       "<table border=\"1\" class=\"dataframe\">\n",
       "  <thead>\n",
       "    <tr>\n",
       "      <th></th>\n",
       "      <th colspan=\"2\" halign=\"left\">Flag, name and postal abbreviation[8]</th>\n",
       "      <th colspan=\"2\" halign=\"left\">Cities</th>\n",
       "      <th>Ratification or admission[A]</th>\n",
       "      <th>Population (2020)[10]</th>\n",
       "      <th colspan=\"2\" halign=\"left\">Total area[11]</th>\n",
       "      <th>Reps.</th>\n",
       "    </tr>\n",
       "    <tr>\n",
       "      <th></th>\n",
       "      <th>Flag, name and postal abbreviation[8]</th>\n",
       "      <th>Flag, name and postal abbreviation[8].1</th>\n",
       "      <th>Capital</th>\n",
       "      <th>Largest[12]</th>\n",
       "      <th>Ratification or admission[A]</th>\n",
       "      <th>Population (2020)[10]</th>\n",
       "      <th>mi2</th>\n",
       "      <th>km2</th>\n",
       "      <th>Reps.</th>\n",
       "    </tr>\n",
       "  </thead>\n",
       "  <tbody>\n",
       "    <tr>\n",
       "      <th>49</th>\n",
       "      <td>Wyoming</td>\n",
       "      <td>WY</td>\n",
       "      <td>Cheyenne</td>\n",
       "      <td>Cheyenne</td>\n",
       "      <td>Jul 10, 1890</td>\n",
       "      <td>576851</td>\n",
       "      <td>97813</td>\n",
       "      <td>253335</td>\n",
       "      <td>1</td>\n",
       "    </tr>\n",
       "  </tbody>\n",
       "</table>\n",
       "</div>"
      ]
     },
     "metadata": {},
     "output_type": "display_data"
    },
    {
     "data": {
      "text/plain": [
       "<IPython.core.display.HTML object>"
      ],
      "text/html": [
       "<span style=\"color: red;font-style:italic\"><br><h5>Ending Visual Check : USA State Code Dataset</h5></span>"
      ]
     },
     "metadata": {},
     "output_type": "display_data"
    }
   ],
   "execution_count": 16
  },
  {
   "metadata": {},
   "cell_type": "markdown",
   "source": "#### Pre-processing of USA State Code dataset",
   "id": "1a3d68ae2f6c1f97"
  },
  {
   "metadata": {
    "ExecuteTime": {
     "end_time": "2025-07-20T16:23:37.703163Z",
     "start_time": "2025-07-20T16:23:37.656919Z"
    }
   },
   "cell_type": "code",
   "source": [
    "usa_states_df = clean_us_state_abbreviation_dataset(usa_states_df)\n",
    "visual_check_dataframe(usa_states_df,\"USA State Code Dataset\", rows=1)"
   ],
   "id": "b2f690da608270c1",
   "outputs": [
    {
     "data": {
      "text/plain": [
       "<IPython.core.display.HTML object>"
      ],
      "text/html": [
       "<span style=\"color: green;font-style:normal\"><br><h4>Starting Visual Check : USA State Code Dataset</h4></span>"
      ]
     },
     "metadata": {},
     "output_type": "display_data"
    },
    {
     "data": {
      "text/plain": [
       "<IPython.core.display.HTML object>"
      ],
      "text/html": [
       "<span style=\"color: black;font-style:normal\"><br>Check top 1 row(s), followed by a sample of 1 row(s) and then the bottom 1 row(s)</span>"
      ]
     },
     "metadata": {},
     "output_type": "display_data"
    },
    {
     "data": {
      "text/plain": [
       "    County County Code\n",
       "0  Alabama          AL"
      ],
      "text/html": [
       "<div>\n",
       "<style scoped>\n",
       "    .dataframe tbody tr th:only-of-type {\n",
       "        vertical-align: middle;\n",
       "    }\n",
       "\n",
       "    .dataframe tbody tr th {\n",
       "        vertical-align: top;\n",
       "    }\n",
       "\n",
       "    .dataframe thead th {\n",
       "        text-align: right;\n",
       "    }\n",
       "</style>\n",
       "<table border=\"1\" class=\"dataframe\">\n",
       "  <thead>\n",
       "    <tr style=\"text-align: right;\">\n",
       "      <th></th>\n",
       "      <th>County</th>\n",
       "      <th>County Code</th>\n",
       "    </tr>\n",
       "  </thead>\n",
       "  <tbody>\n",
       "    <tr>\n",
       "      <th>0</th>\n",
       "      <td>Alabama</td>\n",
       "      <td>AL</td>\n",
       "    </tr>\n",
       "  </tbody>\n",
       "</table>\n",
       "</div>"
      ]
     },
     "metadata": {},
     "output_type": "display_data"
    },
    {
     "data": {
      "text/plain": [
       "      County County Code\n",
       "24  Missouri          MO"
      ],
      "text/html": [
       "<div>\n",
       "<style scoped>\n",
       "    .dataframe tbody tr th:only-of-type {\n",
       "        vertical-align: middle;\n",
       "    }\n",
       "\n",
       "    .dataframe tbody tr th {\n",
       "        vertical-align: top;\n",
       "    }\n",
       "\n",
       "    .dataframe thead th {\n",
       "        text-align: right;\n",
       "    }\n",
       "</style>\n",
       "<table border=\"1\" class=\"dataframe\">\n",
       "  <thead>\n",
       "    <tr style=\"text-align: right;\">\n",
       "      <th></th>\n",
       "      <th>County</th>\n",
       "      <th>County Code</th>\n",
       "    </tr>\n",
       "  </thead>\n",
       "  <tbody>\n",
       "    <tr>\n",
       "      <th>24</th>\n",
       "      <td>Missouri</td>\n",
       "      <td>MO</td>\n",
       "    </tr>\n",
       "  </tbody>\n",
       "</table>\n",
       "</div>"
      ]
     },
     "metadata": {},
     "output_type": "display_data"
    },
    {
     "data": {
      "text/plain": [
       "     County County Code\n",
       "49  Wyoming          WY"
      ],
      "text/html": [
       "<div>\n",
       "<style scoped>\n",
       "    .dataframe tbody tr th:only-of-type {\n",
       "        vertical-align: middle;\n",
       "    }\n",
       "\n",
       "    .dataframe tbody tr th {\n",
       "        vertical-align: top;\n",
       "    }\n",
       "\n",
       "    .dataframe thead th {\n",
       "        text-align: right;\n",
       "    }\n",
       "</style>\n",
       "<table border=\"1\" class=\"dataframe\">\n",
       "  <thead>\n",
       "    <tr style=\"text-align: right;\">\n",
       "      <th></th>\n",
       "      <th>County</th>\n",
       "      <th>County Code</th>\n",
       "    </tr>\n",
       "  </thead>\n",
       "  <tbody>\n",
       "    <tr>\n",
       "      <th>49</th>\n",
       "      <td>Wyoming</td>\n",
       "      <td>WY</td>\n",
       "    </tr>\n",
       "  </tbody>\n",
       "</table>\n",
       "</div>"
      ]
     },
     "metadata": {},
     "output_type": "display_data"
    },
    {
     "data": {
      "text/plain": [
       "<IPython.core.display.HTML object>"
      ],
      "text/html": [
       "<span style=\"color: red;font-style:italic\"><br><h5>Ending Visual Check : USA State Code Dataset</h5></span>"
      ]
     },
     "metadata": {},
     "output_type": "display_data"
    }
   ],
   "execution_count": 17
  },
  {
   "metadata": {},
   "cell_type": "markdown",
   "source": [
    "### TLD Dataset\n",
    "#### Load in Data"
   ],
   "id": "d27007aa09eb7b2e"
  },
  {
   "metadata": {
    "ExecuteTime": {
     "end_time": "2025-07-20T16:39:54.338071Z",
     "start_time": "2025-07-20T16:39:53.963706Z"
    }
   },
   "cell_type": "code",
   "source": [
    "tld_df = get_tld_country_dataset()\n",
    "visual_check_dataframe(tld_df,\"TLD pre-cleanup\", rows=1)"
   ],
   "id": "f36a040978e2e5c6",
   "outputs": [
    {
     "data": {
      "text/plain": [
       "<IPython.core.display.HTML object>"
      ],
      "text/html": [
       "<span style=\"color: green;font-style:normal\"><br><h4>Starting Visual Check : TLD pre-cleanup</h4></span>"
      ]
     },
     "metadata": {},
     "output_type": "display_data"
    },
    {
     "data": {
      "text/plain": [
       "<IPython.core.display.HTML object>"
      ],
      "text/html": [
       "<span style=\"color: black;font-style:normal\"><br>Check top 1 row(s), followed by a sample of 1 row(s) and then the bottom 1 row(s)</span>"
      ]
     },
     "metadata": {},
     "output_type": "display_data"
    },
    {
     "data": {
      "text/plain": [
       "  Code Country name (using title case)  Year ccTLD Notes\n",
       "0   AD                         Andorra  1974   .ad   NaN"
      ],
      "text/html": [
       "<div>\n",
       "<style scoped>\n",
       "    .dataframe tbody tr th:only-of-type {\n",
       "        vertical-align: middle;\n",
       "    }\n",
       "\n",
       "    .dataframe tbody tr th {\n",
       "        vertical-align: top;\n",
       "    }\n",
       "\n",
       "    .dataframe thead th {\n",
       "        text-align: right;\n",
       "    }\n",
       "</style>\n",
       "<table border=\"1\" class=\"dataframe\">\n",
       "  <thead>\n",
       "    <tr style=\"text-align: right;\">\n",
       "      <th></th>\n",
       "      <th>Code</th>\n",
       "      <th>Country name (using title case)</th>\n",
       "      <th>Year</th>\n",
       "      <th>ccTLD</th>\n",
       "      <th>Notes</th>\n",
       "    </tr>\n",
       "  </thead>\n",
       "  <tbody>\n",
       "    <tr>\n",
       "      <th>0</th>\n",
       "      <td>AD</td>\n",
       "      <td>Andorra</td>\n",
       "      <td>1974</td>\n",
       "      <td>.ad</td>\n",
       "      <td>NaN</td>\n",
       "    </tr>\n",
       "  </tbody>\n",
       "</table>\n",
       "</div>"
      ]
     },
     "metadata": {},
     "output_type": "display_data"
    },
    {
     "data": {
      "text/plain": [
       "    Code Country name (using title case)  Year ccTLD  \\\n",
       "118   KM                         Comoros  1974   .km   \n",
       "\n",
       "                                                 Notes  \n",
       "118  Code taken from name in Comorian: Komori Previ...  "
      ],
      "text/html": [
       "<div>\n",
       "<style scoped>\n",
       "    .dataframe tbody tr th:only-of-type {\n",
       "        vertical-align: middle;\n",
       "    }\n",
       "\n",
       "    .dataframe tbody tr th {\n",
       "        vertical-align: top;\n",
       "    }\n",
       "\n",
       "    .dataframe thead th {\n",
       "        text-align: right;\n",
       "    }\n",
       "</style>\n",
       "<table border=\"1\" class=\"dataframe\">\n",
       "  <thead>\n",
       "    <tr style=\"text-align: right;\">\n",
       "      <th></th>\n",
       "      <th>Code</th>\n",
       "      <th>Country name (using title case)</th>\n",
       "      <th>Year</th>\n",
       "      <th>ccTLD</th>\n",
       "      <th>Notes</th>\n",
       "    </tr>\n",
       "  </thead>\n",
       "  <tbody>\n",
       "    <tr>\n",
       "      <th>118</th>\n",
       "      <td>KM</td>\n",
       "      <td>Comoros</td>\n",
       "      <td>1974</td>\n",
       "      <td>.km</td>\n",
       "      <td>Code taken from name in Comorian: Komori Previ...</td>\n",
       "    </tr>\n",
       "  </tbody>\n",
       "</table>\n",
       "</div>"
      ]
     },
     "metadata": {},
     "output_type": "display_data"
    },
    {
     "data": {
      "text/plain": [
       "    Code Country name (using title case)  Year ccTLD  \\\n",
       "248   ZW                        Zimbabwe  1980   .zw   \n",
       "\n",
       "                                        Notes  \n",
       "248  Name changed from Southern Rhodesia (RH)  "
      ],
      "text/html": [
       "<div>\n",
       "<style scoped>\n",
       "    .dataframe tbody tr th:only-of-type {\n",
       "        vertical-align: middle;\n",
       "    }\n",
       "\n",
       "    .dataframe tbody tr th {\n",
       "        vertical-align: top;\n",
       "    }\n",
       "\n",
       "    .dataframe thead th {\n",
       "        text-align: right;\n",
       "    }\n",
       "</style>\n",
       "<table border=\"1\" class=\"dataframe\">\n",
       "  <thead>\n",
       "    <tr style=\"text-align: right;\">\n",
       "      <th></th>\n",
       "      <th>Code</th>\n",
       "      <th>Country name (using title case)</th>\n",
       "      <th>Year</th>\n",
       "      <th>ccTLD</th>\n",
       "      <th>Notes</th>\n",
       "    </tr>\n",
       "  </thead>\n",
       "  <tbody>\n",
       "    <tr>\n",
       "      <th>248</th>\n",
       "      <td>ZW</td>\n",
       "      <td>Zimbabwe</td>\n",
       "      <td>1980</td>\n",
       "      <td>.zw</td>\n",
       "      <td>Name changed from Southern Rhodesia (RH)</td>\n",
       "    </tr>\n",
       "  </tbody>\n",
       "</table>\n",
       "</div>"
      ]
     },
     "metadata": {},
     "output_type": "display_data"
    },
    {
     "data": {
      "text/plain": [
       "<IPython.core.display.HTML object>"
      ],
      "text/html": [
       "<span style=\"color: red;font-style:italic\"><br><h5>Ending Visual Check : TLD pre-cleanup</h5></span>"
      ]
     },
     "metadata": {},
     "output_type": "display_data"
    }
   ],
   "execution_count": 20
  },
  {
   "metadata": {},
   "cell_type": "markdown",
   "source": "### Pre-processing of TLD dataset",
   "id": "ac33f1a90c01aee0"
  },
  {
   "metadata": {
    "ExecuteTime": {
     "end_time": "2025-07-20T16:40:06.757742Z",
     "start_time": "2025-07-20T16:40:06.735933Z"
    }
   },
   "cell_type": "code",
   "source": [
    "tld_df = clean_tld_country_data(tld_df)\n",
    "write(\"Re-check TLD data once it's been cleaned\")\n",
    "visual_check_dataframe(tld_df, \"TLD post-cleanup\",rows=1,sample_only=True)\n"
   ],
   "id": "996dc6062a25dd86",
   "outputs": [
    {
     "data": {
      "text/plain": [
       "<IPython.core.display.HTML object>"
      ],
      "text/html": [
       "<span style=\"color: black;font-style:normal\"><br>Re-check TLD data once it's been cleaned</span>"
      ]
     },
     "metadata": {},
     "output_type": "display_data"
    },
    {
     "data": {
      "text/plain": [
       "<IPython.core.display.HTML object>"
      ],
      "text/html": [
       "<span style=\"color: green;font-style:normal\"><br><h4>Starting Visual Check : TLD post-cleanup</h4></span>"
      ]
     },
     "metadata": {},
     "output_type": "display_data"
    },
    {
     "data": {
      "text/plain": [
       "<IPython.core.display.HTML object>"
      ],
      "text/html": [
       "<span style=\"color: black;font-style:normal\"><br>Checking random sample of 1 rows</span>"
      ]
     },
     "metadata": {},
     "output_type": "display_data"
    },
    {
     "data": {
      "text/plain": [
       "   A2 Code Country name (using title case)  tld\n",
       "73      FO                   Faroe Islands  .fo"
      ],
      "text/html": [
       "<div>\n",
       "<style scoped>\n",
       "    .dataframe tbody tr th:only-of-type {\n",
       "        vertical-align: middle;\n",
       "    }\n",
       "\n",
       "    .dataframe tbody tr th {\n",
       "        vertical-align: top;\n",
       "    }\n",
       "\n",
       "    .dataframe thead th {\n",
       "        text-align: right;\n",
       "    }\n",
       "</style>\n",
       "<table border=\"1\" class=\"dataframe\">\n",
       "  <thead>\n",
       "    <tr style=\"text-align: right;\">\n",
       "      <th></th>\n",
       "      <th>A2 Code</th>\n",
       "      <th>Country name (using title case)</th>\n",
       "      <th>tld</th>\n",
       "    </tr>\n",
       "  </thead>\n",
       "  <tbody>\n",
       "    <tr>\n",
       "      <th>73</th>\n",
       "      <td>FO</td>\n",
       "      <td>Faroe Islands</td>\n",
       "      <td>.fo</td>\n",
       "    </tr>\n",
       "  </tbody>\n",
       "</table>\n",
       "</div>"
      ]
     },
     "metadata": {},
     "output_type": "display_data"
    },
    {
     "data": {
      "text/plain": [
       "<IPython.core.display.HTML object>"
      ],
      "text/html": [
       "<span style=\"color: red;font-style:italic\"><br><h5>Ending Visual Check : TLD post-cleanup</h5></span>"
      ]
     },
     "metadata": {},
     "output_type": "display_data"
    }
   ],
   "execution_count": 21
  },
  {
   "metadata": {},
   "cell_type": "markdown",
   "source": [
    "### M49 Dataset\n",
    "#### Load in Data"
   ],
   "id": "1b8f6f41f6762a0a"
  },
  {
   "metadata": {
    "ExecuteTime": {
     "end_time": "2025-07-20T16:40:27.329929Z",
     "start_time": "2025-07-20T16:40:27.286908Z"
    }
   },
   "cell_type": "code",
   "source": [
    "m49_df = get_m49_country_dataset()\n",
    "visual_check_dataframe(m49_df,dataset_name=\"M49 - pre-cleanup\", rows=1)"
   ],
   "id": "b9d74810bb3e8895",
   "outputs": [
    {
     "data": {
      "text/plain": [
       "<IPython.core.display.HTML object>"
      ],
      "text/html": [
       "<span style=\"color: green;font-style:normal\"><br><h4>Starting Visual Check : M49 - pre-cleanup</h4></span>"
      ]
     },
     "metadata": {},
     "output_type": "display_data"
    },
    {
     "data": {
      "text/plain": [
       "<IPython.core.display.HTML object>"
      ],
      "text/html": [
       "<span style=\"color: black;font-style:normal\"><br>Check top 1 row(s), followed by a sample of 1 row(s) and then the bottom 1 row(s)</span>"
      ]
     },
     "metadata": {},
     "output_type": "display_data"
    },
    {
     "data": {
      "text/plain": [
       "   Global Code Global Name  Region Code Region Name  Sub-region Code  \\\n",
       "0            1       World          2.0      Africa             15.0   \n",
       "\n",
       "   Sub-region Name  Intermediate Region Code Intermediate Region Name  \\\n",
       "0  Northern Africa                       NaN                      NaN   \n",
       "\n",
       "  Country or Area  M49 Code ISO-alpha2 Code ISO-alpha3 Code  \\\n",
       "0         Algeria        12              DZ             DZA   \n",
       "\n",
       "  Least Developed Countries (LDC) Land Locked Developing Countries (LLDC)  \\\n",
       "0                             NaN                                     NaN   \n",
       "\n",
       "  Small Island Developing States (SIDS)  \n",
       "0                                   NaN  "
      ],
      "text/html": [
       "<div>\n",
       "<style scoped>\n",
       "    .dataframe tbody tr th:only-of-type {\n",
       "        vertical-align: middle;\n",
       "    }\n",
       "\n",
       "    .dataframe tbody tr th {\n",
       "        vertical-align: top;\n",
       "    }\n",
       "\n",
       "    .dataframe thead th {\n",
       "        text-align: right;\n",
       "    }\n",
       "</style>\n",
       "<table border=\"1\" class=\"dataframe\">\n",
       "  <thead>\n",
       "    <tr style=\"text-align: right;\">\n",
       "      <th></th>\n",
       "      <th>Global Code</th>\n",
       "      <th>Global Name</th>\n",
       "      <th>Region Code</th>\n",
       "      <th>Region Name</th>\n",
       "      <th>Sub-region Code</th>\n",
       "      <th>Sub-region Name</th>\n",
       "      <th>Intermediate Region Code</th>\n",
       "      <th>Intermediate Region Name</th>\n",
       "      <th>Country or Area</th>\n",
       "      <th>M49 Code</th>\n",
       "      <th>ISO-alpha2 Code</th>\n",
       "      <th>ISO-alpha3 Code</th>\n",
       "      <th>Least Developed Countries (LDC)</th>\n",
       "      <th>Land Locked Developing Countries (LLDC)</th>\n",
       "      <th>Small Island Developing States (SIDS)</th>\n",
       "    </tr>\n",
       "  </thead>\n",
       "  <tbody>\n",
       "    <tr>\n",
       "      <th>0</th>\n",
       "      <td>1</td>\n",
       "      <td>World</td>\n",
       "      <td>2.0</td>\n",
       "      <td>Africa</td>\n",
       "      <td>15.0</td>\n",
       "      <td>Northern Africa</td>\n",
       "      <td>NaN</td>\n",
       "      <td>NaN</td>\n",
       "      <td>Algeria</td>\n",
       "      <td>12</td>\n",
       "      <td>DZ</td>\n",
       "      <td>DZA</td>\n",
       "      <td>NaN</td>\n",
       "      <td>NaN</td>\n",
       "      <td>NaN</td>\n",
       "    </tr>\n",
       "  </tbody>\n",
       "</table>\n",
       "</div>"
      ]
     },
     "metadata": {},
     "output_type": "display_data"
    },
    {
     "data": {
      "text/plain": [
       "    Global Code Global Name  Region Code Region Name  Sub-region Code  \\\n",
       "17            1       World          2.0      Africa            202.0   \n",
       "\n",
       "       Sub-region Name  Intermediate Region Code Intermediate Region Name  \\\n",
       "17  Sub-Saharan Africa                      14.0           Eastern Africa   \n",
       "\n",
       "   Country or Area  M49 Code ISO-alpha2 Code ISO-alpha3 Code  \\\n",
       "17       Mauritius       480              MU             MUS   \n",
       "\n",
       "   Least Developed Countries (LDC) Land Locked Developing Countries (LLDC)  \\\n",
       "17                             NaN                                     NaN   \n",
       "\n",
       "   Small Island Developing States (SIDS)  \n",
       "17                                     x  "
      ],
      "text/html": [
       "<div>\n",
       "<style scoped>\n",
       "    .dataframe tbody tr th:only-of-type {\n",
       "        vertical-align: middle;\n",
       "    }\n",
       "\n",
       "    .dataframe tbody tr th {\n",
       "        vertical-align: top;\n",
       "    }\n",
       "\n",
       "    .dataframe thead th {\n",
       "        text-align: right;\n",
       "    }\n",
       "</style>\n",
       "<table border=\"1\" class=\"dataframe\">\n",
       "  <thead>\n",
       "    <tr style=\"text-align: right;\">\n",
       "      <th></th>\n",
       "      <th>Global Code</th>\n",
       "      <th>Global Name</th>\n",
       "      <th>Region Code</th>\n",
       "      <th>Region Name</th>\n",
       "      <th>Sub-region Code</th>\n",
       "      <th>Sub-region Name</th>\n",
       "      <th>Intermediate Region Code</th>\n",
       "      <th>Intermediate Region Name</th>\n",
       "      <th>Country or Area</th>\n",
       "      <th>M49 Code</th>\n",
       "      <th>ISO-alpha2 Code</th>\n",
       "      <th>ISO-alpha3 Code</th>\n",
       "      <th>Least Developed Countries (LDC)</th>\n",
       "      <th>Land Locked Developing Countries (LLDC)</th>\n",
       "      <th>Small Island Developing States (SIDS)</th>\n",
       "    </tr>\n",
       "  </thead>\n",
       "  <tbody>\n",
       "    <tr>\n",
       "      <th>17</th>\n",
       "      <td>1</td>\n",
       "      <td>World</td>\n",
       "      <td>2.0</td>\n",
       "      <td>Africa</td>\n",
       "      <td>202.0</td>\n",
       "      <td>Sub-Saharan Africa</td>\n",
       "      <td>14.0</td>\n",
       "      <td>Eastern Africa</td>\n",
       "      <td>Mauritius</td>\n",
       "      <td>480</td>\n",
       "      <td>MU</td>\n",
       "      <td>MUS</td>\n",
       "      <td>NaN</td>\n",
       "      <td>NaN</td>\n",
       "      <td>x</td>\n",
       "    </tr>\n",
       "  </tbody>\n",
       "</table>\n",
       "</div>"
      ]
     },
     "metadata": {},
     "output_type": "display_data"
    },
    {
     "data": {
      "text/plain": [
       "     Global Code Global Name  Region Code Region Name  Sub-region Code  \\\n",
       "247            1       World          9.0     Oceania             61.0   \n",
       "\n",
       "    Sub-region Name  Intermediate Region Code Intermediate Region Name  \\\n",
       "247       Polynesia                       NaN                      NaN   \n",
       "\n",
       "               Country or Area  M49 Code ISO-alpha2 Code ISO-alpha3 Code  \\\n",
       "247  Wallis and Futuna Islands       876              WF             WLF   \n",
       "\n",
       "    Least Developed Countries (LDC) Land Locked Developing Countries (LLDC)  \\\n",
       "247                             NaN                                     NaN   \n",
       "\n",
       "    Small Island Developing States (SIDS)  \n",
       "247                                   NaN  "
      ],
      "text/html": [
       "<div>\n",
       "<style scoped>\n",
       "    .dataframe tbody tr th:only-of-type {\n",
       "        vertical-align: middle;\n",
       "    }\n",
       "\n",
       "    .dataframe tbody tr th {\n",
       "        vertical-align: top;\n",
       "    }\n",
       "\n",
       "    .dataframe thead th {\n",
       "        text-align: right;\n",
       "    }\n",
       "</style>\n",
       "<table border=\"1\" class=\"dataframe\">\n",
       "  <thead>\n",
       "    <tr style=\"text-align: right;\">\n",
       "      <th></th>\n",
       "      <th>Global Code</th>\n",
       "      <th>Global Name</th>\n",
       "      <th>Region Code</th>\n",
       "      <th>Region Name</th>\n",
       "      <th>Sub-region Code</th>\n",
       "      <th>Sub-region Name</th>\n",
       "      <th>Intermediate Region Code</th>\n",
       "      <th>Intermediate Region Name</th>\n",
       "      <th>Country or Area</th>\n",
       "      <th>M49 Code</th>\n",
       "      <th>ISO-alpha2 Code</th>\n",
       "      <th>ISO-alpha3 Code</th>\n",
       "      <th>Least Developed Countries (LDC)</th>\n",
       "      <th>Land Locked Developing Countries (LLDC)</th>\n",
       "      <th>Small Island Developing States (SIDS)</th>\n",
       "    </tr>\n",
       "  </thead>\n",
       "  <tbody>\n",
       "    <tr>\n",
       "      <th>247</th>\n",
       "      <td>1</td>\n",
       "      <td>World</td>\n",
       "      <td>9.0</td>\n",
       "      <td>Oceania</td>\n",
       "      <td>61.0</td>\n",
       "      <td>Polynesia</td>\n",
       "      <td>NaN</td>\n",
       "      <td>NaN</td>\n",
       "      <td>Wallis and Futuna Islands</td>\n",
       "      <td>876</td>\n",
       "      <td>WF</td>\n",
       "      <td>WLF</td>\n",
       "      <td>NaN</td>\n",
       "      <td>NaN</td>\n",
       "      <td>NaN</td>\n",
       "    </tr>\n",
       "  </tbody>\n",
       "</table>\n",
       "</div>"
      ]
     },
     "metadata": {},
     "output_type": "display_data"
    },
    {
     "data": {
      "text/plain": [
       "<IPython.core.display.HTML object>"
      ],
      "text/html": [
       "<span style=\"color: red;font-style:italic\"><br><h5>Ending Visual Check : M49 - pre-cleanup</h5></span>"
      ]
     },
     "metadata": {},
     "output_type": "display_data"
    }
   ],
   "execution_count": 22
  },
  {
   "metadata": {},
   "cell_type": "markdown",
   "source": "### Pre-processing of M49 Dataset",
   "id": "e38f5d22bf0ddffd"
  },
  {
   "metadata": {
    "ExecuteTime": {
     "end_time": "2025-07-20T17:00:38.156744Z",
     "start_time": "2025-07-20T17:00:38.125571Z"
    }
   },
   "cell_type": "code",
   "source": [
    "m49_df = clean_m49_country_data(m49_df)\n",
    "write(\"Re-check M49 data once it's been cleaned\")\n",
    "visual_check_dataframe(m49_df, dataset_name=\"M49 - post-cleanup\", rows=1, sample_only=True)"
   ],
   "id": "f57ca4aba86509da",
   "outputs": [
    {
     "data": {
      "text/plain": [
       "<IPython.core.display.HTML object>"
      ],
      "text/html": [
       "<span style=\"color: black;font-style:normal\"><br>Re-check M49 data once it's been cleaned</span>"
      ]
     },
     "metadata": {},
     "output_type": "display_data"
    },
    {
     "data": {
      "text/plain": [
       "<IPython.core.display.HTML object>"
      ],
      "text/html": [
       "<span style=\"color: green;font-style:normal\"><br><h4>Starting Visual Check : M49 - post-cleanup</h4></span>"
      ]
     },
     "metadata": {},
     "output_type": "display_data"
    },
    {
     "data": {
      "text/plain": [
       "<IPython.core.display.HTML object>"
      ],
      "text/html": [
       "<span style=\"color: black;font-style:normal\"><br>Checking random sample of 1 rows</span>"
      ]
     },
     "metadata": {},
     "output_type": "display_data"
    },
    {
     "data": {
      "text/plain": [
       "     Region Code Region Name  Sub-region Code Sub-region Name Country or Area  \\\n",
       "169        150.0      Europe            151.0  Eastern Europe        Bulgaria   \n",
       "\n",
       "     M49 Code ISO-alpha2 Code ISO-alpha3 Code  \n",
       "169       100              BG             BGR  "
      ],
      "text/html": [
       "<div>\n",
       "<style scoped>\n",
       "    .dataframe tbody tr th:only-of-type {\n",
       "        vertical-align: middle;\n",
       "    }\n",
       "\n",
       "    .dataframe tbody tr th {\n",
       "        vertical-align: top;\n",
       "    }\n",
       "\n",
       "    .dataframe thead th {\n",
       "        text-align: right;\n",
       "    }\n",
       "</style>\n",
       "<table border=\"1\" class=\"dataframe\">\n",
       "  <thead>\n",
       "    <tr style=\"text-align: right;\">\n",
       "      <th></th>\n",
       "      <th>Region Code</th>\n",
       "      <th>Region Name</th>\n",
       "      <th>Sub-region Code</th>\n",
       "      <th>Sub-region Name</th>\n",
       "      <th>Country or Area</th>\n",
       "      <th>M49 Code</th>\n",
       "      <th>ISO-alpha2 Code</th>\n",
       "      <th>ISO-alpha3 Code</th>\n",
       "    </tr>\n",
       "  </thead>\n",
       "  <tbody>\n",
       "    <tr>\n",
       "      <th>169</th>\n",
       "      <td>150.0</td>\n",
       "      <td>Europe</td>\n",
       "      <td>151.0</td>\n",
       "      <td>Eastern Europe</td>\n",
       "      <td>Bulgaria</td>\n",
       "      <td>100</td>\n",
       "      <td>BG</td>\n",
       "      <td>BGR</td>\n",
       "    </tr>\n",
       "  </tbody>\n",
       "</table>\n",
       "</div>"
      ]
     },
     "metadata": {},
     "output_type": "display_data"
    },
    {
     "data": {
      "text/plain": [
       "<IPython.core.display.HTML object>"
      ],
      "text/html": [
       "<span style=\"color: red;font-style:italic\"><br><h5>Ending Visual Check : M49 - post-cleanup</h5></span>"
      ]
     },
     "metadata": {},
     "output_type": "display_data"
    }
   ],
   "execution_count": 25
  },
  {
   "metadata": {},
   "cell_type": "markdown",
   "source": [
    "### Combine TLD and M49 Country Datasets\n",
    "\n",
    "We have two supplementary datasets representing Geographic location that we will now combine"
   ],
   "id": "28c99722f955a829"
  },
  {
   "metadata": {
    "ExecuteTime": {
     "end_time": "2025-07-20T15:02:51.244883Z",
     "start_time": "2025-07-20T15:02:51.211559Z"
    }
   },
   "cell_type": "code",
   "source": [
    "country_df = merge_tld_and_m49_datasets(tld_df, m49_df)\n",
    "visual_check_dataframe(country_df, \"Combined TLD & M49 Dataset\",rows=1)"
   ],
   "id": "fd7ebbdfcf81366b",
   "outputs": [
    {
     "data": {
      "text/plain": [
       "<IPython.core.display.HTML object>"
      ],
      "text/html": [
       "<span style=\"color: green;font-style:normal\"><br><h4>Starting Visual Check : Combined TLD & M49 Dataset</h4></span>"
      ]
     },
     "metadata": {},
     "output_type": "display_data"
    },
    {
     "data": {
      "text/plain": [
       "<IPython.core.display.HTML object>"
      ],
      "text/html": [
       "<span style=\"color: black;font-style:normal\"><br>Check top 1 row(s), followed by a sample of 1 row(s) and then the bottom 1 row(s)</span>"
      ]
     },
     "metadata": {},
     "output_type": "display_data"
    },
    {
     "data": {
      "text/plain": [
       "  A2 Code Country name (using title case)  tld  Region Code Region Name  \\\n",
       "0      AD                         Andorra  .ad          150      Europe   \n",
       "\n",
       "   Sub-region Code  Sub-region Name Country or Area  M49 Code ISO-alpha2 Code  \\\n",
       "0               39  Southern Europe         Andorra        20              AD   \n",
       "\n",
       "  ISO-alpha3 Code  \n",
       "0             AND  "
      ],
      "text/html": [
       "<div>\n",
       "<style scoped>\n",
       "    .dataframe tbody tr th:only-of-type {\n",
       "        vertical-align: middle;\n",
       "    }\n",
       "\n",
       "    .dataframe tbody tr th {\n",
       "        vertical-align: top;\n",
       "    }\n",
       "\n",
       "    .dataframe thead th {\n",
       "        text-align: right;\n",
       "    }\n",
       "</style>\n",
       "<table border=\"1\" class=\"dataframe\">\n",
       "  <thead>\n",
       "    <tr style=\"text-align: right;\">\n",
       "      <th></th>\n",
       "      <th>A2 Code</th>\n",
       "      <th>Country name (using title case)</th>\n",
       "      <th>tld</th>\n",
       "      <th>Region Code</th>\n",
       "      <th>Region Name</th>\n",
       "      <th>Sub-region Code</th>\n",
       "      <th>Sub-region Name</th>\n",
       "      <th>Country or Area</th>\n",
       "      <th>M49 Code</th>\n",
       "      <th>ISO-alpha2 Code</th>\n",
       "      <th>ISO-alpha3 Code</th>\n",
       "    </tr>\n",
       "  </thead>\n",
       "  <tbody>\n",
       "    <tr>\n",
       "      <th>0</th>\n",
       "      <td>AD</td>\n",
       "      <td>Andorra</td>\n",
       "      <td>.ad</td>\n",
       "      <td>150</td>\n",
       "      <td>Europe</td>\n",
       "      <td>39</td>\n",
       "      <td>Southern Europe</td>\n",
       "      <td>Andorra</td>\n",
       "      <td>20</td>\n",
       "      <td>AD</td>\n",
       "      <td>AND</td>\n",
       "    </tr>\n",
       "  </tbody>\n",
       "</table>\n",
       "</div>"
      ]
     },
     "metadata": {},
     "output_type": "display_data"
    },
    {
     "data": {
      "text/plain": [
       "    A2 Code Country name (using title case)  tld  Region Code Region Name  \\\n",
       "151      MS                      Montserrat  .ms           19    Americas   \n",
       "\n",
       "     Sub-region Code                  Sub-region Name Country or Area  \\\n",
       "151              419  Latin America and the Caribbean      Montserrat   \n",
       "\n",
       "     M49 Code ISO-alpha2 Code ISO-alpha3 Code  \n",
       "151       500              MS             MSR  "
      ],
      "text/html": [
       "<div>\n",
       "<style scoped>\n",
       "    .dataframe tbody tr th:only-of-type {\n",
       "        vertical-align: middle;\n",
       "    }\n",
       "\n",
       "    .dataframe tbody tr th {\n",
       "        vertical-align: top;\n",
       "    }\n",
       "\n",
       "    .dataframe thead th {\n",
       "        text-align: right;\n",
       "    }\n",
       "</style>\n",
       "<table border=\"1\" class=\"dataframe\">\n",
       "  <thead>\n",
       "    <tr style=\"text-align: right;\">\n",
       "      <th></th>\n",
       "      <th>A2 Code</th>\n",
       "      <th>Country name (using title case)</th>\n",
       "      <th>tld</th>\n",
       "      <th>Region Code</th>\n",
       "      <th>Region Name</th>\n",
       "      <th>Sub-region Code</th>\n",
       "      <th>Sub-region Name</th>\n",
       "      <th>Country or Area</th>\n",
       "      <th>M49 Code</th>\n",
       "      <th>ISO-alpha2 Code</th>\n",
       "      <th>ISO-alpha3 Code</th>\n",
       "    </tr>\n",
       "  </thead>\n",
       "  <tbody>\n",
       "    <tr>\n",
       "      <th>151</th>\n",
       "      <td>MS</td>\n",
       "      <td>Montserrat</td>\n",
       "      <td>.ms</td>\n",
       "      <td>19</td>\n",
       "      <td>Americas</td>\n",
       "      <td>419</td>\n",
       "      <td>Latin America and the Caribbean</td>\n",
       "      <td>Montserrat</td>\n",
       "      <td>500</td>\n",
       "      <td>MS</td>\n",
       "      <td>MSR</td>\n",
       "    </tr>\n",
       "  </tbody>\n",
       "</table>\n",
       "</div>"
      ]
     },
     "metadata": {},
     "output_type": "display_data"
    },
    {
     "data": {
      "text/plain": [
       "    A2 Code Country name (using title case)  tld  Region Code Region Name  \\\n",
       "248      ZW                        Zimbabwe  .zw            2      Africa   \n",
       "\n",
       "     Sub-region Code     Sub-region Name Country or Area  M49 Code  \\\n",
       "248              202  Sub-Saharan Africa        Zimbabwe       716   \n",
       "\n",
       "    ISO-alpha2 Code ISO-alpha3 Code  \n",
       "248              ZW             ZWE  "
      ],
      "text/html": [
       "<div>\n",
       "<style scoped>\n",
       "    .dataframe tbody tr th:only-of-type {\n",
       "        vertical-align: middle;\n",
       "    }\n",
       "\n",
       "    .dataframe tbody tr th {\n",
       "        vertical-align: top;\n",
       "    }\n",
       "\n",
       "    .dataframe thead th {\n",
       "        text-align: right;\n",
       "    }\n",
       "</style>\n",
       "<table border=\"1\" class=\"dataframe\">\n",
       "  <thead>\n",
       "    <tr style=\"text-align: right;\">\n",
       "      <th></th>\n",
       "      <th>A2 Code</th>\n",
       "      <th>Country name (using title case)</th>\n",
       "      <th>tld</th>\n",
       "      <th>Region Code</th>\n",
       "      <th>Region Name</th>\n",
       "      <th>Sub-region Code</th>\n",
       "      <th>Sub-region Name</th>\n",
       "      <th>Country or Area</th>\n",
       "      <th>M49 Code</th>\n",
       "      <th>ISO-alpha2 Code</th>\n",
       "      <th>ISO-alpha3 Code</th>\n",
       "    </tr>\n",
       "  </thead>\n",
       "  <tbody>\n",
       "    <tr>\n",
       "      <th>248</th>\n",
       "      <td>ZW</td>\n",
       "      <td>Zimbabwe</td>\n",
       "      <td>.zw</td>\n",
       "      <td>2</td>\n",
       "      <td>Africa</td>\n",
       "      <td>202</td>\n",
       "      <td>Sub-Saharan Africa</td>\n",
       "      <td>Zimbabwe</td>\n",
       "      <td>716</td>\n",
       "      <td>ZW</td>\n",
       "      <td>ZWE</td>\n",
       "    </tr>\n",
       "  </tbody>\n",
       "</table>\n",
       "</div>"
      ]
     },
     "metadata": {},
     "output_type": "display_data"
    },
    {
     "data": {
      "text/plain": [
       "<IPython.core.display.HTML object>"
      ],
      "text/html": [
       "<span style=\"color: red;font-style:italic\"><br><h5>Ending Visual Check : Combined TLD & M49 Dataset</h5></span>"
      ]
     },
     "metadata": {},
     "output_type": "display_data"
    }
   ],
   "execution_count": 97
  },
  {
   "metadata": {},
   "cell_type": "markdown",
   "source": "We should confirm that every row in our tld dataframe was able to merge with one from the m49 dataset",
   "id": "8d76514d9079c2ae"
  },
  {
   "metadata": {
    "ExecuteTime": {
     "end_time": "2025-07-20T15:02:51.505501Z",
     "start_time": "2025-07-20T15:02:51.446298Z"
    }
   },
   "cell_type": "code",
   "source": [
    "\n",
    "\n",
    "cleanup_combined_tld_m49_dataset(country_df)\n",
    "\n"
   ],
   "id": "86777c5c1074b11e",
   "outputs": [
    {
     "name": "stdout",
     "output_type": "stream",
     "text": [
      "Country or area that is null:\n"
     ]
    },
    {
     "data": {
      "text/plain": [
       "None"
      ]
     },
     "metadata": {},
     "output_type": "display_data"
    },
    {
     "data": {
      "text/plain": [
       "Empty DataFrame\n",
       "Columns: [A2 Code, Country name (using title case), tld, Region Code, Region Name, Sub-region Code, Sub-region Name, Country or Area, M49 Code, ISO-alpha2 Code, ISO-alpha3 Code]\n",
       "Index: []"
      ],
      "text/html": [
       "<div>\n",
       "<style scoped>\n",
       "    .dataframe tbody tr th:only-of-type {\n",
       "        vertical-align: middle;\n",
       "    }\n",
       "\n",
       "    .dataframe tbody tr th {\n",
       "        vertical-align: top;\n",
       "    }\n",
       "\n",
       "    .dataframe thead th {\n",
       "        text-align: right;\n",
       "    }\n",
       "</style>\n",
       "<table border=\"1\" class=\"dataframe\">\n",
       "  <thead>\n",
       "    <tr style=\"text-align: right;\">\n",
       "      <th></th>\n",
       "      <th>A2 Code</th>\n",
       "      <th>Country name (using title case)</th>\n",
       "      <th>tld</th>\n",
       "      <th>Region Code</th>\n",
       "      <th>Region Name</th>\n",
       "      <th>Sub-region Code</th>\n",
       "      <th>Sub-region Name</th>\n",
       "      <th>Country or Area</th>\n",
       "      <th>M49 Code</th>\n",
       "      <th>ISO-alpha2 Code</th>\n",
       "      <th>ISO-alpha3 Code</th>\n",
       "    </tr>\n",
       "  </thead>\n",
       "  <tbody>\n",
       "  </tbody>\n",
       "</table>\n",
       "</div>"
      ]
     },
     "metadata": {},
     "output_type": "display_data"
    },
    {
     "data": {
      "text/plain": [
       "'Country or area that is set to zero:'"
      ]
     },
     "metadata": {},
     "output_type": "display_data"
    },
    {
     "data": {
      "text/plain": [
       "    A2 Code Country name (using title case)  tld  Region Code Region Name  \\\n",
       "227      TW       Taiwan, Province of China  .tw            0           0   \n",
       "\n",
       "     Sub-region Code Sub-region Name Country or Area  M49 Code  \\\n",
       "227                0               0               0         0   \n",
       "\n",
       "    ISO-alpha2 Code ISO-alpha3 Code  \n",
       "227               0               0  "
      ],
      "text/html": [
       "<div>\n",
       "<style scoped>\n",
       "    .dataframe tbody tr th:only-of-type {\n",
       "        vertical-align: middle;\n",
       "    }\n",
       "\n",
       "    .dataframe tbody tr th {\n",
       "        vertical-align: top;\n",
       "    }\n",
       "\n",
       "    .dataframe thead th {\n",
       "        text-align: right;\n",
       "    }\n",
       "</style>\n",
       "<table border=\"1\" class=\"dataframe\">\n",
       "  <thead>\n",
       "    <tr style=\"text-align: right;\">\n",
       "      <th></th>\n",
       "      <th>A2 Code</th>\n",
       "      <th>Country name (using title case)</th>\n",
       "      <th>tld</th>\n",
       "      <th>Region Code</th>\n",
       "      <th>Region Name</th>\n",
       "      <th>Sub-region Code</th>\n",
       "      <th>Sub-region Name</th>\n",
       "      <th>Country or Area</th>\n",
       "      <th>M49 Code</th>\n",
       "      <th>ISO-alpha2 Code</th>\n",
       "      <th>ISO-alpha3 Code</th>\n",
       "    </tr>\n",
       "  </thead>\n",
       "  <tbody>\n",
       "    <tr>\n",
       "      <th>227</th>\n",
       "      <td>TW</td>\n",
       "      <td>Taiwan, Province of China</td>\n",
       "      <td>.tw</td>\n",
       "      <td>0</td>\n",
       "      <td>0</td>\n",
       "      <td>0</td>\n",
       "      <td>0</td>\n",
       "      <td>0</td>\n",
       "      <td>0</td>\n",
       "      <td>0</td>\n",
       "      <td>0</td>\n",
       "    </tr>\n",
       "  </tbody>\n",
       "</table>\n",
       "</div>"
      ]
     },
     "metadata": {},
     "output_type": "display_data"
    },
    {
     "data": {
      "text/plain": [
       "'Country or Area cell which is set to int type;'"
      ]
     },
     "metadata": {},
     "output_type": "display_data"
    },
    {
     "data": {
      "text/plain": [
       "    A2 Code Country name (using title case)  tld  Region Code Region Name  \\\n",
       "227      TW       Taiwan, Province of China  .tw            0           0   \n",
       "\n",
       "     Sub-region Code Sub-region Name Country or Area  M49 Code  \\\n",
       "227                0               0               0         0   \n",
       "\n",
       "    ISO-alpha2 Code ISO-alpha3 Code  \n",
       "227               0               0  "
      ],
      "text/html": [
       "<div>\n",
       "<style scoped>\n",
       "    .dataframe tbody tr th:only-of-type {\n",
       "        vertical-align: middle;\n",
       "    }\n",
       "\n",
       "    .dataframe tbody tr th {\n",
       "        vertical-align: top;\n",
       "    }\n",
       "\n",
       "    .dataframe thead th {\n",
       "        text-align: right;\n",
       "    }\n",
       "</style>\n",
       "<table border=\"1\" class=\"dataframe\">\n",
       "  <thead>\n",
       "    <tr style=\"text-align: right;\">\n",
       "      <th></th>\n",
       "      <th>A2 Code</th>\n",
       "      <th>Country name (using title case)</th>\n",
       "      <th>tld</th>\n",
       "      <th>Region Code</th>\n",
       "      <th>Region Name</th>\n",
       "      <th>Sub-region Code</th>\n",
       "      <th>Sub-region Name</th>\n",
       "      <th>Country or Area</th>\n",
       "      <th>M49 Code</th>\n",
       "      <th>ISO-alpha2 Code</th>\n",
       "      <th>ISO-alpha3 Code</th>\n",
       "    </tr>\n",
       "  </thead>\n",
       "  <tbody>\n",
       "    <tr>\n",
       "      <th>227</th>\n",
       "      <td>TW</td>\n",
       "      <td>Taiwan, Province of China</td>\n",
       "      <td>.tw</td>\n",
       "      <td>0</td>\n",
       "      <td>0</td>\n",
       "      <td>0</td>\n",
       "      <td>0</td>\n",
       "      <td>0</td>\n",
       "      <td>0</td>\n",
       "      <td>0</td>\n",
       "      <td>0</td>\n",
       "    </tr>\n",
       "  </tbody>\n",
       "</table>\n",
       "</div>"
      ]
     },
     "metadata": {},
     "output_type": "display_data"
    },
    {
     "data": {
      "text/plain": [
       "<IPython.core.display.HTML object>"
      ],
      "text/html": [
       "<span style=\"color: black;font-style:normal\"><br>Taiwan is the only Country without an entry in the M49 - there are political reasons for this.  For now, we will correct this by assigning the Country name to the Country and Area name</span>"
      ]
     },
     "metadata": {},
     "output_type": "display_data"
    },
    {
     "data": {
      "text/plain": [
       "'Country or area that is set to zero:'"
      ]
     },
     "metadata": {},
     "output_type": "display_data"
    },
    {
     "data": {
      "text/plain": [
       "Empty DataFrame\n",
       "Columns: [A2 Code, Country name (using title case), tld, Region Code, Region Name, Sub-region Code, Sub-region Name, Country or Area, M49 Code, ISO-alpha2 Code, ISO-alpha3 Code]\n",
       "Index: []"
      ],
      "text/html": [
       "<div>\n",
       "<style scoped>\n",
       "    .dataframe tbody tr th:only-of-type {\n",
       "        vertical-align: middle;\n",
       "    }\n",
       "\n",
       "    .dataframe tbody tr th {\n",
       "        vertical-align: top;\n",
       "    }\n",
       "\n",
       "    .dataframe thead th {\n",
       "        text-align: right;\n",
       "    }\n",
       "</style>\n",
       "<table border=\"1\" class=\"dataframe\">\n",
       "  <thead>\n",
       "    <tr style=\"text-align: right;\">\n",
       "      <th></th>\n",
       "      <th>A2 Code</th>\n",
       "      <th>Country name (using title case)</th>\n",
       "      <th>tld</th>\n",
       "      <th>Region Code</th>\n",
       "      <th>Region Name</th>\n",
       "      <th>Sub-region Code</th>\n",
       "      <th>Sub-region Name</th>\n",
       "      <th>Country or Area</th>\n",
       "      <th>M49 Code</th>\n",
       "      <th>ISO-alpha2 Code</th>\n",
       "      <th>ISO-alpha3 Code</th>\n",
       "    </tr>\n",
       "  </thead>\n",
       "  <tbody>\n",
       "  </tbody>\n",
       "</table>\n",
       "</div>"
      ]
     },
     "metadata": {},
     "output_type": "display_data"
    },
    {
     "data": {
      "text/plain": [
       "'Check Taiwan specifically :'"
      ]
     },
     "metadata": {},
     "output_type": "display_data"
    },
    {
     "data": {
      "text/plain": [
       "    A2 Code Country name (using title case)  tld  Region Code Region Name  \\\n",
       "227      TW       Taiwan, Province of China  .tw            0           0   \n",
       "\n",
       "     Sub-region Code Sub-region Name            Country or Area  M49 Code  \\\n",
       "227                0               0  Taiwan, Province of China         0   \n",
       "\n",
       "    ISO-alpha2 Code ISO-alpha3 Code  \n",
       "227               0               0  "
      ],
      "text/html": [
       "<div>\n",
       "<style scoped>\n",
       "    .dataframe tbody tr th:only-of-type {\n",
       "        vertical-align: middle;\n",
       "    }\n",
       "\n",
       "    .dataframe tbody tr th {\n",
       "        vertical-align: top;\n",
       "    }\n",
       "\n",
       "    .dataframe thead th {\n",
       "        text-align: right;\n",
       "    }\n",
       "</style>\n",
       "<table border=\"1\" class=\"dataframe\">\n",
       "  <thead>\n",
       "    <tr style=\"text-align: right;\">\n",
       "      <th></th>\n",
       "      <th>A2 Code</th>\n",
       "      <th>Country name (using title case)</th>\n",
       "      <th>tld</th>\n",
       "      <th>Region Code</th>\n",
       "      <th>Region Name</th>\n",
       "      <th>Sub-region Code</th>\n",
       "      <th>Sub-region Name</th>\n",
       "      <th>Country or Area</th>\n",
       "      <th>M49 Code</th>\n",
       "      <th>ISO-alpha2 Code</th>\n",
       "      <th>ISO-alpha3 Code</th>\n",
       "    </tr>\n",
       "  </thead>\n",
       "  <tbody>\n",
       "    <tr>\n",
       "      <th>227</th>\n",
       "      <td>TW</td>\n",
       "      <td>Taiwan, Province of China</td>\n",
       "      <td>.tw</td>\n",
       "      <td>0</td>\n",
       "      <td>0</td>\n",
       "      <td>0</td>\n",
       "      <td>0</td>\n",
       "      <td>Taiwan, Province of China</td>\n",
       "      <td>0</td>\n",
       "      <td>0</td>\n",
       "      <td>0</td>\n",
       "    </tr>\n",
       "  </tbody>\n",
       "</table>\n",
       "</div>"
      ]
     },
     "metadata": {},
     "output_type": "display_data"
    }
   ],
   "execution_count": 98
  },
  {
   "metadata": {},
   "cell_type": "markdown",
   "source": "## Pre-processing of AWS region dataset",
   "id": "a1d8fef75f4ae7ae"
  },
  {
   "metadata": {
    "ExecuteTime": {
     "end_time": "2025-07-19T22:38:19.934218Z",
     "start_time": "2025-07-19T22:38:19.894280Z"
    }
   },
   "cell_type": "code",
   "source": [
    "visual_check_dataframe(aws_region_df)\n",
    "aws_region_df = clean_aws_region_dataset(aws_region_df)\n",
    "write(\"Re-check AWS Region data once it's been cleaned\")\n",
    "visual_check_dataframe(aws_region_df, sample_only=True)"
   ],
   "id": "40e07488dec2363b",
   "outputs": [
    {
     "data": {
      "text/plain": [
       "<IPython.core.display.HTML object>"
      ],
      "text/html": [
       "<span style=\"color: black;font-style:normal\"><br>Checking top 3 rows</span>"
      ]
     },
     "metadata": {},
     "output_type": "display_data"
    },
    {
     "data": {
      "text/plain": [
       "        Code                     Name  AZs                 Geography  \\\n",
       "0  us-east-1    US East (N. Virginia)    6  United States of America   \n",
       "1  us-east-2           US East (Ohio)    3  United States of America   \n",
       "2  us-west-1  US West (N. California)  3 †  United States of America   \n",
       "\n",
       "  Opt-in status  \n",
       "0  Not required  \n",
       "1  Not required  \n",
       "2  Not required  "
      ],
      "text/html": [
       "<div>\n",
       "<style scoped>\n",
       "    .dataframe tbody tr th:only-of-type {\n",
       "        vertical-align: middle;\n",
       "    }\n",
       "\n",
       "    .dataframe tbody tr th {\n",
       "        vertical-align: top;\n",
       "    }\n",
       "\n",
       "    .dataframe thead th {\n",
       "        text-align: right;\n",
       "    }\n",
       "</style>\n",
       "<table border=\"1\" class=\"dataframe\">\n",
       "  <thead>\n",
       "    <tr style=\"text-align: right;\">\n",
       "      <th></th>\n",
       "      <th>Code</th>\n",
       "      <th>Name</th>\n",
       "      <th>AZs</th>\n",
       "      <th>Geography</th>\n",
       "      <th>Opt-in status</th>\n",
       "    </tr>\n",
       "  </thead>\n",
       "  <tbody>\n",
       "    <tr>\n",
       "      <th>0</th>\n",
       "      <td>us-east-1</td>\n",
       "      <td>US East (N. Virginia)</td>\n",
       "      <td>6</td>\n",
       "      <td>United States of America</td>\n",
       "      <td>Not required</td>\n",
       "    </tr>\n",
       "    <tr>\n",
       "      <th>1</th>\n",
       "      <td>us-east-2</td>\n",
       "      <td>US East (Ohio)</td>\n",
       "      <td>3</td>\n",
       "      <td>United States of America</td>\n",
       "      <td>Not required</td>\n",
       "    </tr>\n",
       "    <tr>\n",
       "      <th>2</th>\n",
       "      <td>us-west-1</td>\n",
       "      <td>US West (N. California)</td>\n",
       "      <td>3 †</td>\n",
       "      <td>United States of America</td>\n",
       "      <td>Not required</td>\n",
       "    </tr>\n",
       "  </tbody>\n",
       "</table>\n",
       "</div>"
      ]
     },
     "metadata": {},
     "output_type": "display_data"
    },
    {
     "data": {
      "text/plain": [
       "<IPython.core.display.HTML object>"
      ],
      "text/html": [
       "<span style=\"color: black;font-style:normal\"><br>Checking random sample of 3 rows</span>"
      ]
     },
     "metadata": {},
     "output_type": "display_data"
    },
    {
     "data": {
      "text/plain": [
       "              Code                    Name AZs     Geography Opt-in status\n",
       "14  ap-southeast-2   Asia Pacific (Sydney)   3     Australia  Not required\n",
       "4       af-south-1      Africa (Cape Town)   3  South Africa      Required\n",
       "7   ap-southeast-3  Asia Pacific (Jakarta)   3     Indonesia      Required"
      ],
      "text/html": [
       "<div>\n",
       "<style scoped>\n",
       "    .dataframe tbody tr th:only-of-type {\n",
       "        vertical-align: middle;\n",
       "    }\n",
       "\n",
       "    .dataframe tbody tr th {\n",
       "        vertical-align: top;\n",
       "    }\n",
       "\n",
       "    .dataframe thead th {\n",
       "        text-align: right;\n",
       "    }\n",
       "</style>\n",
       "<table border=\"1\" class=\"dataframe\">\n",
       "  <thead>\n",
       "    <tr style=\"text-align: right;\">\n",
       "      <th></th>\n",
       "      <th>Code</th>\n",
       "      <th>Name</th>\n",
       "      <th>AZs</th>\n",
       "      <th>Geography</th>\n",
       "      <th>Opt-in status</th>\n",
       "    </tr>\n",
       "  </thead>\n",
       "  <tbody>\n",
       "    <tr>\n",
       "      <th>14</th>\n",
       "      <td>ap-southeast-2</td>\n",
       "      <td>Asia Pacific (Sydney)</td>\n",
       "      <td>3</td>\n",
       "      <td>Australia</td>\n",
       "      <td>Not required</td>\n",
       "    </tr>\n",
       "    <tr>\n",
       "      <th>4</th>\n",
       "      <td>af-south-1</td>\n",
       "      <td>Africa (Cape Town)</td>\n",
       "      <td>3</td>\n",
       "      <td>South Africa</td>\n",
       "      <td>Required</td>\n",
       "    </tr>\n",
       "    <tr>\n",
       "      <th>7</th>\n",
       "      <td>ap-southeast-3</td>\n",
       "      <td>Asia Pacific (Jakarta)</td>\n",
       "      <td>3</td>\n",
       "      <td>Indonesia</td>\n",
       "      <td>Required</td>\n",
       "    </tr>\n",
       "  </tbody>\n",
       "</table>\n",
       "</div>"
      ]
     },
     "metadata": {},
     "output_type": "display_data"
    },
    {
     "data": {
      "text/plain": [
       "<IPython.core.display.HTML object>"
      ],
      "text/html": [
       "<span style=\"color: black;font-style:normal\"><br>Bottom 3 rows</span>"
      ]
     },
     "metadata": {},
     "output_type": "display_data"
    },
    {
     "data": {
      "text/plain": [
       "            Code                       Name AZs             Geography  \\\n",
       "30    me-south-1      Middle East (Bahrain)   3               Bahrain   \n",
       "31  me-central-1          Middle East (UAE)   3  United Arab Emirates   \n",
       "32     sa-east-1  South America (São Paulo)   3                Brazil   \n",
       "\n",
       "   Opt-in status  \n",
       "30      Required  \n",
       "31      Required  \n",
       "32  Not required  "
      ],
      "text/html": [
       "<div>\n",
       "<style scoped>\n",
       "    .dataframe tbody tr th:only-of-type {\n",
       "        vertical-align: middle;\n",
       "    }\n",
       "\n",
       "    .dataframe tbody tr th {\n",
       "        vertical-align: top;\n",
       "    }\n",
       "\n",
       "    .dataframe thead th {\n",
       "        text-align: right;\n",
       "    }\n",
       "</style>\n",
       "<table border=\"1\" class=\"dataframe\">\n",
       "  <thead>\n",
       "    <tr style=\"text-align: right;\">\n",
       "      <th></th>\n",
       "      <th>Code</th>\n",
       "      <th>Name</th>\n",
       "      <th>AZs</th>\n",
       "      <th>Geography</th>\n",
       "      <th>Opt-in status</th>\n",
       "    </tr>\n",
       "  </thead>\n",
       "  <tbody>\n",
       "    <tr>\n",
       "      <th>30</th>\n",
       "      <td>me-south-1</td>\n",
       "      <td>Middle East (Bahrain)</td>\n",
       "      <td>3</td>\n",
       "      <td>Bahrain</td>\n",
       "      <td>Required</td>\n",
       "    </tr>\n",
       "    <tr>\n",
       "      <th>31</th>\n",
       "      <td>me-central-1</td>\n",
       "      <td>Middle East (UAE)</td>\n",
       "      <td>3</td>\n",
       "      <td>United Arab Emirates</td>\n",
       "      <td>Required</td>\n",
       "    </tr>\n",
       "    <tr>\n",
       "      <th>32</th>\n",
       "      <td>sa-east-1</td>\n",
       "      <td>South America (São Paulo)</td>\n",
       "      <td>3</td>\n",
       "      <td>Brazil</td>\n",
       "      <td>Not required</td>\n",
       "    </tr>\n",
       "  </tbody>\n",
       "</table>\n",
       "</div>"
      ]
     },
     "metadata": {},
     "output_type": "display_data"
    },
    {
     "data": {
      "text/plain": [
       "<IPython.core.display.HTML object>"
      ],
      "text/html": [
       "<span style=\"color: black;font-style:normal\"><br>Re-check AWS Region data once it's been cleaned</span>"
      ]
     },
     "metadata": {},
     "output_type": "display_data"
    },
    {
     "data": {
      "text/plain": [
       "<IPython.core.display.HTML object>"
      ],
      "text/html": [
       "<span style=\"color: black;font-style:normal\"><br>Checking random sample of 3 rows</span>"
      ]
     },
     "metadata": {},
     "output_type": "display_data"
    },
    {
     "data": {
      "text/plain": [
       "   Cloud Region                     Name  AZs                 Geography  \\\n",
       "1     us-east-2           US East (Ohio)    3  United States of America   \n",
       "2     us-west-1  US West (N. California)  3 †  United States of America   \n",
       "26   eu-north-1       Europe (Stockholm)    3                    Sweden   \n",
       "\n",
       "   Opt-in status  \n",
       "1   Not required  \n",
       "2   Not required  \n",
       "26  Not required  "
      ],
      "text/html": [
       "<div>\n",
       "<style scoped>\n",
       "    .dataframe tbody tr th:only-of-type {\n",
       "        vertical-align: middle;\n",
       "    }\n",
       "\n",
       "    .dataframe tbody tr th {\n",
       "        vertical-align: top;\n",
       "    }\n",
       "\n",
       "    .dataframe thead th {\n",
       "        text-align: right;\n",
       "    }\n",
       "</style>\n",
       "<table border=\"1\" class=\"dataframe\">\n",
       "  <thead>\n",
       "    <tr style=\"text-align: right;\">\n",
       "      <th></th>\n",
       "      <th>Cloud Region</th>\n",
       "      <th>Name</th>\n",
       "      <th>AZs</th>\n",
       "      <th>Geography</th>\n",
       "      <th>Opt-in status</th>\n",
       "    </tr>\n",
       "  </thead>\n",
       "  <tbody>\n",
       "    <tr>\n",
       "      <th>1</th>\n",
       "      <td>us-east-2</td>\n",
       "      <td>US East (Ohio)</td>\n",
       "      <td>3</td>\n",
       "      <td>United States of America</td>\n",
       "      <td>Not required</td>\n",
       "    </tr>\n",
       "    <tr>\n",
       "      <th>2</th>\n",
       "      <td>us-west-1</td>\n",
       "      <td>US West (N. California)</td>\n",
       "      <td>3 †</td>\n",
       "      <td>United States of America</td>\n",
       "      <td>Not required</td>\n",
       "    </tr>\n",
       "    <tr>\n",
       "      <th>26</th>\n",
       "      <td>eu-north-1</td>\n",
       "      <td>Europe (Stockholm)</td>\n",
       "      <td>3</td>\n",
       "      <td>Sweden</td>\n",
       "      <td>Not required</td>\n",
       "    </tr>\n",
       "  </tbody>\n",
       "</table>\n",
       "</div>"
      ]
     },
     "metadata": {},
     "output_type": "display_data"
    }
   ],
   "execution_count": 30
  },
  {
   "metadata": {},
   "cell_type": "markdown",
   "source": [
    "## Combine AWS region dataframe with countries dataframe\n",
    "The AWS region dataframe doesn't have full details of where the cloud dc is based.  So, we will combine it with the more comprehensive list compiled earlier"
   ],
   "id": "1cc836f0f7a64c17"
  },
  {
   "metadata": {
    "ExecuteTime": {
     "end_time": "2025-07-19T15:48:50.943348Z",
     "start_time": "2025-07-19T15:48:50.907870Z"
    }
   },
   "cell_type": "code",
   "source": [
    "def combine_cloud_region_details_with_location_info(\n",
    "        input_cloud_region_df,\n",
    "        left='Geography',\n",
    "        right='Country or Area',\n",
    "        input_country_df = country_df,\n",
    "):\n",
    "    return pd.merge(\n",
    "        input_cloud_region_df,\n",
    "        input_country_df,\n",
    "        left_on=left,\n",
    "        right_on=right,\n",
    "        how='left')\n",
    "\n",
    "aws_combined_df = combine_cloud_region_details_with_location_info(aws_regions_from_html)\n",
    "aws_combined_df.head(10)"
   ],
   "id": "66190e316d422b0c",
   "outputs": [
    {
     "data": {
      "text/plain": [
       "     Cloud Region                      Name  AZs                 Geography  \\\n",
       "0       us-east-1     US East (N. Virginia)    6  United States of America   \n",
       "1       us-east-2            US East (Ohio)    3  United States of America   \n",
       "2       us-west-1   US West (N. California)  3 †  United States of America   \n",
       "3       us-west-2          US West (Oregon)    4  United States of America   \n",
       "4      af-south-1        Africa (Cape Town)    3              South Africa   \n",
       "5       ap-east-1  Asia Pacific (Hong Kong)    3                 Hong Kong   \n",
       "6      ap-south-2  Asia Pacific (Hyderabad)    3                     India   \n",
       "7  ap-southeast-3    Asia Pacific (Jakarta)    3                 Indonesia   \n",
       "8  ap-southeast-5   Asia Pacific (Malaysia)    3                  Malaysia   \n",
       "9  ap-southeast-4  Asia Pacific (Melbourne)    3                 Australia   \n",
       "\n",
       "  Opt-in status Code Country name (using title case) ccTLD  Region Code  \\\n",
       "0  Not required   US        United States of America   .us         19.0   \n",
       "1  Not required   US        United States of America   .us         19.0   \n",
       "2  Not required   US        United States of America   .us         19.0   \n",
       "3  Not required   US        United States of America   .us         19.0   \n",
       "4      Required   ZA                    South Africa   .za          2.0   \n",
       "5      Required  NaN                             NaN   NaN          NaN   \n",
       "6      Required   IN                           India   .in        142.0   \n",
       "7      Required   ID                       Indonesia   .id        142.0   \n",
       "8      Required   MY                        Malaysia   .my        142.0   \n",
       "9      Required   AU                       Australia   .au          9.0   \n",
       "\n",
       "  Region Name  Sub-region Code            Sub-region Name  \\\n",
       "0    Americas             21.0           Northern America   \n",
       "1    Americas             21.0           Northern America   \n",
       "2    Americas             21.0           Northern America   \n",
       "3    Americas             21.0           Northern America   \n",
       "4      Africa            202.0         Sub-Saharan Africa   \n",
       "5         NaN              NaN                        NaN   \n",
       "6        Asia             34.0              Southern Asia   \n",
       "7        Asia             35.0         South-eastern Asia   \n",
       "8        Asia             35.0         South-eastern Asia   \n",
       "9     Oceania             53.0  Australia and New Zealand   \n",
       "\n",
       "   Intermediate Region Code Intermediate Region Name  \\\n",
       "0                       0.0                        0   \n",
       "1                       0.0                        0   \n",
       "2                       0.0                        0   \n",
       "3                       0.0                        0   \n",
       "4                      18.0          Southern Africa   \n",
       "5                       NaN                      NaN   \n",
       "6                       0.0                        0   \n",
       "7                       0.0                        0   \n",
       "8                       0.0                        0   \n",
       "9                       0.0                        0   \n",
       "\n",
       "            Country or Area  M49 Code ISO-alpha2 Code ISO-alpha3 Code  \n",
       "0  United States of America     840.0              US             USA  \n",
       "1  United States of America     840.0              US             USA  \n",
       "2  United States of America     840.0              US             USA  \n",
       "3  United States of America     840.0              US             USA  \n",
       "4              South Africa     710.0              ZA             ZAF  \n",
       "5                       NaN       NaN             NaN             NaN  \n",
       "6                     India     356.0              IN             IND  \n",
       "7                 Indonesia     360.0              ID             IDN  \n",
       "8                  Malaysia     458.0              MY             MYS  \n",
       "9                 Australia      36.0              AU             AUS  "
      ],
      "text/html": [
       "<div>\n",
       "<style scoped>\n",
       "    .dataframe tbody tr th:only-of-type {\n",
       "        vertical-align: middle;\n",
       "    }\n",
       "\n",
       "    .dataframe tbody tr th {\n",
       "        vertical-align: top;\n",
       "    }\n",
       "\n",
       "    .dataframe thead th {\n",
       "        text-align: right;\n",
       "    }\n",
       "</style>\n",
       "<table border=\"1\" class=\"dataframe\">\n",
       "  <thead>\n",
       "    <tr style=\"text-align: right;\">\n",
       "      <th></th>\n",
       "      <th>Cloud Region</th>\n",
       "      <th>Name</th>\n",
       "      <th>AZs</th>\n",
       "      <th>Geography</th>\n",
       "      <th>Opt-in status</th>\n",
       "      <th>Code</th>\n",
       "      <th>Country name (using title case)</th>\n",
       "      <th>ccTLD</th>\n",
       "      <th>Region Code</th>\n",
       "      <th>Region Name</th>\n",
       "      <th>Sub-region Code</th>\n",
       "      <th>Sub-region Name</th>\n",
       "      <th>Intermediate Region Code</th>\n",
       "      <th>Intermediate Region Name</th>\n",
       "      <th>Country or Area</th>\n",
       "      <th>M49 Code</th>\n",
       "      <th>ISO-alpha2 Code</th>\n",
       "      <th>ISO-alpha3 Code</th>\n",
       "    </tr>\n",
       "  </thead>\n",
       "  <tbody>\n",
       "    <tr>\n",
       "      <th>0</th>\n",
       "      <td>us-east-1</td>\n",
       "      <td>US East (N. Virginia)</td>\n",
       "      <td>6</td>\n",
       "      <td>United States of America</td>\n",
       "      <td>Not required</td>\n",
       "      <td>US</td>\n",
       "      <td>United States of America</td>\n",
       "      <td>.us</td>\n",
       "      <td>19.0</td>\n",
       "      <td>Americas</td>\n",
       "      <td>21.0</td>\n",
       "      <td>Northern America</td>\n",
       "      <td>0.0</td>\n",
       "      <td>0</td>\n",
       "      <td>United States of America</td>\n",
       "      <td>840.0</td>\n",
       "      <td>US</td>\n",
       "      <td>USA</td>\n",
       "    </tr>\n",
       "    <tr>\n",
       "      <th>1</th>\n",
       "      <td>us-east-2</td>\n",
       "      <td>US East (Ohio)</td>\n",
       "      <td>3</td>\n",
       "      <td>United States of America</td>\n",
       "      <td>Not required</td>\n",
       "      <td>US</td>\n",
       "      <td>United States of America</td>\n",
       "      <td>.us</td>\n",
       "      <td>19.0</td>\n",
       "      <td>Americas</td>\n",
       "      <td>21.0</td>\n",
       "      <td>Northern America</td>\n",
       "      <td>0.0</td>\n",
       "      <td>0</td>\n",
       "      <td>United States of America</td>\n",
       "      <td>840.0</td>\n",
       "      <td>US</td>\n",
       "      <td>USA</td>\n",
       "    </tr>\n",
       "    <tr>\n",
       "      <th>2</th>\n",
       "      <td>us-west-1</td>\n",
       "      <td>US West (N. California)</td>\n",
       "      <td>3 †</td>\n",
       "      <td>United States of America</td>\n",
       "      <td>Not required</td>\n",
       "      <td>US</td>\n",
       "      <td>United States of America</td>\n",
       "      <td>.us</td>\n",
       "      <td>19.0</td>\n",
       "      <td>Americas</td>\n",
       "      <td>21.0</td>\n",
       "      <td>Northern America</td>\n",
       "      <td>0.0</td>\n",
       "      <td>0</td>\n",
       "      <td>United States of America</td>\n",
       "      <td>840.0</td>\n",
       "      <td>US</td>\n",
       "      <td>USA</td>\n",
       "    </tr>\n",
       "    <tr>\n",
       "      <th>3</th>\n",
       "      <td>us-west-2</td>\n",
       "      <td>US West (Oregon)</td>\n",
       "      <td>4</td>\n",
       "      <td>United States of America</td>\n",
       "      <td>Not required</td>\n",
       "      <td>US</td>\n",
       "      <td>United States of America</td>\n",
       "      <td>.us</td>\n",
       "      <td>19.0</td>\n",
       "      <td>Americas</td>\n",
       "      <td>21.0</td>\n",
       "      <td>Northern America</td>\n",
       "      <td>0.0</td>\n",
       "      <td>0</td>\n",
       "      <td>United States of America</td>\n",
       "      <td>840.0</td>\n",
       "      <td>US</td>\n",
       "      <td>USA</td>\n",
       "    </tr>\n",
       "    <tr>\n",
       "      <th>4</th>\n",
       "      <td>af-south-1</td>\n",
       "      <td>Africa (Cape Town)</td>\n",
       "      <td>3</td>\n",
       "      <td>South Africa</td>\n",
       "      <td>Required</td>\n",
       "      <td>ZA</td>\n",
       "      <td>South Africa</td>\n",
       "      <td>.za</td>\n",
       "      <td>2.0</td>\n",
       "      <td>Africa</td>\n",
       "      <td>202.0</td>\n",
       "      <td>Sub-Saharan Africa</td>\n",
       "      <td>18.0</td>\n",
       "      <td>Southern Africa</td>\n",
       "      <td>South Africa</td>\n",
       "      <td>710.0</td>\n",
       "      <td>ZA</td>\n",
       "      <td>ZAF</td>\n",
       "    </tr>\n",
       "    <tr>\n",
       "      <th>5</th>\n",
       "      <td>ap-east-1</td>\n",
       "      <td>Asia Pacific (Hong Kong)</td>\n",
       "      <td>3</td>\n",
       "      <td>Hong Kong</td>\n",
       "      <td>Required</td>\n",
       "      <td>NaN</td>\n",
       "      <td>NaN</td>\n",
       "      <td>NaN</td>\n",
       "      <td>NaN</td>\n",
       "      <td>NaN</td>\n",
       "      <td>NaN</td>\n",
       "      <td>NaN</td>\n",
       "      <td>NaN</td>\n",
       "      <td>NaN</td>\n",
       "      <td>NaN</td>\n",
       "      <td>NaN</td>\n",
       "      <td>NaN</td>\n",
       "      <td>NaN</td>\n",
       "    </tr>\n",
       "    <tr>\n",
       "      <th>6</th>\n",
       "      <td>ap-south-2</td>\n",
       "      <td>Asia Pacific (Hyderabad)</td>\n",
       "      <td>3</td>\n",
       "      <td>India</td>\n",
       "      <td>Required</td>\n",
       "      <td>IN</td>\n",
       "      <td>India</td>\n",
       "      <td>.in</td>\n",
       "      <td>142.0</td>\n",
       "      <td>Asia</td>\n",
       "      <td>34.0</td>\n",
       "      <td>Southern Asia</td>\n",
       "      <td>0.0</td>\n",
       "      <td>0</td>\n",
       "      <td>India</td>\n",
       "      <td>356.0</td>\n",
       "      <td>IN</td>\n",
       "      <td>IND</td>\n",
       "    </tr>\n",
       "    <tr>\n",
       "      <th>7</th>\n",
       "      <td>ap-southeast-3</td>\n",
       "      <td>Asia Pacific (Jakarta)</td>\n",
       "      <td>3</td>\n",
       "      <td>Indonesia</td>\n",
       "      <td>Required</td>\n",
       "      <td>ID</td>\n",
       "      <td>Indonesia</td>\n",
       "      <td>.id</td>\n",
       "      <td>142.0</td>\n",
       "      <td>Asia</td>\n",
       "      <td>35.0</td>\n",
       "      <td>South-eastern Asia</td>\n",
       "      <td>0.0</td>\n",
       "      <td>0</td>\n",
       "      <td>Indonesia</td>\n",
       "      <td>360.0</td>\n",
       "      <td>ID</td>\n",
       "      <td>IDN</td>\n",
       "    </tr>\n",
       "    <tr>\n",
       "      <th>8</th>\n",
       "      <td>ap-southeast-5</td>\n",
       "      <td>Asia Pacific (Malaysia)</td>\n",
       "      <td>3</td>\n",
       "      <td>Malaysia</td>\n",
       "      <td>Required</td>\n",
       "      <td>MY</td>\n",
       "      <td>Malaysia</td>\n",
       "      <td>.my</td>\n",
       "      <td>142.0</td>\n",
       "      <td>Asia</td>\n",
       "      <td>35.0</td>\n",
       "      <td>South-eastern Asia</td>\n",
       "      <td>0.0</td>\n",
       "      <td>0</td>\n",
       "      <td>Malaysia</td>\n",
       "      <td>458.0</td>\n",
       "      <td>MY</td>\n",
       "      <td>MYS</td>\n",
       "    </tr>\n",
       "    <tr>\n",
       "      <th>9</th>\n",
       "      <td>ap-southeast-4</td>\n",
       "      <td>Asia Pacific (Melbourne)</td>\n",
       "      <td>3</td>\n",
       "      <td>Australia</td>\n",
       "      <td>Required</td>\n",
       "      <td>AU</td>\n",
       "      <td>Australia</td>\n",
       "      <td>.au</td>\n",
       "      <td>9.0</td>\n",
       "      <td>Oceania</td>\n",
       "      <td>53.0</td>\n",
       "      <td>Australia and New Zealand</td>\n",
       "      <td>0.0</td>\n",
       "      <td>0</td>\n",
       "      <td>Australia</td>\n",
       "      <td>36.0</td>\n",
       "      <td>AU</td>\n",
       "      <td>AUS</td>\n",
       "    </tr>\n",
       "  </tbody>\n",
       "</table>\n",
       "</div>"
      ]
     },
     "execution_count": 11,
     "metadata": {},
     "output_type": "execute_result"
    }
   ],
   "execution_count": 11
  },
  {
   "metadata": {},
   "cell_type": "markdown",
   "source": "Check for Naan Values",
   "id": "7b9117ff9b9126bf"
  },
  {
   "metadata": {
    "ExecuteTime": {
     "end_time": "2025-07-19T16:19:56.292336Z",
     "start_time": "2025-07-19T16:19:56.273661Z"
    }
   },
   "cell_type": "code",
   "source": [
    "'''Look for any records that didnt merge correctly'''\n",
    "def identify_cloud_regions_with_incomplete_country_info(input_df):\n",
    "    '''create a list of any rows with null values for Country or Area'''\n",
    "    unmerged_cloud_regions = input_df[input_df['Country or Area'].isnull()]['Cloud Region'].to_list()\n",
    "    '''Create a DataFrame collating details of the unmerged regions'''\n",
    "    unmerged_details_df = input_df[input_df['Cloud Region'].isin(unmerged_cloud_regions)][['Cloud Region', 'Geography','Country name (using title case)','Country or Area','ccTLD','Region Code','Region Name']]\n",
    "    return {'list': unmerged_cloud_regions, 'df': unmerged_details_df}\n",
    "\n",
    "'''Report AWS regions missing or incomplete country info'''\n",
    "unmerged_aws_cloud_regions = identify_cloud_regions_with_incomplete_country_info(aws_combined_df)\n",
    "display(\"Unmerged Cloud Regions for AWS:\")\n",
    "display(unmerged_aws_cloud_regions['df'])"
   ],
   "id": "d0da5a1751688b40",
   "outputs": [
    {
     "data": {
      "text/plain": [
       "'Unmerged Cloud Regions for AWS:'"
      ]
     },
     "metadata": {},
     "output_type": "display_data"
    },
    {
     "data": {
      "text/plain": [
       "      Cloud Region       Geography Country name (using title case)  \\\n",
       "5        ap-east-1       Hong Kong                             NaN   \n",
       "12  ap-northeast-2     South Korea                             NaN   \n",
       "15       ap-east-2          Taiwan                             NaN   \n",
       "22       eu-west-2  United Kingdom                             NaN   \n",
       "\n",
       "   Country or Area ccTLD  Region Code Region Name  \n",
       "5              NaN   NaN          NaN         NaN  \n",
       "12             NaN   NaN          NaN         NaN  \n",
       "15             NaN   NaN          NaN         NaN  \n",
       "22             NaN   NaN          NaN         NaN  "
      ],
      "text/html": [
       "<div>\n",
       "<style scoped>\n",
       "    .dataframe tbody tr th:only-of-type {\n",
       "        vertical-align: middle;\n",
       "    }\n",
       "\n",
       "    .dataframe tbody tr th {\n",
       "        vertical-align: top;\n",
       "    }\n",
       "\n",
       "    .dataframe thead th {\n",
       "        text-align: right;\n",
       "    }\n",
       "</style>\n",
       "<table border=\"1\" class=\"dataframe\">\n",
       "  <thead>\n",
       "    <tr style=\"text-align: right;\">\n",
       "      <th></th>\n",
       "      <th>Cloud Region</th>\n",
       "      <th>Geography</th>\n",
       "      <th>Country name (using title case)</th>\n",
       "      <th>Country or Area</th>\n",
       "      <th>ccTLD</th>\n",
       "      <th>Region Code</th>\n",
       "      <th>Region Name</th>\n",
       "    </tr>\n",
       "  </thead>\n",
       "  <tbody>\n",
       "    <tr>\n",
       "      <th>5</th>\n",
       "      <td>ap-east-1</td>\n",
       "      <td>Hong Kong</td>\n",
       "      <td>NaN</td>\n",
       "      <td>NaN</td>\n",
       "      <td>NaN</td>\n",
       "      <td>NaN</td>\n",
       "      <td>NaN</td>\n",
       "    </tr>\n",
       "    <tr>\n",
       "      <th>12</th>\n",
       "      <td>ap-northeast-2</td>\n",
       "      <td>South Korea</td>\n",
       "      <td>NaN</td>\n",
       "      <td>NaN</td>\n",
       "      <td>NaN</td>\n",
       "      <td>NaN</td>\n",
       "      <td>NaN</td>\n",
       "    </tr>\n",
       "    <tr>\n",
       "      <th>15</th>\n",
       "      <td>ap-east-2</td>\n",
       "      <td>Taiwan</td>\n",
       "      <td>NaN</td>\n",
       "      <td>NaN</td>\n",
       "      <td>NaN</td>\n",
       "      <td>NaN</td>\n",
       "      <td>NaN</td>\n",
       "    </tr>\n",
       "    <tr>\n",
       "      <th>22</th>\n",
       "      <td>eu-west-2</td>\n",
       "      <td>United Kingdom</td>\n",
       "      <td>NaN</td>\n",
       "      <td>NaN</td>\n",
       "      <td>NaN</td>\n",
       "      <td>NaN</td>\n",
       "      <td>NaN</td>\n",
       "    </tr>\n",
       "  </tbody>\n",
       "</table>\n",
       "</div>"
      ]
     },
     "metadata": {},
     "output_type": "display_data"
    }
   ],
   "execution_count": 17
  },
  {
   "metadata": {},
   "cell_type": "markdown",
   "source": "Get a list of all country-or-area names from the M49 list",
   "id": "360a6ee1dbd9ca2f"
  },
  {
   "metadata": {
    "ExecuteTime": {
     "end_time": "2025-07-19T15:49:22.766385Z",
     "start_time": "2025-07-19T15:49:22.750856Z"
    }
   },
   "cell_type": "code",
   "source": [
    "country_or_area_list = country_df['Country or Area'].tolist()\n",
    "country_or_area_list"
   ],
   "id": "695c1717752b3e2",
   "outputs": [
    {
     "data": {
      "text/plain": [
       "['Andorra',\n",
       " 'United Arab Emirates',\n",
       " 'Afghanistan',\n",
       " 'Antigua and Barbuda',\n",
       " 'Anguilla',\n",
       " 'Albania',\n",
       " 'Armenia',\n",
       " 'Angola',\n",
       " 'Antarctica',\n",
       " 'Argentina',\n",
       " 'American Samoa',\n",
       " 'Austria',\n",
       " 'Australia',\n",
       " 'Aruba',\n",
       " 'Åland Islands',\n",
       " 'Azerbaijan',\n",
       " 'Bosnia and Herzegovina',\n",
       " 'Barbados',\n",
       " 'Bangladesh',\n",
       " 'Belgium',\n",
       " 'Burkina Faso',\n",
       " 'Bulgaria',\n",
       " 'Bahrain',\n",
       " 'Burundi',\n",
       " 'Benin',\n",
       " 'Saint Barthélemy',\n",
       " 'Bermuda',\n",
       " 'Brunei Darussalam',\n",
       " 'Bolivia (Plurinational State of)',\n",
       " 'Bonaire, Sint Eustatius and Saba',\n",
       " 'Brazil',\n",
       " 'Bahamas',\n",
       " 'Bhutan',\n",
       " 'Bouvet Island',\n",
       " 'Botswana',\n",
       " 'Belarus',\n",
       " 'Belize',\n",
       " 'Canada',\n",
       " 'Cocos (Keeling) Islands',\n",
       " 'Democratic Republic of the Congo',\n",
       " 'Central African Republic',\n",
       " 'Congo',\n",
       " 'Switzerland',\n",
       " 'Côte d’Ivoire',\n",
       " 'Cook Islands',\n",
       " 'Chile',\n",
       " 'Cameroon',\n",
       " 'China',\n",
       " 'Colombia',\n",
       " 'Costa Rica',\n",
       " 'Cuba',\n",
       " 'Cabo Verde',\n",
       " 'Curaçao',\n",
       " 'Christmas Island',\n",
       " 'Cyprus',\n",
       " 'Czechia',\n",
       " 'Germany',\n",
       " 'Djibouti',\n",
       " 'Denmark',\n",
       " 'Dominica',\n",
       " 'Dominican Republic',\n",
       " 'Algeria',\n",
       " 'Ecuador',\n",
       " 'Estonia',\n",
       " 'Egypt',\n",
       " 'Western Sahara',\n",
       " 'Eritrea',\n",
       " 'Spain',\n",
       " 'Ethiopia',\n",
       " 'Finland',\n",
       " 'Fiji',\n",
       " 'Falkland Islands (Malvinas)',\n",
       " 'Micronesia (Federated States of)',\n",
       " 'Faroe Islands',\n",
       " 'France',\n",
       " 'Gabon',\n",
       " 'United Kingdom of Great Britain and Northern Ireland',\n",
       " 'Grenada',\n",
       " 'Georgia',\n",
       " 'French Guiana',\n",
       " 'Guernsey',\n",
       " 'Ghana',\n",
       " 'Gibraltar',\n",
       " 'Greenland',\n",
       " 'Gambia',\n",
       " 'Guinea',\n",
       " 'Guadeloupe',\n",
       " 'Equatorial Guinea',\n",
       " 'Greece',\n",
       " 'South Georgia and the South Sandwich Islands',\n",
       " 'Guatemala',\n",
       " 'Guam',\n",
       " 'Guinea-Bissau',\n",
       " 'Guyana',\n",
       " 'China, Hong Kong Special Administrative Region',\n",
       " 'Heard Island and McDonald Islands',\n",
       " 'Honduras',\n",
       " 'Croatia',\n",
       " 'Haiti',\n",
       " 'Hungary',\n",
       " 'Indonesia',\n",
       " 'Ireland',\n",
       " 'Israel',\n",
       " 'Isle of Man',\n",
       " 'India',\n",
       " 'British Indian Ocean Territory',\n",
       " 'Iraq',\n",
       " 'Iran (Islamic Republic of)',\n",
       " 'Iceland',\n",
       " 'Italy',\n",
       " 'Jersey',\n",
       " 'Jamaica',\n",
       " 'Jordan',\n",
       " 'Japan',\n",
       " 'Kenya',\n",
       " 'Kyrgyzstan',\n",
       " 'Cambodia',\n",
       " 'Kiribati',\n",
       " 'Comoros',\n",
       " 'Saint Kitts and Nevis',\n",
       " \"Democratic People's Republic of Korea\",\n",
       " 'Republic of Korea',\n",
       " 'Kuwait',\n",
       " 'Cayman Islands',\n",
       " 'Kazakhstan',\n",
       " \"Lao People's Democratic Republic\",\n",
       " 'Lebanon',\n",
       " 'Saint Lucia',\n",
       " 'Liechtenstein',\n",
       " 'Sri Lanka',\n",
       " 'Liberia',\n",
       " 'Lesotho',\n",
       " 'Lithuania',\n",
       " 'Luxembourg',\n",
       " 'Latvia',\n",
       " 'Libya',\n",
       " 'Morocco',\n",
       " 'Monaco',\n",
       " 'Republic of Moldova',\n",
       " 'Montenegro',\n",
       " 'Saint Martin (French Part)',\n",
       " 'Madagascar',\n",
       " 'Marshall Islands',\n",
       " 'North Macedonia',\n",
       " 'Mali',\n",
       " 'Myanmar',\n",
       " 'Mongolia',\n",
       " 'China, Macao Special Administrative Region',\n",
       " 'Northern Mariana Islands',\n",
       " 'Martinique',\n",
       " 'Mauritania',\n",
       " 'Montserrat',\n",
       " 'Malta',\n",
       " 'Mauritius',\n",
       " 'Maldives',\n",
       " 'Malawi',\n",
       " 'Mexico',\n",
       " 'Malaysia',\n",
       " 'Mozambique',\n",
       " 'Namibia',\n",
       " 'New Caledonia',\n",
       " 'Niger',\n",
       " 'Norfolk Island',\n",
       " 'Nigeria',\n",
       " 'Nicaragua',\n",
       " 'Netherlands (Kingdom of the)',\n",
       " 'Norway',\n",
       " 'Nepal',\n",
       " 'Nauru',\n",
       " 'Niue',\n",
       " 'New Zealand',\n",
       " 'Oman',\n",
       " 'Panama',\n",
       " 'Peru',\n",
       " 'French Polynesia',\n",
       " 'Papua New Guinea',\n",
       " 'Philippines',\n",
       " 'Pakistan',\n",
       " 'Poland',\n",
       " 'Saint Pierre and Miquelon',\n",
       " 'Pitcairn',\n",
       " 'Puerto Rico',\n",
       " 'State of Palestine',\n",
       " 'Portugal',\n",
       " 'Palau',\n",
       " 'Paraguay',\n",
       " 'Qatar',\n",
       " 'Réunion',\n",
       " 'Romania',\n",
       " 'Serbia',\n",
       " 'Russian Federation',\n",
       " 'Rwanda',\n",
       " 'Saudi Arabia',\n",
       " 'Solomon Islands',\n",
       " 'Seychelles',\n",
       " 'Sudan',\n",
       " 'Sweden',\n",
       " 'Singapore',\n",
       " 'Saint Helena',\n",
       " 'Slovenia',\n",
       " 'Svalbard and Jan Mayen Islands',\n",
       " 'Slovakia',\n",
       " 'Sierra Leone',\n",
       " 'San Marino',\n",
       " 'Senegal',\n",
       " 'Somalia',\n",
       " 'Suriname',\n",
       " 'South Sudan',\n",
       " 'Sao Tome and Principe',\n",
       " 'El Salvador',\n",
       " 'Sint Maarten (Dutch part)',\n",
       " 'Syrian Arab Republic',\n",
       " 'Eswatini',\n",
       " 'Turks and Caicos Islands',\n",
       " 'Chad',\n",
       " 'French Southern Territories',\n",
       " 'Togo',\n",
       " 'Thailand',\n",
       " 'Tajikistan',\n",
       " 'Tokelau',\n",
       " 'Timor-Leste',\n",
       " 'Turkmenistan',\n",
       " 'Tunisia',\n",
       " 'Tonga',\n",
       " 'Türkiye',\n",
       " 'Trinidad and Tobago',\n",
       " 'Tuvalu',\n",
       " 'Taiwan, Province of China',\n",
       " 'United Republic of Tanzania',\n",
       " 'Ukraine',\n",
       " 'Uganda',\n",
       " 'United States Minor Outlying Islands',\n",
       " 'United States of America',\n",
       " 'Uruguay',\n",
       " 'Uzbekistan',\n",
       " 'Holy See',\n",
       " 'Saint Vincent and the Grenadines',\n",
       " 'Venezuela (Bolivarian Republic of)',\n",
       " 'British Virgin Islands',\n",
       " 'United States Virgin Islands',\n",
       " 'Viet Nam',\n",
       " 'Vanuatu',\n",
       " 'Wallis and Futuna Islands',\n",
       " 'Samoa',\n",
       " 'Yemen',\n",
       " 'Mayotte',\n",
       " 'South Africa',\n",
       " 'Zambia',\n",
       " 'Zimbabwe']"
      ]
     },
     "execution_count": 13,
     "metadata": {},
     "output_type": "execute_result"
    }
   ],
   "execution_count": 13
  },
  {
   "metadata": {},
   "cell_type": "markdown",
   "source": "Try and do a fuzzy filter to match the country names",
   "id": "ccfb0d0293843934"
  },
  {
   "metadata": {
    "ExecuteTime": {
     "end_time": "2025-07-19T18:22:42.045391Z",
     "start_time": "2025-07-19T18:22:40.086821Z"
    }
   },
   "cell_type": "code",
   "source": [
    "!pip install rapidfuzz\n",
    "from rapidfuzz import process, fuzz\n",
    "\n",
    "def do_fuzzy_match_on_countries(\n",
    "        match_input_df,\n",
    "        match_on='Geography',\n",
    "        country_list=country_or_area_list):\n",
    "    fuzzy_df = match_input_df.copy()\n",
    "    fuzzy_df[['fuzzy_country_match','fuzzy_similarity','fuzzy_index']]= fuzzy_df[match_on].apply(lambda x: process.extractOne(x, country_list, scorer=fuzz.partial_ratio)).apply(pd.Series)\n",
    "    '''drop the fuzzy index column as this is only the place the name was in the list of counties we searched through'''\n",
    "    fuzzy_df.drop(columns=['fuzzy_index'], inplace=True)\n",
    "    return fuzzy_df\n",
    "\n",
    "def get_possible_country_matches(input_value,country_list=country_or_area_list):\n",
    "    '''take in a string and return a list of possible matches\n",
    "       each possible match is returned as a tuple, containing the match string,\n",
    "       the similarity score and the index from the list'''\n",
    "    possible_country_matches = process.extract(input_value, country_list, scorer=fuzz.partial_ratio)\n",
    "    '''iterate through our list of tuples to form a dictionary, with each matched string\n",
    "       as the key, and the similarity score as the value'''\n",
    "    my_dict = {matched_string: similarity for matched_string, similarity, _ in possible_country_matches\n",
    "            }\n",
    "    return pd.Series(my_dict).to_frame().rename(columns={0:'similarity'})\n",
    "\n",
    "def check_fuzzy_search_results_against_previously_unmerged_rows(input_df, unmerged_region_list):\n",
    "    fuzzy_search_df = do_fuzzy_match_on_countries(input_df)\n",
    "    '''Check the rows where we had failed to merge previously to see how it looks now'''\n",
    "    fuzzy_search_filtered_df = fuzzy_search_df[fuzzy_search_df['Cloud Region'].isin(unmerged_region_list)][[\"Cloud Region\",\"Geography\",\"fuzzy_country_match\",'fuzzy_similarity']]\n",
    "    possible_matches = dict()\n",
    "    for _, df_row in fuzzy_search_filtered_df.iterrows():\n",
    "        cloud_region = str(df_row['Cloud Region'])\n",
    "        geography = str(df_row['Geography'])\n",
    "\n",
    "        possible_matches[geography] = get_possible_country_matches(geography)\n",
    "    return {\n",
    "        'top_matches' : fuzzy_search_filtered_df,\n",
    "        'possible_matches' : possible_matches\n",
    "    }\n",
    "\n",
    "\n",
    "results = check_fuzzy_search_results_against_previously_unmerged_rows(aws_combined_df, unmerged_aws_cloud_regions['list'])\n",
    "\n",
    "'''Display results of match'''\n",
    "display(results['top_matches'])\n",
    "\n"
   ],
   "id": "73f4f4b33282037b",
   "outputs": [
    {
     "name": "stdout",
     "output_type": "stream",
     "text": [
      "Requirement already satisfied: rapidfuzz in c:\\users\\craig\\pycharmprojects\\msc_software_eng_dataengineering_submission\\.venv\\lib\\site-packages (3.13.0)\n"
     ]
    },
    {
     "data": {
      "text/plain": [
       "      Cloud Region       Geography  \\\n",
       "5        ap-east-1       Hong Kong   \n",
       "12  ap-northeast-2     South Korea   \n",
       "15       ap-east-2          Taiwan   \n",
       "22       eu-west-2  United Kingdom   \n",
       "\n",
       "                                  fuzzy_country_match  fuzzy_similarity  \n",
       "5      China, Hong Kong Special Administrative Region        100.000000  \n",
       "12       South Georgia and the South Sandwich Islands         76.190476  \n",
       "15                          Taiwan, Province of China        100.000000  \n",
       "22  United Kingdom of Great Britain and Northern I...        100.000000  "
      ],
      "text/html": [
       "<div>\n",
       "<style scoped>\n",
       "    .dataframe tbody tr th:only-of-type {\n",
       "        vertical-align: middle;\n",
       "    }\n",
       "\n",
       "    .dataframe tbody tr th {\n",
       "        vertical-align: top;\n",
       "    }\n",
       "\n",
       "    .dataframe thead th {\n",
       "        text-align: right;\n",
       "    }\n",
       "</style>\n",
       "<table border=\"1\" class=\"dataframe\">\n",
       "  <thead>\n",
       "    <tr style=\"text-align: right;\">\n",
       "      <th></th>\n",
       "      <th>Cloud Region</th>\n",
       "      <th>Geography</th>\n",
       "      <th>fuzzy_country_match</th>\n",
       "      <th>fuzzy_similarity</th>\n",
       "    </tr>\n",
       "  </thead>\n",
       "  <tbody>\n",
       "    <tr>\n",
       "      <th>5</th>\n",
       "      <td>ap-east-1</td>\n",
       "      <td>Hong Kong</td>\n",
       "      <td>China, Hong Kong Special Administrative Region</td>\n",
       "      <td>100.000000</td>\n",
       "    </tr>\n",
       "    <tr>\n",
       "      <th>12</th>\n",
       "      <td>ap-northeast-2</td>\n",
       "      <td>South Korea</td>\n",
       "      <td>South Georgia and the South Sandwich Islands</td>\n",
       "      <td>76.190476</td>\n",
       "    </tr>\n",
       "    <tr>\n",
       "      <th>15</th>\n",
       "      <td>ap-east-2</td>\n",
       "      <td>Taiwan</td>\n",
       "      <td>Taiwan, Province of China</td>\n",
       "      <td>100.000000</td>\n",
       "    </tr>\n",
       "    <tr>\n",
       "      <th>22</th>\n",
       "      <td>eu-west-2</td>\n",
       "      <td>United Kingdom</td>\n",
       "      <td>United Kingdom of Great Britain and Northern I...</td>\n",
       "      <td>100.000000</td>\n",
       "    </tr>\n",
       "  </tbody>\n",
       "</table>\n",
       "</div>"
      ]
     },
     "metadata": {},
     "output_type": "display_data"
    }
   ],
   "execution_count": 37
  },
  {
   "metadata": {},
   "cell_type": "markdown",
   "source": [
    "The matches above all look ok, except for South Korea, which we can see only matched with a similarity of 76%.\n",
    "Lets see if there are other possibilities;"
   ],
   "id": "28e2b99e5d0751ae"
  },
  {
   "metadata": {
    "ExecuteTime": {
     "end_time": "2025-07-19T18:22:50.414993Z",
     "start_time": "2025-07-19T18:22:50.397167Z"
    }
   },
   "cell_type": "code",
   "source": [
    "\n",
    "display(results['possible_matches']['South Korea'])"
   ],
   "id": "ee7d7277bd615e94",
   "outputs": [
    {
     "data": {
      "text/plain": [
       "                                              similarity\n",
       "South Georgia and the South Sandwich Islands   76.190476\n",
       "Democratic People's Republic of Korea          73.684211\n",
       "Republic of Korea                              73.684211\n",
       "South Sudan                                    70.588235\n",
       "South Africa                                   70.588235"
      ],
      "text/html": [
       "<div>\n",
       "<style scoped>\n",
       "    .dataframe tbody tr th:only-of-type {\n",
       "        vertical-align: middle;\n",
       "    }\n",
       "\n",
       "    .dataframe tbody tr th {\n",
       "        vertical-align: top;\n",
       "    }\n",
       "\n",
       "    .dataframe thead th {\n",
       "        text-align: right;\n",
       "    }\n",
       "</style>\n",
       "<table border=\"1\" class=\"dataframe\">\n",
       "  <thead>\n",
       "    <tr style=\"text-align: right;\">\n",
       "      <th></th>\n",
       "      <th>similarity</th>\n",
       "    </tr>\n",
       "  </thead>\n",
       "  <tbody>\n",
       "    <tr>\n",
       "      <th>South Georgia and the South Sandwich Islands</th>\n",
       "      <td>76.190476</td>\n",
       "    </tr>\n",
       "    <tr>\n",
       "      <th>Democratic People's Republic of Korea</th>\n",
       "      <td>73.684211</td>\n",
       "    </tr>\n",
       "    <tr>\n",
       "      <th>Republic of Korea</th>\n",
       "      <td>73.684211</td>\n",
       "    </tr>\n",
       "    <tr>\n",
       "      <th>South Sudan</th>\n",
       "      <td>70.588235</td>\n",
       "    </tr>\n",
       "    <tr>\n",
       "      <th>South Africa</th>\n",
       "      <td>70.588235</td>\n",
       "    </tr>\n",
       "  </tbody>\n",
       "</table>\n",
       "</div>"
      ]
     },
     "metadata": {},
     "output_type": "display_data"
    }
   ],
   "execution_count": 38
  }
 ],
 "metadata": {
  "kernelspec": {
   "display_name": "Python 3",
   "language": "python",
   "name": "python3"
  },
  "language_info": {
   "codemirror_mode": {
    "name": "ipython",
    "version": 2
   },
   "file_extension": ".py",
   "mimetype": "text/x-python",
   "name": "python",
   "nbconvert_exporter": "python",
   "pygments_lexer": "ipython2",
   "version": "2.7.6"
  }
 },
 "nbformat": 4,
 "nbformat_minor": 5
}
